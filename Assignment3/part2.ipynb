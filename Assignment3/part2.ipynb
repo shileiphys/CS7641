{
 "cells": [
  {
   "cell_type": "markdown",
   "metadata": {},
   "source": [
    "Apply the dimensionality reduction algorithms to the two datasets and describe what you see."
   ]
  },
  {
   "cell_type": "code",
   "execution_count": 304,
   "metadata": {},
   "outputs": [],
   "source": [
    "import pandas as pd\n",
    "import numpy as np\n",
    "import random as rnd\n",
    "import re\n",
    "import pickle\n",
    "\n",
    "# visualization\n",
    "import matplotlib.pyplot as plt\n",
    "import matplotlib.gridspec as gridspec\n",
    "import seaborn as sns\n",
    "%matplotlib inline"
   ]
  },
  {
   "cell_type": "code",
   "execution_count": 2,
   "metadata": {},
   "outputs": [],
   "source": [
    "from sklearn.model_selection import cross_val_score\n",
    "from sklearn.model_selection import ShuffleSplit\n",
    "from sklearn.model_selection import train_test_split\n",
    "from sklearn.preprocessing import MinMaxScaler, OneHotEncoder\n",
    "from sklearn.metrics import accuracy_score, f1_score, confusion_matrix\n",
    "from sklearn.metrics import precision_recall_fscore_support\n",
    "from sklearn.metrics import precision_score, balanced_accuracy_score"
   ]
  },
  {
   "cell_type": "code",
   "execution_count": 3,
   "metadata": {},
   "outputs": [],
   "source": [
    "SEED = 1"
   ]
  },
  {
   "cell_type": "markdown",
   "metadata": {},
   "source": [
    "# 1. Dataset"
   ]
  },
  {
   "cell_type": "code",
   "execution_count": 4,
   "metadata": {},
   "outputs": [],
   "source": [
    "from sklearn.preprocessing import StandardScaler, MinMaxScaler, OneHotEncoder\n",
    "from scipy import stats"
   ]
  },
  {
   "cell_type": "markdown",
   "metadata": {},
   "source": [
    "## 1.1 Image Segmentation Dataset"
   ]
  },
  {
   "cell_type": "code",
   "execution_count": 146,
   "metadata": {},
   "outputs": [],
   "source": [
    "features = 'REGION-CENTROID-COL,REGION-CENTROID-ROW,REGION-PIXEL-COUNT, SHORT-LINE-DENSITY-5,SHORT-LINE-DENSITY-2,VEDGE-MEAN,VEDGE-SD,HEDGE-MEAN,HEDGE-SD,INTENSITY-MEAN,RAWRED-MEAN,RAWBLUE-MEAN,RAWGREEN-MEAN,EXRED-MEAN,EXBLUE-MEAN,EXGREEN-MEAN,VALUE-MEAN,SATURATION-MEAN,HUE-MEAN'\n",
    "col_names = features.split(',') + ['Class']\n",
    "# print(col_names)\n",
    "\n",
    "dataset_dir = '../Datasets/statlog_image_segmentation'\n",
    "df_ims = pd.read_csv(dataset_dir + '/segment.dat', names=col_names, sep=' ')\n",
    "print(df_ims.shape)\n",
    "\n",
    "# df_ims['Class'].unique()\n",
    "\n",
    "# df_ims.describe()\n",
    "\n",
    "## Separate labels\n",
    "column_names = df_ims.columns\n",
    "y = df_ims['Class'].copy().values\n",
    "X = df_ims.drop(['Class'], axis=1).values\n",
    "# to 0 - N-1\n",
    "y = y-1\n",
    "\n",
    "## Standardize feature data\n",
    "scaler = StandardScaler()\n",
    "\n",
    "X_scaled = scaler.fit_transform(X)\n",
    "\n",
    "new_names = ['x%d'%(i+1) for i in range(len(column_names[:-1]))]\n",
    "df = pd.DataFrame(X_scaled, columns=new_names)\n",
    "df['Class'] = y\n",
    "\n",
    "df_ims_scaled = df\n",
    "\n",
    "## image segmentation\n",
    "# column_names = df_ims_scaled.columns\n",
    "# y = df_ims_scaled['Class'].copy().values\n",
    "# X = df_ims_scaled.drop(['Class'], axis=1).values\n",
    "\n",
    "y = df_ims_scaled['Class']\n",
    "X = df_ims_scaled.drop(['Class'], axis=1)\n",
    "\n",
    "\n",
    "X_ims, X_ims_test, y_ims, y_ims_test = train_test_split(X, y, test_size=0.2, random_state=SEED)\n",
    "\n",
    "X_ims.reset_index(drop=True, inplace=True)\n",
    "X_ims_test.reset_index(drop=True, inplace=True)\n",
    "y_ims.reset_index(drop=True, inplace=True)\n",
    "y_ims_test.reset_index(drop=True, inplace=True)\n",
    "\n",
    "df_ims = X_ims.copy()\n",
    "df_ims['Class'] = y_ims\n",
    "\n",
    "# df_ims_scaled.head()\n",
    "# X_ims.head()\n",
    "# df_ims.head()"
   ]
  },
  {
   "cell_type": "markdown",
   "metadata": {},
   "source": [
    "## 1.2 Audit Dataset"
   ]
  },
  {
   "cell_type": "code",
   "execution_count": 135,
   "metadata": {},
   "outputs": [],
   "source": [
    "dataset_dir = '../Datasets/audit_data/'\n",
    "df_aud = pd.read_csv(dataset_dir + '/audit_risk.csv', sep=',')\n",
    "print(df_aud.shape)\n",
    "\n",
    "column_names = df_aud.columns\n",
    "\n",
    "df_aud = df_aud.dropna()\n",
    "s1 = df_aud['LOCATION_ID']\n",
    "isnum = s1.str.isnumeric()\n",
    "df_aud = df_aud[isnum]\n",
    "\n",
    "y = df_aud['Risk'].astype('int')\n",
    "X = df_aud.drop(['Risk'], axis=1).values\n",
    "\n",
    "## Standardize feature data\n",
    "scaler = StandardScaler()\n",
    "X_scaled = scaler.fit_transform(X)\n",
    "\n",
    "# new_names = ['x%d'%(i+1) for i in range(len(column_names[:-1]))]\n",
    "df_aud_scaled = pd.DataFrame(X_scaled, columns=column_names[:-1])\n",
    "df_aud_scaled['Risk'] = y\n",
    "\n",
    "X = df_aud_scaled.drop(['Risk'], axis=1)\n",
    "\n",
    "X_aud, X_aud_test, y_aud, y_aud_test = train_test_split(X, y, test_size=0.2, random_state=SEED)\n",
    "\n",
    "X_aud.reset_index(drop=True, inplace=True)\n",
    "X_aud_test.reset_index(drop=True, inplace=True)\n",
    "y_aud.reset_index(drop=True, inplace=True)\n",
    "y_aud_test.reset_index(drop=True, inplace=True)\n",
    "\n",
    "df_aud = X_aud.copy()\n",
    "df_aud['Class'] = y_aud\n",
    "\n",
    "# df_aud_scaled.head()\n",
    "# X_aud.head()\n",
    "# df_aud.head()"
   ]
  },
  {
   "cell_type": "markdown",
   "metadata": {},
   "source": [
    "# 2. Dimensionality Reduction Algorithms\n",
    "\n",
    "* PCA\n",
    "* ICA\n",
    "* Randomized Projections\n",
    "* Any other feature selection algorithm you desire"
   ]
  },
  {
   "cell_type": "code",
   "execution_count": 69,
   "metadata": {},
   "outputs": [],
   "source": [
    "from sklearn.decomposition import PCA, FastICA\n",
    "from sklearn.random_projection import GaussianRandomProjection\n",
    "from sklearn.random_projection import SparseRandomProjection\n",
    "from sklearn.ensemble import RandomForestClassifier\n",
    "from sklearn.feature_selection import SelectFromModel"
   ]
  },
  {
   "cell_type": "markdown",
   "metadata": {},
   "source": [
    "## 2.1 PCA"
   ]
  },
  {
   "cell_type": "markdown",
   "metadata": {},
   "source": [
    "### 2.1.1 Image Segmentation"
   ]
  },
  {
   "cell_type": "code",
   "execution_count": 390,
   "metadata": {},
   "outputs": [],
   "source": [
    "## compute pca\n",
    "pca = PCA(random_state=SEED)\n",
    "pca.fit(X_ims)\n",
    "\n",
    "eighen_value_ims = pca.explained_variance_\n",
    "eighen_ratio_ims = pca.explained_variance_ratio_\n"
   ]
  },
  {
   "cell_type": "code",
   "execution_count": 391,
   "metadata": {},
   "outputs": [
    {
     "data": {
      "text/plain": [
       "Text(5, 0.2, 'sum(:8)=0.92')"
      ]
     },
     "execution_count": 391,
     "metadata": {},
     "output_type": "execute_result"
    },
    {
     "data": {
      "image/png": "[encoded data removed]",
      "text/plain": [
       "<Figure size 432x288 with 1 Axes>"
      ]
     },
     "metadata": {
      "needs_background": "light"
     },
     "output_type": "display_data"
    }
   ],
   "source": [
    "n_comp = 8\n",
    "ratio = eighen_ratio_ims\n",
    "\n",
    "plt.plot(range(1, len(ratio)+1), ratio,'o-')\n",
    "plt.xlim(0, len(ratio)+1)\n",
    "plt.text(5,0.2,'sum(:{0})={1:.2f}'.format(n_comp, np.sum(ratio[:n_comp])))"
   ]
  },
  {
   "cell_type": "code",
   "execution_count": 392,
   "metadata": {},
   "outputs": [
    {
     "data": {
      "text/html": [
       "<div>\n",
       "<style scoped>\n",
       "    .dataframe tbody tr th:only-of-type {\n",
       "        vertical-align: middle;\n",
       "    }\n",
       "\n",
       "    .dataframe tbody tr th {\n",
       "        vertical-align: top;\n",
       "    }\n",
       "\n",
       "    .dataframe thead th {\n",
       "        text-align: right;\n",
       "    }\n",
       "</style>\n",
       "<table border=\"1\" class=\"dataframe\">\n",
       "  <thead>\n",
       "    <tr style=\"text-align: right;\">\n",
       "      <th></th>\n",
       "      <th>X0</th>\n",
       "      <th>X1</th>\n",
       "      <th>X2</th>\n",
       "      <th>X3</th>\n",
       "      <th>X4</th>\n",
       "      <th>X5</th>\n",
       "      <th>X6</th>\n",
       "      <th>X7</th>\n",
       "      <th>Class</th>\n",
       "    </tr>\n",
       "  </thead>\n",
       "  <tbody>\n",
       "    <tr>\n",
       "      <th>0</th>\n",
       "      <td>-0.814209</td>\n",
       "      <td>-0.442137</td>\n",
       "      <td>-0.696477</td>\n",
       "      <td>-1.231562</td>\n",
       "      <td>0.597081</td>\n",
       "      <td>0.449747</td>\n",
       "      <td>-0.042883</td>\n",
       "      <td>0.348952</td>\n",
       "      <td>4</td>\n",
       "    </tr>\n",
       "    <tr>\n",
       "      <th>1</th>\n",
       "      <td>-2.431204</td>\n",
       "      <td>-0.760913</td>\n",
       "      <td>0.613989</td>\n",
       "      <td>0.779429</td>\n",
       "      <td>-1.069862</td>\n",
       "      <td>-0.553142</td>\n",
       "      <td>-0.850038</td>\n",
       "      <td>1.891136</td>\n",
       "      <td>2</td>\n",
       "    </tr>\n",
       "    <tr>\n",
       "      <th>2</th>\n",
       "      <td>-2.742324</td>\n",
       "      <td>-0.534286</td>\n",
       "      <td>-1.210012</td>\n",
       "      <td>0.616021</td>\n",
       "      <td>-1.107284</td>\n",
       "      <td>-0.387781</td>\n",
       "      <td>0.201732</td>\n",
       "      <td>0.003992</td>\n",
       "      <td>2</td>\n",
       "    </tr>\n",
       "    <tr>\n",
       "      <th>3</th>\n",
       "      <td>-2.019493</td>\n",
       "      <td>0.978603</td>\n",
       "      <td>-1.447891</td>\n",
       "      <td>-0.162561</td>\n",
       "      <td>-0.564682</td>\n",
       "      <td>0.232254</td>\n",
       "      <td>0.383482</td>\n",
       "      <td>-0.971117</td>\n",
       "      <td>2</td>\n",
       "    </tr>\n",
       "    <tr>\n",
       "      <th>4</th>\n",
       "      <td>-0.534979</td>\n",
       "      <td>-0.145034</td>\n",
       "      <td>-0.997975</td>\n",
       "      <td>-0.480278</td>\n",
       "      <td>0.112289</td>\n",
       "      <td>0.237871</td>\n",
       "      <td>-0.464036</td>\n",
       "      <td>0.808745</td>\n",
       "      <td>0</td>\n",
       "    </tr>\n",
       "  </tbody>\n",
       "</table>\n",
       "</div>"
      ],
      "text/plain": [
       "         X0        X1        X2        X3        X4        X5        X6  \\\n",
       "0 -0.814209 -0.442137 -0.696477 -1.231562  0.597081  0.449747 -0.042883   \n",
       "1 -2.431204 -0.760913  0.613989  0.779429 -1.069862 -0.553142 -0.850038   \n",
       "2 -2.742324 -0.534286 -1.210012  0.616021 -1.107284 -0.387781  0.201732   \n",
       "3 -2.019493  0.978603 -1.447891 -0.162561 -0.564682  0.232254  0.383482   \n",
       "4 -0.534979 -0.145034 -0.997975 -0.480278  0.112289  0.237871 -0.464036   \n",
       "\n",
       "         X7  Class  \n",
       "0  0.348952      4  \n",
       "1  1.891136      2  \n",
       "2  0.003992      2  \n",
       "3 -0.971117      2  \n",
       "4  0.808745      0  "
      ]
     },
     "execution_count": 392,
     "metadata": {},
     "output_type": "execute_result"
    }
   ],
   "source": [
    "## Transform\n",
    "pca = PCA(n_components=n_comp, random_state=SEED)\n",
    "pca.fit(X_ims)\n",
    "\n",
    "X_ims_pca = pca.transform(X_ims)\n",
    "df_Xims_pca = pd.DataFrame(X_ims_pca, columns=['X%d'%i for i in range(n_comp)])\n",
    "df_Xims_pca['Class'] = y_ims\n",
    "\n",
    "df_Xims_pca.head()"
   ]
  },
  {
   "cell_type": "code",
   "execution_count": 396,
   "metadata": {},
   "outputs": [],
   "source": [
    "df_Xims_pca.to_csv('./ims_train_pca.csv')"
   ]
  },
  {
   "cell_type": "markdown",
   "metadata": {},
   "source": [
    "### 2.1.2 Audit"
   ]
  },
  {
   "cell_type": "code",
   "execution_count": 393,
   "metadata": {},
   "outputs": [],
   "source": [
    "## compute pca \n",
    "pca = PCA(random_state=SEED)\n",
    "pca.fit(X_aud)\n",
    "\n",
    "eighen_value_aud = pca.explained_variance_\n",
    "eighen_ratio_aud = pca.explained_variance_ratio_"
   ]
  },
  {
   "cell_type": "code",
   "execution_count": 394,
   "metadata": {},
   "outputs": [
    {
     "data": {
      "text/plain": [
       "Text(5, 0.2, 'sum(:11)=0.97')"
      ]
     },
     "execution_count": 394,
     "metadata": {},
     "output_type": "execute_result"
    },
    {
     "data": {
      "image/png": "[encoded data removed]",
      "text/plain": [
       "<Figure size 432x288 with 1 Axes>"
      ]
     },
     "metadata": {
      "needs_background": "light"
     },
     "output_type": "display_data"
    }
   ],
   "source": [
    "n_comp = 11\n",
    "ratio = eighen_ratio_aud\n",
    "\n",
    "plt.plot(range(1, len(ratio)+1), ratio,'o-')\n",
    "plt.xlim(0, len(ratio)+1)\n",
    "plt.text(5,0.2,'sum(:{0})={1:.2f}'.format(n_comp, np.sum(ratio[:n_comp])))"
   ]
  },
  {
   "cell_type": "code",
   "execution_count": 395,
   "metadata": {},
   "outputs": [
    {
     "data": {
      "text/html": [
       "<div>\n",
       "<style scoped>\n",
       "    .dataframe tbody tr th:only-of-type {\n",
       "        vertical-align: middle;\n",
       "    }\n",
       "\n",
       "    .dataframe tbody tr th {\n",
       "        vertical-align: top;\n",
       "    }\n",
       "\n",
       "    .dataframe thead th {\n",
       "        text-align: right;\n",
       "    }\n",
       "</style>\n",
       "<table border=\"1\" class=\"dataframe\">\n",
       "  <thead>\n",
       "    <tr style=\"text-align: right;\">\n",
       "      <th></th>\n",
       "      <th>X0</th>\n",
       "      <th>X1</th>\n",
       "      <th>X2</th>\n",
       "      <th>X3</th>\n",
       "      <th>X4</th>\n",
       "      <th>X5</th>\n",
       "      <th>X6</th>\n",
       "      <th>X7</th>\n",
       "      <th>X8</th>\n",
       "      <th>X9</th>\n",
       "      <th>X10</th>\n",
       "      <th>Risk</th>\n",
       "    </tr>\n",
       "  </thead>\n",
       "  <tbody>\n",
       "    <tr>\n",
       "      <th>0</th>\n",
       "      <td>-1.841752</td>\n",
       "      <td>0.732479</td>\n",
       "      <td>0.457246</td>\n",
       "      <td>0.466915</td>\n",
       "      <td>-0.412948</td>\n",
       "      <td>0.927463</td>\n",
       "      <td>0.332086</td>\n",
       "      <td>0.320934</td>\n",
       "      <td>0.963005</td>\n",
       "      <td>0.291759</td>\n",
       "      <td>-0.231526</td>\n",
       "      <td>0</td>\n",
       "    </tr>\n",
       "    <tr>\n",
       "      <th>1</th>\n",
       "      <td>2.901058</td>\n",
       "      <td>-1.362267</td>\n",
       "      <td>-3.185441</td>\n",
       "      <td>0.713380</td>\n",
       "      <td>-1.526404</td>\n",
       "      <td>-1.126061</td>\n",
       "      <td>-0.679852</td>\n",
       "      <td>0.678360</td>\n",
       "      <td>0.096265</td>\n",
       "      <td>-0.286958</td>\n",
       "      <td>-0.285679</td>\n",
       "      <td>1</td>\n",
       "    </tr>\n",
       "    <tr>\n",
       "      <th>2</th>\n",
       "      <td>-1.647786</td>\n",
       "      <td>0.604780</td>\n",
       "      <td>0.268396</td>\n",
       "      <td>0.406441</td>\n",
       "      <td>-0.219883</td>\n",
       "      <td>0.411955</td>\n",
       "      <td>0.355904</td>\n",
       "      <td>-0.406803</td>\n",
       "      <td>-0.291185</td>\n",
       "      <td>0.139460</td>\n",
       "      <td>0.062823</td>\n",
       "      <td>0</td>\n",
       "    </tr>\n",
       "    <tr>\n",
       "      <th>3</th>\n",
       "      <td>-1.225684</td>\n",
       "      <td>0.322128</td>\n",
       "      <td>0.028571</td>\n",
       "      <td>0.274674</td>\n",
       "      <td>0.098196</td>\n",
       "      <td>-0.005991</td>\n",
       "      <td>-0.872965</td>\n",
       "      <td>0.107518</td>\n",
       "      <td>-1.010099</td>\n",
       "      <td>0.180467</td>\n",
       "      <td>0.053768</td>\n",
       "      <td>0</td>\n",
       "    </tr>\n",
       "    <tr>\n",
       "      <th>4</th>\n",
       "      <td>-0.305465</td>\n",
       "      <td>-0.011734</td>\n",
       "      <td>-0.812645</td>\n",
       "      <td>0.492487</td>\n",
       "      <td>0.673779</td>\n",
       "      <td>-1.694623</td>\n",
       "      <td>0.011227</td>\n",
       "      <td>-0.911904</td>\n",
       "      <td>-0.172850</td>\n",
       "      <td>0.508442</td>\n",
       "      <td>0.572559</td>\n",
       "      <td>0</td>\n",
       "    </tr>\n",
       "  </tbody>\n",
       "</table>\n",
       "</div>"
      ],
      "text/plain": [
       "         X0        X1        X2        X3        X4        X5        X6  \\\n",
       "0 -1.841752  0.732479  0.457246  0.466915 -0.412948  0.927463  0.332086   \n",
       "1  2.901058 -1.362267 -3.185441  0.713380 -1.526404 -1.126061 -0.679852   \n",
       "2 -1.647786  0.604780  0.268396  0.406441 -0.219883  0.411955  0.355904   \n",
       "3 -1.225684  0.322128  0.028571  0.274674  0.098196 -0.005991 -0.872965   \n",
       "4 -0.305465 -0.011734 -0.812645  0.492487  0.673779 -1.694623  0.011227   \n",
       "\n",
       "         X7        X8        X9       X10  Risk  \n",
       "0  0.320934  0.963005  0.291759 -0.231526     0  \n",
       "1  0.678360  0.096265 -0.286958 -0.285679     1  \n",
       "2 -0.406803 -0.291185  0.139460  0.062823     0  \n",
       "3  0.107518 -1.010099  0.180467  0.053768     0  \n",
       "4 -0.911904 -0.172850  0.508442  0.572559     0  "
      ]
     },
     "execution_count": 395,
     "metadata": {},
     "output_type": "execute_result"
    }
   ],
   "source": [
    "## Transform\n",
    "pca = PCA(n_components=n_comp, random_state=SEED)\n",
    "pca.fit(X_aud)\n",
    "\n",
    "X_aud_pca = pca.transform(X_aud)\n",
    "df_Xaud_pca = pd.DataFrame(X_aud_pca, columns=['X%d'%i for i in range(n_comp)])\n",
    "df_Xaud_pca['Risk'] = y_aud\n",
    "\n",
    "df_Xaud_pca.head()"
   ]
  },
  {
   "cell_type": "code",
   "execution_count": 397,
   "metadata": {},
   "outputs": [],
   "source": [
    "df_Xaud_pca.to_csv('./aud_train_pca.csv')"
   ]
  },
  {
   "cell_type": "markdown",
   "metadata": {},
   "source": [
    "## 2.2 ICA"
   ]
  },
  {
   "cell_type": "code",
   "execution_count": 415,
   "metadata": {},
   "outputs": [
    {
     "name": "stderr",
     "output_type": "stream",
     "text": [
      "/home/lei/anaconda3/lib/python3.7/site-packages/sklearn/decomposition/_fastica.py:119: ConvergenceWarning: FastICA did not converge. Consider increasing tolerance or the maximum number of iterations.\n",
      "  ConvergenceWarning)\n"
     ]
    }
   ],
   "source": [
    "## image segmentation\n",
    "X_ori = X_ims\n",
    "dimensions = range(2, X_ims.shape[1]+1)\n",
    "\n",
    "kurt = []\n",
    "\n",
    "for dim in dimensions:\n",
    "    ica = FastICA(n_components=dim, random_state=SEED, max_iter=10000, tol=0.001, fun='exp')\n",
    "    X_transform = ica.fit_transform(X_ori)\n",
    "    X_kurt = stats.kurtosis(X_transform, fisher=True)\n",
    "    k_val = np.mean(X_kurt ** 2)\n",
    "#     X_kurt = np.abs().mean(stats.kurtosis(X_transform, fisher=True))\n",
    "    kurt.append(k_val)\n",
    "#     print(dim)\n",
    "\n",
    "kurt_ims = pd.Series(kurt)"
   ]
  },
  {
   "cell_type": "code",
   "execution_count": 416,
   "metadata": {},
   "outputs": [
    {
     "data": {
      "text/plain": [
       "(0, 19.5)"
      ]
     },
     "execution_count": 416,
     "metadata": {},
     "output_type": "execute_result"
    },
    {
     "data": {
      "image/png": "[encoded data removed]",
      "text/plain": [
       "<Figure size 432x288 with 1 Axes>"
      ]
     },
     "metadata": {
      "needs_background": "light"
     },
     "output_type": "display_data"
    }
   ],
   "source": [
    "plt.bar(dimensions, kurt_ims)\n",
    "plt.xlim(0, dimensions[-1]+0.5)"
   ]
  },
  {
   "cell_type": "code",
   "execution_count": 159,
   "metadata": {},
   "outputs": [
    {
     "data": {
      "text/html": [
       "<div>\n",
       "<style scoped>\n",
       "    .dataframe tbody tr th:only-of-type {\n",
       "        vertical-align: middle;\n",
       "    }\n",
       "\n",
       "    .dataframe tbody tr th {\n",
       "        vertical-align: top;\n",
       "    }\n",
       "\n",
       "    .dataframe thead th {\n",
       "        text-align: right;\n",
       "    }\n",
       "</style>\n",
       "<table border=\"1\" class=\"dataframe\">\n",
       "  <thead>\n",
       "    <tr style=\"text-align: right;\">\n",
       "      <th></th>\n",
       "      <th>X0</th>\n",
       "      <th>X1</th>\n",
       "      <th>X2</th>\n",
       "      <th>X3</th>\n",
       "      <th>X4</th>\n",
       "      <th>X5</th>\n",
       "      <th>X6</th>\n",
       "      <th>X7</th>\n",
       "      <th>X8</th>\n",
       "      <th>X9</th>\n",
       "      <th>X10</th>\n",
       "      <th>X11</th>\n",
       "      <th>Class</th>\n",
       "    </tr>\n",
       "  </thead>\n",
       "  <tbody>\n",
       "    <tr>\n",
       "      <th>0</th>\n",
       "      <td>0.011516</td>\n",
       "      <td>-0.003108</td>\n",
       "      <td>-0.009306</td>\n",
       "      <td>0.010262</td>\n",
       "      <td>0.003843</td>\n",
       "      <td>-0.005457</td>\n",
       "      <td>0.029209</td>\n",
       "      <td>-0.006483</td>\n",
       "      <td>0.013248</td>\n",
       "      <td>-0.014829</td>\n",
       "      <td>0.008026</td>\n",
       "      <td>0.002313</td>\n",
       "      <td>4</td>\n",
       "    </tr>\n",
       "    <tr>\n",
       "      <th>1</th>\n",
       "      <td>-0.010451</td>\n",
       "      <td>-0.002418</td>\n",
       "      <td>-0.017057</td>\n",
       "      <td>0.074508</td>\n",
       "      <td>0.003686</td>\n",
       "      <td>-0.008977</td>\n",
       "      <td>-0.036921</td>\n",
       "      <td>0.000519</td>\n",
       "      <td>0.027842</td>\n",
       "      <td>-0.016331</td>\n",
       "      <td>0.011150</td>\n",
       "      <td>0.002419</td>\n",
       "      <td>2</td>\n",
       "    </tr>\n",
       "    <tr>\n",
       "      <th>2</th>\n",
       "      <td>0.001090</td>\n",
       "      <td>-0.002276</td>\n",
       "      <td>-0.013744</td>\n",
       "      <td>-0.019734</td>\n",
       "      <td>0.003513</td>\n",
       "      <td>-0.004755</td>\n",
       "      <td>-0.030625</td>\n",
       "      <td>0.013627</td>\n",
       "      <td>0.025177</td>\n",
       "      <td>-0.000354</td>\n",
       "      <td>0.009712</td>\n",
       "      <td>0.002246</td>\n",
       "      <td>2</td>\n",
       "    </tr>\n",
       "    <tr>\n",
       "      <th>3</th>\n",
       "      <td>0.002767</td>\n",
       "      <td>0.008298</td>\n",
       "      <td>0.020555</td>\n",
       "      <td>-0.043894</td>\n",
       "      <td>0.006996</td>\n",
       "      <td>0.010689</td>\n",
       "      <td>-0.004471</td>\n",
       "      <td>-0.007690</td>\n",
       "      <td>0.015668</td>\n",
       "      <td>-0.010435</td>\n",
       "      <td>0.007747</td>\n",
       "      <td>0.000542</td>\n",
       "      <td>2</td>\n",
       "    </tr>\n",
       "    <tr>\n",
       "      <th>4</th>\n",
       "      <td>0.020273</td>\n",
       "      <td>-0.002388</td>\n",
       "      <td>-0.002639</td>\n",
       "      <td>0.016152</td>\n",
       "      <td>0.004504</td>\n",
       "      <td>0.002552</td>\n",
       "      <td>0.008471</td>\n",
       "      <td>0.008665</td>\n",
       "      <td>0.020367</td>\n",
       "      <td>-0.000547</td>\n",
       "      <td>0.005806</td>\n",
       "      <td>-0.000006</td>\n",
       "      <td>0</td>\n",
       "    </tr>\n",
       "  </tbody>\n",
       "</table>\n",
       "</div>"
      ],
      "text/plain": [
       "         X0        X1        X2        X3        X4        X5        X6  \\\n",
       "0  0.011516 -0.003108 -0.009306  0.010262  0.003843 -0.005457  0.029209   \n",
       "1 -0.010451 -0.002418 -0.017057  0.074508  0.003686 -0.008977 -0.036921   \n",
       "2  0.001090 -0.002276 -0.013744 -0.019734  0.003513 -0.004755 -0.030625   \n",
       "3  0.002767  0.008298  0.020555 -0.043894  0.006996  0.010689 -0.004471   \n",
       "4  0.020273 -0.002388 -0.002639  0.016152  0.004504  0.002552  0.008471   \n",
       "\n",
       "         X7        X8        X9       X10       X11  Class  \n",
       "0 -0.006483  0.013248 -0.014829  0.008026  0.002313      4  \n",
       "1  0.000519  0.027842 -0.016331  0.011150  0.002419      2  \n",
       "2  0.013627  0.025177 -0.000354  0.009712  0.002246      2  \n",
       "3 -0.007690  0.015668 -0.010435  0.007747  0.000542      2  \n",
       "4  0.008665  0.020367 -0.000547  0.005806 -0.000006      0  "
      ]
     },
     "execution_count": 159,
     "metadata": {},
     "output_type": "execute_result"
    }
   ],
   "source": [
    "## transformation\n",
    "n_comp = 12\n",
    "\n",
    "ica = FastICA(n_components=n_comp, random_state=SEED, max_iter=10000, tol=0.001, fun='exp')\n",
    "\n",
    "X_ims_ica = ica.fit_transform(X_ims)\n",
    "\n",
    "df_Xims_ica = pd.DataFrame(X_ims_ica, columns=['X%d'%i for i in range(n_comp)])\n",
    "df_Xims_ica['Class'] = y_ims\n",
    "\n",
    "df_Xims_ica.head()"
   ]
  },
  {
   "cell_type": "code",
   "execution_count": 398,
   "metadata": {},
   "outputs": [],
   "source": [
    "df_Xims_ica.to_csv('./ims_train_ica.csv')"
   ]
  },
  {
   "cell_type": "code",
   "execution_count": 160,
   "metadata": {},
   "outputs": [
    {
     "data": {
      "text/html": [
       "<div>\n",
       "<style scoped>\n",
       "    .dataframe tbody tr th:only-of-type {\n",
       "        vertical-align: middle;\n",
       "    }\n",
       "\n",
       "    .dataframe tbody tr th {\n",
       "        vertical-align: top;\n",
       "    }\n",
       "\n",
       "    .dataframe thead th {\n",
       "        text-align: right;\n",
       "    }\n",
       "</style>\n",
       "<table border=\"1\" class=\"dataframe\">\n",
       "  <thead>\n",
       "    <tr style=\"text-align: right;\">\n",
       "      <th></th>\n",
       "      <th>0</th>\n",
       "      <th>1</th>\n",
       "      <th>2</th>\n",
       "      <th>3</th>\n",
       "      <th>4</th>\n",
       "      <th>5</th>\n",
       "      <th>6</th>\n",
       "      <th>7</th>\n",
       "      <th>8</th>\n",
       "      <th>9</th>\n",
       "      <th>10</th>\n",
       "      <th>11</th>\n",
       "      <th>12</th>\n",
       "      <th>13</th>\n",
       "      <th>14</th>\n",
       "      <th>15</th>\n",
       "      <th>16</th>\n",
       "      <th>17</th>\n",
       "      <th>18</th>\n",
       "    </tr>\n",
       "  </thead>\n",
       "  <tbody>\n",
       "    <tr>\n",
       "      <th>0</th>\n",
       "      <td>0.000658</td>\n",
       "      <td>-3.376613e-03</td>\n",
       "      <td>-6.512325e-19</td>\n",
       "      <td>0.000542</td>\n",
       "      <td>-0.000662</td>\n",
       "      <td>-0.001466</td>\n",
       "      <td>0.000663</td>\n",
       "      <td>-0.000613</td>\n",
       "      <td>0.000476</td>\n",
       "      <td>-0.000641</td>\n",
       "      <td>-0.000075</td>\n",
       "      <td>-0.000060</td>\n",
       "      <td>-0.001874</td>\n",
       "      <td>0.005654</td>\n",
       "      <td>0.003350</td>\n",
       "      <td>-0.011345</td>\n",
       "      <td>-0.000751</td>\n",
       "      <td>-0.001379</td>\n",
       "      <td>-0.011330</td>\n",
       "    </tr>\n",
       "    <tr>\n",
       "      <th>1</th>\n",
       "      <td>-0.000156</td>\n",
       "      <td>-5.106406e-07</td>\n",
       "      <td>3.941065e-18</td>\n",
       "      <td>0.000239</td>\n",
       "      <td>-0.000453</td>\n",
       "      <td>-0.000580</td>\n",
       "      <td>0.025469</td>\n",
       "      <td>0.000991</td>\n",
       "      <td>-0.002862</td>\n",
       "      <td>0.000190</td>\n",
       "      <td>0.000257</td>\n",
       "      <td>0.000107</td>\n",
       "      <td>0.000223</td>\n",
       "      <td>0.000456</td>\n",
       "      <td>-0.000400</td>\n",
       "      <td>0.000220</td>\n",
       "      <td>0.000079</td>\n",
       "      <td>0.000033</td>\n",
       "      <td>-0.000031</td>\n",
       "    </tr>\n",
       "    <tr>\n",
       "      <th>2</th>\n",
       "      <td>0.000604</td>\n",
       "      <td>-4.767396e-03</td>\n",
       "      <td>-5.335207e-18</td>\n",
       "      <td>-0.000563</td>\n",
       "      <td>-0.003584</td>\n",
       "      <td>0.033072</td>\n",
       "      <td>-0.017188</td>\n",
       "      <td>-0.001250</td>\n",
       "      <td>-0.000683</td>\n",
       "      <td>0.000533</td>\n",
       "      <td>0.000832</td>\n",
       "      <td>0.000038</td>\n",
       "      <td>0.000833</td>\n",
       "      <td>0.002272</td>\n",
       "      <td>-0.002868</td>\n",
       "      <td>0.002581</td>\n",
       "      <td>0.000132</td>\n",
       "      <td>0.000565</td>\n",
       "      <td>-0.000887</td>\n",
       "    </tr>\n",
       "    <tr>\n",
       "      <th>3</th>\n",
       "      <td>-0.000483</td>\n",
       "      <td>-9.015128e-03</td>\n",
       "      <td>2.680050e-18</td>\n",
       "      <td>-0.001790</td>\n",
       "      <td>0.001737</td>\n",
       "      <td>-0.001440</td>\n",
       "      <td>0.001148</td>\n",
       "      <td>-0.001637</td>\n",
       "      <td>0.000433</td>\n",
       "      <td>-0.004139</td>\n",
       "      <td>-0.004423</td>\n",
       "      <td>-0.003229</td>\n",
       "      <td>-0.004911</td>\n",
       "      <td>0.000794</td>\n",
       "      <td>0.002681</td>\n",
       "      <td>-0.005339</td>\n",
       "      <td>-0.003300</td>\n",
       "      <td>-0.028176</td>\n",
       "      <td>0.008447</td>\n",
       "    </tr>\n",
       "    <tr>\n",
       "      <th>4</th>\n",
       "      <td>-0.000220</td>\n",
       "      <td>-4.334451e-04</td>\n",
       "      <td>1.048591e-18</td>\n",
       "      <td>-0.000116</td>\n",
       "      <td>-0.024098</td>\n",
       "      <td>0.001389</td>\n",
       "      <td>0.000831</td>\n",
       "      <td>-0.000506</td>\n",
       "      <td>0.004599</td>\n",
       "      <td>-0.000141</td>\n",
       "      <td>-0.000175</td>\n",
       "      <td>-0.000079</td>\n",
       "      <td>-0.000181</td>\n",
       "      <td>-0.000195</td>\n",
       "      <td>0.000300</td>\n",
       "      <td>-0.000312</td>\n",
       "      <td>-0.000071</td>\n",
       "      <td>-0.000036</td>\n",
       "      <td>0.000075</td>\n",
       "    </tr>\n",
       "  </tbody>\n",
       "</table>\n",
       "</div>"
      ],
      "text/plain": [
       "          0             1             2         3         4         5  \\\n",
       "0  0.000658 -3.376613e-03 -6.512325e-19  0.000542 -0.000662 -0.001466   \n",
       "1 -0.000156 -5.106406e-07  3.941065e-18  0.000239 -0.000453 -0.000580   \n",
       "2  0.000604 -4.767396e-03 -5.335207e-18 -0.000563 -0.003584  0.033072   \n",
       "3 -0.000483 -9.015128e-03  2.680050e-18 -0.001790  0.001737 -0.001440   \n",
       "4 -0.000220 -4.334451e-04  1.048591e-18 -0.000116 -0.024098  0.001389   \n",
       "\n",
       "          6         7         8         9        10        11        12  \\\n",
       "0  0.000663 -0.000613  0.000476 -0.000641 -0.000075 -0.000060 -0.001874   \n",
       "1  0.025469  0.000991 -0.002862  0.000190  0.000257  0.000107  0.000223   \n",
       "2 -0.017188 -0.001250 -0.000683  0.000533  0.000832  0.000038  0.000833   \n",
       "3  0.001148 -0.001637  0.000433 -0.004139 -0.004423 -0.003229 -0.004911   \n",
       "4  0.000831 -0.000506  0.004599 -0.000141 -0.000175 -0.000079 -0.000181   \n",
       "\n",
       "         13        14        15        16        17        18  \n",
       "0  0.005654  0.003350 -0.011345 -0.000751 -0.001379 -0.011330  \n",
       "1  0.000456 -0.000400  0.000220  0.000079  0.000033 -0.000031  \n",
       "2  0.002272 -0.002868  0.002581  0.000132  0.000565 -0.000887  \n",
       "3  0.000794  0.002681 -0.005339 -0.003300 -0.028176  0.008447  \n",
       "4 -0.000195  0.000300 -0.000312 -0.000071 -0.000036  0.000075  "
      ]
     },
     "execution_count": 160,
     "metadata": {},
     "output_type": "execute_result"
    }
   ],
   "source": [
    "df_ims_comp = pd.DataFrame(ica.components_)\n",
    "df_ims_comp.head()"
   ]
  },
  {
   "cell_type": "code",
   "execution_count": 172,
   "metadata": {},
   "outputs": [
    {
     "name": "stderr",
     "output_type": "stream",
     "text": [
      "/home/lei/anaconda3/lib/python3.7/site-packages/sklearn/decomposition/_fastica.py:119: ConvergenceWarning: FastICA did not converge. Consider increasing tolerance or the maximum number of iterations.\n",
      "  ConvergenceWarning)\n",
      "/home/lei/anaconda3/lib/python3.7/site-packages/sklearn/decomposition/_fastica.py:119: ConvergenceWarning: FastICA did not converge. Consider increasing tolerance or the maximum number of iterations.\n",
      "  ConvergenceWarning)\n",
      "/home/lei/anaconda3/lib/python3.7/site-packages/sklearn/decomposition/_fastica.py:119: ConvergenceWarning: FastICA did not converge. Consider increasing tolerance or the maximum number of iterations.\n",
      "  ConvergenceWarning)\n",
      "/home/lei/anaconda3/lib/python3.7/site-packages/sklearn/decomposition/_fastica.py:119: ConvergenceWarning: FastICA did not converge. Consider increasing tolerance or the maximum number of iterations.\n",
      "  ConvergenceWarning)\n"
     ]
    }
   ],
   "source": [
    "## aud\n",
    "X_ori = X_aud\n",
    "\n",
    "dimensions = range(2, X_orig.shape[1]+1)\n",
    "kurt = []\n",
    "for dim in dimensions:\n",
    "    ica = FastICA(n_components=dim, random_state=SEED, max_iter=1000, tol=0.001, fun='exp')\n",
    "    X_transform = ica.fit_transform(X_ori)\n",
    "    X_kurt = stats.kurtosis(X_transform, fisher=True)\n",
    "    k_val = np.mean(X_kurt ** 2)\n",
    "    kurt.append(k_val)\n",
    "\n",
    "kurt_aud = pd.Series(kurt)"
   ]
  },
  {
   "cell_type": "code",
   "execution_count": 175,
   "metadata": {},
   "outputs": [
    {
     "data": {
      "text/plain": [
       "(0, 26.5)"
      ]
     },
     "execution_count": 175,
     "metadata": {},
     "output_type": "execute_result"
    },
    {
     "data": {
      "image/png": "[encoded data removed]",
      "text/plain": [
       "<Figure size 432x288 with 1 Axes>"
      ]
     },
     "metadata": {
      "needs_background": "light"
     },
     "output_type": "display_data"
    }
   ],
   "source": [
    "plt.bar(dimensions, kurt_aud)\n",
    "plt.xlim(0, dimensions[-1]+0.5)"
   ]
  },
  {
   "cell_type": "code",
   "execution_count": 176,
   "metadata": {},
   "outputs": [
    {
     "data": {
      "text/html": [
       "<div>\n",
       "<style scoped>\n",
       "    .dataframe tbody tr th:only-of-type {\n",
       "        vertical-align: middle;\n",
       "    }\n",
       "\n",
       "    .dataframe tbody tr th {\n",
       "        vertical-align: top;\n",
       "    }\n",
       "\n",
       "    .dataframe thead th {\n",
       "        text-align: right;\n",
       "    }\n",
       "</style>\n",
       "<table border=\"1\" class=\"dataframe\">\n",
       "  <thead>\n",
       "    <tr style=\"text-align: right;\">\n",
       "      <th></th>\n",
       "      <th>X0</th>\n",
       "      <th>X1</th>\n",
       "      <th>X2</th>\n",
       "      <th>Class</th>\n",
       "    </tr>\n",
       "  </thead>\n",
       "  <tbody>\n",
       "    <tr>\n",
       "      <th>0</th>\n",
       "      <td>0.017359</td>\n",
       "      <td>-0.026339</td>\n",
       "      <td>0.005785</td>\n",
       "      <td>0</td>\n",
       "    </tr>\n",
       "    <tr>\n",
       "      <th>1</th>\n",
       "      <td>0.001370</td>\n",
       "      <td>0.088944</td>\n",
       "      <td>0.004128</td>\n",
       "      <td>1</td>\n",
       "    </tr>\n",
       "    <tr>\n",
       "      <th>2</th>\n",
       "      <td>0.016588</td>\n",
       "      <td>-0.020581</td>\n",
       "      <td>0.006504</td>\n",
       "      <td>0</td>\n",
       "    </tr>\n",
       "    <tr>\n",
       "      <th>3</th>\n",
       "      <td>0.012628</td>\n",
       "      <td>-0.011206</td>\n",
       "      <td>0.007434</td>\n",
       "      <td>0</td>\n",
       "    </tr>\n",
       "    <tr>\n",
       "      <th>4</th>\n",
       "      <td>0.012354</td>\n",
       "      <td>0.013150</td>\n",
       "      <td>0.006591</td>\n",
       "      <td>0</td>\n",
       "    </tr>\n",
       "  </tbody>\n",
       "</table>\n",
       "</div>"
      ],
      "text/plain": [
       "         X0        X1        X2  Class\n",
       "0  0.017359 -0.026339  0.005785      0\n",
       "1  0.001370  0.088944  0.004128      1\n",
       "2  0.016588 -0.020581  0.006504      0\n",
       "3  0.012628 -0.011206  0.007434      0\n",
       "4  0.012354  0.013150  0.006591      0"
      ]
     },
     "execution_count": 176,
     "metadata": {},
     "output_type": "execute_result"
    }
   ],
   "source": [
    "## transformation\n",
    "n_comp = 3\n",
    "\n",
    "ica = FastICA(n_components=n_comp, random_state=SEED, max_iter=10000, tol=0.001, fun='exp')\n",
    "\n",
    "X_aud_ica = ica.fit_transform(X_aud)\n",
    "\n",
    "df_Xaud_ica = pd.DataFrame(X_aud_ica, columns=['X%d'%i for i in range(n_comp)])\n",
    "df_Xaud_ica['Class'] = y_aud\n",
    "\n",
    "df_Xaud_ica.head()"
   ]
  },
  {
   "cell_type": "code",
   "execution_count": 399,
   "metadata": {},
   "outputs": [],
   "source": [
    "df_Xaud_ica.to_csv('./aud_train_ica.csv')"
   ]
  },
  {
   "cell_type": "markdown",
   "metadata": {},
   "source": [
    "## 2.3 Randomized Projections"
   ]
  },
  {
   "cell_type": "code",
   "execution_count": 186,
   "metadata": {},
   "outputs": [],
   "source": [
    "from collections import defaultdict\n",
    "import scipy.sparse as sps\n",
    "from scipy.linalg import pinv\n",
    "from sklearn.utils.extmath import safe_sparse_dot\n",
    "\n",
    "def reconstructX(component_matrix, X_new):\n",
    "    A = component_matrix.todense()\n",
    "    X_re = safe_sparse_dot(X_new, pinv(A.T), dense_output=True)\n",
    "    \n",
    "    return X_re"
   ]
  },
  {
   "cell_type": "markdown",
   "metadata": {},
   "source": [
    "### 2.3.1 Image segmentation"
   ]
  },
  {
   "cell_type": "code",
   "execution_count": 190,
   "metadata": {},
   "outputs": [],
   "source": [
    "## compute SRP\n",
    "X_ori = X_ims\n",
    "dimensions = range(2, X_ims.shape[1]+1)\n",
    "\n",
    "error = []\n",
    "for dim in dimensions:\n",
    "    srp = SparseRandomProjection(n_components=dim, random_state=SEED)\n",
    "    X_new = srp.fit_transform(X_ori)\n",
    "    X_rec = reconstructX(srp.components_, X_new)\n",
    "    rec_error = np.nanmean(np.square(X_ori - X_rec))\n",
    "    error.append(rec_error)\n",
    "    \n",
    "SRP_err_ims = error"
   ]
  },
  {
   "cell_type": "code",
   "execution_count": 191,
   "metadata": {},
   "outputs": [
    {
     "data": {
      "text/plain": [
       "(1, 19)"
      ]
     },
     "execution_count": 191,
     "metadata": {},
     "output_type": "execute_result"
    },
    {
     "data": {
      "image/png": "[encoded data removed]",
      "text/plain": [
       "<Figure size 432x288 with 1 Axes>"
      ]
     },
     "metadata": {
      "needs_background": "light"
     },
     "output_type": "display_data"
    }
   ],
   "source": [
    "plt.plot(dimensions, SRP_err_ims, '-o')\n",
    "plt.xlim(1, dimensions[-1])"
   ]
  },
  {
   "cell_type": "code",
   "execution_count": 194,
   "metadata": {},
   "outputs": [
    {
     "data": {
      "text/html": [
       "<div>\n",
       "<style scoped>\n",
       "    .dataframe tbody tr th:only-of-type {\n",
       "        vertical-align: middle;\n",
       "    }\n",
       "\n",
       "    .dataframe tbody tr th {\n",
       "        vertical-align: top;\n",
       "    }\n",
       "\n",
       "    .dataframe thead th {\n",
       "        text-align: right;\n",
       "    }\n",
       "</style>\n",
       "<table border=\"1\" class=\"dataframe\">\n",
       "  <thead>\n",
       "    <tr style=\"text-align: right;\">\n",
       "      <th></th>\n",
       "      <th>X0</th>\n",
       "      <th>X1</th>\n",
       "      <th>X2</th>\n",
       "      <th>X3</th>\n",
       "      <th>X4</th>\n",
       "      <th>X5</th>\n",
       "      <th>X6</th>\n",
       "      <th>X7</th>\n",
       "      <th>X8</th>\n",
       "      <th>X9</th>\n",
       "      <th>Class</th>\n",
       "    </tr>\n",
       "  </thead>\n",
       "  <tbody>\n",
       "    <tr>\n",
       "      <th>0</th>\n",
       "      <td>-0.236668</td>\n",
       "      <td>0.064557</td>\n",
       "      <td>0.314702</td>\n",
       "      <td>0.201101</td>\n",
       "      <td>-0.316416</td>\n",
       "      <td>-0.704470</td>\n",
       "      <td>-0.506996</td>\n",
       "      <td>-0.088662</td>\n",
       "      <td>0.146466</td>\n",
       "      <td>-0.170061</td>\n",
       "      <td>4</td>\n",
       "    </tr>\n",
       "    <tr>\n",
       "      <th>1</th>\n",
       "      <td>1.463652</td>\n",
       "      <td>0.227675</td>\n",
       "      <td>0.670382</td>\n",
       "      <td>0.177941</td>\n",
       "      <td>-0.224290</td>\n",
       "      <td>1.375289</td>\n",
       "      <td>-1.246892</td>\n",
       "      <td>0.487758</td>\n",
       "      <td>-0.261541</td>\n",
       "      <td>-0.455602</td>\n",
       "      <td>2</td>\n",
       "    </tr>\n",
       "    <tr>\n",
       "      <th>2</th>\n",
       "      <td>0.530551</td>\n",
       "      <td>0.200489</td>\n",
       "      <td>0.660268</td>\n",
       "      <td>0.222762</td>\n",
       "      <td>-0.279330</td>\n",
       "      <td>0.332960</td>\n",
       "      <td>-1.181407</td>\n",
       "      <td>0.449753</td>\n",
       "      <td>-0.250722</td>\n",
       "      <td>-0.337477</td>\n",
       "      <td>2</td>\n",
       "    </tr>\n",
       "    <tr>\n",
       "      <th>3</th>\n",
       "      <td>0.207836</td>\n",
       "      <td>-0.683070</td>\n",
       "      <td>0.532156</td>\n",
       "      <td>1.266351</td>\n",
       "      <td>-1.201102</td>\n",
       "      <td>-0.911678</td>\n",
       "      <td>0.426486</td>\n",
       "      <td>0.031690</td>\n",
       "      <td>-0.697569</td>\n",
       "      <td>0.569259</td>\n",
       "      <td>2</td>\n",
       "    </tr>\n",
       "    <tr>\n",
       "      <th>4</th>\n",
       "      <td>-0.719851</td>\n",
       "      <td>-0.071375</td>\n",
       "      <td>0.210190</td>\n",
       "      <td>-0.354873</td>\n",
       "      <td>-0.785902</td>\n",
       "      <td>-0.319156</td>\n",
       "      <td>-0.851032</td>\n",
       "      <td>0.392744</td>\n",
       "      <td>-0.582370</td>\n",
       "      <td>-0.271540</td>\n",
       "      <td>0</td>\n",
       "    </tr>\n",
       "  </tbody>\n",
       "</table>\n",
       "</div>"
      ],
      "text/plain": [
       "         X0        X1        X2        X3        X4        X5        X6  \\\n",
       "0 -0.236668  0.064557  0.314702  0.201101 -0.316416 -0.704470 -0.506996   \n",
       "1  1.463652  0.227675  0.670382  0.177941 -0.224290  1.375289 -1.246892   \n",
       "2  0.530551  0.200489  0.660268  0.222762 -0.279330  0.332960 -1.181407   \n",
       "3  0.207836 -0.683070  0.532156  1.266351 -1.201102 -0.911678  0.426486   \n",
       "4 -0.719851 -0.071375  0.210190 -0.354873 -0.785902 -0.319156 -0.851032   \n",
       "\n",
       "         X7        X8        X9  Class  \n",
       "0 -0.088662  0.146466 -0.170061      4  \n",
       "1  0.487758 -0.261541 -0.455602      2  \n",
       "2  0.449753 -0.250722 -0.337477      2  \n",
       "3  0.031690 -0.697569  0.569259      2  \n",
       "4  0.392744 -0.582370 -0.271540      0  "
      ]
     },
     "execution_count": 194,
     "metadata": {},
     "output_type": "execute_result"
    }
   ],
   "source": [
    "## transform SRP\n",
    "n_comp = 10\n",
    "\n",
    "srp = SparseRandomProjection(n_components=n_comp, random_state=SEED)\n",
    "\n",
    "X_ims_srp = srp.fit_transform(X_ims)\n",
    "\n",
    "df_Xims_srp = pd.DataFrame(X_ims_srp, columns=['X%d'%i for i in range(n_comp)])\n",
    "df_Xims_srp['Class'] = y_ims\n",
    "\n",
    "df_Xims_srp.head()"
   ]
  },
  {
   "cell_type": "code",
   "execution_count": 400,
   "metadata": {},
   "outputs": [],
   "source": [
    "df_Xims_srp.to_csv('./ims_train_srp.csv')"
   ]
  },
  {
   "cell_type": "markdown",
   "metadata": {},
   "source": [
    "### 2.3.2 Audit"
   ]
  },
  {
   "cell_type": "code",
   "execution_count": 195,
   "metadata": {},
   "outputs": [],
   "source": [
    "## audit\n",
    "X_ori = X_aud\n",
    "dimensions = range(2, X_aud.shape[1]+1)\n",
    "\n",
    "error = []\n",
    "for dim in dimensions:\n",
    "    srp = SparseRandomProjection(n_components=dim, random_state=SEED)\n",
    "    X_new = srp.fit_transform(X_ori)\n",
    "    X_rec = reconstructX(srp.components_, X_new)\n",
    "    rec_error = np.nanmean(np.square(X_ori - X_rec))\n",
    "    error.append(rec_error)\n",
    "    \n",
    "SRP_err_aud = error"
   ]
  },
  {
   "cell_type": "code",
   "execution_count": 196,
   "metadata": {},
   "outputs": [
    {
     "data": {
      "text/plain": [
       "(1, 26)"
      ]
     },
     "execution_count": 196,
     "metadata": {},
     "output_type": "execute_result"
    },
    {
     "data": {
      "image/png": "[encoded data removed]",
      "text/plain": [
       "<Figure size 432x288 with 1 Axes>"
      ]
     },
     "metadata": {
      "needs_background": "light"
     },
     "output_type": "display_data"
    }
   ],
   "source": [
    "plt.plot(dimensions, SRP_err_aud, '-o')\n",
    "plt.xlim(1, dimensions[-1])"
   ]
  },
  {
   "cell_type": "code",
   "execution_count": 197,
   "metadata": {},
   "outputs": [
    {
     "data": {
      "text/html": [
       "<div>\n",
       "<style scoped>\n",
       "    .dataframe tbody tr th:only-of-type {\n",
       "        vertical-align: middle;\n",
       "    }\n",
       "\n",
       "    .dataframe tbody tr th {\n",
       "        vertical-align: top;\n",
       "    }\n",
       "\n",
       "    .dataframe thead th {\n",
       "        text-align: right;\n",
       "    }\n",
       "</style>\n",
       "<table border=\"1\" class=\"dataframe\">\n",
       "  <thead>\n",
       "    <tr style=\"text-align: right;\">\n",
       "      <th></th>\n",
       "      <th>X0</th>\n",
       "      <th>X1</th>\n",
       "      <th>X2</th>\n",
       "      <th>X3</th>\n",
       "      <th>X4</th>\n",
       "      <th>X5</th>\n",
       "      <th>X6</th>\n",
       "      <th>X7</th>\n",
       "      <th>X8</th>\n",
       "      <th>X9</th>\n",
       "      <th>X10</th>\n",
       "      <th>X11</th>\n",
       "      <th>X12</th>\n",
       "      <th>Class</th>\n",
       "    </tr>\n",
       "  </thead>\n",
       "  <tbody>\n",
       "    <tr>\n",
       "      <th>0</th>\n",
       "      <td>0.343047</td>\n",
       "      <td>0.223165</td>\n",
       "      <td>0.206136</td>\n",
       "      <td>-0.369866</td>\n",
       "      <td>1.054392</td>\n",
       "      <td>-0.377007</td>\n",
       "      <td>0.820035</td>\n",
       "      <td>0.285513</td>\n",
       "      <td>0.990423</td>\n",
       "      <td>-0.076128</td>\n",
       "      <td>0.097096</td>\n",
       "      <td>0.905694</td>\n",
       "      <td>0.634336</td>\n",
       "      <td>0</td>\n",
       "    </tr>\n",
       "    <tr>\n",
       "      <th>1</th>\n",
       "      <td>0.212798</td>\n",
       "      <td>-0.291592</td>\n",
       "      <td>0.365211</td>\n",
       "      <td>1.116042</td>\n",
       "      <td>-2.370866</td>\n",
       "      <td>0.303065</td>\n",
       "      <td>-1.479142</td>\n",
       "      <td>0.235741</td>\n",
       "      <td>-2.008449</td>\n",
       "      <td>-1.127815</td>\n",
       "      <td>0.168243</td>\n",
       "      <td>-1.926460</td>\n",
       "      <td>-0.562631</td>\n",
       "      <td>1</td>\n",
       "    </tr>\n",
       "    <tr>\n",
       "      <th>2</th>\n",
       "      <td>0.341233</td>\n",
       "      <td>0.178677</td>\n",
       "      <td>0.213275</td>\n",
       "      <td>-0.370966</td>\n",
       "      <td>1.362984</td>\n",
       "      <td>-0.399135</td>\n",
       "      <td>0.767572</td>\n",
       "      <td>0.281165</td>\n",
       "      <td>0.979482</td>\n",
       "      <td>-0.070681</td>\n",
       "      <td>0.102504</td>\n",
       "      <td>0.911141</td>\n",
       "      <td>-0.350962</td>\n",
       "      <td>0</td>\n",
       "    </tr>\n",
       "    <tr>\n",
       "      <th>3</th>\n",
       "      <td>0.343047</td>\n",
       "      <td>0.067346</td>\n",
       "      <td>0.201722</td>\n",
       "      <td>-0.371535</td>\n",
       "      <td>-0.042716</td>\n",
       "      <td>0.223750</td>\n",
       "      <td>0.665885</td>\n",
       "      <td>0.287181</td>\n",
       "      <td>0.992255</td>\n",
       "      <td>-0.076128</td>\n",
       "      <td>0.114219</td>\n",
       "      <td>0.905694</td>\n",
       "      <td>-0.136837</td>\n",
       "      <td>0</td>\n",
       "    </tr>\n",
       "    <tr>\n",
       "      <th>4</th>\n",
       "      <td>0.342922</td>\n",
       "      <td>-0.293149</td>\n",
       "      <td>0.207674</td>\n",
       "      <td>-0.380187</td>\n",
       "      <td>0.426978</td>\n",
       "      <td>0.504924</td>\n",
       "      <td>-0.423659</td>\n",
       "      <td>0.295458</td>\n",
       "      <td>0.249928</td>\n",
       "      <td>-0.075753</td>\n",
       "      <td>0.152857</td>\n",
       "      <td>0.906069</td>\n",
       "      <td>0.579213</td>\n",
       "      <td>0</td>\n",
       "    </tr>\n",
       "  </tbody>\n",
       "</table>\n",
       "</div>"
      ],
      "text/plain": [
       "         X0        X1        X2        X3        X4        X5        X6  \\\n",
       "0  0.343047  0.223165  0.206136 -0.369866  1.054392 -0.377007  0.820035   \n",
       "1  0.212798 -0.291592  0.365211  1.116042 -2.370866  0.303065 -1.479142   \n",
       "2  0.341233  0.178677  0.213275 -0.370966  1.362984 -0.399135  0.767572   \n",
       "3  0.343047  0.067346  0.201722 -0.371535 -0.042716  0.223750  0.665885   \n",
       "4  0.342922 -0.293149  0.207674 -0.380187  0.426978  0.504924 -0.423659   \n",
       "\n",
       "         X7        X8        X9       X10       X11       X12  Class  \n",
       "0  0.285513  0.990423 -0.076128  0.097096  0.905694  0.634336      0  \n",
       "1  0.235741 -2.008449 -1.127815  0.168243 -1.926460 -0.562631      1  \n",
       "2  0.281165  0.979482 -0.070681  0.102504  0.911141 -0.350962      0  \n",
       "3  0.287181  0.992255 -0.076128  0.114219  0.905694 -0.136837      0  \n",
       "4  0.295458  0.249928 -0.075753  0.152857  0.906069  0.579213      0  "
      ]
     },
     "execution_count": 197,
     "metadata": {},
     "output_type": "execute_result"
    }
   ],
   "source": [
    "## transform SRP\n",
    "n_comp = 13\n",
    "\n",
    "srp = SparseRandomProjection(n_components=n_comp, random_state=SEED)\n",
    "\n",
    "X_aud_srp = srp.fit_transform(X_aud)\n",
    "\n",
    "df_Xaud_srp = pd.DataFrame(X_aud_srp, columns=['X%d'%i for i in range(n_comp)])\n",
    "df_Xaud_srp['Class'] = y_aud\n",
    "\n",
    "df_Xaud_srp.head()"
   ]
  },
  {
   "cell_type": "code",
   "execution_count": 401,
   "metadata": {},
   "outputs": [],
   "source": [
    "df_Xaud_srp.to_csv('./aud_train_srp.csv')"
   ]
  },
  {
   "cell_type": "markdown",
   "metadata": {},
   "source": [
    "## 2.4 Random Forest"
   ]
  },
  {
   "cell_type": "markdown",
   "metadata": {},
   "source": [
    "### 2.4.1 Image segmentation"
   ]
  },
  {
   "cell_type": "code",
   "execution_count": 332,
   "metadata": {},
   "outputs": [],
   "source": [
    "## compute rfc\n",
    "rfc = RandomForestClassifier(n_estimators=100, class_weight='balanced', random_state=SEED, n_jobs=-1)\n",
    "\n",
    "rfc.fit(X_ims, y_ims)\n",
    "rfc_fi_ims = rfc.feature_importances_"
   ]
  },
  {
   "cell_type": "code",
   "execution_count": 333,
   "metadata": {},
   "outputs": [
    {
     "data": {
      "image/png": "[encoded data removed]",
      "text/plain": [
       "<Figure size 460.8x460.8 with 1 Axes>"
      ]
     },
     "metadata": {
      "needs_background": "light"
     },
     "output_type": "display_data"
    }
   ],
   "source": [
    "feature_names = X_ims.columns\n",
    "fi = rfc_fi_ims\n",
    "indices = np.argsort(fi)\n",
    "thresh1 = 0.04\n",
    "thresh2 = 0.06\n",
    "sel1 = fi >= thresh1\n",
    "sel2 = fi >= thresh2\n",
    "per_sel1 = sum(fi[sel1])\n",
    "per_sel2 = sum(fi[sel2])\n",
    "n_sel1 = len(fi[sel1])\n",
    "n_sel2 = len(fi[sel2])\n",
    "\n",
    "plt.figure(figsize=(6.4,6.4))\n",
    "plt.title('Image Segmentation')\n",
    "plt.barh(range(len(indices)), fi[indices], color='b', align='center')\n",
    "plt.yticks(range(len(indices)), [feature_names[i] for i in indices])\n",
    "plt.xlabel('Relative Importance')\n",
    "\n",
    "plt.axvline(thresh1, ls='--',c='r')\n",
    "plt.text(thresh1, 2, ' {0:4.1f}% (n={1})'.format(per_sel1*100, n_sel1), size=12)\n",
    "plt.axvline(thresh2, ls='--',c='m')\n",
    "plt.text(thresh2, 6, ' {0:4.1f}%(n={1})'.format(per_sel2*100, n_sel2), size=12)\n",
    "\n",
    "plt.show()"
   ]
  },
  {
   "cell_type": "code",
   "execution_count": 250,
   "metadata": {},
   "outputs": [
    {
     "data": {
      "text/html": [
       "<div>\n",
       "<style scoped>\n",
       "    .dataframe tbody tr th:only-of-type {\n",
       "        vertical-align: middle;\n",
       "    }\n",
       "\n",
       "    .dataframe tbody tr th {\n",
       "        vertical-align: top;\n",
       "    }\n",
       "\n",
       "    .dataframe thead th {\n",
       "        text-align: right;\n",
       "    }\n",
       "</style>\n",
       "<table border=\"1\" class=\"dataframe\">\n",
       "  <thead>\n",
       "    <tr style=\"text-align: right;\">\n",
       "      <th></th>\n",
       "      <th>x2</th>\n",
       "      <th>x10</th>\n",
       "      <th>x11</th>\n",
       "      <th>x12</th>\n",
       "      <th>x13</th>\n",
       "      <th>x14</th>\n",
       "      <th>x15</th>\n",
       "      <th>x16</th>\n",
       "      <th>x17</th>\n",
       "      <th>x18</th>\n",
       "      <th>x19</th>\n",
       "      <th>Class</th>\n",
       "    </tr>\n",
       "  </thead>\n",
       "  <tbody>\n",
       "    <tr>\n",
       "      <th>0</th>\n",
       "      <td>-0.268261</td>\n",
       "      <td>-0.527290</td>\n",
       "      <td>-0.549991</td>\n",
       "      <td>-0.476663</td>\n",
       "      <td>-0.560219</td>\n",
       "      <td>0.222756</td>\n",
       "      <td>-0.094713</td>\n",
       "      <td>-0.062901</td>\n",
       "      <td>-0.505518</td>\n",
       "      <td>-0.022861</td>\n",
       "      <td>-0.488512</td>\n",
       "      <td>4</td>\n",
       "    </tr>\n",
       "    <tr>\n",
       "      <th>1</th>\n",
       "      <td>0.166738</td>\n",
       "      <td>-0.970747</td>\n",
       "      <td>-0.936970</td>\n",
       "      <td>-1.015392</td>\n",
       "      <td>-0.939178</td>\n",
       "      <td>1.095830</td>\n",
       "      <td>-1.094098</td>\n",
       "      <td>0.754861</td>\n",
       "      <td>-1.051850</td>\n",
       "      <td>-1.870205</td>\n",
       "      <td>0.882133</td>\n",
       "      <td>2</td>\n",
       "    </tr>\n",
       "    <tr>\n",
       "      <th>2</th>\n",
       "      <td>0.236338</td>\n",
       "      <td>-0.964924</td>\n",
       "      <td>-0.936970</td>\n",
       "      <td>-1.000073</td>\n",
       "      <td>-0.939178</td>\n",
       "      <td>1.038264</td>\n",
       "      <td>-1.025958</td>\n",
       "      <td>0.697137</td>\n",
       "      <td>-1.036314</td>\n",
       "      <td>1.050441</td>\n",
       "      <td>-0.473461</td>\n",
       "      <td>2</td>\n",
       "    </tr>\n",
       "    <tr>\n",
       "      <th>3</th>\n",
       "      <td>-0.216061</td>\n",
       "      <td>-0.842658</td>\n",
       "      <td>-0.873531</td>\n",
       "      <td>-0.806028</td>\n",
       "      <td>-0.847494</td>\n",
       "      <td>0.405046</td>\n",
       "      <td>-0.446769</td>\n",
       "      <td>0.350790</td>\n",
       "      <td>-0.839531</td>\n",
       "      <td>1.917863</td>\n",
       "      <td>-0.552476</td>\n",
       "      <td>2</td>\n",
       "    </tr>\n",
       "    <tr>\n",
       "      <th>4</th>\n",
       "      <td>-0.546660</td>\n",
       "      <td>-0.350683</td>\n",
       "      <td>-0.277203</td>\n",
       "      <td>-0.318363</td>\n",
       "      <td>-0.456311</td>\n",
       "      <td>0.951916</td>\n",
       "      <td>-0.071999</td>\n",
       "      <td>-0.832560</td>\n",
       "      <td>-0.344984</td>\n",
       "      <td>-0.025937</td>\n",
       "      <td>-0.177916</td>\n",
       "      <td>0</td>\n",
       "    </tr>\n",
       "  </tbody>\n",
       "</table>\n",
       "</div>"
      ],
      "text/plain": [
       "         x2       x10       x11       x12       x13       x14       x15  \\\n",
       "0 -0.268261 -0.527290 -0.549991 -0.476663 -0.560219  0.222756 -0.094713   \n",
       "1  0.166738 -0.970747 -0.936970 -1.015392 -0.939178  1.095830 -1.094098   \n",
       "2  0.236338 -0.964924 -0.936970 -1.000073 -0.939178  1.038264 -1.025958   \n",
       "3 -0.216061 -0.842658 -0.873531 -0.806028 -0.847494  0.405046 -0.446769   \n",
       "4 -0.546660 -0.350683 -0.277203 -0.318363 -0.456311  0.951916 -0.071999   \n",
       "\n",
       "        x16       x17       x18       x19  Class  \n",
       "0 -0.062901 -0.505518 -0.022861 -0.488512      4  \n",
       "1  0.754861 -1.051850 -1.870205  0.882133      2  \n",
       "2  0.697137 -1.036314  1.050441 -0.473461      2  \n",
       "3  0.350790 -0.839531  1.917863 -0.552476      2  \n",
       "4 -0.832560 -0.344984 -0.025937 -0.177916      0  "
      ]
     },
     "execution_count": 250,
     "metadata": {},
     "output_type": "execute_result"
    }
   ],
   "source": [
    "## transform rf\n",
    "df_Xims_rf = X_ims.iloc[:,sel1].copy()\n",
    "df_Xims_rf['Class'] = y_ims\n",
    "df_Xims_rf.head()"
   ]
  },
  {
   "cell_type": "code",
   "execution_count": 402,
   "metadata": {},
   "outputs": [],
   "source": [
    "df_Xims_rf.to_csv('./ims_train_rf.csv')"
   ]
  },
  {
   "cell_type": "markdown",
   "metadata": {},
   "source": [
    "### 2.4.2 Audit"
   ]
  },
  {
   "cell_type": "code",
   "execution_count": 371,
   "metadata": {},
   "outputs": [],
   "source": [
    "## audit\n",
    "rfc = RandomForestClassifier(n_estimators=100, class_weight='balanced', random_state=SEED, n_jobs=-1)\n",
    "\n",
    "rfc.fit(X_aud, y_aud)\n",
    "rfc_fi_aud = rfc.feature_importances_"
   ]
  },
  {
   "cell_type": "code",
   "execution_count": 372,
   "metadata": {},
   "outputs": [
    {
     "data": {
      "image/png": "[encoded data removed]",
      "text/plain": [
       "<Figure size 460.8x460.8 with 1 Axes>"
      ]
     },
     "metadata": {
      "needs_background": "light"
     },
     "output_type": "display_data"
    }
   ],
   "source": [
    "feature_names = ['X%d'%i for i in range(len(X_aud.columns))]\n",
    "fi = rfc_fi_aud\n",
    "indices = np.argsort(fi)\n",
    "thresh1 = 0.025\n",
    "thresh2 = 0.05\n",
    "sel1 = fi >= thresh1\n",
    "sel2 = fi >= thresh2\n",
    "per_sel1 = sum(fi[sel1])\n",
    "per_sel2 = sum(fi[sel2])\n",
    "n_sel1 = len(fi[sel1])\n",
    "n_sel2 = len(fi[sel2])\n",
    "\n",
    "plt.figure(figsize=(6.4,6.4))\n",
    "plt.title('Audit')\n",
    "plt.barh(range(len(indices)), fi[indices], color='b', align='center')\n",
    "plt.yticks(range(len(indices)), [feature_names[i] for i in indices])\n",
    "plt.xlabel('Relative Importance')\n",
    "\n",
    "plt.axvline(thresh1, ls='--',c='r')\n",
    "plt.text(thresh1, 2, ' {0:4.1f}% (n={1})'.format(per_sel1*100, n_sel1), size=12)\n",
    "plt.axvline(thresh2, ls='--',c='m')\n",
    "plt.text(thresh2, 6, ' {0:4.1f}%(n={1})'.format(per_sel2*100, n_sel2), size=12)\n",
    "\n",
    "plt.show()"
   ]
  },
  {
   "cell_type": "code",
   "execution_count": 301,
   "metadata": {},
   "outputs": [
    {
     "data": {
      "text/html": [
       "<div>\n",
       "<style scoped>\n",
       "    .dataframe tbody tr th:only-of-type {\n",
       "        vertical-align: middle;\n",
       "    }\n",
       "\n",
       "    .dataframe tbody tr th {\n",
       "        vertical-align: top;\n",
       "    }\n",
       "\n",
       "    .dataframe thead th {\n",
       "        text-align: right;\n",
       "    }\n",
       "</style>\n",
       "<table border=\"1\" class=\"dataframe\">\n",
       "  <thead>\n",
       "    <tr style=\"text-align: right;\">\n",
       "      <th></th>\n",
       "      <th>Risk_A</th>\n",
       "      <th>PARA_B</th>\n",
       "      <th>Risk_B</th>\n",
       "      <th>TOTAL</th>\n",
       "      <th>Money_Value</th>\n",
       "      <th>Score_MV</th>\n",
       "      <th>Risk_D</th>\n",
       "      <th>District_Loss</th>\n",
       "      <th>Score</th>\n",
       "      <th>Inherent_Risk</th>\n",
       "      <th>CONTROL_RISK</th>\n",
       "      <th>Audit_Risk</th>\n",
       "      <th>Class</th>\n",
       "    </tr>\n",
       "  </thead>\n",
       "  <tbody>\n",
       "    <tr>\n",
       "      <th>0</th>\n",
       "      <td>-0.393983</td>\n",
       "      <td>-0.211978</td>\n",
       "      <td>-0.209867</td>\n",
       "      <td>-0.254162</td>\n",
       "      <td>-0.212801</td>\n",
       "      <td>-0.571851</td>\n",
       "      <td>-0.207471</td>\n",
       "      <td>-0.412647</td>\n",
       "      <td>-0.822048</td>\n",
       "      <td>-0.297630</td>\n",
       "      <td>-0.38982</td>\n",
       "      <td>-0.178498</td>\n",
       "      <td>0</td>\n",
       "    </tr>\n",
       "    <tr>\n",
       "      <th>1</th>\n",
       "      <td>0.704714</td>\n",
       "      <td>0.170684</td>\n",
       "      <td>0.175425</td>\n",
       "      <td>0.242102</td>\n",
       "      <td>-0.004665</td>\n",
       "      <td>1.929391</td>\n",
       "      <td>0.000500</td>\n",
       "      <td>-0.412647</td>\n",
       "      <td>1.971589</td>\n",
       "      <td>0.156868</td>\n",
       "      <td>-0.38982</td>\n",
       "      <td>-0.049833</td>\n",
       "      <td>1</td>\n",
       "    </tr>\n",
       "    <tr>\n",
       "      <th>2</th>\n",
       "      <td>-0.367284</td>\n",
       "      <td>-0.198824</td>\n",
       "      <td>-0.205486</td>\n",
       "      <td>-0.232374</td>\n",
       "      <td>-0.204104</td>\n",
       "      <td>-0.571851</td>\n",
       "      <td>-0.204574</td>\n",
       "      <td>-0.412647</td>\n",
       "      <td>-0.822048</td>\n",
       "      <td>-0.291429</td>\n",
       "      <td>-0.38982</td>\n",
       "      <td>-0.176743</td>\n",
       "      <td>0</td>\n",
       "    </tr>\n",
       "    <tr>\n",
       "      <th>3</th>\n",
       "      <td>-0.231471</td>\n",
       "      <td>-0.216363</td>\n",
       "      <td>-0.211328</td>\n",
       "      <td>-0.231206</td>\n",
       "      <td>-0.212801</td>\n",
       "      <td>-0.571851</td>\n",
       "      <td>-0.207471</td>\n",
       "      <td>-0.412647</td>\n",
       "      <td>-0.589245</td>\n",
       "      <td>-0.288220</td>\n",
       "      <td>-0.38982</td>\n",
       "      <td>-0.175834</td>\n",
       "      <td>0</td>\n",
       "    </tr>\n",
       "    <tr>\n",
       "      <th>4</th>\n",
       "      <td>0.406969</td>\n",
       "      <td>-0.193044</td>\n",
       "      <td>-0.195794</td>\n",
       "      <td>-0.146194</td>\n",
       "      <td>-0.212201</td>\n",
       "      <td>-0.571851</td>\n",
       "      <td>-0.207271</td>\n",
       "      <td>-0.412647</td>\n",
       "      <td>0.341967</td>\n",
       "      <td>-0.239418</td>\n",
       "      <td>-0.38982</td>\n",
       "      <td>-0.162019</td>\n",
       "      <td>0</td>\n",
       "    </tr>\n",
       "  </tbody>\n",
       "</table>\n",
       "</div>"
      ],
      "text/plain": [
       "     Risk_A    PARA_B    Risk_B     TOTAL  Money_Value  Score_MV    Risk_D  \\\n",
       "0 -0.393983 -0.211978 -0.209867 -0.254162    -0.212801 -0.571851 -0.207471   \n",
       "1  0.704714  0.170684  0.175425  0.242102    -0.004665  1.929391  0.000500   \n",
       "2 -0.367284 -0.198824 -0.205486 -0.232374    -0.204104 -0.571851 -0.204574   \n",
       "3 -0.231471 -0.216363 -0.211328 -0.231206    -0.212801 -0.571851 -0.207471   \n",
       "4  0.406969 -0.193044 -0.195794 -0.146194    -0.212201 -0.571851 -0.207271   \n",
       "\n",
       "   District_Loss     Score  Inherent_Risk  CONTROL_RISK  Audit_Risk  Class  \n",
       "0      -0.412647 -0.822048      -0.297630      -0.38982   -0.178498      0  \n",
       "1      -0.412647  1.971589       0.156868      -0.38982   -0.049833      1  \n",
       "2      -0.412647 -0.822048      -0.291429      -0.38982   -0.176743      0  \n",
       "3      -0.412647 -0.589245      -0.288220      -0.38982   -0.175834      0  \n",
       "4      -0.412647  0.341967      -0.239418      -0.38982   -0.162019      0  "
      ]
     },
     "execution_count": 301,
     "metadata": {},
     "output_type": "execute_result"
    }
   ],
   "source": [
    "## transform rf\n",
    "df_Xaud_rf = X_aud.iloc[:,sel1].copy()\n",
    "df_Xaud_rf['Class'] = y_aud\n",
    "df_Xaud_rf.head()"
   ]
  },
  {
   "cell_type": "code",
   "execution_count": 403,
   "metadata": {},
   "outputs": [],
   "source": [
    "df_Xaud_rf.to_csv('./aud_train_rf.csv')"
   ]
  },
  {
   "cell_type": "markdown",
   "metadata": {},
   "source": [
    "## 3. Plot"
   ]
  },
  {
   "cell_type": "code",
   "execution_count": 389,
   "metadata": {},
   "outputs": [],
   "source": [
    "### Image Segmentation"
   ]
  },
  {
   "cell_type": "code",
   "execution_count": 417,
   "metadata": {},
   "outputs": [
    {
     "data": {
      "image/png": "[encoded data removed]",
      "text/plain": [
       "<Figure size 1584x360 with 4 Axes>"
      ]
     },
     "metadata": {
      "needs_background": "light"
     },
     "output_type": "display_data"
    }
   ],
   "source": [
    "fig = plt.figure(figsize=(22,5),constrained_layout=True)\n",
    "gs = gridspec.GridSpec(1, 4, figure=fig)\n",
    "\n",
    "ax1 = fig.add_subplot(gs[0, 0],title='PCA')\n",
    "n_comp = 8\n",
    "ratio = eighen_ratio_ims\n",
    "x = list(range(2, len(ratio)+2))\n",
    "ax1.plot(x, ratio,'o-')\n",
    "_ = ax1.set_xticks([0] + x[::2])\n",
    "ax1.set_xlabel('n_compoents')\n",
    "ax1.set_ylabel('eigen_ratio')\n",
    "ax1.axvline(n_comp, ls='--',c='r')\n",
    "ax1.text(n_comp,0.2,' sum(:{0})={1:4.1f}%'.format(n_comp, np.sum(ratio[:n_comp])*100))\n",
    "\n",
    "\n",
    "ax2 = fig.add_subplot(gs[0, 1], title='ICA')\n",
    "x = list(range(2, len(kurt_ims)+2))\n",
    "ax2.bar(x, kurt_ims)\n",
    "_ = ax2.set_xticks([0] + x[::2])\n",
    "ax2.set_xlabel('n_compoents')\n",
    "ax2.set_ylabel('kurtosis')\n",
    "ax2.axvline(12, ls='--',c='r')\n",
    "\n",
    "ax3 = fig.add_subplot(gs[0, 2],title='SRP')\n",
    "x = list(range(2, len(SRP_err_ims)+2))\n",
    "ax3.plot(x, SRP_err_ims, '-o')\n",
    "_ = ax3.set_xticks([0] + x[::2])\n",
    "ax3.set_xlabel('n_compoents')\n",
    "ax3.set_ylabel('Reconstruction Error')\n",
    "ax3.axvline(10, ls='--',c='r')\n",
    "\n",
    "ax4 = fig.add_subplot(gs[0, 3],title='RF')\n",
    "feature_names = X_ims.columns\n",
    "fi = rfc_fi_ims\n",
    "indices = np.argsort(fi)\n",
    "thresh1 = 0.04\n",
    "thresh2 = 0.06\n",
    "sel1 = fi >= thresh1\n",
    "sel2 = fi >= thresh2\n",
    "per_sel1 = sum(fi[sel1])\n",
    "per_sel2 = sum(fi[sel2])\n",
    "n_sel1 = len(fi[sel1])\n",
    "n_sel2 = len(fi[sel2])\n",
    "\n",
    "ax4.barh(range(len(indices)), fi[indices], color='b', align='center')\n",
    "ax4.set_yticks(range(len(indices)))\n",
    "ax4.set_yticklabels([feature_names[i] for i in indices])\n",
    "ax4.set_xlabel('Relative Importance')\n",
    "ax4.set_ylabel('Features')\n",
    "\n",
    "ax4.axvline(thresh1, ls='--',c='r')\n",
    "ax4.text(thresh1, 2, ' {0:4.1f}% (n={1})'.format(per_sel1*100, n_sel1), size=12)\n",
    "ax4.axvline(thresh2, ls='--',c='m')\n",
    "ax4.text(thresh2, 6, ' {0:4.1f}%(n={1})'.format(per_sel2*100, n_sel2), size=12)\n",
    "\n",
    "\n",
    "plt.show()"
   ]
  },
  {
   "cell_type": "markdown",
   "metadata": {},
   "source": [
    "### Audit"
   ]
  },
  {
   "cell_type": "code",
   "execution_count": 388,
   "metadata": {},
   "outputs": [
    {
     "data": {
      "image/png": "[encoded data removed]",
      "text/plain": [
       "<Figure size 1584x360 with 4 Axes>"
      ]
     },
     "metadata": {
      "needs_background": "light"
     },
     "output_type": "display_data"
    }
   ],
   "source": [
    "fig = plt.figure(figsize=(22,5),constrained_layout=True)\n",
    "gs = gridspec.GridSpec(1, 4, figure=fig)\n",
    "\n",
    "ax1 = fig.add_subplot(gs[0, 0],title='PCA')\n",
    "n_comp = 11\n",
    "ratio = eighen_ratio_aud\n",
    "x = list(range(2, len(ratio)+2))\n",
    "ax1.plot(x, ratio,'o-')\n",
    "_ = ax1.set_xticks([0] + x[::2])\n",
    "ax1.set_xlabel('n_compoents')\n",
    "ax1.set_ylabel('eigen_ratio')\n",
    "ax1.axvline(n_comp, ls='--',c='r')\n",
    "ax1.text(n_comp,0.2,' sum(:{0})={1:4.1f}%'.format(n_comp, np.sum(ratio[:n_comp])*100))\n",
    "\n",
    "ax2 = fig.add_subplot(gs[0, 1], title='ICA')\n",
    "x = list(range(2, len(kurt_aud)+2))\n",
    "ax2.bar(x, kurt_aud)\n",
    "_ = ax2.set_xticks([0] + x[::2])\n",
    "ax2.set_xlabel('n_compoents')\n",
    "ax2.set_ylabel('kurtosis')\n",
    "ax2.axvline(3, ls='--',c='r')\n",
    "\n",
    "ax3 = fig.add_subplot(gs[0, 2],title='SRP')\n",
    "x = list(range(2, len(SRP_err_aud)+2))\n",
    "ax3.plot(x, SRP_err_aud, '-o')\n",
    "_ = ax3.set_xticks([0] + x[::2])\n",
    "ax3.set_xlabel('n_compoents')\n",
    "ax3.set_ylabel('Reconstruction Error')\n",
    "ax3.axvline(13, ls='--',c='r')\n",
    "\n",
    "ax4 = fig.add_subplot(gs[0, 3],title='RF')\n",
    "feature_names = ['X%d'%i for i in range(len(X_aud.columns))]\n",
    "fi = rfc_fi_aud\n",
    "indices = np.argsort(fi)\n",
    "thresh1 = 0.025\n",
    "thresh2 = 0.05\n",
    "sel1 = fi >= thresh1\n",
    "sel2 = fi >= thresh2\n",
    "per_sel1 = sum(fi[sel1])\n",
    "per_sel2 = sum(fi[sel2])\n",
    "n_sel1 = len(fi[sel1])\n",
    "n_sel2 = len(fi[sel2])\n",
    "\n",
    "ax4.barh(range(len(indices)), fi[indices], color='b', align='center')\n",
    "ax4.set_yticks(range(len(indices)))\n",
    "ax4.set_yticklabels([feature_names[i] for i in indices])\n",
    "ax4.set_xlabel('Relative Importance')\n",
    "ax4.set_ylabel('Features')\n",
    "\n",
    "ax4.axvline(thresh1, ls='--',c='r')\n",
    "ax4.text(thresh1, 2, ' {0:4.1f}% (n={1})'.format(per_sel1*100, n_sel1), size=12)\n",
    "ax4.axvline(thresh2, ls='--',c='m')\n",
    "ax4.text(thresh2, 6, ' {0:4.1f}%(n={1})'.format(per_sel2*100, n_sel2), size=12)\n",
    "\n",
    "\n",
    "plt.show()"
   ]
  },
  {
   "cell_type": "code",
   "execution_count": null,
   "metadata": {},
   "outputs": [],
   "source": []
  }
 ],
 "metadata": {
  "kernelspec": {
   "display_name": "Python 3",
   "language": "python",
   "name": "python3"
  },
  "language_info": {
   "codemirror_mode": {
    "name": "ipython",
    "version": 3
   },
   "file_extension": ".py",
   "mimetype": "text/x-python",
   "name": "python",
   "nbconvert_exporter": "python",
   "pygments_lexer": "ipython3",
   "version": "3.6.9"
  }
 },
 "nbformat": 4,
 "nbformat_minor": 2
}

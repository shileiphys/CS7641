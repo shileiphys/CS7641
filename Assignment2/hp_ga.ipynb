{
 "cells": [
  {
   "cell_type": "code",
   "execution_count": 2,
   "metadata": {},
   "outputs": [],
   "source": [
    "import mlrose_hiive\n",
    "\n",
    "import numpy as np\n",
    "import pandas as pd\n",
    "from datetime import datetime\n",
    "import seaborn as sns\n",
    "\n",
    "import matplotlib.pyplot as plt\n",
    "%matplotlib inline\n"
   ]
  },
  {
   "cell_type": "markdown",
   "metadata": {},
   "source": [
    "## Genetic Algothm (ga)\n",
    "* iteration: 500\n",
    "* max_attempts: 50\n",
    "* population_size: 125\n",
    "* mutation_rates: 0.25"
   ]
  },
  {
   "cell_type": "code",
   "execution_count": 3,
   "metadata": {},
   "outputs": [],
   "source": [
    "alg_name = 'ga'"
   ]
  },
  {
   "cell_type": "markdown",
   "metadata": {},
   "source": [
    "### Flip Flop (input_size=25)"
   ]
  },
  {
   "cell_type": "code",
   "execution_count": 28,
   "metadata": {},
   "outputs": [
    {
     "name": "stdout",
     "output_type": "stream",
     "text": [
      "(208, 7) (554, 6)\n"
     ]
    }
   ],
   "source": [
    "fitness_name = 'flipflop'\n",
    "df_run_stats = pd.read_csv('./output/{0}/{1}__{0}__run_stats_df.csv'.format(fitness_name, alg_name))\n",
    "df_run_curves = pd.read_csv('./output/{0}/{1}__{0}__curves_df.csv'.format(fitness_name, alg_name))\n",
    "\n",
    "if ('Unnamed: 0' in df_run_stats.keys()):\n",
    "        df_run_stats.pop('Unnamed: 0')\n",
    "        \n",
    "if ('Unnamed: 0' in df_run_curves.keys()):\n",
    "        df_run_curves.pop('Unnamed: 0')\n",
    "        \n",
    "print(df_run_stats.shape, df_run_curves.shape)"
   ]
  },
  {
   "cell_type": "code",
   "execution_count": 29,
   "metadata": {},
   "outputs": [
    {
     "data": {
      "text/html": [
       "<div>\n",
       "<style scoped>\n",
       "    .dataframe tbody tr th:only-of-type {\n",
       "        vertical-align: middle;\n",
       "    }\n",
       "\n",
       "    .dataframe tbody tr th {\n",
       "        vertical-align: top;\n",
       "    }\n",
       "\n",
       "    .dataframe thead th {\n",
       "        text-align: right;\n",
       "    }\n",
       "</style>\n",
       "<table border=\"1\" class=\"dataframe\">\n",
       "  <thead>\n",
       "    <tr style=\"text-align: right;\">\n",
       "      <th></th>\n",
       "      <th>Iteration</th>\n",
       "      <th>Fitness</th>\n",
       "      <th>Time</th>\n",
       "      <th>State</th>\n",
       "      <th>Population Size</th>\n",
       "      <th>Mutation Rate</th>\n",
       "      <th>max_iters</th>\n",
       "    </tr>\n",
       "  </thead>\n",
       "  <tbody>\n",
       "    <tr>\n",
       "      <th>0</th>\n",
       "      <td>0</td>\n",
       "      <td>12.0</td>\n",
       "      <td>0.000179</td>\n",
       "      <td>[1, 1, 0, 0, 1, 1, 1, 1, 1, 0, 0, 1, 0, 1, 1, ...</td>\n",
       "      <td>50</td>\n",
       "      <td>0.05</td>\n",
       "      <td>2048</td>\n",
       "    </tr>\n",
       "    <tr>\n",
       "      <th>1</th>\n",
       "      <td>1</td>\n",
       "      <td>17.0</td>\n",
       "      <td>0.003039</td>\n",
       "      <td>[1.0, 0.0, 0.0, 1.0, 0.0, 1.0, 1.0, 0.0, 0.0, ...</td>\n",
       "      <td>50</td>\n",
       "      <td>0.05</td>\n",
       "      <td>2048</td>\n",
       "    </tr>\n",
       "    <tr>\n",
       "      <th>2</th>\n",
       "      <td>2</td>\n",
       "      <td>17.0</td>\n",
       "      <td>0.008855</td>\n",
       "      <td>[1.0, 0.0, 0.0, 1.0, 0.0, 1.0, 1.0, 0.0, 0.0, ...</td>\n",
       "      <td>50</td>\n",
       "      <td>0.05</td>\n",
       "      <td>2048</td>\n",
       "    </tr>\n",
       "    <tr>\n",
       "      <th>3</th>\n",
       "      <td>4</td>\n",
       "      <td>19.0</td>\n",
       "      <td>0.017049</td>\n",
       "      <td>[0.0, 1.0, 0.0, 1.0, 0.0, 1.0, 0.0, 1.0, 1.0, ...</td>\n",
       "      <td>50</td>\n",
       "      <td>0.05</td>\n",
       "      <td>2048</td>\n",
       "    </tr>\n",
       "    <tr>\n",
       "      <th>4</th>\n",
       "      <td>8</td>\n",
       "      <td>20.0</td>\n",
       "      <td>0.030164</td>\n",
       "      <td>[0.0, 1.0, 0.0, 1.0, 0.0, 0.0, 1.0, 0.0, 1.0, ...</td>\n",
       "      <td>50</td>\n",
       "      <td>0.05</td>\n",
       "      <td>2048</td>\n",
       "    </tr>\n",
       "  </tbody>\n",
       "</table>\n",
       "</div>"
      ],
      "text/plain": [
       "   Iteration  Fitness      Time  \\\n",
       "0          0     12.0  0.000179   \n",
       "1          1     17.0  0.003039   \n",
       "2          2     17.0  0.008855   \n",
       "3          4     19.0  0.017049   \n",
       "4          8     20.0  0.030164   \n",
       "\n",
       "                                               State  Population Size  \\\n",
       "0  [1, 1, 0, 0, 1, 1, 1, 1, 1, 0, 0, 1, 0, 1, 1, ...               50   \n",
       "1  [1.0, 0.0, 0.0, 1.0, 0.0, 1.0, 1.0, 0.0, 0.0, ...               50   \n",
       "2  [1.0, 0.0, 0.0, 1.0, 0.0, 1.0, 1.0, 0.0, 0.0, ...               50   \n",
       "3  [0.0, 1.0, 0.0, 1.0, 0.0, 1.0, 0.0, 1.0, 1.0, ...               50   \n",
       "4  [0.0, 1.0, 0.0, 1.0, 0.0, 0.0, 1.0, 0.0, 1.0, ...               50   \n",
       "\n",
       "   Mutation Rate  max_iters  \n",
       "0           0.05       2048  \n",
       "1           0.05       2048  \n",
       "2           0.05       2048  \n",
       "3           0.05       2048  \n",
       "4           0.05       2048  "
      ]
     },
     "execution_count": 29,
     "metadata": {},
     "output_type": "execute_result"
    }
   ],
   "source": [
    "df_run_stats.head()"
   ]
  },
  {
   "cell_type": "code",
   "execution_count": 30,
   "metadata": {},
   "outputs": [
    {
     "data": {
      "text/plain": [
       "<seaborn.axisgrid.FacetGrid at 0x7f2e274f07d0>"
      ]
     },
     "execution_count": 30,
     "metadata": {},
     "output_type": "execute_result"
    },
    {
     "data": {
      "image/png": "[encoded data removed]",
      "text/plain": [
       "<Figure size 921.6x576 with 16 Axes>"
      ]
     },
     "metadata": {
      "needs_background": "light"
     },
     "output_type": "display_data"
    }
   ],
   "source": [
    "grid = sns.FacetGrid(df_run_stats, row='Population Size', col='Mutation Rate', size=2, aspect=1.6)\n",
    "grid.map(sns.lineplot, 'Iteration', 'Fitness', alpha=.5, color='red', linewidth=2.5)\n",
    "grid.map(sns.scatterplot, 'Iteration', 'Fitness', alpha=.5)\n",
    "# grid.add_legend()"
   ]
  },
  {
   "cell_type": "code",
   "execution_count": 31,
   "metadata": {},
   "outputs": [
    {
     "name": "stdout",
     "output_type": "stream",
     "text": [
      "50 0.05 24.0\n",
      "50 0.1 20.0\n",
      "50 0.25 22.0\n",
      "50 0.5 21.0\n",
      "100 0.05 23.0\n",
      "100 0.1 24.0\n",
      "100 0.25 24.0\n",
      "100 0.5 23.0\n",
      "150 0.05 23.0\n",
      "150 0.1 24.0\n",
      "150 0.25 24.0\n",
      "150 0.5 23.0\n",
      "200 0.05 24.0\n",
      "200 0.1 24.0\n",
      "200 0.25 24.0\n",
      "200 0.5 24.0\n"
     ]
    }
   ],
   "source": [
    "for i in df_run_stats['Population Size'].unique():\n",
    "    df_pop = df_run_stats[df_run_stats['Population Size']==i]\n",
    "    for j in df_run_stats['Mutation Rate'].unique():\n",
    "        max_f = df_pop[df_pop['Mutation Rate']==j]['Fitness'].max()\n",
    "        print (i, j, max_f)"
   ]
  },
  {
   "cell_type": "code",
   "execution_count": 32,
   "metadata": {},
   "outputs": [
    {
     "data": {
      "text/html": [
       "<div>\n",
       "<style scoped>\n",
       "    .dataframe tbody tr th:only-of-type {\n",
       "        vertical-align: middle;\n",
       "    }\n",
       "\n",
       "    .dataframe tbody tr th {\n",
       "        vertical-align: top;\n",
       "    }\n",
       "\n",
       "    .dataframe thead th {\n",
       "        text-align: right;\n",
       "    }\n",
       "</style>\n",
       "<table border=\"1\" class=\"dataframe\">\n",
       "  <thead>\n",
       "    <tr style=\"text-align: right;\">\n",
       "      <th></th>\n",
       "      <th>Iteration</th>\n",
       "      <th>Time</th>\n",
       "      <th>Fitness</th>\n",
       "      <th>Population Size</th>\n",
       "      <th>Mutation Rate</th>\n",
       "      <th>max_iters</th>\n",
       "    </tr>\n",
       "  </thead>\n",
       "  <tbody>\n",
       "    <tr>\n",
       "      <th>0</th>\n",
       "      <td>0</td>\n",
       "      <td>0.000179</td>\n",
       "      <td>17.0</td>\n",
       "      <td>50</td>\n",
       "      <td>0.05</td>\n",
       "      <td>2048</td>\n",
       "    </tr>\n",
       "    <tr>\n",
       "      <th>1</th>\n",
       "      <td>1</td>\n",
       "      <td>0.003039</td>\n",
       "      <td>17.0</td>\n",
       "      <td>50</td>\n",
       "      <td>0.05</td>\n",
       "      <td>2048</td>\n",
       "    </tr>\n",
       "    <tr>\n",
       "      <th>2</th>\n",
       "      <td>2</td>\n",
       "      <td>0.008855</td>\n",
       "      <td>18.0</td>\n",
       "      <td>50</td>\n",
       "      <td>0.05</td>\n",
       "      <td>2048</td>\n",
       "    </tr>\n",
       "    <tr>\n",
       "      <th>3</th>\n",
       "      <td>3</td>\n",
       "      <td>0.014492</td>\n",
       "      <td>19.0</td>\n",
       "      <td>50</td>\n",
       "      <td>0.05</td>\n",
       "      <td>2048</td>\n",
       "    </tr>\n",
       "    <tr>\n",
       "      <th>4</th>\n",
       "      <td>4</td>\n",
       "      <td>0.017049</td>\n",
       "      <td>19.0</td>\n",
       "      <td>50</td>\n",
       "      <td>0.05</td>\n",
       "      <td>2048</td>\n",
       "    </tr>\n",
       "  </tbody>\n",
       "</table>\n",
       "</div>"
      ],
      "text/plain": [
       "   Iteration      Time  Fitness  Population Size  Mutation Rate  max_iters\n",
       "0          0  0.000179     17.0               50           0.05       2048\n",
       "1          1  0.003039     17.0               50           0.05       2048\n",
       "2          2  0.008855     18.0               50           0.05       2048\n",
       "3          3  0.014492     19.0               50           0.05       2048\n",
       "4          4  0.017049     19.0               50           0.05       2048"
      ]
     },
     "execution_count": 32,
     "metadata": {},
     "output_type": "execute_result"
    }
   ],
   "source": [
    "df_run_curves.head()"
   ]
  },
  {
   "cell_type": "code",
   "execution_count": 33,
   "metadata": {},
   "outputs": [
    {
     "data": {
      "text/plain": [
       "<seaborn.axisgrid.FacetGrid at 0x7f2e26b791d0>"
      ]
     },
     "execution_count": 33,
     "metadata": {},
     "output_type": "execute_result"
    },
    {
     "data": {
      "image/png": "[encoded data removed]",
      "text/plain": [
       "<Figure size 691.2x144 with 4 Axes>"
      ]
     },
     "metadata": {
      "needs_background": "light"
     },
     "output_type": "display_data"
    }
   ],
   "source": [
    "grid = sns.FacetGrid(df_run_curves, col='Population Size', size=2, aspect=1.2)\n",
    "grid.map(sns.lineplot, 'Iteration', 'Fitness', alpha=.5, color='red', linewidth=2.5)\n",
    "# grid.map(sns.scatterplot, 'Iteration', 'Fitness', alpha=.5)"
   ]
  },
  {
   "cell_type": "markdown",
   "metadata": {},
   "source": [
    "### Four Peaks (input_size=40)"
   ]
  },
  {
   "cell_type": "code",
   "execution_count": 55,
   "metadata": {},
   "outputs": [
    {
     "name": "stdout",
     "output_type": "stream",
     "text": [
      "(208, 7) (2327, 6)\n"
     ]
    }
   ],
   "source": [
    "fitness_name = '4peaks'\n",
    "df_run_stats = pd.read_csv('./output/{0}/{1}__{0}__run_stats_df.csv'.format(fitness_name, alg_name))\n",
    "df_run_curves = pd.read_csv('./output/{0}/{1}__{0}__curves_df.csv'.format(fitness_name, alg_name))\n",
    "\n",
    "if ('Unnamed: 0' in df_run_stats.keys()):\n",
    "        df_run_stats.pop('Unnamed: 0')\n",
    "        \n",
    "if ('Unnamed: 0' in df_run_curves.keys()):\n",
    "        df_run_curves.pop('Unnamed: 0')\n",
    "        \n",
    "print(df_run_stats.shape, df_run_curves.shape)"
   ]
  },
  {
   "cell_type": "code",
   "execution_count": 56,
   "metadata": {},
   "outputs": [
    {
     "data": {
      "text/html": [
       "<div>\n",
       "<style scoped>\n",
       "    .dataframe tbody tr th:only-of-type {\n",
       "        vertical-align: middle;\n",
       "    }\n",
       "\n",
       "    .dataframe tbody tr th {\n",
       "        vertical-align: top;\n",
       "    }\n",
       "\n",
       "    .dataframe thead th {\n",
       "        text-align: right;\n",
       "    }\n",
       "</style>\n",
       "<table border=\"1\" class=\"dataframe\">\n",
       "  <thead>\n",
       "    <tr style=\"text-align: right;\">\n",
       "      <th></th>\n",
       "      <th>Iteration</th>\n",
       "      <th>Fitness</th>\n",
       "      <th>Time</th>\n",
       "      <th>State</th>\n",
       "      <th>Population Size</th>\n",
       "      <th>Mutation Rate</th>\n",
       "      <th>max_iters</th>\n",
       "    </tr>\n",
       "  </thead>\n",
       "  <tbody>\n",
       "    <tr>\n",
       "      <th>0</th>\n",
       "      <td>0</td>\n",
       "      <td>2.0</td>\n",
       "      <td>0.001230</td>\n",
       "      <td>[1, 1, 0, 0, 1, 1, 1, 1, 1, 0, 0, 1, 0, 1, 1, ...</td>\n",
       "      <td>50</td>\n",
       "      <td>0.05</td>\n",
       "      <td>2048</td>\n",
       "    </tr>\n",
       "    <tr>\n",
       "      <th>1</th>\n",
       "      <td>1</td>\n",
       "      <td>9.0</td>\n",
       "      <td>0.005077</td>\n",
       "      <td>[0, 1, 1, 1, 0, 1, 0, 1, 0, 0, 0, 1, 1, 0, 0, ...</td>\n",
       "      <td>50</td>\n",
       "      <td>0.05</td>\n",
       "      <td>2048</td>\n",
       "    </tr>\n",
       "    <tr>\n",
       "      <th>2</th>\n",
       "      <td>2</td>\n",
       "      <td>9.0</td>\n",
       "      <td>0.012310</td>\n",
       "      <td>[0, 1, 1, 1, 0, 1, 0, 1, 0, 0, 0, 1, 1, 0, 0, ...</td>\n",
       "      <td>50</td>\n",
       "      <td>0.05</td>\n",
       "      <td>2048</td>\n",
       "    </tr>\n",
       "    <tr>\n",
       "      <th>3</th>\n",
       "      <td>4</td>\n",
       "      <td>12.0</td>\n",
       "      <td>0.022987</td>\n",
       "      <td>[0, 1, 1, 1, 1, 1, 1, 0, 0, 0, 0, 1, 0, 1, 0, ...</td>\n",
       "      <td>50</td>\n",
       "      <td>0.05</td>\n",
       "      <td>2048</td>\n",
       "    </tr>\n",
       "    <tr>\n",
       "      <th>4</th>\n",
       "      <td>8</td>\n",
       "      <td>13.0</td>\n",
       "      <td>0.041283</td>\n",
       "      <td>[1, 1, 0, 1, 1, 1, 1, 0, 0, 1, 0, 1, 0, 1, 0, ...</td>\n",
       "      <td>50</td>\n",
       "      <td>0.05</td>\n",
       "      <td>2048</td>\n",
       "    </tr>\n",
       "  </tbody>\n",
       "</table>\n",
       "</div>"
      ],
      "text/plain": [
       "   Iteration  Fitness      Time  \\\n",
       "0          0      2.0  0.001230   \n",
       "1          1      9.0  0.005077   \n",
       "2          2      9.0  0.012310   \n",
       "3          4     12.0  0.022987   \n",
       "4          8     13.0  0.041283   \n",
       "\n",
       "                                               State  Population Size  \\\n",
       "0  [1, 1, 0, 0, 1, 1, 1, 1, 1, 0, 0, 1, 0, 1, 1, ...               50   \n",
       "1  [0, 1, 1, 1, 0, 1, 0, 1, 0, 0, 0, 1, 1, 0, 0, ...               50   \n",
       "2  [0, 1, 1, 1, 0, 1, 0, 1, 0, 0, 0, 1, 1, 0, 0, ...               50   \n",
       "3  [0, 1, 1, 1, 1, 1, 1, 0, 0, 0, 0, 1, 0, 1, 0, ...               50   \n",
       "4  [1, 1, 0, 1, 1, 1, 1, 0, 0, 1, 0, 1, 0, 1, 0, ...               50   \n",
       "\n",
       "   Mutation Rate  max_iters  \n",
       "0           0.05       2048  \n",
       "1           0.05       2048  \n",
       "2           0.05       2048  \n",
       "3           0.05       2048  \n",
       "4           0.05       2048  "
      ]
     },
     "execution_count": 56,
     "metadata": {},
     "output_type": "execute_result"
    }
   ],
   "source": [
    "df_run_stats.head()"
   ]
  },
  {
   "cell_type": "code",
   "execution_count": 36,
   "metadata": {},
   "outputs": [
    {
     "data": {
      "text/plain": [
       "<seaborn.axisgrid.FacetGrid at 0x7f2e26893f10>"
      ]
     },
     "execution_count": 36,
     "metadata": {},
     "output_type": "execute_result"
    },
    {
     "data": {
      "image/png": "[encoded data removed]",
      "text/plain": [
       "<Figure size 921.6x576 with 16 Axes>"
      ]
     },
     "metadata": {
      "needs_background": "light"
     },
     "output_type": "display_data"
    }
   ],
   "source": [
    "grid = sns.FacetGrid(df_run_stats, row='Population Size', col='Mutation Rate', size=2, aspect=1.6)\n",
    "grid.map(sns.lineplot, 'Iteration', 'Fitness', alpha=.5, color='red', linewidth=2.5)\n",
    "grid.map(sns.scatterplot, 'Iteration', 'Fitness', alpha=.5)\n",
    "# grid.add_legend()"
   ]
  },
  {
   "cell_type": "code",
   "execution_count": 57,
   "metadata": {},
   "outputs": [
    {
     "name": "stdout",
     "output_type": "stream",
     "text": [
      "50 0.05 18.0\n",
      "50 0.1 24.0\n",
      "50 0.25 50.0\n",
      "50 0.5 50.0\n",
      "100 0.05 78.0\n",
      "100 0.1 91.0\n",
      "100 0.25 50.0\n",
      "100 0.5 91.0\n",
      "150 0.05 86.0\n",
      "150 0.1 91.0\n",
      "150 0.25 91.0\n",
      "150 0.5 91.0\n",
      "200 0.05 91.0\n",
      "200 0.1 91.0\n",
      "200 0.25 91.0\n",
      "200 0.5 91.0\n"
     ]
    }
   ],
   "source": [
    "for i in df_run_stats['Population Size'].unique():\n",
    "    df_pop = df_run_stats[df_run_stats['Population Size']==i]\n",
    "    for j in df_run_stats['Mutation Rate'].unique():\n",
    "        max_f = df_pop[df_pop['Mutation Rate']==j]['Fitness'].max()\n",
    "        print (i, j, max_f)"
   ]
  },
  {
   "cell_type": "code",
   "execution_count": 38,
   "metadata": {},
   "outputs": [
    {
     "data": {
      "text/html": [
       "<div>\n",
       "<style scoped>\n",
       "    .dataframe tbody tr th:only-of-type {\n",
       "        vertical-align: middle;\n",
       "    }\n",
       "\n",
       "    .dataframe tbody tr th {\n",
       "        vertical-align: top;\n",
       "    }\n",
       "\n",
       "    .dataframe thead th {\n",
       "        text-align: right;\n",
       "    }\n",
       "</style>\n",
       "<table border=\"1\" class=\"dataframe\">\n",
       "  <thead>\n",
       "    <tr style=\"text-align: right;\">\n",
       "      <th></th>\n",
       "      <th>Iteration</th>\n",
       "      <th>Time</th>\n",
       "      <th>Fitness</th>\n",
       "      <th>Population Size</th>\n",
       "      <th>Mutation Rate</th>\n",
       "      <th>max_iters</th>\n",
       "    </tr>\n",
       "  </thead>\n",
       "  <tbody>\n",
       "    <tr>\n",
       "      <th>0</th>\n",
       "      <td>0</td>\n",
       "      <td>0.001233</td>\n",
       "      <td>7.0</td>\n",
       "      <td>50</td>\n",
       "      <td>0.05</td>\n",
       "      <td>2048</td>\n",
       "    </tr>\n",
       "    <tr>\n",
       "      <th>1</th>\n",
       "      <td>1</td>\n",
       "      <td>0.004680</td>\n",
       "      <td>8.0</td>\n",
       "      <td>50</td>\n",
       "      <td>0.05</td>\n",
       "      <td>2048</td>\n",
       "    </tr>\n",
       "    <tr>\n",
       "      <th>2</th>\n",
       "      <td>2</td>\n",
       "      <td>0.012443</td>\n",
       "      <td>8.0</td>\n",
       "      <td>50</td>\n",
       "      <td>0.05</td>\n",
       "      <td>2048</td>\n",
       "    </tr>\n",
       "    <tr>\n",
       "      <th>3</th>\n",
       "      <td>3</td>\n",
       "      <td>0.019784</td>\n",
       "      <td>32.0</td>\n",
       "      <td>50</td>\n",
       "      <td>0.05</td>\n",
       "      <td>2048</td>\n",
       "    </tr>\n",
       "    <tr>\n",
       "      <th>4</th>\n",
       "      <td>4</td>\n",
       "      <td>0.023257</td>\n",
       "      <td>32.0</td>\n",
       "      <td>50</td>\n",
       "      <td>0.05</td>\n",
       "      <td>2048</td>\n",
       "    </tr>\n",
       "  </tbody>\n",
       "</table>\n",
       "</div>"
      ],
      "text/plain": [
       "   Iteration      Time  Fitness  Population Size  Mutation Rate  max_iters\n",
       "0          0  0.001233      7.0               50           0.05       2048\n",
       "1          1  0.004680      8.0               50           0.05       2048\n",
       "2          2  0.012443      8.0               50           0.05       2048\n",
       "3          3  0.019784     32.0               50           0.05       2048\n",
       "4          4  0.023257     32.0               50           0.05       2048"
      ]
     },
     "execution_count": 38,
     "metadata": {},
     "output_type": "execute_result"
    }
   ],
   "source": [
    "df_run_curves.head()"
   ]
  },
  {
   "cell_type": "code",
   "execution_count": 39,
   "metadata": {},
   "outputs": [
    {
     "data": {
      "text/plain": [
       "<seaborn.axisgrid.FacetGrid at 0x7f2e2608ffd0>"
      ]
     },
     "execution_count": 39,
     "metadata": {},
     "output_type": "execute_result"
    },
    {
     "data": {
      "image/png": "[encoded data removed]",
      "text/plain": [
       "<Figure size 691.2x144 with 4 Axes>"
      ]
     },
     "metadata": {
      "needs_background": "light"
     },
     "output_type": "display_data"
    }
   ],
   "source": [
    "grid = sns.FacetGrid(df_run_curves, col='Population Size', size=2, aspect=1.2)\n",
    "grid.map(sns.lineplot, 'Iteration', 'Fitness', alpha=.5, color='red', linewidth=2.5)\n",
    "# grid.map(sns.scatterplot, 'Iteration', 'Fitness', alpha=.5)"
   ]
  },
  {
   "cell_type": "markdown",
   "metadata": {},
   "source": [
    "### Knapsack (input_size=25)\n",
    "* iteration_list=2 ** np.arange(12),\n",
    "* max_attempts=100,\n",
    "* population_sizes=[50, 100, 200, 500],\n",
    "* mutation_rates=[0.05, 0.1, 0.25, 0.5])"
   ]
  },
  {
   "cell_type": "code",
   "execution_count": 67,
   "metadata": {},
   "outputs": [
    {
     "name": "stdout",
     "output_type": "stream",
     "text": [
      "(208, 7) (2440, 6)\n"
     ]
    }
   ],
   "source": [
    "fitness_name = 'knapsack'\n",
    "df_run_stats = pd.read_csv('./output/{0}/{1}__{0}__run_stats_df.csv'.format(fitness_name, alg_name))\n",
    "df_run_curves = pd.read_csv('./output/{0}/{1}__{0}__curves_df.csv'.format(fitness_name, alg_name))\n",
    "\n",
    "if ('Unnamed: 0' in df_run_stats.keys()):\n",
    "        df_run_stats.pop('Unnamed: 0')\n",
    "        \n",
    "if ('Unnamed: 0' in df_run_curves.keys()):\n",
    "        df_run_curves.pop('Unnamed: 0')\n",
    "        \n",
    "print(df_run_stats.shape, df_run_curves.shape)"
   ]
  },
  {
   "cell_type": "code",
   "execution_count": 68,
   "metadata": {},
   "outputs": [
    {
     "data": {
      "text/html": [
       "<div>\n",
       "<style scoped>\n",
       "    .dataframe tbody tr th:only-of-type {\n",
       "        vertical-align: middle;\n",
       "    }\n",
       "\n",
       "    .dataframe tbody tr th {\n",
       "        vertical-align: top;\n",
       "    }\n",
       "\n",
       "    .dataframe thead th {\n",
       "        text-align: right;\n",
       "    }\n",
       "</style>\n",
       "<table border=\"1\" class=\"dataframe\">\n",
       "  <thead>\n",
       "    <tr style=\"text-align: right;\">\n",
       "      <th></th>\n",
       "      <th>Iteration</th>\n",
       "      <th>Fitness</th>\n",
       "      <th>Time</th>\n",
       "      <th>State</th>\n",
       "      <th>Population Size</th>\n",
       "      <th>Mutation Rate</th>\n",
       "      <th>max_iters</th>\n",
       "    </tr>\n",
       "  </thead>\n",
       "  <tbody>\n",
       "    <tr>\n",
       "      <th>0</th>\n",
       "      <td>0</td>\n",
       "      <td>437.0</td>\n",
       "      <td>0.001873</td>\n",
       "      <td>[1, 1, 0, 0, 1, 1, 1, 1, 1, 0, 0, 1, 0, 1, 1, ...</td>\n",
       "      <td>50</td>\n",
       "      <td>0.05</td>\n",
       "      <td>2048</td>\n",
       "    </tr>\n",
       "    <tr>\n",
       "      <th>1</th>\n",
       "      <td>1</td>\n",
       "      <td>468.0</td>\n",
       "      <td>0.007391</td>\n",
       "      <td>[0, 0, 0, 0, 0, 0, 1, 0, 1, 1, 1, 0, 1, 1, 0, ...</td>\n",
       "      <td>50</td>\n",
       "      <td>0.05</td>\n",
       "      <td>2048</td>\n",
       "    </tr>\n",
       "    <tr>\n",
       "      <th>2</th>\n",
       "      <td>2</td>\n",
       "      <td>483.0</td>\n",
       "      <td>0.016910</td>\n",
       "      <td>[0, 1, 0, 1, 0, 0, 0, 1, 1, 1, 1, 1, 1, 1, 1, ...</td>\n",
       "      <td>50</td>\n",
       "      <td>0.05</td>\n",
       "      <td>2048</td>\n",
       "    </tr>\n",
       "    <tr>\n",
       "      <th>3</th>\n",
       "      <td>4</td>\n",
       "      <td>512.0</td>\n",
       "      <td>0.031435</td>\n",
       "      <td>[1, 1, 0, 1, 1, 0, 0, 1, 1, 1, 1, 1, 1, 0, 1, ...</td>\n",
       "      <td>50</td>\n",
       "      <td>0.05</td>\n",
       "      <td>2048</td>\n",
       "    </tr>\n",
       "    <tr>\n",
       "      <th>4</th>\n",
       "      <td>8</td>\n",
       "      <td>524.0</td>\n",
       "      <td>0.056627</td>\n",
       "      <td>[1, 1, 1, 1, 1, 0, 0, 0, 1, 0, 1, 1, 1, 0, 1, ...</td>\n",
       "      <td>50</td>\n",
       "      <td>0.05</td>\n",
       "      <td>2048</td>\n",
       "    </tr>\n",
       "  </tbody>\n",
       "</table>\n",
       "</div>"
      ],
      "text/plain": [
       "   Iteration  Fitness      Time  \\\n",
       "0          0    437.0  0.001873   \n",
       "1          1    468.0  0.007391   \n",
       "2          2    483.0  0.016910   \n",
       "3          4    512.0  0.031435   \n",
       "4          8    524.0  0.056627   \n",
       "\n",
       "                                               State  Population Size  \\\n",
       "0  [1, 1, 0, 0, 1, 1, 1, 1, 1, 0, 0, 1, 0, 1, 1, ...               50   \n",
       "1  [0, 0, 0, 0, 0, 0, 1, 0, 1, 1, 1, 0, 1, 1, 0, ...               50   \n",
       "2  [0, 1, 0, 1, 0, 0, 0, 1, 1, 1, 1, 1, 1, 1, 1, ...               50   \n",
       "3  [1, 1, 0, 1, 1, 0, 0, 1, 1, 1, 1, 1, 1, 0, 1, ...               50   \n",
       "4  [1, 1, 1, 1, 1, 0, 0, 0, 1, 0, 1, 1, 1, 0, 1, ...               50   \n",
       "\n",
       "   Mutation Rate  max_iters  \n",
       "0           0.05       2048  \n",
       "1           0.05       2048  \n",
       "2           0.05       2048  \n",
       "3           0.05       2048  \n",
       "4           0.05       2048  "
      ]
     },
     "execution_count": 68,
     "metadata": {},
     "output_type": "execute_result"
    }
   ],
   "source": [
    "df_run_stats.head()"
   ]
  },
  {
   "cell_type": "code",
   "execution_count": 65,
   "metadata": {},
   "outputs": [
    {
     "data": {
      "text/plain": [
       "<seaborn.axisgrid.FacetGrid at 0x7f2e23809ed0>"
      ]
     },
     "execution_count": 65,
     "metadata": {},
     "output_type": "execute_result"
    },
    {
     "data": {
      "image/png": "[encoded data removed]",
      "text/plain": [
       "<Figure size 921.6x576 with 16 Axes>"
      ]
     },
     "metadata": {
      "needs_background": "light"
     },
     "output_type": "display_data"
    }
   ],
   "source": [
    "grid = sns.FacetGrid(df_run_stats, row='Population Size', col='Mutation Rate', size=2, aspect=1.6)\n",
    "grid.map(sns.lineplot, 'Iteration', 'Fitness', alpha=.5, color='red', linewidth=2.5)\n",
    "grid.map(sns.scatterplot, 'Iteration', 'Fitness', alpha=.5)\n",
    "# grid.add_legend()"
   ]
  },
  {
   "cell_type": "code",
   "execution_count": 69,
   "metadata": {},
   "outputs": [
    {
     "name": "stdout",
     "output_type": "stream",
     "text": [
      "50 0.05 650.0\n",
      "50 0.1 651.0\n",
      "50 0.25 671.0\n",
      "50 0.5 671.0\n",
      "100 0.05 689.0\n",
      "100 0.1 682.0\n",
      "100 0.25 687.0\n",
      "100 0.5 684.0\n",
      "150 0.05 687.0\n",
      "150 0.1 685.0\n",
      "150 0.25 690.0\n",
      "150 0.5 691.0\n",
      "200 0.05 691.0\n",
      "200 0.1 691.0\n",
      "200 0.25 688.0\n",
      "200 0.5 690.0\n"
     ]
    }
   ],
   "source": [
    "for i in df_run_stats['Population Size'].unique():\n",
    "    df_pop = df_run_stats[df_run_stats['Population Size']==i]\n",
    "    for j in df_run_stats['Mutation Rate'].unique():\n",
    "        max_f = df_pop[df_pop['Mutation Rate']==j]['Fitness'].max()\n",
    "        print (i, j, max_f)"
   ]
  },
  {
   "cell_type": "code",
   "execution_count": 70,
   "metadata": {},
   "outputs": [
    {
     "data": {
      "text/html": [
       "<div>\n",
       "<style scoped>\n",
       "    .dataframe tbody tr th:only-of-type {\n",
       "        vertical-align: middle;\n",
       "    }\n",
       "\n",
       "    .dataframe tbody tr th {\n",
       "        vertical-align: top;\n",
       "    }\n",
       "\n",
       "    .dataframe thead th {\n",
       "        text-align: right;\n",
       "    }\n",
       "</style>\n",
       "<table border=\"1\" class=\"dataframe\">\n",
       "  <thead>\n",
       "    <tr style=\"text-align: right;\">\n",
       "      <th></th>\n",
       "      <th>Iteration</th>\n",
       "      <th>Time</th>\n",
       "      <th>Fitness</th>\n",
       "      <th>Population Size</th>\n",
       "      <th>Mutation Rate</th>\n",
       "      <th>max_iters</th>\n",
       "    </tr>\n",
       "  </thead>\n",
       "  <tbody>\n",
       "    <tr>\n",
       "      <th>0</th>\n",
       "      <td>0</td>\n",
       "      <td>0.001873</td>\n",
       "      <td>468.0</td>\n",
       "      <td>50</td>\n",
       "      <td>0.05</td>\n",
       "      <td>2048</td>\n",
       "    </tr>\n",
       "    <tr>\n",
       "      <th>1</th>\n",
       "      <td>1</td>\n",
       "      <td>0.007391</td>\n",
       "      <td>483.0</td>\n",
       "      <td>50</td>\n",
       "      <td>0.05</td>\n",
       "      <td>2048</td>\n",
       "    </tr>\n",
       "    <tr>\n",
       "      <th>2</th>\n",
       "      <td>2</td>\n",
       "      <td>0.016910</td>\n",
       "      <td>483.0</td>\n",
       "      <td>50</td>\n",
       "      <td>0.05</td>\n",
       "      <td>2048</td>\n",
       "    </tr>\n",
       "    <tr>\n",
       "      <th>3</th>\n",
       "      <td>3</td>\n",
       "      <td>0.025955</td>\n",
       "      <td>512.0</td>\n",
       "      <td>50</td>\n",
       "      <td>0.05</td>\n",
       "      <td>2048</td>\n",
       "    </tr>\n",
       "    <tr>\n",
       "      <th>4</th>\n",
       "      <td>4</td>\n",
       "      <td>0.031435</td>\n",
       "      <td>512.0</td>\n",
       "      <td>50</td>\n",
       "      <td>0.05</td>\n",
       "      <td>2048</td>\n",
       "    </tr>\n",
       "  </tbody>\n",
       "</table>\n",
       "</div>"
      ],
      "text/plain": [
       "   Iteration      Time  Fitness  Population Size  Mutation Rate  max_iters\n",
       "0          0  0.001873    468.0               50           0.05       2048\n",
       "1          1  0.007391    483.0               50           0.05       2048\n",
       "2          2  0.016910    483.0               50           0.05       2048\n",
       "3          3  0.025955    512.0               50           0.05       2048\n",
       "4          4  0.031435    512.0               50           0.05       2048"
      ]
     },
     "execution_count": 70,
     "metadata": {},
     "output_type": "execute_result"
    }
   ],
   "source": [
    "df_run_curves.head()"
   ]
  },
  {
   "cell_type": "code",
   "execution_count": 36,
   "metadata": {},
   "outputs": [
    {
     "data": {
      "text/plain": [
       "<seaborn.axisgrid.FacetGrid at 0x7fb1461e4f10>"
      ]
     },
     "execution_count": 36,
     "metadata": {},
     "output_type": "execute_result"
    },
    {
     "data": {
      "image/png": "[encoded data removed]",
      "text/plain": [
       "<Figure size 691.2x144 with 4 Axes>"
      ]
     },
     "metadata": {
      "needs_background": "light"
     },
     "output_type": "display_data"
    }
   ],
   "source": [
    "grid = sns.FacetGrid(df_run_curves, col='Population Size', size=2, aspect=1.2)\n",
    "grid.map(sns.lineplot, 'Iteration', 'Fitness', alpha=.5, color='red', linewidth=2.5)\n",
    "# grid.map(sns.scatterplot, 'Iteration', 'Fitness', alpha=.5)"
   ]
  },
  {
   "cell_type": "code",
   "execution_count": null,
   "metadata": {},
   "outputs": [],
   "source": []
  },
  {
   "cell_type": "code",
   "execution_count": null,
   "metadata": {},
   "outputs": [],
   "source": []
  }
 ],
 "metadata": {
  "kernelspec": {
   "display_name": "Python 3",
   "language": "python",
   "name": "python3"
  },
  "language_info": {
   "codemirror_mode": {
    "name": "ipython",
    "version": 3
   },
   "file_extension": ".py",
   "mimetype": "text/x-python",
   "name": "python",
   "nbconvert_exporter": "python",
   "pygments_lexer": "ipython3",
   "version": "3.7.4"
  }
 },
 "nbformat": 4,
 "nbformat_minor": 2
}

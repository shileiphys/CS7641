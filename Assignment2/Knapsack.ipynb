{
 "cells": [
  {
   "cell_type": "markdown",
   "metadata": {},
   "source": [
    "# Knapsack"
   ]
  },
  {
   "cell_type": "code",
   "execution_count": 1,
   "metadata": {},
   "outputs": [],
   "source": [
    "title = 'Knapsack'"
   ]
  },
  {
   "cell_type": "code",
   "execution_count": 2,
   "metadata": {},
   "outputs": [],
   "source": [
    "import mlrose_hiive\n",
    "\n",
    "import numpy as np\n",
    "import pandas as pd\n",
    "from datetime import datetime\n",
    "import seaborn as sns\n",
    "\n",
    "import matplotlib.pyplot as plt\n",
    "%matplotlib inline"
   ]
  },
  {
   "cell_type": "code",
   "execution_count": 5,
   "metadata": {},
   "outputs": [
    {
     "name": "stdout",
     "output_type": "stream",
     "text": [
      "3\n"
     ]
    }
   ],
   "source": [
    "eval_count = 0\n",
    ">>> weights = [10, 5, 2, 8, 15]\n",
    ">>> values = [1, 2, 3, 4, 5]\n",
    ">>> max_weight_pct = 0.6\n",
    ">>> fitness = mlrose.Knapsack(weights, values, max_weight_pct)\n",
    ">>> state = np.array([1, 0, 2, 1, 0])\n",
    ">>> fitness.evaluate(state)\n",
    "\n",
    "def flip_flop(state):\n",
    "    global eval_count\n",
    "    \n",
    "    fitness = mlrose_hiive.FlipFlop()\n",
    "    \n",
    "    eval_count += 1\n",
    "    \n",
    "    return fitness.evaluate(state)\n",
    "\n",
    "ffn_flipflop = mlrose_hiive.CustomFitness(flip_flop)\n",
    "\n",
    "print(flip_flop(np.array([0, 1, 0, 1, 1, 1, 1])))"
   ]
  },
  {
   "cell_type": "code",
   "execution_count": 7,
   "metadata": {},
   "outputs": [],
   "source": [
    "np.random.seed(1)\n",
    "input_size = np.arange(6, 20, 4, dtype=np.int)\n",
    "\n",
    "eval_cnt_df = pd.DataFrame()\n",
    "eval_cnt_df['input_size'] = input_size\n",
    "eval_cnt_rhc = []\n",
    "eval_cnt_sa = []\n",
    "eval_cnt_ga = []\n",
    "eval_cnt_mimic = []\n",
    "\n",
    "eval_time_df = pd.DataFrame()\n",
    "eval_time_df['input_size'] = input_size\n",
    "eval_time_rhc = []\n",
    "eval_time_sa = []\n",
    "eval_time_ga = []\n",
    "eval_time_mimic = []\n",
    "\n",
    "fitness_curve = {}\n",
    "\n",
    "schedule=mlrose_hiive.ExpDecay() ## Simulated Annealing\n",
    "# schedule=mlrose_hiive.ExpDecay(exp_const=.001, init_temp=2)\n",
    "\n",
    "for n in input_size:\n",
    "    ## initialize problem\n",
    "    init_state = np.random.randint(2, size=n)\n",
    "    problem = mlrose_hiive.DiscreteOpt(length=len(init_state), fitness_fn=ffn_flipflop, \n",
    "                                 maximize=True)\n",
    "    \n",
    "    ## Random Hill Climbing\n",
    "    eval_count = 0\n",
    "    begin = datetime.now()\n",
    "    rhc_state, rhc_fitness, rhc_curve = mlrose_hiive.random_hill_climb(problem, \n",
    "                                                                 max_attempts=20, \n",
    "                                                                 max_iters=10000,\n",
    "                                                                 restarts=0,\n",
    "                                                                 init_state=init_state,\n",
    "                                                                 curve=True)\n",
    "    end = datetime.now()\n",
    "    \n",
    "    dt = end - begin\n",
    "    eval_time_rhc.append(dt.total_seconds())\n",
    "    eval_cnt_rhc.append(eval_count)\n",
    "\n",
    "    ## Simulated Annealing\n",
    "    eval_count = 0\n",
    "    begin = datetime.now()\n",
    "    sa_state, sa_fitness, sa_curve = mlrose_hiive.simulated_annealing(problem,\n",
    "                                                                   schedule=schedule,\n",
    "                                                                   max_attempts=40, \n",
    "                                                                   max_iters=10000, \n",
    "                                                                   init_state=init_state,\n",
    "                                                                   curve=True)\n",
    "    end = datetime.now()\n",
    "    \n",
    "    dt = end - begin\n",
    "    eval_time_sa.append(dt.total_seconds())\n",
    "    eval_cnt_sa.append(eval_count)\n",
    "    \n",
    "    ## Genetic Algorithm\n",
    "    eval_count = 0\n",
    "    pop_size = int(n * 5)\n",
    "    mute_prob = 0.1 #0.025\n",
    "    begin = datetime.now()\n",
    "    ga_state, ga_fitness, ga_curve =  mlrose_hiive.genetic_alg(problem, \n",
    "                                                               pop_size=pop_size,\n",
    "                                                               mutation_prob=mute_prob, \n",
    "                                                               max_attempts=20,\n",
    "                                                               max_iters=2000,\n",
    "                                                               curve=True)\n",
    "    end = datetime.now()\n",
    "    \n",
    "    dt = end - begin\n",
    "    eval_time_ga.append(dt.total_seconds())\n",
    "    eval_cnt_ga.append(eval_count)\n",
    "    \n",
    "    ## MIMIC\n",
    "    eval_count = 0\n",
    "    pop_size = int(n * 5)\n",
    "    keep_pct = 0.25\n",
    "    begin = datetime.now()\n",
    "    mimic_state, mimic_fitness, mimic_curve = mlrose_hiive.mimic(problem, \n",
    "                                                                 pop_size=pop_size,\n",
    "                                                                 keep_pct=keep_pct, \n",
    "                                                                 max_attempts=30,\n",
    "                                                                 max_iters=500,\n",
    "                                                                 curve=True)\n",
    "    end = datetime.now()\n",
    "    \n",
    "    dt = end - begin\n",
    "    eval_time_mimic.append(dt.total_seconds())\n",
    "    eval_cnt_mimic.append(eval_count)\n",
    "\n",
    "\n",
    "fitness_curve['rhc'] = rhc_curve\n",
    "fitness_curve['sa']  = sa_curve\n",
    "fitness_curve['ga']  = ga_curve\n",
    "fitness_curve['mimic'] = mimic_curve\n",
    "\n",
    "eval_cnt_df['rhc'] = eval_cnt_rhc\n",
    "eval_cnt_df['sa']  = eval_cnt_sa\n",
    "eval_cnt_df['ga']  = eval_cnt_ga\n",
    "eval_cnt_df['mimic'] = eval_cnt_mimic\n",
    "\n",
    "eval_time_df['rhc'] = eval_time_rhc\n",
    "eval_time_df['sa']  = eval_time_sa\n",
    "eval_time_df['ga']  = eval_time_ga\n",
    "eval_time_df['mimic'] = eval_time_mimic"
   ]
  },
  {
   "cell_type": "code",
   "execution_count": 8,
   "metadata": {},
   "outputs": [
    {
     "data": {
      "text/html": [
       "<div>\n",
       "<style scoped>\n",
       "    .dataframe tbody tr th:only-of-type {\n",
       "        vertical-align: middle;\n",
       "    }\n",
       "\n",
       "    .dataframe tbody tr th {\n",
       "        vertical-align: top;\n",
       "    }\n",
       "\n",
       "    .dataframe thead th {\n",
       "        text-align: right;\n",
       "    }\n",
       "</style>\n",
       "<table border=\"1\" class=\"dataframe\">\n",
       "  <thead>\n",
       "    <tr style=\"text-align: right;\">\n",
       "      <th></th>\n",
       "      <th>input_size</th>\n",
       "      <th>rhc</th>\n",
       "      <th>sa</th>\n",
       "      <th>ga</th>\n",
       "      <th>mimic</th>\n",
       "    </tr>\n",
       "  </thead>\n",
       "  <tbody>\n",
       "    <tr>\n",
       "      <th>0</th>\n",
       "      <td>6</td>\n",
       "      <td>26</td>\n",
       "      <td>371</td>\n",
       "      <td>683</td>\n",
       "      <td>993</td>\n",
       "    </tr>\n",
       "    <tr>\n",
       "      <th>1</th>\n",
       "      <td>10</td>\n",
       "      <td>28</td>\n",
       "      <td>248</td>\n",
       "      <td>1583</td>\n",
       "      <td>1633</td>\n",
       "    </tr>\n",
       "    <tr>\n",
       "      <th>2</th>\n",
       "      <td>14</td>\n",
       "      <td>44</td>\n",
       "      <td>1296</td>\n",
       "      <td>1563</td>\n",
       "      <td>2345</td>\n",
       "    </tr>\n",
       "    <tr>\n",
       "      <th>3</th>\n",
       "      <td>18</td>\n",
       "      <td>43</td>\n",
       "      <td>671</td>\n",
       "      <td>2824</td>\n",
       "      <td>3005</td>\n",
       "    </tr>\n",
       "  </tbody>\n",
       "</table>\n",
       "</div>"
      ],
      "text/plain": [
       "   input_size  rhc    sa    ga  mimic\n",
       "0           6   26   371   683    993\n",
       "1          10   28   248  1583   1633\n",
       "2          14   44  1296  1563   2345\n",
       "3          18   43   671  2824   3005"
      ]
     },
     "execution_count": 8,
     "metadata": {},
     "output_type": "execute_result"
    }
   ],
   "source": [
    "eval_cnt_df"
   ]
  },
  {
   "cell_type": "code",
   "execution_count": 9,
   "metadata": {},
   "outputs": [
    {
     "data": {
      "text/plain": [
       "[Text(0, 0.5, 'Number of Evaluations'), Text(0.5, 0, 'Input Sizes')]"
      ]
     },
     "execution_count": 9,
     "metadata": {},
     "output_type": "execute_result"
    },
    {
     "data": {
      "image/png": "[encoded data removed]",
      "text/plain": [
       "<Figure size 432x288 with 1 Axes>"
      ]
     },
     "metadata": {
      "needs_background": "light"
     },
     "output_type": "display_data"
    }
   ],
   "source": [
    "df = eval_cnt_df.set_index('input_size')\n",
    "ax = sns.lineplot(data=df, markers=['o']*4)\n",
    "\n",
    "ax.set_title(title)\n",
    "ax.set(xlabel='Input Sizes',ylabel='Number of Evaluations')"
   ]
  },
  {
   "cell_type": "code",
   "execution_count": 10,
   "metadata": {},
   "outputs": [
    {
     "data": {
      "text/html": [
       "<div>\n",
       "<style scoped>\n",
       "    .dataframe tbody tr th:only-of-type {\n",
       "        vertical-align: middle;\n",
       "    }\n",
       "\n",
       "    .dataframe tbody tr th {\n",
       "        vertical-align: top;\n",
       "    }\n",
       "\n",
       "    .dataframe thead th {\n",
       "        text-align: right;\n",
       "    }\n",
       "</style>\n",
       "<table border=\"1\" class=\"dataframe\">\n",
       "  <thead>\n",
       "    <tr style=\"text-align: right;\">\n",
       "      <th></th>\n",
       "      <th>input_size</th>\n",
       "      <th>rhc</th>\n",
       "      <th>sa</th>\n",
       "      <th>ga</th>\n",
       "      <th>mimic</th>\n",
       "    </tr>\n",
       "  </thead>\n",
       "  <tbody>\n",
       "    <tr>\n",
       "      <th>0</th>\n",
       "      <td>6</td>\n",
       "      <td>0.002027</td>\n",
       "      <td>0.021946</td>\n",
       "      <td>0.052647</td>\n",
       "      <td>0.422404</td>\n",
       "    </tr>\n",
       "    <tr>\n",
       "      <th>1</th>\n",
       "      <td>10</td>\n",
       "      <td>0.001320</td>\n",
       "      <td>0.012505</td>\n",
       "      <td>0.138670</td>\n",
       "      <td>1.123904</td>\n",
       "    </tr>\n",
       "    <tr>\n",
       "      <th>2</th>\n",
       "      <td>14</td>\n",
       "      <td>0.002524</td>\n",
       "      <td>0.080792</td>\n",
       "      <td>0.153411</td>\n",
       "      <td>2.278752</td>\n",
       "    </tr>\n",
       "    <tr>\n",
       "      <th>3</th>\n",
       "      <td>18</td>\n",
       "      <td>0.002936</td>\n",
       "      <td>0.049424</td>\n",
       "      <td>0.304453</td>\n",
       "      <td>3.583448</td>\n",
       "    </tr>\n",
       "  </tbody>\n",
       "</table>\n",
       "</div>"
      ],
      "text/plain": [
       "   input_size       rhc        sa        ga     mimic\n",
       "0           6  0.002027  0.021946  0.052647  0.422404\n",
       "1          10  0.001320  0.012505  0.138670  1.123904\n",
       "2          14  0.002524  0.080792  0.153411  2.278752\n",
       "3          18  0.002936  0.049424  0.304453  3.583448"
      ]
     },
     "execution_count": 10,
     "metadata": {},
     "output_type": "execute_result"
    }
   ],
   "source": [
    "eval_time_df"
   ]
  },
  {
   "cell_type": "code",
   "execution_count": 11,
   "metadata": {},
   "outputs": [
    {
     "data": {
      "text/plain": [
       "[Text(0, 0.5, 'Time (s)'), Text(0.5, 0, 'Input Sizes')]"
      ]
     },
     "execution_count": 11,
     "metadata": {},
     "output_type": "execute_result"
    },
    {
     "data": {
      "image/png": "[encoded data removed]",
      "text/plain": [
       "<Figure size 432x288 with 1 Axes>"
      ]
     },
     "metadata": {
      "needs_background": "light"
     },
     "output_type": "display_data"
    }
   ],
   "source": [
    "df = eval_time_df.set_index('input_size')\n",
    "ax = sns.lineplot(data=df, markers=['o']*4)\n",
    "\n",
    "ax.set_title(title)\n",
    "ax.set_yscale('log')\n",
    "ax.set(xlabel='Input Sizes', ylabel='Time (s)')"
   ]
  },
  {
   "cell_type": "code",
   "execution_count": 12,
   "metadata": {},
   "outputs": [
    {
     "data": {
      "image/png": "[encoded data removed]",
      "text/plain": [
       "<Figure size 432x288 with 1 Axes>"
      ]
     },
     "metadata": {
      "needs_background": "light"
     },
     "output_type": "display_data"
    }
   ],
   "source": [
    "## Fitness Convergence Analysis\n",
    "labels = ['rhc', 'sa', 'ga', 'mimic']\n",
    "\n",
    "ax = sns.lineplot(data=[rhc_curve, sa_curve, ga_curve, mimic_curve])\n",
    "ax.set_ylim(0, 36)\n",
    "ax.set_title(title)\n",
    "ax.set(xlabel='Iterations',ylabel='Fitness Values')\n",
    "\n",
    "legend = ax.get_legend()\n",
    "for handle,l in zip(legend.texts, labels):\n",
    "    handle.set_text(l)\n"
   ]
  },
  {
   "cell_type": "code",
   "execution_count": 15,
   "metadata": {},
   "outputs": [
    {
     "name": "stdout",
     "output_type": "stream",
     "text": [
      "FlipFlop bit array size:18\n",
      "rhc:    16.0 [1 0 1 0 1 0 1 0 1 0 0 1 0 1 0 1 0 1]\n",
      "sa:     17.0 [1 0 1 0 1 0 1 0 1 0 1 0 1 0 1 0 1 0]\n",
      "ga:     16.0 [1 0 1 0 1 0 1 0 0 1 0 1 0 1 0 1 0 1]\n",
      "mimic:  16.0 [0 1 0 1 0 1 0 1 0 1 0 1 0 0 1 0 1 0]\n"
     ]
    }
   ],
   "source": [
    "print(title, 'bit array size:%d'%len(rhc_state))\n",
    "print('rhc:   {0:5.1f}'.format(rhc_fitness), rhc_state)\n",
    "print('sa:    {0:5.1f}'.format(sa_fitness), sa_state)\n",
    "print('ga:    {0:5.1f}'.format(ga_fitness), ga_state)\n",
    "print('mimic: {0:5.1f}'.format(mimic_fitness), mimic_state)"
   ]
  }
 ],
 "metadata": {
  "kernelspec": {
   "display_name": "Python 3",
   "language": "python",
   "name": "python3"
  },
  "language_info": {
   "codemirror_mode": {
    "name": "ipython",
    "version": 3
   },
   "file_extension": ".py",
   "mimetype": "text/x-python",
   "name": "python",
   "nbconvert_exporter": "python",
   "pygments_lexer": "ipython3",
   "version": "3.7.4"
  }
 },
 "nbformat": 4,
 "nbformat_minor": 2
}

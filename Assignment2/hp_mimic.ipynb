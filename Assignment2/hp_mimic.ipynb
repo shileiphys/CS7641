{
 "cells": [
  {
   "cell_type": "code",
   "execution_count": 1,
   "metadata": {},
   "outputs": [],
   "source": [
    "import mlrose_hiive\n",
    "\n",
    "import numpy as np\n",
    "import pandas as pd\n",
    "from datetime import datetime\n",
    "import seaborn as sns\n",
    "\n",
    "import matplotlib.pyplot as plt\n",
    "%matplotlib inline\n"
   ]
  },
  {
   "cell_type": "markdown",
   "metadata": {},
   "source": [
    "## MIMIC\n",
    "\n",
    "Final Hyper Parameters:\n",
    "* iteration = \n",
    "* population_sizes\n",
    "* keep_pct = \n",
    "* max_attempts = 100"
   ]
  },
  {
   "cell_type": "code",
   "execution_count": 2,
   "metadata": {},
   "outputs": [],
   "source": [
    "alg_name = 'mimic'"
   ]
  },
  {
   "cell_type": "markdown",
   "metadata": {},
   "source": [
    "### Flip Flop (input_size=25)"
   ]
  },
  {
   "cell_type": "code",
   "execution_count": 3,
   "metadata": {},
   "outputs": [
    {
     "name": "stdout",
     "output_type": "stream",
     "text": [
      "(176, 8) (468, 7)\n"
     ]
    }
   ],
   "source": [
    "fitness_name = 'flipflop'\n",
    "df_run_stats = pd.read_csv('./output/{0}/{1}__{0}__run_stats_df.csv'.format(fitness_name, alg_name))\n",
    "df_run_curves = pd.read_csv('./output/{0}/{1}__{0}__curves_df.csv'.format(fitness_name, alg_name))\n",
    "\n",
    "if ('Unnamed: 0' in df_run_stats.keys()):\n",
    "        df_run_stats.pop('Unnamed: 0')\n",
    "        \n",
    "if ('Unnamed: 0' in df_run_curves.keys()):\n",
    "        df_run_curves.pop('Unnamed: 0')\n",
    "        \n",
    "print(df_run_stats.shape, df_run_curves.shape)"
   ]
  },
  {
   "cell_type": "code",
   "execution_count": 4,
   "metadata": {},
   "outputs": [
    {
     "data": {
      "text/html": [
       "<div>\n",
       "<style scoped>\n",
       "    .dataframe tbody tr th:only-of-type {\n",
       "        vertical-align: middle;\n",
       "    }\n",
       "\n",
       "    .dataframe tbody tr th {\n",
       "        vertical-align: top;\n",
       "    }\n",
       "\n",
       "    .dataframe thead th {\n",
       "        text-align: right;\n",
       "    }\n",
       "</style>\n",
       "<table border=\"1\" class=\"dataframe\">\n",
       "  <thead>\n",
       "    <tr style=\"text-align: right;\">\n",
       "      <th></th>\n",
       "      <th>Iteration</th>\n",
       "      <th>Fitness</th>\n",
       "      <th>Time</th>\n",
       "      <th>State</th>\n",
       "      <th>use_fast_mimic</th>\n",
       "      <th>Population Size</th>\n",
       "      <th>Keep Percent</th>\n",
       "      <th>max_iters</th>\n",
       "    </tr>\n",
       "  </thead>\n",
       "  <tbody>\n",
       "    <tr>\n",
       "      <th>0</th>\n",
       "      <td>0</td>\n",
       "      <td>12.0</td>\n",
       "      <td>0.000216</td>\n",
       "      <td>[1, 1, 0, 0, 1, 1, 1, 1, 1, 0, 0, 1, 0, 1, 1, ...</td>\n",
       "      <td>True</td>\n",
       "      <td>100</td>\n",
       "      <td>0.1</td>\n",
       "      <td>512</td>\n",
       "    </tr>\n",
       "    <tr>\n",
       "      <th>1</th>\n",
       "      <td>1</td>\n",
       "      <td>19.0</td>\n",
       "      <td>0.007274</td>\n",
       "      <td>[1.0, 0.0, 1.0, 1.0, 0.0, 1.0, 0.0, 0.0, 1.0, ...</td>\n",
       "      <td>True</td>\n",
       "      <td>100</td>\n",
       "      <td>0.1</td>\n",
       "      <td>512</td>\n",
       "    </tr>\n",
       "    <tr>\n",
       "      <th>2</th>\n",
       "      <td>2</td>\n",
       "      <td>21.0</td>\n",
       "      <td>0.017751</td>\n",
       "      <td>[1.0, 0.0, 1.0, 0.0, 1.0, 0.0, 1.0, 0.0, 1.0, ...</td>\n",
       "      <td>True</td>\n",
       "      <td>100</td>\n",
       "      <td>0.1</td>\n",
       "      <td>512</td>\n",
       "    </tr>\n",
       "    <tr>\n",
       "      <th>3</th>\n",
       "      <td>4</td>\n",
       "      <td>21.0</td>\n",
       "      <td>0.033869</td>\n",
       "      <td>[1.0, 0.0, 1.0, 0.0, 1.0, 0.0, 1.0, 0.0, 1.0, ...</td>\n",
       "      <td>True</td>\n",
       "      <td>100</td>\n",
       "      <td>0.1</td>\n",
       "      <td>512</td>\n",
       "    </tr>\n",
       "    <tr>\n",
       "      <th>4</th>\n",
       "      <td>8</td>\n",
       "      <td>21.0</td>\n",
       "      <td>0.064593</td>\n",
       "      <td>[1.0, 0.0, 1.0, 0.0, 1.0, 0.0, 1.0, 0.0, 1.0, ...</td>\n",
       "      <td>True</td>\n",
       "      <td>100</td>\n",
       "      <td>0.1</td>\n",
       "      <td>512</td>\n",
       "    </tr>\n",
       "  </tbody>\n",
       "</table>\n",
       "</div>"
      ],
      "text/plain": [
       "   Iteration  Fitness      Time  \\\n",
       "0          0     12.0  0.000216   \n",
       "1          1     19.0  0.007274   \n",
       "2          2     21.0  0.017751   \n",
       "3          4     21.0  0.033869   \n",
       "4          8     21.0  0.064593   \n",
       "\n",
       "                                               State  use_fast_mimic  \\\n",
       "0  [1, 1, 0, 0, 1, 1, 1, 1, 1, 0, 0, 1, 0, 1, 1, ...            True   \n",
       "1  [1.0, 0.0, 1.0, 1.0, 0.0, 1.0, 0.0, 0.0, 1.0, ...            True   \n",
       "2  [1.0, 0.0, 1.0, 0.0, 1.0, 0.0, 1.0, 0.0, 1.0, ...            True   \n",
       "3  [1.0, 0.0, 1.0, 0.0, 1.0, 0.0, 1.0, 0.0, 1.0, ...            True   \n",
       "4  [1.0, 0.0, 1.0, 0.0, 1.0, 0.0, 1.0, 0.0, 1.0, ...            True   \n",
       "\n",
       "   Population Size  Keep Percent  max_iters  \n",
       "0              100           0.1        512  \n",
       "1              100           0.1        512  \n",
       "2              100           0.1        512  \n",
       "3              100           0.1        512  \n",
       "4              100           0.1        512  "
      ]
     },
     "execution_count": 4,
     "metadata": {},
     "output_type": "execute_result"
    }
   ],
   "source": [
    "df_run_stats.head()"
   ]
  },
  {
   "cell_type": "code",
   "execution_count": 5,
   "metadata": {
    "scrolled": false
   },
   "outputs": [
    {
     "data": {
      "text/plain": [
       "<seaborn.axisgrid.FacetGrid at 0x7f2482bafa10>"
      ]
     },
     "execution_count": 5,
     "metadata": {},
     "output_type": "execute_result"
    },
    {
     "data": {
      "image/png": "[encoded data removed]",
      "text/plain": [
       "<Figure size 921.6x576 with 16 Axes>"
      ]
     },
     "metadata": {
      "needs_background": "light"
     },
     "output_type": "display_data"
    }
   ],
   "source": [
    "grid = sns.FacetGrid(df_run_stats, row='Population Size', col='Keep Percent', size=2, aspect=1.6)\n",
    "grid.map(sns.lineplot, 'Iteration', 'Fitness', alpha=.5, color='red', linewidth=2.5)\n",
    "grid.map(sns.scatterplot, 'Iteration', 'Fitness', alpha=.5)\n",
    "# grid.add_legend()"
   ]
  },
  {
   "cell_type": "code",
   "execution_count": 6,
   "metadata": {},
   "outputs": [
    {
     "name": "stdout",
     "output_type": "stream",
     "text": [
      "100 0.1 21.0\n",
      "100 0.25 23.0\n",
      "100 0.5 21.0\n",
      "100 0.75 22.0\n",
      "200 0.1 23.0\n",
      "200 0.25 24.0\n",
      "200 0.5 24.0\n",
      "200 0.75 22.0\n",
      "250 0.1 23.0\n",
      "250 0.25 24.0\n",
      "250 0.5 24.0\n",
      "250 0.75 24.0\n",
      "500 0.1 24.0\n",
      "500 0.25 24.0\n",
      "500 0.5 24.0\n",
      "500 0.75 24.0\n"
     ]
    }
   ],
   "source": [
    "for i in df_run_stats['Population Size'].unique():\n",
    "    df_pop = df_run_stats[df_run_stats['Population Size']==i]\n",
    "    for j in df_run_stats['Keep Percent'].unique():\n",
    "        max_f = df_pop[df_pop['Keep Percent']==j]['Fitness'].max()\n",
    "        print (i, j, max_f)"
   ]
  },
  {
   "cell_type": "code",
   "execution_count": 7,
   "metadata": {},
   "outputs": [
    {
     "name": "stdout",
     "output_type": "stream",
     "text": [
      "100 0.1 21.0\n",
      "100 0.25 23.0\n",
      "100 0.5 21.0\n",
      "100 0.75 22.0\n",
      "200 0.1 23.0\n",
      "200 0.25 24.0\n",
      "200 0.5 24.0\n",
      "200 0.75 22.0\n",
      "250 0.1 23.0\n",
      "250 0.25 24.0\n",
      "250 0.5 24.0\n",
      "250 0.75 24.0\n",
      "500 0.1 24.0\n",
      "500 0.25 24.0\n",
      "500 0.5 24.0\n",
      "500 0.75 24.0\n"
     ]
    }
   ],
   "source": [
    "for i in df_run_stats['Population Size'].unique():\n",
    "    df_pop = df_run_stats[df_run_stats['Population Size']==i]\n",
    "    for j in df_run_stats['Keep Percent'].unique():\n",
    "        max_f = df_pop[df_pop['Keep Percent']==j]['Fitness'].max()\n",
    "        print (i, j, max_f)"
   ]
  },
  {
   "cell_type": "code",
   "execution_count": 8,
   "metadata": {},
   "outputs": [
    {
     "data": {
      "text/html": [
       "<div>\n",
       "<style scoped>\n",
       "    .dataframe tbody tr th:only-of-type {\n",
       "        vertical-align: middle;\n",
       "    }\n",
       "\n",
       "    .dataframe tbody tr th {\n",
       "        vertical-align: top;\n",
       "    }\n",
       "\n",
       "    .dataframe thead th {\n",
       "        text-align: right;\n",
       "    }\n",
       "</style>\n",
       "<table border=\"1\" class=\"dataframe\">\n",
       "  <thead>\n",
       "    <tr style=\"text-align: right;\">\n",
       "      <th></th>\n",
       "      <th>Iteration</th>\n",
       "      <th>Time</th>\n",
       "      <th>Fitness</th>\n",
       "      <th>use_fast_mimic</th>\n",
       "      <th>Population Size</th>\n",
       "      <th>Keep Percent</th>\n",
       "      <th>max_iters</th>\n",
       "    </tr>\n",
       "  </thead>\n",
       "  <tbody>\n",
       "    <tr>\n",
       "      <th>0</th>\n",
       "      <td>0</td>\n",
       "      <td>0.000216</td>\n",
       "      <td>19.0</td>\n",
       "      <td>True</td>\n",
       "      <td>100</td>\n",
       "      <td>0.1</td>\n",
       "      <td>512</td>\n",
       "    </tr>\n",
       "    <tr>\n",
       "      <th>1</th>\n",
       "      <td>1</td>\n",
       "      <td>0.007274</td>\n",
       "      <td>21.0</td>\n",
       "      <td>True</td>\n",
       "      <td>100</td>\n",
       "      <td>0.1</td>\n",
       "      <td>512</td>\n",
       "    </tr>\n",
       "    <tr>\n",
       "      <th>2</th>\n",
       "      <td>2</td>\n",
       "      <td>0.017751</td>\n",
       "      <td>21.0</td>\n",
       "      <td>True</td>\n",
       "      <td>100</td>\n",
       "      <td>0.1</td>\n",
       "      <td>512</td>\n",
       "    </tr>\n",
       "    <tr>\n",
       "      <th>3</th>\n",
       "      <td>3</td>\n",
       "      <td>0.027482</td>\n",
       "      <td>21.0</td>\n",
       "      <td>True</td>\n",
       "      <td>100</td>\n",
       "      <td>0.1</td>\n",
       "      <td>512</td>\n",
       "    </tr>\n",
       "    <tr>\n",
       "      <th>4</th>\n",
       "      <td>4</td>\n",
       "      <td>0.033869</td>\n",
       "      <td>21.0</td>\n",
       "      <td>True</td>\n",
       "      <td>100</td>\n",
       "      <td>0.1</td>\n",
       "      <td>512</td>\n",
       "    </tr>\n",
       "  </tbody>\n",
       "</table>\n",
       "</div>"
      ],
      "text/plain": [
       "   Iteration      Time  Fitness  use_fast_mimic  Population Size  \\\n",
       "0          0  0.000216     19.0            True              100   \n",
       "1          1  0.007274     21.0            True              100   \n",
       "2          2  0.017751     21.0            True              100   \n",
       "3          3  0.027482     21.0            True              100   \n",
       "4          4  0.033869     21.0            True              100   \n",
       "\n",
       "   Keep Percent  max_iters  \n",
       "0           0.1        512  \n",
       "1           0.1        512  \n",
       "2           0.1        512  \n",
       "3           0.1        512  \n",
       "4           0.1        512  "
      ]
     },
     "execution_count": 8,
     "metadata": {},
     "output_type": "execute_result"
    }
   ],
   "source": [
    "df_run_curves.head()"
   ]
  },
  {
   "cell_type": "code",
   "execution_count": 9,
   "metadata": {},
   "outputs": [
    {
     "data": {
      "text/plain": [
       "<seaborn.axisgrid.FacetGrid at 0x7f24820de4d0>"
      ]
     },
     "execution_count": 9,
     "metadata": {},
     "output_type": "execute_result"
    },
    {
     "data": {
      "image/png": "[encoded data removed]",
      "text/plain": [
       "<Figure size 691.2x144 with 4 Axes>"
      ]
     },
     "metadata": {
      "needs_background": "light"
     },
     "output_type": "display_data"
    }
   ],
   "source": [
    "grid = sns.FacetGrid(df_run_curves, col='Population Size', size=2, aspect=1.2)\n",
    "grid.map(sns.lineplot, 'Iteration', 'Fitness', alpha=.5, color='red', linewidth=2.5)\n",
    "# grid.map(sns.scatterplot, 'Iteration', 'Fitness', alpha=.5)"
   ]
  },
  {
   "cell_type": "markdown",
   "metadata": {},
   "source": [
    "### Four Peaks (input_size=25)"
   ]
  },
  {
   "cell_type": "code",
   "execution_count": 10,
   "metadata": {},
   "outputs": [
    {
     "name": "stdout",
     "output_type": "stream",
     "text": [
      "(176, 8) (981, 7)\n"
     ]
    }
   ],
   "source": [
    "fitness_name = '4peaks'\n",
    "df_run_stats = pd.read_csv('./output/{0}/{1}__{0}__run_stats_df.csv'.format(fitness_name, alg_name))\n",
    "df_run_curves = pd.read_csv('./output/{0}/{1}__{0}__curves_df.csv'.format(fitness_name, alg_name))\n",
    "\n",
    "if ('Unnamed: 0' in df_run_stats.keys()):\n",
    "        df_run_stats.pop('Unnamed: 0')\n",
    "        \n",
    "if ('Unnamed: 0' in df_run_curves.keys()):\n",
    "        df_run_curves.pop('Unnamed: 0')\n",
    "        \n",
    "print(df_run_stats.shape, df_run_curves.shape)"
   ]
  },
  {
   "cell_type": "code",
   "execution_count": 11,
   "metadata": {},
   "outputs": [
    {
     "data": {
      "text/html": [
       "<div>\n",
       "<style scoped>\n",
       "    .dataframe tbody tr th:only-of-type {\n",
       "        vertical-align: middle;\n",
       "    }\n",
       "\n",
       "    .dataframe tbody tr th {\n",
       "        vertical-align: top;\n",
       "    }\n",
       "\n",
       "    .dataframe thead th {\n",
       "        text-align: right;\n",
       "    }\n",
       "</style>\n",
       "<table border=\"1\" class=\"dataframe\">\n",
       "  <thead>\n",
       "    <tr style=\"text-align: right;\">\n",
       "      <th></th>\n",
       "      <th>Iteration</th>\n",
       "      <th>Fitness</th>\n",
       "      <th>Time</th>\n",
       "      <th>State</th>\n",
       "      <th>use_fast_mimic</th>\n",
       "      <th>Population Size</th>\n",
       "      <th>Keep Percent</th>\n",
       "      <th>max_iters</th>\n",
       "    </tr>\n",
       "  </thead>\n",
       "  <tbody>\n",
       "    <tr>\n",
       "      <th>0</th>\n",
       "      <td>0</td>\n",
       "      <td>2.0</td>\n",
       "      <td>0.002539</td>\n",
       "      <td>[1, 1, 0, 0, 1, 1, 1, 1, 1, 0, 0, 1, 0, 1, 1, ...</td>\n",
       "      <td>True</td>\n",
       "      <td>100</td>\n",
       "      <td>0.1</td>\n",
       "      <td>512</td>\n",
       "    </tr>\n",
       "    <tr>\n",
       "      <th>1</th>\n",
       "      <td>1</td>\n",
       "      <td>8.0</td>\n",
       "      <td>0.010891</td>\n",
       "      <td>[0.0, 1.0, 0.0, 1.0, 1.0, 0.0, 0.0, 1.0, 1.0, ...</td>\n",
       "      <td>True</td>\n",
       "      <td>100</td>\n",
       "      <td>0.1</td>\n",
       "      <td>512</td>\n",
       "    </tr>\n",
       "    <tr>\n",
       "      <th>2</th>\n",
       "      <td>2</td>\n",
       "      <td>36.0</td>\n",
       "      <td>0.022943</td>\n",
       "      <td>[1.0, 1.0, 1.0, 1.0, 1.0, 1.0, 0.0, 0.0, 1.0, ...</td>\n",
       "      <td>True</td>\n",
       "      <td>100</td>\n",
       "      <td>0.1</td>\n",
       "      <td>512</td>\n",
       "    </tr>\n",
       "    <tr>\n",
       "      <th>3</th>\n",
       "      <td>4</td>\n",
       "      <td>36.0</td>\n",
       "      <td>0.043405</td>\n",
       "      <td>[1.0, 1.0, 1.0, 1.0, 1.0, 1.0, 0.0, 0.0, 1.0, ...</td>\n",
       "      <td>True</td>\n",
       "      <td>100</td>\n",
       "      <td>0.1</td>\n",
       "      <td>512</td>\n",
       "    </tr>\n",
       "    <tr>\n",
       "      <th>4</th>\n",
       "      <td>8</td>\n",
       "      <td>36.0</td>\n",
       "      <td>0.076985</td>\n",
       "      <td>[1.0, 1.0, 1.0, 1.0, 1.0, 1.0, 0.0, 0.0, 1.0, ...</td>\n",
       "      <td>True</td>\n",
       "      <td>100</td>\n",
       "      <td>0.1</td>\n",
       "      <td>512</td>\n",
       "    </tr>\n",
       "  </tbody>\n",
       "</table>\n",
       "</div>"
      ],
      "text/plain": [
       "   Iteration  Fitness      Time  \\\n",
       "0          0      2.0  0.002539   \n",
       "1          1      8.0  0.010891   \n",
       "2          2     36.0  0.022943   \n",
       "3          4     36.0  0.043405   \n",
       "4          8     36.0  0.076985   \n",
       "\n",
       "                                               State  use_fast_mimic  \\\n",
       "0  [1, 1, 0, 0, 1, 1, 1, 1, 1, 0, 0, 1, 0, 1, 1, ...            True   \n",
       "1  [0.0, 1.0, 0.0, 1.0, 1.0, 0.0, 0.0, 1.0, 1.0, ...            True   \n",
       "2  [1.0, 1.0, 1.0, 1.0, 1.0, 1.0, 0.0, 0.0, 1.0, ...            True   \n",
       "3  [1.0, 1.0, 1.0, 1.0, 1.0, 1.0, 0.0, 0.0, 1.0, ...            True   \n",
       "4  [1.0, 1.0, 1.0, 1.0, 1.0, 1.0, 0.0, 0.0, 1.0, ...            True   \n",
       "\n",
       "   Population Size  Keep Percent  max_iters  \n",
       "0              100           0.1        512  \n",
       "1              100           0.1        512  \n",
       "2              100           0.1        512  \n",
       "3              100           0.1        512  \n",
       "4              100           0.1        512  "
      ]
     },
     "execution_count": 11,
     "metadata": {},
     "output_type": "execute_result"
    }
   ],
   "source": [
    "df_run_stats.head()"
   ]
  },
  {
   "cell_type": "code",
   "execution_count": 12,
   "metadata": {},
   "outputs": [
    {
     "data": {
      "text/plain": [
       "<seaborn.axisgrid.FacetGrid at 0x7f2481da5890>"
      ]
     },
     "execution_count": 12,
     "metadata": {},
     "output_type": "execute_result"
    },
    {
     "data": {
      "image/png": "[encoded data removed]",
      "text/plain": [
       "<Figure size 921.6x576 with 16 Axes>"
      ]
     },
     "metadata": {
      "needs_background": "light"
     },
     "output_type": "display_data"
    }
   ],
   "source": [
    "grid = sns.FacetGrid(df_run_stats, row='Population Size', col='Keep Percent', size=2, aspect=1.6)\n",
    "grid.map(sns.lineplot, 'Iteration', 'Fitness', alpha=.5, color='red', linewidth=2.5)\n",
    "grid.map(sns.scatterplot, 'Iteration', 'Fitness', alpha=.5)\n",
    "# grid.add_legend()"
   ]
  },
  {
   "cell_type": "code",
   "execution_count": 13,
   "metadata": {},
   "outputs": [
    {
     "name": "stdout",
     "output_type": "stream",
     "text": [
      "100 0.1 36.0\n",
      "100 0.25 37.0\n",
      "100 0.5 31.0\n",
      "100 0.75 11.0\n",
      "200 0.1 44.0\n",
      "200 0.25 44.0\n",
      "200 0.5 45.0\n",
      "200 0.75 14.0\n",
      "250 0.1 45.0\n",
      "250 0.25 45.0\n",
      "250 0.5 40.0\n",
      "250 0.75 37.0\n",
      "500 0.1 45.0\n",
      "500 0.25 45.0\n",
      "500 0.5 40.0\n",
      "500 0.75 37.0\n"
     ]
    }
   ],
   "source": [
    "for i in df_run_stats['Population Size'].unique():\n",
    "    df_pop = df_run_stats[df_run_stats['Population Size']==i]\n",
    "    for j in df_run_stats['Keep Percent'].unique():\n",
    "        max_f = df_pop[df_pop['Keep Percent']==j]['Fitness'].max()\n",
    "        print (i, j, max_f)"
   ]
  },
  {
   "cell_type": "code",
   "execution_count": 14,
   "metadata": {},
   "outputs": [
    {
     "name": "stdout",
     "output_type": "stream",
     "text": [
      "100 0.1 36.0\n",
      "100 0.25 37.0\n",
      "100 0.5 31.0\n",
      "100 0.75 11.0\n",
      "200 0.1 44.0\n",
      "200 0.25 44.0\n",
      "200 0.5 45.0\n",
      "200 0.75 14.0\n",
      "250 0.1 45.0\n",
      "250 0.25 45.0\n",
      "250 0.5 40.0\n",
      "250 0.75 37.0\n",
      "500 0.1 45.0\n",
      "500 0.25 45.0\n",
      "500 0.5 40.0\n",
      "500 0.75 37.0\n"
     ]
    }
   ],
   "source": [
    "for i in df_run_stats['Population Size'].unique():\n",
    "    df_pop = df_run_stats[df_run_stats['Population Size']==i]\n",
    "    for j in df_run_stats['Keep Percent'].unique():\n",
    "        max_f = df_pop[df_pop['Keep Percent']==j]['Fitness'].max()\n",
    "        print (i, j, max_f)"
   ]
  },
  {
   "cell_type": "code",
   "execution_count": 15,
   "metadata": {},
   "outputs": [
    {
     "data": {
      "text/html": [
       "<div>\n",
       "<style scoped>\n",
       "    .dataframe tbody tr th:only-of-type {\n",
       "        vertical-align: middle;\n",
       "    }\n",
       "\n",
       "    .dataframe tbody tr th {\n",
       "        vertical-align: top;\n",
       "    }\n",
       "\n",
       "    .dataframe thead th {\n",
       "        text-align: right;\n",
       "    }\n",
       "</style>\n",
       "<table border=\"1\" class=\"dataframe\">\n",
       "  <thead>\n",
       "    <tr style=\"text-align: right;\">\n",
       "      <th></th>\n",
       "      <th>Iteration</th>\n",
       "      <th>Time</th>\n",
       "      <th>Fitness</th>\n",
       "      <th>use_fast_mimic</th>\n",
       "      <th>Population Size</th>\n",
       "      <th>Keep Percent</th>\n",
       "      <th>max_iters</th>\n",
       "    </tr>\n",
       "  </thead>\n",
       "  <tbody>\n",
       "    <tr>\n",
       "      <th>0</th>\n",
       "      <td>0</td>\n",
       "      <td>0.002539</td>\n",
       "      <td>8.0</td>\n",
       "      <td>True</td>\n",
       "      <td>100</td>\n",
       "      <td>0.1</td>\n",
       "      <td>512</td>\n",
       "    </tr>\n",
       "    <tr>\n",
       "      <th>1</th>\n",
       "      <td>1</td>\n",
       "      <td>0.010891</td>\n",
       "      <td>36.0</td>\n",
       "      <td>True</td>\n",
       "      <td>100</td>\n",
       "      <td>0.1</td>\n",
       "      <td>512</td>\n",
       "    </tr>\n",
       "    <tr>\n",
       "      <th>2</th>\n",
       "      <td>2</td>\n",
       "      <td>0.022943</td>\n",
       "      <td>36.0</td>\n",
       "      <td>True</td>\n",
       "      <td>100</td>\n",
       "      <td>0.1</td>\n",
       "      <td>512</td>\n",
       "    </tr>\n",
       "    <tr>\n",
       "      <th>3</th>\n",
       "      <td>3</td>\n",
       "      <td>0.035600</td>\n",
       "      <td>36.0</td>\n",
       "      <td>True</td>\n",
       "      <td>100</td>\n",
       "      <td>0.1</td>\n",
       "      <td>512</td>\n",
       "    </tr>\n",
       "    <tr>\n",
       "      <th>4</th>\n",
       "      <td>4</td>\n",
       "      <td>0.043405</td>\n",
       "      <td>36.0</td>\n",
       "      <td>True</td>\n",
       "      <td>100</td>\n",
       "      <td>0.1</td>\n",
       "      <td>512</td>\n",
       "    </tr>\n",
       "  </tbody>\n",
       "</table>\n",
       "</div>"
      ],
      "text/plain": [
       "   Iteration      Time  Fitness  use_fast_mimic  Population Size  \\\n",
       "0          0  0.002539      8.0            True              100   \n",
       "1          1  0.010891     36.0            True              100   \n",
       "2          2  0.022943     36.0            True              100   \n",
       "3          3  0.035600     36.0            True              100   \n",
       "4          4  0.043405     36.0            True              100   \n",
       "\n",
       "   Keep Percent  max_iters  \n",
       "0           0.1        512  \n",
       "1           0.1        512  \n",
       "2           0.1        512  \n",
       "3           0.1        512  \n",
       "4           0.1        512  "
      ]
     },
     "execution_count": 15,
     "metadata": {},
     "output_type": "execute_result"
    }
   ],
   "source": [
    "df_run_curves.head()"
   ]
  },
  {
   "cell_type": "code",
   "execution_count": 16,
   "metadata": {},
   "outputs": [
    {
     "data": {
      "text/plain": [
       "<seaborn.axisgrid.FacetGrid at 0x7f2481508890>"
      ]
     },
     "execution_count": 16,
     "metadata": {},
     "output_type": "execute_result"
    },
    {
     "data": {
      "image/png": "[encoded data removed]",
      "text/plain": [
       "<Figure size 691.2x144 with 4 Axes>"
      ]
     },
     "metadata": {
      "needs_background": "light"
     },
     "output_type": "display_data"
    }
   ],
   "source": [
    "grid = sns.FacetGrid(df_run_curves, col='Population Size', size=2, aspect=1.2)\n",
    "grid.map(sns.lineplot, 'Iteration', 'Fitness', alpha=.5, color='red', linewidth=2.5)\n",
    "# grid.map(sns.scatterplot, 'Iteration', 'Fitness', alpha=.5)"
   ]
  },
  {
   "cell_type": "markdown",
   "metadata": {},
   "source": [
    "### Knapsack (input_size=25)"
   ]
  },
  {
   "cell_type": "code",
   "execution_count": 17,
   "metadata": {},
   "outputs": [
    {
     "name": "stdout",
     "output_type": "stream",
     "text": [
      "(176, 8) (949, 7)\n"
     ]
    }
   ],
   "source": [
    "fitness_name = 'knapsack'\n",
    "df_run_stats = pd.read_csv('./output/{0}/{1}__{0}__run_stats_df.csv'.format(fitness_name, alg_name))\n",
    "df_run_curves = pd.read_csv('./output/{0}/{1}__{0}__curves_df.csv'.format(fitness_name, alg_name))\n",
    "\n",
    "if ('Unnamed: 0' in df_run_stats.keys()):\n",
    "        df_run_stats.pop('Unnamed: 0')\n",
    "        \n",
    "if ('Unnamed: 0' in df_run_curves.keys()):\n",
    "        df_run_curves.pop('Unnamed: 0')\n",
    "        \n",
    "print(df_run_stats.shape, df_run_curves.shape)"
   ]
  },
  {
   "cell_type": "code",
   "execution_count": 18,
   "metadata": {},
   "outputs": [
    {
     "data": {
      "text/html": [
       "<div>\n",
       "<style scoped>\n",
       "    .dataframe tbody tr th:only-of-type {\n",
       "        vertical-align: middle;\n",
       "    }\n",
       "\n",
       "    .dataframe tbody tr th {\n",
       "        vertical-align: top;\n",
       "    }\n",
       "\n",
       "    .dataframe thead th {\n",
       "        text-align: right;\n",
       "    }\n",
       "</style>\n",
       "<table border=\"1\" class=\"dataframe\">\n",
       "  <thead>\n",
       "    <tr style=\"text-align: right;\">\n",
       "      <th></th>\n",
       "      <th>Iteration</th>\n",
       "      <th>Fitness</th>\n",
       "      <th>Time</th>\n",
       "      <th>State</th>\n",
       "      <th>use_fast_mimic</th>\n",
       "      <th>Population Size</th>\n",
       "      <th>Keep Percent</th>\n",
       "      <th>max_iters</th>\n",
       "    </tr>\n",
       "  </thead>\n",
       "  <tbody>\n",
       "    <tr>\n",
       "      <th>0</th>\n",
       "      <td>0</td>\n",
       "      <td>75.0</td>\n",
       "      <td>0.003456</td>\n",
       "      <td>[1, 1, 0, 0, 1, 1, 1, 1, 1, 0, 0, 1, 0, 1, 1, ...</td>\n",
       "      <td>True</td>\n",
       "      <td>100</td>\n",
       "      <td>0.1</td>\n",
       "      <td>512</td>\n",
       "    </tr>\n",
       "    <tr>\n",
       "      <th>1</th>\n",
       "      <td>1</td>\n",
       "      <td>115.0</td>\n",
       "      <td>0.011570</td>\n",
       "      <td>[1.0, 1.0, 1.0, 1.0, 1.0, 0.0, 0.0, 1.0, 1.0, ...</td>\n",
       "      <td>True</td>\n",
       "      <td>100</td>\n",
       "      <td>0.1</td>\n",
       "      <td>512</td>\n",
       "    </tr>\n",
       "    <tr>\n",
       "      <th>2</th>\n",
       "      <td>2</td>\n",
       "      <td>122.0</td>\n",
       "      <td>0.022651</td>\n",
       "      <td>[1.0, 1.0, 1.0, 0.0, 1.0, 0.0, 1.0, 1.0, 1.0, ...</td>\n",
       "      <td>True</td>\n",
       "      <td>100</td>\n",
       "      <td>0.1</td>\n",
       "      <td>512</td>\n",
       "    </tr>\n",
       "    <tr>\n",
       "      <th>3</th>\n",
       "      <td>4</td>\n",
       "      <td>123.0</td>\n",
       "      <td>0.040192</td>\n",
       "      <td>[1.0, 1.0, 1.0, 0.0, 1.0, 0.0, 1.0, 1.0, 1.0, ...</td>\n",
       "      <td>True</td>\n",
       "      <td>100</td>\n",
       "      <td>0.1</td>\n",
       "      <td>512</td>\n",
       "    </tr>\n",
       "    <tr>\n",
       "      <th>4</th>\n",
       "      <td>8</td>\n",
       "      <td>123.0</td>\n",
       "      <td>0.071364</td>\n",
       "      <td>[1.0, 1.0, 1.0, 0.0, 1.0, 0.0, 1.0, 1.0, 1.0, ...</td>\n",
       "      <td>True</td>\n",
       "      <td>100</td>\n",
       "      <td>0.1</td>\n",
       "      <td>512</td>\n",
       "    </tr>\n",
       "  </tbody>\n",
       "</table>\n",
       "</div>"
      ],
      "text/plain": [
       "   Iteration  Fitness      Time  \\\n",
       "0          0     75.0  0.003456   \n",
       "1          1    115.0  0.011570   \n",
       "2          2    122.0  0.022651   \n",
       "3          4    123.0  0.040192   \n",
       "4          8    123.0  0.071364   \n",
       "\n",
       "                                               State  use_fast_mimic  \\\n",
       "0  [1, 1, 0, 0, 1, 1, 1, 1, 1, 0, 0, 1, 0, 1, 1, ...            True   \n",
       "1  [1.0, 1.0, 1.0, 1.0, 1.0, 0.0, 0.0, 1.0, 1.0, ...            True   \n",
       "2  [1.0, 1.0, 1.0, 0.0, 1.0, 0.0, 1.0, 1.0, 1.0, ...            True   \n",
       "3  [1.0, 1.0, 1.0, 0.0, 1.0, 0.0, 1.0, 1.0, 1.0, ...            True   \n",
       "4  [1.0, 1.0, 1.0, 0.0, 1.0, 0.0, 1.0, 1.0, 1.0, ...            True   \n",
       "\n",
       "   Population Size  Keep Percent  max_iters  \n",
       "0              100           0.1        512  \n",
       "1              100           0.1        512  \n",
       "2              100           0.1        512  \n",
       "3              100           0.1        512  \n",
       "4              100           0.1        512  "
      ]
     },
     "execution_count": 18,
     "metadata": {},
     "output_type": "execute_result"
    }
   ],
   "source": [
    "df_run_stats.head()"
   ]
  },
  {
   "cell_type": "code",
   "execution_count": 19,
   "metadata": {},
   "outputs": [
    {
     "data": {
      "text/plain": [
       "<seaborn.axisgrid.FacetGrid at 0x7f2481224710>"
      ]
     },
     "execution_count": 19,
     "metadata": {},
     "output_type": "execute_result"
    },
    {
     "data": {
      "image/png": "[encoded data removed]",
      "text/plain": [
       "<Figure size 921.6x576 with 16 Axes>"
      ]
     },
     "metadata": {
      "needs_background": "light"
     },
     "output_type": "display_data"
    }
   ],
   "source": [
    "grid = sns.FacetGrid(df_run_stats, row='Population Size', col='Keep Percent', size=2, aspect=1.6)\n",
    "grid.map(sns.lineplot, 'Iteration', 'Fitness', alpha=.5, color='red', linewidth=2.5)\n",
    "grid.map(sns.scatterplot, 'Iteration', 'Fitness', alpha=.5)\n",
    "# grid.add_legend()"
   ]
  },
  {
   "cell_type": "code",
   "execution_count": 20,
   "metadata": {},
   "outputs": [
    {
     "name": "stdout",
     "output_type": "stream",
     "text": [
      "100 0.1 123.0\n",
      "100 0.25 126.0\n",
      "100 0.5 126.0\n",
      "100 0.75 121.0\n",
      "200 0.1 127.0\n",
      "200 0.25 127.0\n",
      "200 0.5 127.0\n",
      "200 0.75 121.0\n",
      "250 0.1 127.0\n",
      "250 0.25 126.0\n",
      "250 0.5 126.0\n",
      "250 0.75 125.0\n",
      "500 0.1 126.0\n",
      "500 0.25 127.0\n",
      "500 0.5 127.0\n",
      "500 0.75 124.0\n"
     ]
    }
   ],
   "source": [
    "for i in df_run_stats['Population Size'].unique():\n",
    "    df_pop = df_run_stats[df_run_stats['Population Size']==i]\n",
    "    for j in df_run_stats['Keep Percent'].unique():\n",
    "        max_f = df_pop[df_pop['Keep Percent']==j]['Fitness'].max()\n",
    "        print (i, j, max_f)"
   ]
  },
  {
   "cell_type": "code",
   "execution_count": 21,
   "metadata": {},
   "outputs": [
    {
     "name": "stdout",
     "output_type": "stream",
     "text": [
      "100 0.1 123.0\n",
      "100 0.25 126.0\n",
      "100 0.5 126.0\n",
      "100 0.75 121.0\n",
      "200 0.1 127.0\n",
      "200 0.25 127.0\n",
      "200 0.5 127.0\n",
      "200 0.75 121.0\n",
      "250 0.1 127.0\n",
      "250 0.25 126.0\n",
      "250 0.5 126.0\n",
      "250 0.75 125.0\n",
      "500 0.1 126.0\n",
      "500 0.25 127.0\n",
      "500 0.5 127.0\n",
      "500 0.75 124.0\n"
     ]
    }
   ],
   "source": [
    "for i in df_run_stats['Population Size'].unique():\n",
    "    df_pop = df_run_stats[df_run_stats['Population Size']==i]\n",
    "    for j in df_run_stats['Keep Percent'].unique():\n",
    "        max_f = df_pop[df_pop['Keep Percent']==j]['Fitness'].max()\n",
    "        print (i, j, max_f)"
   ]
  },
  {
   "cell_type": "code",
   "execution_count": 22,
   "metadata": {},
   "outputs": [
    {
     "data": {
      "text/html": [
       "<div>\n",
       "<style scoped>\n",
       "    .dataframe tbody tr th:only-of-type {\n",
       "        vertical-align: middle;\n",
       "    }\n",
       "\n",
       "    .dataframe tbody tr th {\n",
       "        vertical-align: top;\n",
       "    }\n",
       "\n",
       "    .dataframe thead th {\n",
       "        text-align: right;\n",
       "    }\n",
       "</style>\n",
       "<table border=\"1\" class=\"dataframe\">\n",
       "  <thead>\n",
       "    <tr style=\"text-align: right;\">\n",
       "      <th></th>\n",
       "      <th>Iteration</th>\n",
       "      <th>Time</th>\n",
       "      <th>Fitness</th>\n",
       "      <th>use_fast_mimic</th>\n",
       "      <th>Population Size</th>\n",
       "      <th>Keep Percent</th>\n",
       "      <th>max_iters</th>\n",
       "    </tr>\n",
       "  </thead>\n",
       "  <tbody>\n",
       "    <tr>\n",
       "      <th>0</th>\n",
       "      <td>0</td>\n",
       "      <td>0.003456</td>\n",
       "      <td>115.0</td>\n",
       "      <td>True</td>\n",
       "      <td>100</td>\n",
       "      <td>0.1</td>\n",
       "      <td>512</td>\n",
       "    </tr>\n",
       "    <tr>\n",
       "      <th>1</th>\n",
       "      <td>1</td>\n",
       "      <td>0.011570</td>\n",
       "      <td>122.0</td>\n",
       "      <td>True</td>\n",
       "      <td>100</td>\n",
       "      <td>0.1</td>\n",
       "      <td>512</td>\n",
       "    </tr>\n",
       "    <tr>\n",
       "      <th>2</th>\n",
       "      <td>2</td>\n",
       "      <td>0.022651</td>\n",
       "      <td>123.0</td>\n",
       "      <td>True</td>\n",
       "      <td>100</td>\n",
       "      <td>0.1</td>\n",
       "      <td>512</td>\n",
       "    </tr>\n",
       "    <tr>\n",
       "      <th>3</th>\n",
       "      <td>3</td>\n",
       "      <td>0.032988</td>\n",
       "      <td>123.0</td>\n",
       "      <td>True</td>\n",
       "      <td>100</td>\n",
       "      <td>0.1</td>\n",
       "      <td>512</td>\n",
       "    </tr>\n",
       "    <tr>\n",
       "      <th>4</th>\n",
       "      <td>4</td>\n",
       "      <td>0.040192</td>\n",
       "      <td>123.0</td>\n",
       "      <td>True</td>\n",
       "      <td>100</td>\n",
       "      <td>0.1</td>\n",
       "      <td>512</td>\n",
       "    </tr>\n",
       "  </tbody>\n",
       "</table>\n",
       "</div>"
      ],
      "text/plain": [
       "   Iteration      Time  Fitness  use_fast_mimic  Population Size  \\\n",
       "0          0  0.003456    115.0            True              100   \n",
       "1          1  0.011570    122.0            True              100   \n",
       "2          2  0.022651    123.0            True              100   \n",
       "3          3  0.032988    123.0            True              100   \n",
       "4          4  0.040192    123.0            True              100   \n",
       "\n",
       "   Keep Percent  max_iters  \n",
       "0           0.1        512  \n",
       "1           0.1        512  \n",
       "2           0.1        512  \n",
       "3           0.1        512  \n",
       "4           0.1        512  "
      ]
     },
     "execution_count": 22,
     "metadata": {},
     "output_type": "execute_result"
    }
   ],
   "source": [
    "df_run_curves.head()"
   ]
  },
  {
   "cell_type": "code",
   "execution_count": 23,
   "metadata": {},
   "outputs": [
    {
     "data": {
      "text/plain": [
       "<seaborn.axisgrid.FacetGrid at 0x7f248159e890>"
      ]
     },
     "execution_count": 23,
     "metadata": {},
     "output_type": "execute_result"
    },
    {
     "data": {
      "image/png": "[encoded data removed]",
      "text/plain": [
       "<Figure size 691.2x144 with 4 Axes>"
      ]
     },
     "metadata": {
      "needs_background": "light"
     },
     "output_type": "display_data"
    }
   ],
   "source": [
    "grid = sns.FacetGrid(df_run_curves, col='Population Size', size=2, aspect=1.2)\n",
    "grid.map(sns.lineplot, 'Iteration', 'Fitness', alpha=.5, color='red', linewidth=2.5)\n",
    "# grid.map(sns.scatterplot, 'Iteration', 'Fitness', alpha=.5)"
   ]
  }
 ],
 "metadata": {
  "kernelspec": {
   "display_name": "Python 3",
   "language": "python",
   "name": "python3"
  },
  "language_info": {
   "codemirror_mode": {
    "name": "ipython",
    "version": 3
   },
   "file_extension": ".py",
   "mimetype": "text/x-python",
   "name": "python",
   "nbconvert_exporter": "python",
   "pygments_lexer": "ipython3",
   "version": "3.7.4"
  }
 },
 "nbformat": 4,
 "nbformat_minor": 2
}

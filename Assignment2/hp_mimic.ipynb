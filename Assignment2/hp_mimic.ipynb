{
 "cells": [
  {
   "cell_type": "code",
   "execution_count": 2,
   "metadata": {},
   "outputs": [],
   "source": [
    "import mlrose_hiive\n",
    "\n",
    "import numpy as np\n",
    "import pandas as pd\n",
    "from datetime import datetime\n",
    "import seaborn as sns\n",
    "\n",
    "import matplotlib.pyplot as plt\n",
    "%matplotlib inline\n"
   ]
  },
  {
   "cell_type": "markdown",
   "metadata": {},
   "source": [
    "## MIMIC\n",
    "\n",
    "Final Hyper Parameters:\n",
    "* iteration = \n",
    "* population_sizes\n",
    "* keep_pct = \n",
    "* max_attempts = 100"
   ]
  },
  {
   "cell_type": "code",
   "execution_count": 4,
   "metadata": {},
   "outputs": [],
   "source": [
    "alg_name = 'mimic'"
   ]
  },
  {
   "cell_type": "markdown",
   "metadata": {},
   "source": [
    "### Flip Flop (input_size=25)"
   ]
  },
  {
   "cell_type": "code",
   "execution_count": 3,
   "metadata": {},
   "outputs": [
    {
     "name": "stdout",
     "output_type": "stream",
     "text": [
      "(176, 8) (466, 7)\n"
     ]
    }
   ],
   "source": [
    "fitness_name = 'flipflop'\n",
    "df_run_stats = pd.read_csv('./output/{0}/{1}__{0}__run_stats_df.csv'.format(fitness_name, alg_name))\n",
    "df_run_curves = pd.read_csv('./output/{0}/{1}__{0}__curves_df.csv'.format(fitness_name, alg_name))\n",
    "\n",
    "if ('Unnamed: 0' in df_run_stats.keys()):\n",
    "        df_run_stats.pop('Unnamed: 0')\n",
    "        \n",
    "if ('Unnamed: 0' in df_run_curves.keys()):\n",
    "        df_run_curves.pop('Unnamed: 0')\n",
    "        \n",
    "print(df_run_stats.shape, df_run_curves.shape)"
   ]
  },
  {
   "cell_type": "code",
   "execution_count": 4,
   "metadata": {},
   "outputs": [
    {
     "data": {
      "text/html": [
       "<div>\n",
       "<style scoped>\n",
       "    .dataframe tbody tr th:only-of-type {\n",
       "        vertical-align: middle;\n",
       "    }\n",
       "\n",
       "    .dataframe tbody tr th {\n",
       "        vertical-align: top;\n",
       "    }\n",
       "\n",
       "    .dataframe thead th {\n",
       "        text-align: right;\n",
       "    }\n",
       "</style>\n",
       "<table border=\"1\" class=\"dataframe\">\n",
       "  <thead>\n",
       "    <tr style=\"text-align: right;\">\n",
       "      <th></th>\n",
       "      <th>Iteration</th>\n",
       "      <th>Fitness</th>\n",
       "      <th>Time</th>\n",
       "      <th>State</th>\n",
       "      <th>use_fast_mimic</th>\n",
       "      <th>Population Size</th>\n",
       "      <th>Keep Percent</th>\n",
       "      <th>max_iters</th>\n",
       "    </tr>\n",
       "  </thead>\n",
       "  <tbody>\n",
       "    <tr>\n",
       "      <th>0</th>\n",
       "      <td>0</td>\n",
       "      <td>12.0</td>\n",
       "      <td>0.000197</td>\n",
       "      <td>[1, 1, 0, 0, 1, 1, 1, 1, 1, 0, 0, 1, 0, 1, 1, ...</td>\n",
       "      <td>True</td>\n",
       "      <td>50</td>\n",
       "      <td>0.1</td>\n",
       "      <td>512</td>\n",
       "    </tr>\n",
       "    <tr>\n",
       "      <th>1</th>\n",
       "      <td>1</td>\n",
       "      <td>21.0</td>\n",
       "      <td>0.007281</td>\n",
       "      <td>[1.0, 0.0, 1.0, 0.0, 1.0, 0.0, 1.0, 0.0, 1.0, ...</td>\n",
       "      <td>True</td>\n",
       "      <td>50</td>\n",
       "      <td>0.1</td>\n",
       "      <td>512</td>\n",
       "    </tr>\n",
       "    <tr>\n",
       "      <th>2</th>\n",
       "      <td>2</td>\n",
       "      <td>21.0</td>\n",
       "      <td>0.018656</td>\n",
       "      <td>[1.0, 0.0, 1.0, 0.0, 1.0, 0.0, 1.0, 0.0, 1.0, ...</td>\n",
       "      <td>True</td>\n",
       "      <td>50</td>\n",
       "      <td>0.1</td>\n",
       "      <td>512</td>\n",
       "    </tr>\n",
       "    <tr>\n",
       "      <th>3</th>\n",
       "      <td>4</td>\n",
       "      <td>21.0</td>\n",
       "      <td>0.034150</td>\n",
       "      <td>[1.0, 0.0, 1.0, 0.0, 1.0, 0.0, 1.0, 0.0, 1.0, ...</td>\n",
       "      <td>True</td>\n",
       "      <td>50</td>\n",
       "      <td>0.1</td>\n",
       "      <td>512</td>\n",
       "    </tr>\n",
       "    <tr>\n",
       "      <th>4</th>\n",
       "      <td>8</td>\n",
       "      <td>21.0</td>\n",
       "      <td>0.059239</td>\n",
       "      <td>[1.0, 0.0, 1.0, 0.0, 1.0, 0.0, 1.0, 0.0, 1.0, ...</td>\n",
       "      <td>True</td>\n",
       "      <td>50</td>\n",
       "      <td>0.1</td>\n",
       "      <td>512</td>\n",
       "    </tr>\n",
       "  </tbody>\n",
       "</table>\n",
       "</div>"
      ],
      "text/plain": [
       "   Iteration  Fitness      Time  \\\n",
       "0          0     12.0  0.000197   \n",
       "1          1     21.0  0.007281   \n",
       "2          2     21.0  0.018656   \n",
       "3          4     21.0  0.034150   \n",
       "4          8     21.0  0.059239   \n",
       "\n",
       "                                               State  use_fast_mimic  \\\n",
       "0  [1, 1, 0, 0, 1, 1, 1, 1, 1, 0, 0, 1, 0, 1, 1, ...            True   \n",
       "1  [1.0, 0.0, 1.0, 0.0, 1.0, 0.0, 1.0, 0.0, 1.0, ...            True   \n",
       "2  [1.0, 0.0, 1.0, 0.0, 1.0, 0.0, 1.0, 0.0, 1.0, ...            True   \n",
       "3  [1.0, 0.0, 1.0, 0.0, 1.0, 0.0, 1.0, 0.0, 1.0, ...            True   \n",
       "4  [1.0, 0.0, 1.0, 0.0, 1.0, 0.0, 1.0, 0.0, 1.0, ...            True   \n",
       "\n",
       "   Population Size  Keep Percent  max_iters  \n",
       "0               50           0.1        512  \n",
       "1               50           0.1        512  \n",
       "2               50           0.1        512  \n",
       "3               50           0.1        512  \n",
       "4               50           0.1        512  "
      ]
     },
     "execution_count": 4,
     "metadata": {},
     "output_type": "execute_result"
    }
   ],
   "source": [
    "df_run_stats.head()"
   ]
  },
  {
   "cell_type": "code",
   "execution_count": 5,
   "metadata": {
    "scrolled": false
   },
   "outputs": [
    {
     "data": {
      "text/plain": [
       "<seaborn.axisgrid.FacetGrid at 0x7f9e1d3e44d0>"
      ]
     },
     "execution_count": 5,
     "metadata": {},
     "output_type": "execute_result"
    },
    {
     "data": {
      "image/png": "[encoded data removed]",
      "text/plain": [
       "<Figure size 921.6x576 with 16 Axes>"
      ]
     },
     "metadata": {
      "needs_background": "light"
     },
     "output_type": "display_data"
    }
   ],
   "source": [
    "grid = sns.FacetGrid(df_run_stats, row='Population Size', col='Keep Percent', size=2, aspect=1.6)\n",
    "grid.map(sns.lineplot, 'Iteration', 'Fitness', alpha=.5, color='red', linewidth=2.5)\n",
    "grid.map(sns.scatterplot, 'Iteration', 'Fitness', alpha=.5)\n",
    "# grid.add_legend()"
   ]
  },
  {
   "cell_type": "code",
   "execution_count": 6,
   "metadata": {},
   "outputs": [
    {
     "name": "stdout",
     "output_type": "stream",
     "text": [
      "50 0.1 21.0\n",
      "50 0.25 21.0\n",
      "50 0.5 21.0\n",
      "50 0.75 23.0\n",
      "200 0.1 23.0\n",
      "200 0.25 24.0\n",
      "200 0.5 24.0\n",
      "200 0.75 22.0\n",
      "250 0.1 23.0\n",
      "250 0.25 24.0\n",
      "250 0.5 24.0\n",
      "250 0.75 24.0\n",
      "500 0.1 24.0\n",
      "500 0.25 24.0\n",
      "500 0.5 24.0\n",
      "500 0.75 24.0\n"
     ]
    }
   ],
   "source": [
    "for i in df_run_stats['Population Size'].unique():\n",
    "    df_pop = df_run_stats[df_run_stats['Population Size']==i]\n",
    "    for j in df_run_stats['Keep Percent'].unique():\n",
    "        max_f = df_pop[df_pop['Keep Percent']==j]['Fitness'].max()\n",
    "        print (i, j, max_f)"
   ]
  },
  {
   "cell_type": "code",
   "execution_count": 7,
   "metadata": {},
   "outputs": [
    {
     "data": {
      "text/html": [
       "<div>\n",
       "<style scoped>\n",
       "    .dataframe tbody tr th:only-of-type {\n",
       "        vertical-align: middle;\n",
       "    }\n",
       "\n",
       "    .dataframe tbody tr th {\n",
       "        vertical-align: top;\n",
       "    }\n",
       "\n",
       "    .dataframe thead th {\n",
       "        text-align: right;\n",
       "    }\n",
       "</style>\n",
       "<table border=\"1\" class=\"dataframe\">\n",
       "  <thead>\n",
       "    <tr style=\"text-align: right;\">\n",
       "      <th></th>\n",
       "      <th>Iteration</th>\n",
       "      <th>Time</th>\n",
       "      <th>Fitness</th>\n",
       "      <th>use_fast_mimic</th>\n",
       "      <th>Population Size</th>\n",
       "      <th>Keep Percent</th>\n",
       "      <th>max_iters</th>\n",
       "    </tr>\n",
       "  </thead>\n",
       "  <tbody>\n",
       "    <tr>\n",
       "      <th>0</th>\n",
       "      <td>0</td>\n",
       "      <td>0.000197</td>\n",
       "      <td>21.0</td>\n",
       "      <td>True</td>\n",
       "      <td>50</td>\n",
       "      <td>0.1</td>\n",
       "      <td>512</td>\n",
       "    </tr>\n",
       "    <tr>\n",
       "      <th>1</th>\n",
       "      <td>1</td>\n",
       "      <td>0.007281</td>\n",
       "      <td>21.0</td>\n",
       "      <td>True</td>\n",
       "      <td>50</td>\n",
       "      <td>0.1</td>\n",
       "      <td>512</td>\n",
       "    </tr>\n",
       "    <tr>\n",
       "      <th>2</th>\n",
       "      <td>2</td>\n",
       "      <td>0.018656</td>\n",
       "      <td>21.0</td>\n",
       "      <td>True</td>\n",
       "      <td>50</td>\n",
       "      <td>0.1</td>\n",
       "      <td>512</td>\n",
       "    </tr>\n",
       "    <tr>\n",
       "      <th>3</th>\n",
       "      <td>3</td>\n",
       "      <td>0.028339</td>\n",
       "      <td>21.0</td>\n",
       "      <td>True</td>\n",
       "      <td>50</td>\n",
       "      <td>0.1</td>\n",
       "      <td>512</td>\n",
       "    </tr>\n",
       "    <tr>\n",
       "      <th>4</th>\n",
       "      <td>4</td>\n",
       "      <td>0.034150</td>\n",
       "      <td>21.0</td>\n",
       "      <td>True</td>\n",
       "      <td>50</td>\n",
       "      <td>0.1</td>\n",
       "      <td>512</td>\n",
       "    </tr>\n",
       "  </tbody>\n",
       "</table>\n",
       "</div>"
      ],
      "text/plain": [
       "   Iteration      Time  Fitness  use_fast_mimic  Population Size  \\\n",
       "0          0  0.000197     21.0            True               50   \n",
       "1          1  0.007281     21.0            True               50   \n",
       "2          2  0.018656     21.0            True               50   \n",
       "3          3  0.028339     21.0            True               50   \n",
       "4          4  0.034150     21.0            True               50   \n",
       "\n",
       "   Keep Percent  max_iters  \n",
       "0           0.1        512  \n",
       "1           0.1        512  \n",
       "2           0.1        512  \n",
       "3           0.1        512  \n",
       "4           0.1        512  "
      ]
     },
     "execution_count": 7,
     "metadata": {},
     "output_type": "execute_result"
    }
   ],
   "source": [
    "df_run_curves.head()"
   ]
  },
  {
   "cell_type": "code",
   "execution_count": 8,
   "metadata": {},
   "outputs": [
    {
     "data": {
      "text/plain": [
       "<seaborn.axisgrid.FacetGrid at 0x7f9e1c94fad0>"
      ]
     },
     "execution_count": 8,
     "metadata": {},
     "output_type": "execute_result"
    },
    {
     "data": {
      "image/png": "[encoded data removed]",
      "text/plain": [
       "<Figure size 691.2x144 with 4 Axes>"
      ]
     },
     "metadata": {
      "needs_background": "light"
     },
     "output_type": "display_data"
    }
   ],
   "source": [
    "grid = sns.FacetGrid(df_run_curves, col='Population Size', size=2, aspect=1.2)\n",
    "grid.map(sns.lineplot, 'Iteration', 'Fitness', alpha=.5, color='red', linewidth=2.5)\n",
    "# grid.map(sns.scatterplot, 'Iteration', 'Fitness', alpha=.5)"
   ]
  },
  {
   "cell_type": "markdown",
   "metadata": {},
   "source": [
    "### Four Peaks (input_size=40)"
   ]
  },
  {
   "cell_type": "code",
   "execution_count": 65,
   "metadata": {},
   "outputs": [
    {
     "name": "stdout",
     "output_type": "stream",
     "text": [
      "(176, 8) (1844, 7)\n"
     ]
    }
   ],
   "source": [
    "fitness_name = '4peaks'\n",
    "df_run_stats = pd.read_csv('./output/{0}/{1}__{0}__run_stats_df.csv'.format(fitness_name, alg_name))\n",
    "df_run_curves = pd.read_csv('./output/{0}/{1}__{0}__curves_df.csv'.format(fitness_name, alg_name))\n",
    "\n",
    "if ('Unnamed: 0' in df_run_stats.keys()):\n",
    "        df_run_stats.pop('Unnamed: 0')\n",
    "        \n",
    "if ('Unnamed: 0' in df_run_curves.keys()):\n",
    "        df_run_curves.pop('Unnamed: 0')\n",
    "        \n",
    "print(df_run_stats.shape, df_run_curves.shape)"
   ]
  },
  {
   "cell_type": "code",
   "execution_count": 66,
   "metadata": {},
   "outputs": [
    {
     "data": {
      "text/html": [
       "<div>\n",
       "<style scoped>\n",
       "    .dataframe tbody tr th:only-of-type {\n",
       "        vertical-align: middle;\n",
       "    }\n",
       "\n",
       "    .dataframe tbody tr th {\n",
       "        vertical-align: top;\n",
       "    }\n",
       "\n",
       "    .dataframe thead th {\n",
       "        text-align: right;\n",
       "    }\n",
       "</style>\n",
       "<table border=\"1\" class=\"dataframe\">\n",
       "  <thead>\n",
       "    <tr style=\"text-align: right;\">\n",
       "      <th></th>\n",
       "      <th>Iteration</th>\n",
       "      <th>Fitness</th>\n",
       "      <th>Time</th>\n",
       "      <th>State</th>\n",
       "      <th>use_fast_mimic</th>\n",
       "      <th>Population Size</th>\n",
       "      <th>Keep Percent</th>\n",
       "      <th>max_iters</th>\n",
       "    </tr>\n",
       "  </thead>\n",
       "  <tbody>\n",
       "    <tr>\n",
       "      <th>0</th>\n",
       "      <td>0</td>\n",
       "      <td>2.0</td>\n",
       "      <td>0.002456</td>\n",
       "      <td>[1, 1, 0, 0, 1, 1, 1, 1, 1, 0, 0, 1, 0, 1, 1, ...</td>\n",
       "      <td>True</td>\n",
       "      <td>50</td>\n",
       "      <td>0.1</td>\n",
       "      <td>512</td>\n",
       "    </tr>\n",
       "    <tr>\n",
       "      <th>1</th>\n",
       "      <td>1</td>\n",
       "      <td>7.0</td>\n",
       "      <td>0.025266</td>\n",
       "      <td>[0.0, 1.0, 0.0, 1.0, 0.0, 1.0, 0.0, 1.0, 0.0, ...</td>\n",
       "      <td>True</td>\n",
       "      <td>50</td>\n",
       "      <td>0.1</td>\n",
       "      <td>512</td>\n",
       "    </tr>\n",
       "    <tr>\n",
       "      <th>2</th>\n",
       "      <td>2</td>\n",
       "      <td>8.0</td>\n",
       "      <td>0.055620</td>\n",
       "      <td>[1.0, 1.0, 1.0, 1.0, 1.0, 1.0, 1.0, 1.0, 0.0, ...</td>\n",
       "      <td>True</td>\n",
       "      <td>50</td>\n",
       "      <td>0.1</td>\n",
       "      <td>512</td>\n",
       "    </tr>\n",
       "    <tr>\n",
       "      <th>3</th>\n",
       "      <td>4</td>\n",
       "      <td>8.0</td>\n",
       "      <td>0.110172</td>\n",
       "      <td>[1.0, 1.0, 1.0, 1.0, 1.0, 1.0, 1.0, 1.0, 0.0, ...</td>\n",
       "      <td>True</td>\n",
       "      <td>50</td>\n",
       "      <td>0.1</td>\n",
       "      <td>512</td>\n",
       "    </tr>\n",
       "    <tr>\n",
       "      <th>4</th>\n",
       "      <td>8</td>\n",
       "      <td>8.0</td>\n",
       "      <td>0.208215</td>\n",
       "      <td>[1.0, 1.0, 1.0, 1.0, 1.0, 1.0, 1.0, 1.0, 0.0, ...</td>\n",
       "      <td>True</td>\n",
       "      <td>50</td>\n",
       "      <td>0.1</td>\n",
       "      <td>512</td>\n",
       "    </tr>\n",
       "  </tbody>\n",
       "</table>\n",
       "</div>"
      ],
      "text/plain": [
       "   Iteration  Fitness      Time  \\\n",
       "0          0      2.0  0.002456   \n",
       "1          1      7.0  0.025266   \n",
       "2          2      8.0  0.055620   \n",
       "3          4      8.0  0.110172   \n",
       "4          8      8.0  0.208215   \n",
       "\n",
       "                                               State  use_fast_mimic  \\\n",
       "0  [1, 1, 0, 0, 1, 1, 1, 1, 1, 0, 0, 1, 0, 1, 1, ...            True   \n",
       "1  [0.0, 1.0, 0.0, 1.0, 0.0, 1.0, 0.0, 1.0, 0.0, ...            True   \n",
       "2  [1.0, 1.0, 1.0, 1.0, 1.0, 1.0, 1.0, 1.0, 0.0, ...            True   \n",
       "3  [1.0, 1.0, 1.0, 1.0, 1.0, 1.0, 1.0, 1.0, 0.0, ...            True   \n",
       "4  [1.0, 1.0, 1.0, 1.0, 1.0, 1.0, 1.0, 1.0, 0.0, ...            True   \n",
       "\n",
       "   Population Size  Keep Percent  max_iters  \n",
       "0               50           0.1        512  \n",
       "1               50           0.1        512  \n",
       "2               50           0.1        512  \n",
       "3               50           0.1        512  \n",
       "4               50           0.1        512  "
      ]
     },
     "execution_count": 66,
     "metadata": {},
     "output_type": "execute_result"
    }
   ],
   "source": [
    "df_run_stats.head()"
   ]
  },
  {
   "cell_type": "code",
   "execution_count": 67,
   "metadata": {},
   "outputs": [
    {
     "data": {
      "text/plain": [
       "<seaborn.axisgrid.FacetGrid at 0x7f2e42b42bd0>"
      ]
     },
     "execution_count": 67,
     "metadata": {},
     "output_type": "execute_result"
    },
    {
     "data": {
      "image/png": "[encoded data removed]",
      "text/plain": [
       "<Figure size 921.6x576 with 16 Axes>"
      ]
     },
     "metadata": {
      "needs_background": "light"
     },
     "output_type": "display_data"
    }
   ],
   "source": [
    "grid = sns.FacetGrid(df_run_stats, row='Population Size', col='Keep Percent', size=2, aspect=1.6)\n",
    "grid.map(sns.lineplot, 'Iteration', 'Fitness', alpha=.5, color='red', linewidth=2.5)\n",
    "grid.map(sns.scatterplot, 'Iteration', 'Fitness', alpha=.5)\n",
    "# grid.add_legend()"
   ]
  },
  {
   "cell_type": "code",
   "execution_count": 68,
   "metadata": {},
   "outputs": [
    {
     "name": "stdout",
     "output_type": "stream",
     "text": [
      "50 0.1 8.0\n",
      "50 0.25 17.0\n",
      "50 0.5 13.0\n",
      "50 0.75 8.0\n",
      "200 0.1 22.0\n",
      "200 0.25 73.0\n",
      "200 0.5 16.0\n",
      "200 0.75 15.0\n",
      "250 0.1 70.0\n",
      "250 0.25 82.0\n",
      "250 0.5 16.0\n",
      "250 0.75 15.0\n",
      "500 0.1 78.0\n",
      "500 0.25 75.0\n",
      "500 0.5 67.0\n",
      "500 0.75 16.0\n"
     ]
    }
   ],
   "source": [
    "for i in df_run_stats['Population Size'].unique():\n",
    "    df_pop = df_run_stats[df_run_stats['Population Size']==i]\n",
    "    for j in df_run_stats['Keep Percent'].unique():\n",
    "        max_f = df_pop[df_pop['Keep Percent']==j]['Fitness'].max()\n",
    "        print (i, j, max_f)"
   ]
  },
  {
   "cell_type": "code",
   "execution_count": 13,
   "metadata": {},
   "outputs": [
    {
     "data": {
      "text/html": [
       "<div>\n",
       "<style scoped>\n",
       "    .dataframe tbody tr th:only-of-type {\n",
       "        vertical-align: middle;\n",
       "    }\n",
       "\n",
       "    .dataframe tbody tr th {\n",
       "        vertical-align: top;\n",
       "    }\n",
       "\n",
       "    .dataframe thead th {\n",
       "        text-align: right;\n",
       "    }\n",
       "</style>\n",
       "<table border=\"1\" class=\"dataframe\">\n",
       "  <thead>\n",
       "    <tr style=\"text-align: right;\">\n",
       "      <th></th>\n",
       "      <th>Iteration</th>\n",
       "      <th>Time</th>\n",
       "      <th>Fitness</th>\n",
       "      <th>use_fast_mimic</th>\n",
       "      <th>Population Size</th>\n",
       "      <th>Keep Percent</th>\n",
       "      <th>max_iters</th>\n",
       "    </tr>\n",
       "  </thead>\n",
       "  <tbody>\n",
       "    <tr>\n",
       "      <th>0</th>\n",
       "      <td>0</td>\n",
       "      <td>0.001200</td>\n",
       "      <td>7.0</td>\n",
       "      <td>True</td>\n",
       "      <td>50</td>\n",
       "      <td>0.1</td>\n",
       "      <td>512</td>\n",
       "    </tr>\n",
       "    <tr>\n",
       "      <th>1</th>\n",
       "      <td>1</td>\n",
       "      <td>0.008761</td>\n",
       "      <td>7.0</td>\n",
       "      <td>True</td>\n",
       "      <td>50</td>\n",
       "      <td>0.1</td>\n",
       "      <td>512</td>\n",
       "    </tr>\n",
       "    <tr>\n",
       "      <th>2</th>\n",
       "      <td>2</td>\n",
       "      <td>0.018605</td>\n",
       "      <td>7.0</td>\n",
       "      <td>True</td>\n",
       "      <td>50</td>\n",
       "      <td>0.1</td>\n",
       "      <td>512</td>\n",
       "    </tr>\n",
       "    <tr>\n",
       "      <th>3</th>\n",
       "      <td>3</td>\n",
       "      <td>0.028626</td>\n",
       "      <td>7.0</td>\n",
       "      <td>True</td>\n",
       "      <td>50</td>\n",
       "      <td>0.1</td>\n",
       "      <td>512</td>\n",
       "    </tr>\n",
       "    <tr>\n",
       "      <th>4</th>\n",
       "      <td>4</td>\n",
       "      <td>0.034886</td>\n",
       "      <td>7.0</td>\n",
       "      <td>True</td>\n",
       "      <td>50</td>\n",
       "      <td>0.1</td>\n",
       "      <td>512</td>\n",
       "    </tr>\n",
       "  </tbody>\n",
       "</table>\n",
       "</div>"
      ],
      "text/plain": [
       "   Iteration      Time  Fitness  use_fast_mimic  Population Size  \\\n",
       "0          0  0.001200      7.0            True               50   \n",
       "1          1  0.008761      7.0            True               50   \n",
       "2          2  0.018605      7.0            True               50   \n",
       "3          3  0.028626      7.0            True               50   \n",
       "4          4  0.034886      7.0            True               50   \n",
       "\n",
       "   Keep Percent  max_iters  \n",
       "0           0.1        512  \n",
       "1           0.1        512  \n",
       "2           0.1        512  \n",
       "3           0.1        512  \n",
       "4           0.1        512  "
      ]
     },
     "execution_count": 13,
     "metadata": {},
     "output_type": "execute_result"
    }
   ],
   "source": [
    "df_run_curves.head()"
   ]
  },
  {
   "cell_type": "code",
   "execution_count": 14,
   "metadata": {},
   "outputs": [
    {
     "data": {
      "text/plain": [
       "<seaborn.axisgrid.FacetGrid at 0x7f9e1bd8db90>"
      ]
     },
     "execution_count": 14,
     "metadata": {},
     "output_type": "execute_result"
    },
    {
     "data": {
      "image/png": "[encoded data removed]",
      "text/plain": [
       "<Figure size 691.2x144 with 4 Axes>"
      ]
     },
     "metadata": {
      "needs_background": "light"
     },
     "output_type": "display_data"
    }
   ],
   "source": [
    "grid = sns.FacetGrid(df_run_curves, col='Population Size', size=2, aspect=1.2)\n",
    "grid.map(sns.lineplot, 'Iteration', 'Fitness', alpha=.5, color='red', linewidth=2.5)\n",
    "# grid.map(sns.scatterplot, 'Iteration', 'Fitness', alpha=.5)"
   ]
  },
  {
   "cell_type": "markdown",
   "metadata": {},
   "source": [
    "### Knapsack (input_size=150)\n",
    "* iteration_list=2 ** np.arange(10),\n",
    "* population_sizes=pop_size_list,\n",
    "* max_attempts=50,\n",
    "* keep_percent_list=[0.1, 0.25, 0.5, 0.75],\n",
    "* use_fast_mimic=True)"
   ]
  },
  {
   "cell_type": "code",
   "execution_count": 61,
   "metadata": {},
   "outputs": [
    {
     "name": "stdout",
     "output_type": "stream",
     "text": [
      "(132, 8) (1116, 7)\n"
     ]
    }
   ],
   "source": [
    "fitness_name = 'knapsack'\n",
    "df_run_stats = pd.read_csv('./output/{0}/{1}__{0}__run_stats_df.csv'.format(fitness_name, alg_name))\n",
    "df_run_curves = pd.read_csv('./output/{0}/{1}__{0}__curves_df.csv'.format(fitness_name, alg_name))\n",
    "\n",
    "if ('Unnamed: 0' in df_run_stats.keys()):\n",
    "        df_run_stats.pop('Unnamed: 0')\n",
    "        \n",
    "if ('Unnamed: 0' in df_run_curves.keys()):\n",
    "        df_run_curves.pop('Unnamed: 0')\n",
    "        \n",
    "print(df_run_stats.shape, df_run_curves.shape)"
   ]
  },
  {
   "cell_type": "code",
   "execution_count": 62,
   "metadata": {},
   "outputs": [
    {
     "data": {
      "text/html": [
       "<div>\n",
       "<style scoped>\n",
       "    .dataframe tbody tr th:only-of-type {\n",
       "        vertical-align: middle;\n",
       "    }\n",
       "\n",
       "    .dataframe tbody tr th {\n",
       "        vertical-align: top;\n",
       "    }\n",
       "\n",
       "    .dataframe thead th {\n",
       "        text-align: right;\n",
       "    }\n",
       "</style>\n",
       "<table border=\"1\" class=\"dataframe\">\n",
       "  <thead>\n",
       "    <tr style=\"text-align: right;\">\n",
       "      <th></th>\n",
       "      <th>Iteration</th>\n",
       "      <th>Fitness</th>\n",
       "      <th>Time</th>\n",
       "      <th>State</th>\n",
       "      <th>use_fast_mimic</th>\n",
       "      <th>Population Size</th>\n",
       "      <th>Keep Percent</th>\n",
       "      <th>max_iters</th>\n",
       "    </tr>\n",
       "  </thead>\n",
       "  <tbody>\n",
       "    <tr>\n",
       "      <th>0</th>\n",
       "      <td>0</td>\n",
       "      <td>437.0</td>\n",
       "      <td>0.007278</td>\n",
       "      <td>[1, 1, 0, 0, 1, 1, 1, 1, 1, 0, 0, 1, 0, 1, 1, ...</td>\n",
       "      <td>True</td>\n",
       "      <td>200</td>\n",
       "      <td>0.1</td>\n",
       "      <td>512</td>\n",
       "    </tr>\n",
       "    <tr>\n",
       "      <th>1</th>\n",
       "      <td>1</td>\n",
       "      <td>528.0</td>\n",
       "      <td>0.052514</td>\n",
       "      <td>[0.0, 0.0, 0.0, 0.0, 0.0, 1.0, 1.0, 0.0, 0.0, ...</td>\n",
       "      <td>True</td>\n",
       "      <td>200</td>\n",
       "      <td>0.1</td>\n",
       "      <td>512</td>\n",
       "    </tr>\n",
       "    <tr>\n",
       "      <th>2</th>\n",
       "      <td>2</td>\n",
       "      <td>541.0</td>\n",
       "      <td>0.100063</td>\n",
       "      <td>[0.0, 1.0, 0.0, 0.0, 0.0, 1.0, 1.0, 0.0, 0.0, ...</td>\n",
       "      <td>True</td>\n",
       "      <td>200</td>\n",
       "      <td>0.1</td>\n",
       "      <td>512</td>\n",
       "    </tr>\n",
       "    <tr>\n",
       "      <th>3</th>\n",
       "      <td>4</td>\n",
       "      <td>587.0</td>\n",
       "      <td>0.189448</td>\n",
       "      <td>[0.0, 0.0, 1.0, 0.0, 0.0, 1.0, 1.0, 0.0, 1.0, ...</td>\n",
       "      <td>True</td>\n",
       "      <td>200</td>\n",
       "      <td>0.1</td>\n",
       "      <td>512</td>\n",
       "    </tr>\n",
       "    <tr>\n",
       "      <th>4</th>\n",
       "      <td>8</td>\n",
       "      <td>619.0</td>\n",
       "      <td>0.361334</td>\n",
       "      <td>[1.0, 0.0, 1.0, 0.0, 0.0, 1.0, 1.0, 0.0, 1.0, ...</td>\n",
       "      <td>True</td>\n",
       "      <td>200</td>\n",
       "      <td>0.1</td>\n",
       "      <td>512</td>\n",
       "    </tr>\n",
       "  </tbody>\n",
       "</table>\n",
       "</div>"
      ],
      "text/plain": [
       "   Iteration  Fitness      Time  \\\n",
       "0          0    437.0  0.007278   \n",
       "1          1    528.0  0.052514   \n",
       "2          2    541.0  0.100063   \n",
       "3          4    587.0  0.189448   \n",
       "4          8    619.0  0.361334   \n",
       "\n",
       "                                               State  use_fast_mimic  \\\n",
       "0  [1, 1, 0, 0, 1, 1, 1, 1, 1, 0, 0, 1, 0, 1, 1, ...            True   \n",
       "1  [0.0, 0.0, 0.0, 0.0, 0.0, 1.0, 1.0, 0.0, 0.0, ...            True   \n",
       "2  [0.0, 1.0, 0.0, 0.0, 0.0, 1.0, 1.0, 0.0, 0.0, ...            True   \n",
       "3  [0.0, 0.0, 1.0, 0.0, 0.0, 1.0, 1.0, 0.0, 1.0, ...            True   \n",
       "4  [1.0, 0.0, 1.0, 0.0, 0.0, 1.0, 1.0, 0.0, 1.0, ...            True   \n",
       "\n",
       "   Population Size  Keep Percent  max_iters  \n",
       "0              200           0.1        512  \n",
       "1              200           0.1        512  \n",
       "2              200           0.1        512  \n",
       "3              200           0.1        512  \n",
       "4              200           0.1        512  "
      ]
     },
     "execution_count": 62,
     "metadata": {},
     "output_type": "execute_result"
    }
   ],
   "source": [
    "df_run_stats.head()"
   ]
  },
  {
   "cell_type": "code",
   "execution_count": 63,
   "metadata": {},
   "outputs": [
    {
     "data": {
      "text/plain": [
       "<seaborn.axisgrid.FacetGrid at 0x7f2e43159d10>"
      ]
     },
     "execution_count": 63,
     "metadata": {},
     "output_type": "execute_result"
    },
    {
     "data": {
      "image/png": "[encoded data removed]",
      "text/plain": [
       "<Figure size 921.6x432 with 12 Axes>"
      ]
     },
     "metadata": {
      "needs_background": "light"
     },
     "output_type": "display_data"
    }
   ],
   "source": [
    "grid = sns.FacetGrid(df_run_stats, row='Population Size', col='Keep Percent', size=2, aspect=1.6)\n",
    "grid.map(sns.lineplot, 'Iteration', 'Fitness', alpha=.5, color='red', linewidth=2.5)\n",
    "grid.map(sns.scatterplot, 'Iteration', 'Fitness', alpha=.5)\n",
    "# grid.add_legend()"
   ]
  },
  {
   "cell_type": "code",
   "execution_count": 64,
   "metadata": {},
   "outputs": [
    {
     "name": "stdout",
     "output_type": "stream",
     "text": [
      "200 0.1 621.0\n",
      "200 0.25 666.0\n",
      "200 0.5 678.0\n",
      "200 0.75 661.0\n",
      "250 0.1 645.0\n",
      "250 0.25 681.0\n",
      "250 0.5 682.0\n",
      "250 0.75 672.0\n",
      "750 0.1 690.0\n",
      "750 0.25 690.0\n",
      "750 0.5 690.0\n",
      "750 0.75 686.0\n"
     ]
    }
   ],
   "source": [
    "for i in df_run_stats['Population Size'].unique():\n",
    "    df_pop = df_run_stats[df_run_stats['Population Size']==i]\n",
    "    for j in df_run_stats['Keep Percent'].unique():\n",
    "        max_f = df_pop[df_pop['Keep Percent']==j]['Fitness'].max()\n",
    "        print (i, j, max_f)"
   ]
  },
  {
   "cell_type": "code",
   "execution_count": 22,
   "metadata": {},
   "outputs": [
    {
     "data": {
      "text/html": [
       "<div>\n",
       "<style scoped>\n",
       "    .dataframe tbody tr th:only-of-type {\n",
       "        vertical-align: middle;\n",
       "    }\n",
       "\n",
       "    .dataframe tbody tr th {\n",
       "        vertical-align: top;\n",
       "    }\n",
       "\n",
       "    .dataframe thead th {\n",
       "        text-align: right;\n",
       "    }\n",
       "</style>\n",
       "<table border=\"1\" class=\"dataframe\">\n",
       "  <thead>\n",
       "    <tr style=\"text-align: right;\">\n",
       "      <th></th>\n",
       "      <th>Iteration</th>\n",
       "      <th>Time</th>\n",
       "      <th>Fitness</th>\n",
       "      <th>use_fast_mimic</th>\n",
       "      <th>Population Size</th>\n",
       "      <th>Keep Percent</th>\n",
       "      <th>max_iters</th>\n",
       "    </tr>\n",
       "  </thead>\n",
       "  <tbody>\n",
       "    <tr>\n",
       "      <th>0</th>\n",
       "      <td>0</td>\n",
       "      <td>0.001702</td>\n",
       "      <td>113.0</td>\n",
       "      <td>True</td>\n",
       "      <td>50</td>\n",
       "      <td>0.1</td>\n",
       "      <td>512</td>\n",
       "    </tr>\n",
       "    <tr>\n",
       "      <th>1</th>\n",
       "      <td>1</td>\n",
       "      <td>0.008851</td>\n",
       "      <td>113.0</td>\n",
       "      <td>True</td>\n",
       "      <td>50</td>\n",
       "      <td>0.1</td>\n",
       "      <td>512</td>\n",
       "    </tr>\n",
       "    <tr>\n",
       "      <th>2</th>\n",
       "      <td>2</td>\n",
       "      <td>0.019221</td>\n",
       "      <td>113.0</td>\n",
       "      <td>True</td>\n",
       "      <td>50</td>\n",
       "      <td>0.1</td>\n",
       "      <td>512</td>\n",
       "    </tr>\n",
       "    <tr>\n",
       "      <th>3</th>\n",
       "      <td>3</td>\n",
       "      <td>0.028477</td>\n",
       "      <td>113.0</td>\n",
       "      <td>True</td>\n",
       "      <td>50</td>\n",
       "      <td>0.1</td>\n",
       "      <td>512</td>\n",
       "    </tr>\n",
       "    <tr>\n",
       "      <th>4</th>\n",
       "      <td>4</td>\n",
       "      <td>0.034708</td>\n",
       "      <td>113.0</td>\n",
       "      <td>True</td>\n",
       "      <td>50</td>\n",
       "      <td>0.1</td>\n",
       "      <td>512</td>\n",
       "    </tr>\n",
       "  </tbody>\n",
       "</table>\n",
       "</div>"
      ],
      "text/plain": [
       "   Iteration      Time  Fitness  use_fast_mimic  Population Size  \\\n",
       "0          0  0.001702    113.0            True               50   \n",
       "1          1  0.008851    113.0            True               50   \n",
       "2          2  0.019221    113.0            True               50   \n",
       "3          3  0.028477    113.0            True               50   \n",
       "4          4  0.034708    113.0            True               50   \n",
       "\n",
       "   Keep Percent  max_iters  \n",
       "0           0.1        512  \n",
       "1           0.1        512  \n",
       "2           0.1        512  \n",
       "3           0.1        512  \n",
       "4           0.1        512  "
      ]
     },
     "execution_count": 22,
     "metadata": {},
     "output_type": "execute_result"
    }
   ],
   "source": [
    "df_run_curves.head()"
   ]
  },
  {
   "cell_type": "code",
   "execution_count": 23,
   "metadata": {},
   "outputs": [
    {
     "data": {
      "text/plain": [
       "<seaborn.axisgrid.FacetGrid at 0x7f9e1aee4710>"
      ]
     },
     "execution_count": 23,
     "metadata": {},
     "output_type": "execute_result"
    },
    {
     "data": {
      "image/png": "[encoded data removed]",
      "text/plain": [
       "<Figure size 691.2x144 with 4 Axes>"
      ]
     },
     "metadata": {
      "needs_background": "light"
     },
     "output_type": "display_data"
    }
   ],
   "source": [
    "grid = sns.FacetGrid(df_run_curves, col='Population Size', size=2, aspect=1.2)\n",
    "grid.map(sns.lineplot, 'Iteration', 'Fitness', alpha=.5, color='red', linewidth=2.5)\n",
    "# grid.map(sns.scatterplot, 'Iteration', 'Fitness', alpha=.5)"
   ]
  },
  {
   "cell_type": "code",
   "execution_count": null,
   "metadata": {},
   "outputs": [],
   "source": []
  },
  {
   "cell_type": "code",
   "execution_count": null,
   "metadata": {},
   "outputs": [],
   "source": []
  },
  {
   "cell_type": "code",
   "execution_count": null,
   "metadata": {},
   "outputs": [],
   "source": []
  }
 ],
 "metadata": {
  "kernelspec": {
   "display_name": "Python 3",
   "language": "python",
   "name": "python3"
  },
  "language_info": {
   "codemirror_mode": {
    "name": "ipython",
    "version": 3
   },
   "file_extension": ".py",
   "mimetype": "text/x-python",
   "name": "python",
   "nbconvert_exporter": "python",
   "pygments_lexer": "ipython3",
   "version": "3.7.4"
  }
 },
 "nbformat": 4,
 "nbformat_minor": 2
}

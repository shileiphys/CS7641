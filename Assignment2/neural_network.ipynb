{
 "cells": [
  {
   "cell_type": "code",
   "execution_count": 68,
   "metadata": {},
   "outputs": [],
   "source": [
    "import pandas as pd\n",
    "import numpy as np\n",
    "import random as rnd\n",
    "import re\n",
    "import pickle\n",
    "\n",
    "# visualization\n",
    "import seaborn as sns\n",
    "import matplotlib.pyplot as plt\n",
    "%matplotlib inline"
   ]
  },
  {
   "cell_type": "code",
   "execution_count": 69,
   "metadata": {},
   "outputs": [],
   "source": [
    "from sklearn.model_selection import cross_val_score\n",
    "from sklearn.model_selection import ShuffleSplit\n",
    "from sklearn.model_selection import train_test_split\n",
    "from sklearn.preprocessing import MinMaxScaler, OneHotEncoder\n",
    "from sklearn.metrics import accuracy_score, f1_score, confusion_matrix\n",
    "from sklearn.metrics import precision_recall_fscore_support\n",
    "from sklearn.metrics import precision_score, balanced_accuracy_score"
   ]
  },
  {
   "cell_type": "code",
   "execution_count": 70,
   "metadata": {},
   "outputs": [],
   "source": [
    "import mlrose_hiive"
   ]
  },
  {
   "cell_type": "code",
   "execution_count": 71,
   "metadata": {},
   "outputs": [],
   "source": [
    "from sklearn.model_selection import learning_curve\n",
    "\n",
    "def plot_learning_curve(estimator, title, X, y, axes=None, ylim=None, \n",
    "                        cv=None, scoring='accuracy', n_jobs=None, \n",
    "                        train_sizes=np.linspace(.1, 1.0, 5)):\n",
    "    \"\"\"\n",
    "    Generate 3 plots: the test and training learning curve, the training\n",
    "    samples vs fit times curve, the fit times vs score curve.\n",
    "\n",
    "    Parameters\n",
    "    ----------\n",
    "    estimator : object type that implements the \"fit\" and \"predict\" methods\n",
    "        An object of that type which is cloned for each validation.\n",
    "\n",
    "    title : string\n",
    "        Title for the chart.\n",
    "\n",
    "    X : array-like, shape (n_samples, n_features)\n",
    "        Training vector, where n_samples is the number of samples and\n",
    "        n_features is the number of features.\n",
    "\n",
    "    y : array-like, shape (n_samples) or (n_samples, n_features), optional\n",
    "        Target relative to X for classification or regression;\n",
    "        None for unsupervised learning.\n",
    "\n",
    "    axes : array of 3 axes, optional (default=None)\n",
    "        Axes to use for plotting the curves.\n",
    "\n",
    "    ylim : tuple, shape (ymin, ymax), optional\n",
    "        Defines minimum and maximum yvalues plotted.\n",
    "\n",
    "    cv : int, cross-validation generator or an iterable, optional\n",
    "        Determines the cross-validation splitting strategy.\n",
    "        Possible inputs for cv are:\n",
    "          - None, to use the default 5-fold cross-validation,\n",
    "          - integer, to specify the number of folds.\n",
    "          - :term:`CV splitter`,\n",
    "          - An iterable yielding (train, test) splits as arrays of indices.\n",
    "\n",
    "        For integer/None inputs, if ``y`` is binary or multiclass,\n",
    "        :class:`StratifiedKFold` used. If the estimator is not a classifier\n",
    "        or if ``y`` is neither binary nor multiclass, :class:`KFold` is used.\n",
    "\n",
    "        Refer :ref:`User Guide <cross_validation>` for the various\n",
    "        cross-validators that can be used here.\n",
    "\n",
    "    n_jobs : int or None, optional (default=None)\n",
    "        Number of jobs to run in parallel.\n",
    "        ``None`` means 1 unless in a :obj:`joblib.parallel_backend` context.\n",
    "        ``-1`` means using all processors. See :term:`Glossary <n_jobs>`\n",
    "        for more details.\n",
    "\n",
    "    train_sizes : array-like, shape (n_ticks,), dtype float or int\n",
    "        Relative or absolute numbers of training examples that will be used to\n",
    "        generate the learning curve. If the dtype is float, it is regarded as a\n",
    "        fraction of the maximum size of the training set (that is determined\n",
    "        by the selected validation method), i.e. it has to be within (0, 1].\n",
    "        Otherwise it is interpreted as absolute sizes of the training sets.\n",
    "        Note that for classification the number of samples usually have to\n",
    "        be big enough to contain at least one sample from each class.\n",
    "        (default: np.linspace(0.1, 1.0, 5))\n",
    "    \"\"\"\n",
    "    if axes is None:\n",
    "        _, axes = plt.subplots(1, 3, figsize=(20, 5))\n",
    "\n",
    "    axes[0].set_title(title)\n",
    "    if ylim is not None:\n",
    "        axes[0].set_ylim(*ylim)\n",
    "    axes[0].set_xlabel(\"Training examples\")\n",
    "    axes[0].set_ylabel(\"Score\")\n",
    "\n",
    "    train_sizes, train_scores, test_scores, fit_times, _ = \\\n",
    "        learning_curve(estimator, X, y, cv=cv, n_jobs=n_jobs,\n",
    "                       train_sizes=train_sizes,\n",
    "                       scoring=scoring,\n",
    "                       return_times=True)\n",
    "    train_scores_mean = np.mean(train_scores, axis=1)\n",
    "    train_scores_std = np.std(train_scores, axis=1)\n",
    "    test_scores_mean = np.mean(test_scores, axis=1)\n",
    "    test_scores_std = np.std(test_scores, axis=1)\n",
    "    fit_times_mean = np.mean(fit_times, axis=1)\n",
    "    fit_times_std = np.std(fit_times, axis=1)\n",
    "\n",
    "    # Plot learning curve\n",
    "    axes[0].grid()\n",
    "    axes[0].fill_between(train_sizes, train_scores_mean - train_scores_std,\n",
    "                         train_scores_mean + train_scores_std, alpha=0.1,\n",
    "                         color=\"r\")\n",
    "    axes[0].fill_between(train_sizes, test_scores_mean - test_scores_std,\n",
    "                         test_scores_mean + test_scores_std, alpha=0.1,\n",
    "                         color=\"g\")\n",
    "    axes[0].plot(train_sizes, train_scores_mean, 'o-', color=\"r\",\n",
    "                 label=\"Training score\")\n",
    "    axes[0].plot(train_sizes, test_scores_mean, 'o-', color=\"g\",\n",
    "                 label=\"Cross-validation score\")\n",
    "    axes[0].legend(loc=\"best\")\n",
    "\n",
    "    # Plot n_samples vs fit_times\n",
    "    axes[1].grid()\n",
    "    axes[1].plot(train_sizes, fit_times_mean, 'o-')\n",
    "    axes[1].fill_between(train_sizes, fit_times_mean - fit_times_std,\n",
    "                         fit_times_mean + fit_times_std, alpha=0.1)\n",
    "    axes[1].set_xlabel(\"Training examples\")\n",
    "    axes[1].set_ylabel(\"fit_times\")\n",
    "    axes[1].set_title(\"Scalability of the model\")\n",
    "    axes[1].ticklabel_format(axis='y', style='sci', scilimits=(0,0))\n",
    "\n",
    "#     # Plot fit_time vs score\n",
    "#     axes[2].grid()\n",
    "#     axes[2].plot(fit_times_mean, test_scores_mean, 'o-')\n",
    "#     axes[2].fill_between(fit_times_mean, test_scores_mean - test_scores_std,\n",
    "#                          test_scores_mean + test_scores_std, alpha=0.1)\n",
    "#     axes[2].set_xlabel(\"fit_times\")\n",
    "#     axes[2].set_ylabel(\"Score\")\n",
    "#     axes[2].set_title(\"Performance of the model\")\n",
    "\n",
    "    return plt"
   ]
  },
  {
   "cell_type": "code",
   "execution_count": 72,
   "metadata": {},
   "outputs": [],
   "source": [
    "SEED = 1"
   ]
  },
  {
   "cell_type": "code",
   "execution_count": 73,
   "metadata": {},
   "outputs": [],
   "source": [
    "features = 'REGION-CENTROID-COL,REGION-CENTROID-ROW,REGION-PIXEL-COUNT, SHORT-LINE-DENSITY-5,SHORT-LINE-DENSITY-2,VEDGE-MEAN,VEDGE-SD,HEDGE-MEAN,HEDGE-SD,INTENSITY-MEAN,RAWRED-MEAN,RAWBLUE-MEAN,RAWGREEN-MEAN,EXRED-MEAN,EXBLUE-MEAN,EXGREEN-MEAN,VALUE-MEAN,SATURATION-MEAN,HUE-MEAN'\n",
    "col_names = features.split(',') + ['Class']\n",
    "# print(col_names)"
   ]
  },
  {
   "cell_type": "code",
   "execution_count": 74,
   "metadata": {
    "scrolled": true
   },
   "outputs": [
    {
     "data": {
      "text/plain": [
       "(2310, 20)"
      ]
     },
     "execution_count": 74,
     "metadata": {},
     "output_type": "execute_result"
    }
   ],
   "source": [
    "dataset_dir = '../Datasets/statlog_image_segmentation'\n",
    "df = pd.read_csv(dataset_dir + '/segment.dat', names=col_names, sep=' ')\n",
    "df.shape"
   ]
  },
  {
   "cell_type": "code",
   "execution_count": 75,
   "metadata": {},
   "outputs": [
    {
     "data": {
      "text/html": [
       "<div>\n",
       "<style scoped>\n",
       "    .dataframe tbody tr th:only-of-type {\n",
       "        vertical-align: middle;\n",
       "    }\n",
       "\n",
       "    .dataframe tbody tr th {\n",
       "        vertical-align: top;\n",
       "    }\n",
       "\n",
       "    .dataframe thead th {\n",
       "        text-align: right;\n",
       "    }\n",
       "</style>\n",
       "<table border=\"1\" class=\"dataframe\">\n",
       "  <thead>\n",
       "    <tr style=\"text-align: right;\">\n",
       "      <th></th>\n",
       "      <th>REGION-CENTROID-COL</th>\n",
       "      <th>REGION-CENTROID-ROW</th>\n",
       "      <th>REGION-PIXEL-COUNT</th>\n",
       "      <th>SHORT-LINE-DENSITY-5</th>\n",
       "      <th>SHORT-LINE-DENSITY-2</th>\n",
       "      <th>VEDGE-MEAN</th>\n",
       "      <th>VEDGE-SD</th>\n",
       "      <th>HEDGE-MEAN</th>\n",
       "      <th>HEDGE-SD</th>\n",
       "      <th>INTENSITY-MEAN</th>\n",
       "      <th>RAWRED-MEAN</th>\n",
       "      <th>RAWBLUE-MEAN</th>\n",
       "      <th>RAWGREEN-MEAN</th>\n",
       "      <th>EXRED-MEAN</th>\n",
       "      <th>EXBLUE-MEAN</th>\n",
       "      <th>EXGREEN-MEAN</th>\n",
       "      <th>VALUE-MEAN</th>\n",
       "      <th>SATURATION-MEAN</th>\n",
       "      <th>HUE-MEAN</th>\n",
       "      <th>Class</th>\n",
       "    </tr>\n",
       "  </thead>\n",
       "  <tbody>\n",
       "    <tr>\n",
       "      <th>0</th>\n",
       "      <td>218.0</td>\n",
       "      <td>178.0</td>\n",
       "      <td>9</td>\n",
       "      <td>0.111111</td>\n",
       "      <td>0.0</td>\n",
       "      <td>0.833333</td>\n",
       "      <td>0.547722</td>\n",
       "      <td>1.111109</td>\n",
       "      <td>0.544331</td>\n",
       "      <td>59.629630</td>\n",
       "      <td>52.444443</td>\n",
       "      <td>75.222220</td>\n",
       "      <td>51.222220</td>\n",
       "      <td>-21.555555</td>\n",
       "      <td>46.77778</td>\n",
       "      <td>-25.222221</td>\n",
       "      <td>75.222220</td>\n",
       "      <td>0.318996</td>\n",
       "      <td>-2.040554</td>\n",
       "      <td>6</td>\n",
       "    </tr>\n",
       "    <tr>\n",
       "      <th>1</th>\n",
       "      <td>113.0</td>\n",
       "      <td>130.0</td>\n",
       "      <td>9</td>\n",
       "      <td>0.000000</td>\n",
       "      <td>0.0</td>\n",
       "      <td>0.277778</td>\n",
       "      <td>0.250924</td>\n",
       "      <td>0.333333</td>\n",
       "      <td>0.365148</td>\n",
       "      <td>0.888889</td>\n",
       "      <td>0.000000</td>\n",
       "      <td>2.555556</td>\n",
       "      <td>0.111111</td>\n",
       "      <td>-2.666667</td>\n",
       "      <td>5.00000</td>\n",
       "      <td>-2.333333</td>\n",
       "      <td>2.555556</td>\n",
       "      <td>1.000000</td>\n",
       "      <td>-2.123254</td>\n",
       "      <td>3</td>\n",
       "    </tr>\n",
       "  </tbody>\n",
       "</table>\n",
       "</div>"
      ],
      "text/plain": [
       "   REGION-CENTROID-COL  REGION-CENTROID-ROW  REGION-PIXEL-COUNT  \\\n",
       "0                218.0                178.0                   9   \n",
       "1                113.0                130.0                   9   \n",
       "\n",
       "    SHORT-LINE-DENSITY-5  SHORT-LINE-DENSITY-2  VEDGE-MEAN  VEDGE-SD  \\\n",
       "0               0.111111                   0.0    0.833333  0.547722   \n",
       "1               0.000000                   0.0    0.277778  0.250924   \n",
       "\n",
       "   HEDGE-MEAN  HEDGE-SD  INTENSITY-MEAN  RAWRED-MEAN  RAWBLUE-MEAN  \\\n",
       "0    1.111109  0.544331       59.629630    52.444443     75.222220   \n",
       "1    0.333333  0.365148        0.888889     0.000000      2.555556   \n",
       "\n",
       "   RAWGREEN-MEAN  EXRED-MEAN  EXBLUE-MEAN  EXGREEN-MEAN  VALUE-MEAN  \\\n",
       "0      51.222220  -21.555555     46.77778    -25.222221   75.222220   \n",
       "1       0.111111   -2.666667      5.00000     -2.333333    2.555556   \n",
       "\n",
       "   SATURATION-MEAN  HUE-MEAN  Class  \n",
       "0         0.318996 -2.040554      6  \n",
       "1         1.000000 -2.123254      3  "
      ]
     },
     "execution_count": 75,
     "metadata": {},
     "output_type": "execute_result"
    }
   ],
   "source": [
    "df.head(2)"
   ]
  },
  {
   "cell_type": "code",
   "execution_count": 76,
   "metadata": {},
   "outputs": [
    {
     "data": {
      "text/plain": [
       "array([6, 3, 2, 7, 1, 4, 5])"
      ]
     },
     "execution_count": 76,
     "metadata": {},
     "output_type": "execute_result"
    }
   ],
   "source": [
    "df['Class'].unique()"
   ]
  },
  {
   "cell_type": "code",
   "execution_count": 77,
   "metadata": {},
   "outputs": [],
   "source": [
    "column_names = df.columns\n",
    "y = df['Class'].copy().values\n",
    "X = df.drop(['Class'], axis=1).values\n",
    "# to 0 - N-1\n",
    "y = y-1"
   ]
  },
  {
   "cell_type": "code",
   "execution_count": 78,
   "metadata": {},
   "outputs": [],
   "source": [
    "# Normalize feature data\n",
    "scaler = MinMaxScaler()\n",
    "\n",
    "X_train, X_test, y_train, y_test = train_test_split(X, y, test_size=0.2, random_state=SEED)\n",
    "\n",
    "X_train_scaled = scaler.fit_transform(X_train)\n",
    "X_test_scaled = scaler.transform(X_test)\n"
   ]
  },
  {
   "cell_type": "code",
   "execution_count": 79,
   "metadata": {},
   "outputs": [],
   "source": [
    "# One hot encode target values\n",
    "one_hot = OneHotEncoder()\n",
    "\n",
    "y_train_hot = one_hot.fit_transform(y_train.reshape(-1, 1)).todense()\n",
    "y_test_hot = one_hot.fit_transform(y_test.reshape(-1, 1)).todense()"
   ]
  },
  {
   "cell_type": "markdown",
   "metadata": {},
   "source": [
    "# Gradient Descent (gd)"
   ]
  },
  {
   "cell_type": "code",
   "execution_count": 71,
   "metadata": {},
   "outputs": [],
   "source": [
    "# Initialize neural network object and fit object\n",
    "nn_gd = mlrose_hiive.NeuralNetwork(hidden_nodes=[30, 20], activation='relu',\n",
    "                                   algorithm='gradient_descent',                                        \n",
    "                                   bias=True, is_classifier=True,                                        \n",
    "                                   early_stopping=True, clip_max=5,\n",
    "                                   learning_rate=0.0001,\n",
    "                                   max_iters=5000,\n",
    "                                   max_attempts=100,\n",
    "                                   random_state=SEED)\n"
   ]
  },
  {
   "cell_type": "code",
   "execution_count": 72,
   "metadata": {},
   "outputs": [
    {
     "data": {
      "text/plain": [
       "NeuralNetwork(activation='relu', algorithm='gradient_descent', bias=True,\n",
       "              clip_max=5, curve=False, early_stopping=True,\n",
       "              hidden_nodes=[30, 20], is_classifier=True, learning_rate=0.0001,\n",
       "              max_attempts=100, max_iters=5000, mutation_prob=0.1, pop_size=200,\n",
       "              random_state=1, restarts=0,\n",
       "              schedule=GeomDecay(init_temp=1.0, decay=0.99, min_temp=0.001))"
      ]
     },
     "execution_count": 72,
     "metadata": {},
     "output_type": "execute_result"
    }
   ],
   "source": [
    "## Fit Gradient Descent\n",
    "nn_gd.fit(X_train_scaled, y_train_hot)"
   ]
  },
  {
   "cell_type": "code",
   "execution_count": 73,
   "metadata": {},
   "outputs": [
    {
     "name": "stdout",
     "output_type": "stream",
     "text": [
      "CM:\n",
      " [[273   0   0   0   0   0   0]\n",
      " [  0 253   0   0   0   0   0]\n",
      " [  0   0 232   2  21   0   0]\n",
      " [  0   0   0 270   7   0   0]\n",
      " [  0   0  10   1 256   0   0]\n",
      " [  0   0   0   0   0 257   0]\n",
      " [  0   0   0   0   0   0 266]]\n",
      "ACC 0.9778138528138528\n",
      "F1 0.9778056274574404\n",
      "(0.9784424465236611, 0.9776192373676035, 0.9778056274574404, None)\n",
      "0.9778138528138528\n",
      "0.9776192373676035\n"
     ]
    }
   ],
   "source": [
    "# Predict labels for train set and assess accuracy\n",
    "y_train_pred_hot = nn_model.predict(X_train_scaled)\n",
    "y_train_pred = one_hot.inverse_transform(y_train_pred_hot)[:,0]\n",
    "\n",
    "# acc = accuracy_score(y_train_hot, y_train_pred_hot)  \n",
    "\n",
    "cm = confusion_matrix(y_train, y_train_pred)  # Confusion Matrix\n",
    "print('CM:\\n', cm)\n",
    "\n",
    "acc = accuracy_score(y_train, y_train_pred) # Accuracy Score\n",
    "print('ACC', acc)\n",
    "\n",
    "f1 = f1_score(y_train, y_train_pred, average='macro')\n",
    "print('F1', f1)\n",
    "\n",
    "label = np.unique(y_train_pred)\n",
    "print(precision_recall_fscore_support(y_train, y_train_pred, average='macro'))\n",
    "print(precision_score(y_train, y_train_pred, average='micro', labels=label))\n",
    "print(balanced_accuracy_score(y_train, y_train_pred))\n"
   ]
  },
  {
   "cell_type": "code",
   "execution_count": 74,
   "metadata": {},
   "outputs": [
    {
     "data": {
      "image/png": "[encoded data removed]",
      "text/plain": [
       "<Figure size 792x360 with 2 Axes>"
      ]
     },
     "metadata": {
      "needs_background": "light"
     },
     "output_type": "display_data"
    }
   ],
   "source": [
    "## plot learning curve\n",
    "cv = 5\n",
    "\n",
    "fig, axes = plt.subplots(1, 2, figsize=(11, 5))\n",
    "title = r\"Learning Curves (Neural Networks)\"\n",
    "\n",
    "plot_learning_curve(nn_gd, title, X_train_scaled, y_train_hot, axes=axes, ylim=(0.7, 1.02),\n",
    "                    cv=cv, scoring='accuracy', n_jobs=2)\n",
    "\n",
    "plt.show()"
   ]
  },
  {
   "cell_type": "markdown",
   "metadata": {},
   "source": [
    "# RHC"
   ]
  },
  {
   "cell_type": "code",
   "execution_count": 80,
   "metadata": {},
   "outputs": [],
   "source": [
    "fname = './output/nn_gridsearch/nngs_rhc_esitmator_202002291456_13859642.p'\n",
    "with open(fname, \"rb\") as f:\n",
    "    rhc_estimator = pickle.load(f)\n",
    "    \n",
    "nn_model = rhc_estimator"
   ]
  },
  {
   "cell_type": "code",
   "execution_count": 81,
   "metadata": {},
   "outputs": [
    {
     "name": "stdout",
     "output_type": "stream",
     "text": [
      "NeuralNetwork(activation='relu', algorithm='random_hill_climb', bias=True,\n",
      "              clip_max=5, curve=False, early_stopping=True,\n",
      "              hidden_nodes=[30, 20], is_classifier=True, learning_rate=0.8,\n",
      "              max_attempts=100, max_iters=10000, mutation_prob=0.1,\n",
      "              pop_size=200, random_state=1, restarts=50,\n",
      "              schedule=GeomDecay(init_temp=1.0, decay=0.99, min_temp=0.001))\n"
     ]
    }
   ],
   "source": [
    "print(nn_model)"
   ]
  },
  {
   "cell_type": "code",
   "execution_count": 61,
   "metadata": {},
   "outputs": [
    {
     "name": "stdout",
     "output_type": "stream",
     "text": [
      "CM:\n",
      " [[273   0   0   0   0   0   0]\n",
      " [  0 253   0   0   0   0   0]\n",
      " [  0   0 238   4  13   0   0]\n",
      " [  1   0   0 269   7   0   0]\n",
      " [  0   0  25   9 233   0   0]\n",
      " [  0   0   0   0   0 257   0]\n",
      " [  0   0   0   0   0   0 266]]\n",
      "ACC 0.9680735930735931\n",
      "F1 0.967953932489879\n",
      "(0.9680203795090885, 0.9681588061339005, 0.967953932489879, None)\n",
      "0.9680735930735931\n",
      "0.9681588061339005\n"
     ]
    }
   ],
   "source": [
    "# Predict labels for train set and assess accuracy\n",
    "y_train_pred_hot = nn_model.predict(X_train_scaled)\n",
    "y_train_pred = one_hot.inverse_transform(y_train_pred_hot)[:,0]\n",
    "\n",
    "# acc = accuracy_score(y_train_hot, y_train_pred_hot)  \n",
    "\n",
    "cm = confusion_matrix(y_train, y_train_pred)  # Confusion Matrix\n",
    "print('CM:\\n', cm)\n",
    "\n",
    "acc = accuracy_score(y_train, y_train_pred) # Accuracy Score\n",
    "print('ACC', acc)\n",
    "\n",
    "f1 = f1_score(y_train, y_train_pred, average='macro')\n",
    "print('F1', f1)\n",
    "\n",
    "label = np.unique(y_train_pred)\n",
    "print(precision_recall_fscore_support(y_train, y_train_pred, average='macro'))\n",
    "print(precision_score(y_train, y_train_pred, average='micro', labels=label))\n",
    "print(balanced_accuracy_score(y_train, y_train_pred))\n"
   ]
  },
  {
   "cell_type": "code",
   "execution_count": 82,
   "metadata": {},
   "outputs": [
    {
     "name": "stdout",
     "output_type": "stream",
     "text": [
      "CM:\n",
      " [[56  0  0  0  1  0  0]\n",
      " [ 0 77  0  0  0  0  0]\n",
      " [ 0  0 67  0  8  0  0]\n",
      " [ 0  0  1 51  1  0  0]\n",
      " [ 1  0  7  3 52  0  0]\n",
      " [ 0  0  0  0  0 73  0]\n",
      " [ 0  0  1  0  0  0 63]]\n",
      "ACC 0.9502164502164502\n",
      "F1 0.9496100530261822\n",
      "(0.9495984585118711, 0.9496893500034903, 0.9496100530261822, None)\n",
      "0.9502164502164502\n",
      "0.9496893500034903\n"
     ]
    }
   ],
   "source": [
    "# Predict labels for train set and assess accuracy\n",
    "y_test_pred_hot = nn_model.predict(X_test_scaled)\n",
    "y_test_pred = one_hot.inverse_transform(y_test_pred_hot)[:,0]\n",
    "\n",
    "# acc = accuracy_score(y_train_hot, y_train_pred_hot)  \n",
    "\n",
    "cm = confusion_matrix(y_test, y_test_pred)  # Confusion Matrix\n",
    "print('CM:\\n', cm)\n",
    "\n",
    "acc = accuracy_score(y_test, y_test_pred) # Accuracy Score\n",
    "print('ACC', acc)\n",
    "\n",
    "f1 = f1_score(y_test, y_test_pred, average='macro')\n",
    "print('F1', f1)\n",
    "\n",
    "label = np.unique(y_test_pred)\n",
    "print(precision_recall_fscore_support(y_test, y_test_pred, average='macro'))\n",
    "print(precision_score(y_test, y_test_pred, average='micro', labels=label))\n",
    "print(balanced_accuracy_score(y_test, y_test_pred))\n"
   ]
  },
  {
   "cell_type": "markdown",
   "metadata": {},
   "source": [
    "# SA"
   ]
  },
  {
   "cell_type": "code",
   "execution_count": 83,
   "metadata": {},
   "outputs": [],
   "source": [
    "fname = './output/nn_gridsearch/nngs_sa_esitmator_202002291122_38058797.p'\n",
    "with open(fname, \"rb\") as f:\n",
    "    rhc_estimator = pickle.load(f)\n",
    "    \n",
    "nn_model = rhc_estimator"
   ]
  },
  {
   "cell_type": "code",
   "execution_count": 84,
   "metadata": {},
   "outputs": [
    {
     "name": "stdout",
     "output_type": "stream",
     "text": [
      "NeuralNetwork(activation='relu', algorithm='simulated_annealing', bias=True,\n",
      "              clip_max=5, curve=False, early_stopping=True,\n",
      "              hidden_nodes=[30, 20], is_classifier=True, learning_rate=0.8,\n",
      "              max_attempts=50, max_iters=10000, mutation_prob=0.1, pop_size=200,\n",
      "              random_state=1, restarts=0,\n",
      "              schedule=ExpDecay(init_temp=1.0, exp_const=0.005, min_temp=0.001))\n"
     ]
    }
   ],
   "source": [
    "print(nn_model)"
   ]
  },
  {
   "cell_type": "code",
   "execution_count": 85,
   "metadata": {},
   "outputs": [
    {
     "name": "stdout",
     "output_type": "stream",
     "text": [
      "CM:\n",
      " [[269   0   0   0   4   0   0]\n",
      " [  0 252   0   1   0   0   0]\n",
      " [  5   0 233   3  14   0   0]\n",
      " [  2   0   0 249  16  10   0]\n",
      " [  2   0  33  12 220   0   0]\n",
      " [  0   0   0   6   0 251   0]\n",
      " [  0   0   0   0   0   1 265]]\n",
      "ACC 0.941017316017316\n",
      "F1 0.9410729219271922\n",
      "(0.9409345623650793, 0.941557458476875, 0.9410729219271922, None)\n",
      "0.941017316017316\n",
      "0.941557458476875\n"
     ]
    }
   ],
   "source": [
    "# Predict labels for train set and assess accuracy\n",
    "y_train_pred_hot = nn_model.predict(X_train_scaled)\n",
    "y_train_pred = one_hot.inverse_transform(y_train_pred_hot)[:,0]\n",
    "\n",
    "# acc = accuracy_score(y_train_hot, y_train_pred_hot)  \n",
    "\n",
    "cm = confusion_matrix(y_train, y_train_pred)  # Confusion Matrix\n",
    "print('CM:\\n', cm)\n",
    "\n",
    "acc = accuracy_score(y_train, y_train_pred) # Accuracy Score\n",
    "print('ACC', acc)\n",
    "\n",
    "f1 = f1_score(y_train, y_train_pred, average='macro')\n",
    "print('F1', f1)\n",
    "\n",
    "label = np.unique(y_train_pred)\n",
    "print(precision_recall_fscore_support(y_train, y_train_pred, average='macro'))\n",
    "print(precision_score(y_train, y_train_pred, average='micro', labels=label))\n",
    "print(balanced_accuracy_score(y_train, y_train_pred))\n"
   ]
  },
  {
   "cell_type": "code",
   "execution_count": 86,
   "metadata": {},
   "outputs": [
    {
     "name": "stdout",
     "output_type": "stream",
     "text": [
      "CM:\n",
      " [[56  0  0  0  1  0  0]\n",
      " [ 0 77  0  0  0  0  0]\n",
      " [ 0  0 72  1  2  0  0]\n",
      " [ 0  0  3 44  1  5  0]\n",
      " [ 1  0  7  2 53  0  0]\n",
      " [ 0  0  0  3  0 69  1]\n",
      " [ 0  0  0  1  0  0 63]]\n",
      "ACC 0.9393939393939394\n",
      "F1 0.9360416117530626\n",
      "(0.938554573244834, 0.9347850200454365, 0.9360416117530626, None)\n",
      "0.9393939393939394\n",
      "0.9347850200454365\n"
     ]
    }
   ],
   "source": [
    "# Predict labels for train set and assess accuracy\n",
    "y_test_pred_hot = nn_model.predict(X_test_scaled)\n",
    "y_test_pred = one_hot.inverse_transform(y_test_pred_hot)[:,0]\n",
    "\n",
    "# acc = accuracy_score(y_train_hot, y_train_pred_hot)  \n",
    "\n",
    "cm = confusion_matrix(y_test, y_test_pred)  # Confusion Matrix\n",
    "print('CM:\\n', cm)\n",
    "\n",
    "acc = accuracy_score(y_test, y_test_pred) # Accuracy Score\n",
    "print('ACC', acc)\n",
    "\n",
    "f1 = f1_score(y_test, y_test_pred, average='macro')\n",
    "print('F1', f1)\n",
    "\n",
    "label = np.unique(y_test_pred)\n",
    "print(precision_recall_fscore_support(y_test, y_test_pred, average='macro'))\n",
    "print(precision_score(y_test, y_test_pred, average='micro', labels=label))\n",
    "print(balanced_accuracy_score(y_test, y_test_pred))\n"
   ]
  },
  {
   "cell_type": "markdown",
   "metadata": {},
   "source": [
    "# GA"
   ]
  },
  {
   "cell_type": "code",
   "execution_count": 87,
   "metadata": {},
   "outputs": [],
   "source": [
    "fname = './output/nn_gridsearch/nngs_ga_esitmator_202002291942_14543423.p'\n",
    "with open(fname, \"rb\") as f:\n",
    "    rhc_estimator = pickle.load(f)\n",
    "    \n",
    "nn_model = rhc_estimator"
   ]
  },
  {
   "cell_type": "code",
   "execution_count": 88,
   "metadata": {},
   "outputs": [
    {
     "name": "stdout",
     "output_type": "stream",
     "text": [
      "NeuralNetwork(activation='relu', algorithm='genetic_alg', bias=True, clip_max=5,\n",
      "              curve=False, early_stopping=True, hidden_nodes=[30, 20],\n",
      "              is_classifier=True, learning_rate=0.8, max_attempts=200,\n",
      "              max_iters=500, mutation_prob=0.5, pop_size=2000, random_state=1,\n",
      "              restarts=0,\n",
      "              schedule=GeomDecay(init_temp=1.0, decay=0.99, min_temp=0.001))\n"
     ]
    }
   ],
   "source": [
    "print(nn_model)"
   ]
  },
  {
   "cell_type": "code",
   "execution_count": 89,
   "metadata": {},
   "outputs": [
    {
     "name": "stdout",
     "output_type": "stream",
     "text": [
      "CM:\n",
      " [[185   0   0   0  88   0   0]\n",
      " [  0 253   0   0   0   0   0]\n",
      " [176   1   6   0  65   2   5]\n",
      " [ 59  95   0   0  52  71   0]\n",
      " [ 58   0   1   0 143  34  31]\n",
      " [ 24  92   2   0  14 125   0]\n",
      " [  1   0   1   0   1   0 263]]\n",
      "ACC 0.5275974025974026\n",
      "F1 0.4496261314114012\n",
      "(0.47911722075377206, 0.5302669630333471, 0.4496261314114012, None)\n",
      "0.5275974025974026\n",
      "0.5302669630333471\n"
     ]
    }
   ],
   "source": [
    "# Predict labels for train set and assess accuracy\n",
    "y_train_pred_hot = nn_model.predict(X_train_scaled)\n",
    "y_train_pred = one_hot.inverse_transform(y_train_pred_hot)[:,0]\n",
    "\n",
    "# acc = accuracy_score(y_train_hot, y_train_pred_hot)  \n",
    "\n",
    "cm = confusion_matrix(y_train, y_train_pred)  # Confusion Matrix\n",
    "print('CM:\\n', cm)\n",
    "\n",
    "acc = accuracy_score(y_train, y_train_pred) # Accuracy Score\n",
    "print('ACC', acc)\n",
    "\n",
    "f1 = f1_score(y_train, y_train_pred, average='macro')\n",
    "print('F1', f1)\n",
    "\n",
    "label = np.unique(y_train_pred)\n",
    "print(precision_recall_fscore_support(y_train, y_train_pred, average='macro'))\n",
    "print(precision_score(y_train, y_train_pred, average='micro', labels=label))\n",
    "print(balanced_accuracy_score(y_train, y_train_pred))\n"
   ]
  },
  {
   "cell_type": "code",
   "execution_count": 90,
   "metadata": {},
   "outputs": [
    {
     "name": "stdout",
     "output_type": "stream",
     "text": [
      "CM:\n",
      " [[36  0  0  0 21  0  0]\n",
      " [ 0 77  0  0  0  0  0]\n",
      " [47  4  1  0 21  1  1]\n",
      " [ 9 17  0  0 11 16  0]\n",
      " [13  0  0  0 31  9 10]\n",
      " [ 5 34  2  0  3 29  0]\n",
      " [ 2  0  0  0  0  1 61]]\n",
      "ACC 0.5086580086580087\n",
      "F1 0.4212175991180405\n",
      "(0.42278520603643754, 0.4981944352482642, 0.4212175991180405, None)\n",
      "0.5086580086580087\n",
      "0.4981944352482642\n"
     ]
    }
   ],
   "source": [
    "# Predict labels for train set and assess accuracy\n",
    "y_test_pred_hot = nn_model.predict(X_test_scaled)\n",
    "y_test_pred = one_hot.inverse_transform(y_test_pred_hot)[:,0]\n",
    "\n",
    "# acc = accuracy_score(y_train_hot, y_train_pred_hot)  \n",
    "\n",
    "cm = confusion_matrix(y_test, y_test_pred)  # Confusion Matrix\n",
    "print('CM:\\n', cm)\n",
    "\n",
    "acc = accuracy_score(y_test, y_test_pred) # Accuracy Score\n",
    "print('ACC', acc)\n",
    "\n",
    "f1 = f1_score(y_test, y_test_pred, average='macro')\n",
    "print('F1', f1)\n",
    "\n",
    "label = np.unique(y_test_pred)\n",
    "print(precision_recall_fscore_support(y_test, y_test_pred, average='macro'))\n",
    "print(precision_score(y_test, y_test_pred, average='micro', labels=label))\n",
    "print(balanced_accuracy_score(y_test, y_test_pred))\n"
   ]
  },
  {
   "cell_type": "code",
   "execution_count": null,
   "metadata": {},
   "outputs": [],
   "source": []
  }
 ],
 "metadata": {
  "kernelspec": {
   "display_name": "Python 3",
   "language": "python",
   "name": "python3"
  },
  "language_info": {
   "codemirror_mode": {
    "name": "ipython",
    "version": 3
   },
   "file_extension": ".py",
   "mimetype": "text/x-python",
   "name": "python",
   "nbconvert_exporter": "python",
   "pygments_lexer": "ipython3",
   "version": "3.7.4"
  }
 },
 "nbformat": 4,
 "nbformat_minor": 2
}

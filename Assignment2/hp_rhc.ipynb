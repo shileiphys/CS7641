{
 "cells": [
  {
   "cell_type": "code",
   "execution_count": 1,
   "metadata": {},
   "outputs": [],
   "source": [
    "import mlrose_hiive\n",
    "\n",
    "import numpy as np\n",
    "import pandas as pd\n",
    "from datetime import datetime\n",
    "import seaborn as sns\n",
    "\n",
    "import matplotlib.pyplot as plt\n",
    "%matplotlib inline\n"
   ]
  },
  {
   "cell_type": "markdown",
   "metadata": {},
   "source": [
    "# Random Hill Climb (rhc)\n",
    "\n",
    "Final Hyper Parameters:\n",
    "* max_attempts = 50\n",
    "* max_iteration = 5000\n",
    "* restart = 50"
   ]
  },
  {
   "cell_type": "markdown",
   "metadata": {},
   "source": [
    "### Flip Flop (input_size=25, max_attempts=50)"
   ]
  },
  {
   "cell_type": "code",
   "execution_count": 2,
   "metadata": {},
   "outputs": [
    {
     "name": "stdout",
     "output_type": "stream",
     "text": [
      "(692, 7) (14117, 6)\n"
     ]
    }
   ],
   "source": [
    "fitness_name = 'flipflop'\n",
    "alg_name = 'rhc'\n",
    "df_run_stats = pd.read_csv('./output/{0}/{1}__{0}__run_stats_df.csv'.format(fitness_name, alg_name))\n",
    "df_run_curves = pd.read_csv('./output/{0}/{1}__{0}__curves_df.csv'.format(fitness_name, alg_name))\n",
    "\n",
    "if ('Unnamed: 0' in df_run_stats.keys()):\n",
    "        df_run_stats.pop('Unnamed: 0')\n",
    "        \n",
    "if ('Unnamed: 0' in df_run_curves.keys()):\n",
    "        df_run_curves.pop('Unnamed: 0')\n",
    "        \n",
    "print(df_run_stats.shape, df_run_curves.shape)"
   ]
  },
  {
   "cell_type": "code",
   "execution_count": 3,
   "metadata": {},
   "outputs": [
    {
     "data": {
      "text/html": [
       "<div>\n",
       "<style scoped>\n",
       "    .dataframe tbody tr th:only-of-type {\n",
       "        vertical-align: middle;\n",
       "    }\n",
       "\n",
       "    .dataframe tbody tr th {\n",
       "        vertical-align: top;\n",
       "    }\n",
       "\n",
       "    .dataframe thead th {\n",
       "        text-align: right;\n",
       "    }\n",
       "</style>\n",
       "<table border=\"1\" class=\"dataframe\">\n",
       "  <thead>\n",
       "    <tr style=\"text-align: right;\">\n",
       "      <th></th>\n",
       "      <th>Iteration</th>\n",
       "      <th>Fitness</th>\n",
       "      <th>Time</th>\n",
       "      <th>State</th>\n",
       "      <th>Restarts</th>\n",
       "      <th>max_iters</th>\n",
       "      <th>current_restart</th>\n",
       "    </tr>\n",
       "  </thead>\n",
       "  <tbody>\n",
       "    <tr>\n",
       "      <th>0</th>\n",
       "      <td>0</td>\n",
       "      <td>12.0</td>\n",
       "      <td>0.000107</td>\n",
       "      <td>[1, 1, 0, 0, 1, 1, 1, 1, 1, 0, 0, 1, 0, 1, 1, ...</td>\n",
       "      <td>20</td>\n",
       "      <td>10000</td>\n",
       "      <td>0</td>\n",
       "    </tr>\n",
       "    <tr>\n",
       "      <th>1</th>\n",
       "      <td>1000</td>\n",
       "      <td>19.0</td>\n",
       "      <td>0.009737</td>\n",
       "      <td>[0, 1, 0, 0, 1, 0, 1, 0, 1, 0, 0, 1, 0, 1, 1, ...</td>\n",
       "      <td>20</td>\n",
       "      <td>10000</td>\n",
       "      <td>0</td>\n",
       "    </tr>\n",
       "    <tr>\n",
       "      <th>2</th>\n",
       "      <td>5000</td>\n",
       "      <td>19.0</td>\n",
       "      <td>0.009737</td>\n",
       "      <td>[0, 1, 0, 0, 1, 0, 1, 0, 1, 0, 0, 1, 0, 1, 1, ...</td>\n",
       "      <td>20</td>\n",
       "      <td>10000</td>\n",
       "      <td>0</td>\n",
       "    </tr>\n",
       "    <tr>\n",
       "      <th>3</th>\n",
       "      <td>10000</td>\n",
       "      <td>19.0</td>\n",
       "      <td>0.009737</td>\n",
       "      <td>[0, 1, 0, 0, 1, 0, 1, 0, 1, 0, 0, 1, 0, 1, 1, ...</td>\n",
       "      <td>20</td>\n",
       "      <td>10000</td>\n",
       "      <td>0</td>\n",
       "    </tr>\n",
       "    <tr>\n",
       "      <th>4</th>\n",
       "      <td>0</td>\n",
       "      <td>11.0</td>\n",
       "      <td>0.013495</td>\n",
       "      <td>[1, 0, 1, 1, 1, 0, 0, 0, 0, 0, 0, 1, 0, 0, 1, ...</td>\n",
       "      <td>20</td>\n",
       "      <td>10000</td>\n",
       "      <td>1</td>\n",
       "    </tr>\n",
       "  </tbody>\n",
       "</table>\n",
       "</div>"
      ],
      "text/plain": [
       "   Iteration  Fitness      Time  \\\n",
       "0          0     12.0  0.000107   \n",
       "1       1000     19.0  0.009737   \n",
       "2       5000     19.0  0.009737   \n",
       "3      10000     19.0  0.009737   \n",
       "4          0     11.0  0.013495   \n",
       "\n",
       "                                               State  Restarts  max_iters  \\\n",
       "0  [1, 1, 0, 0, 1, 1, 1, 1, 1, 0, 0, 1, 0, 1, 1, ...        20      10000   \n",
       "1  [0, 1, 0, 0, 1, 0, 1, 0, 1, 0, 0, 1, 0, 1, 1, ...        20      10000   \n",
       "2  [0, 1, 0, 0, 1, 0, 1, 0, 1, 0, 0, 1, 0, 1, 1, ...        20      10000   \n",
       "3  [0, 1, 0, 0, 1, 0, 1, 0, 1, 0, 0, 1, 0, 1, 1, ...        20      10000   \n",
       "4  [1, 0, 1, 1, 1, 0, 0, 0, 0, 0, 0, 1, 0, 0, 1, ...        20      10000   \n",
       "\n",
       "   current_restart  \n",
       "0                0  \n",
       "1                0  \n",
       "2                0  \n",
       "3                0  \n",
       "4                1  "
      ]
     },
     "execution_count": 3,
     "metadata": {},
     "output_type": "execute_result"
    }
   ],
   "source": [
    "df_run_stats.head()"
   ]
  },
  {
   "cell_type": "code",
   "execution_count": 4,
   "metadata": {},
   "outputs": [
    {
     "data": {
      "text/plain": [
       "<seaborn.axisgrid.FacetGrid at 0x7f9c5e667090>"
      ]
     },
     "execution_count": 4,
     "metadata": {},
     "output_type": "execute_result"
    },
    {
     "data": {
      "image/png": "[encoded data removed]",
      "text/plain": [
       "<Figure size 777.6x216 with 3 Axes>"
      ]
     },
     "metadata": {
      "needs_background": "light"
     },
     "output_type": "display_data"
    }
   ],
   "source": [
    "grid = sns.FacetGrid(df_run_stats, col='Restarts', size=3, aspect=1.2)\n",
    "grid.map(sns.lineplot, 'Iteration', 'Fitness', alpha=.5, color='red', linewidth=2.5)\n",
    "grid.map(sns.scatterplot, 'Iteration', 'Fitness', alpha=.5)\n",
    "# grid.add_legend()"
   ]
  },
  {
   "cell_type": "code",
   "execution_count": 5,
   "metadata": {},
   "outputs": [
    {
     "name": "stdout",
     "output_type": "stream",
     "text": [
      "22.0\n",
      "23.0\n",
      "23.0\n"
     ]
    }
   ],
   "source": [
    "for r in df_run_stats['Restarts'].unique():\n",
    "    max_f = df_run_stats[df_run_stats['Restarts']==r]['Fitness'].max()\n",
    "    print (max_f)"
   ]
  },
  {
   "cell_type": "code",
   "execution_count": 6,
   "metadata": {},
   "outputs": [
    {
     "data": {
      "text/html": [
       "<div>\n",
       "<style scoped>\n",
       "    .dataframe tbody tr th:only-of-type {\n",
       "        vertical-align: middle;\n",
       "    }\n",
       "\n",
       "    .dataframe tbody tr th {\n",
       "        vertical-align: top;\n",
       "    }\n",
       "\n",
       "    .dataframe thead th {\n",
       "        text-align: right;\n",
       "    }\n",
       "</style>\n",
       "<table border=\"1\" class=\"dataframe\">\n",
       "  <thead>\n",
       "    <tr style=\"text-align: right;\">\n",
       "      <th></th>\n",
       "      <th>Iteration</th>\n",
       "      <th>Time</th>\n",
       "      <th>Fitness</th>\n",
       "      <th>Restarts</th>\n",
       "      <th>max_iters</th>\n",
       "      <th>current_restart</th>\n",
       "    </tr>\n",
       "  </thead>\n",
       "  <tbody>\n",
       "    <tr>\n",
       "      <th>14112</th>\n",
       "      <td>14112</td>\n",
       "      <td>10.587142</td>\n",
       "      <td>20.0</td>\n",
       "      <td>100</td>\n",
       "      <td>10000</td>\n",
       "      <td>100</td>\n",
       "    </tr>\n",
       "    <tr>\n",
       "      <th>14113</th>\n",
       "      <td>14113</td>\n",
       "      <td>10.587746</td>\n",
       "      <td>20.0</td>\n",
       "      <td>100</td>\n",
       "      <td>10000</td>\n",
       "      <td>100</td>\n",
       "    </tr>\n",
       "    <tr>\n",
       "      <th>14114</th>\n",
       "      <td>14114</td>\n",
       "      <td>10.588357</td>\n",
       "      <td>20.0</td>\n",
       "      <td>100</td>\n",
       "      <td>10000</td>\n",
       "      <td>100</td>\n",
       "    </tr>\n",
       "    <tr>\n",
       "      <th>14115</th>\n",
       "      <td>14115</td>\n",
       "      <td>10.588971</td>\n",
       "      <td>20.0</td>\n",
       "      <td>100</td>\n",
       "      <td>10000</td>\n",
       "      <td>100</td>\n",
       "    </tr>\n",
       "    <tr>\n",
       "      <th>14116</th>\n",
       "      <td>14116</td>\n",
       "      <td>10.589575</td>\n",
       "      <td>20.0</td>\n",
       "      <td>100</td>\n",
       "      <td>10000</td>\n",
       "      <td>100</td>\n",
       "    </tr>\n",
       "  </tbody>\n",
       "</table>\n",
       "</div>"
      ],
      "text/plain": [
       "       Iteration       Time  Fitness  Restarts  max_iters  current_restart\n",
       "14112      14112  10.587142     20.0       100      10000              100\n",
       "14113      14113  10.587746     20.0       100      10000              100\n",
       "14114      14114  10.588357     20.0       100      10000              100\n",
       "14115      14115  10.588971     20.0       100      10000              100\n",
       "14116      14116  10.589575     20.0       100      10000              100"
      ]
     },
     "execution_count": 6,
     "metadata": {},
     "output_type": "execute_result"
    }
   ],
   "source": [
    "df_run_curves.tail()"
   ]
  },
  {
   "cell_type": "code",
   "execution_count": 7,
   "metadata": {},
   "outputs": [
    {
     "data": {
      "text/plain": [
       "<seaborn.axisgrid.FacetGrid at 0x7f9c5e216ad0>"
      ]
     },
     "execution_count": 7,
     "metadata": {},
     "output_type": "execute_result"
    },
    {
     "data": {
      "image/png": "[encoded data removed]",
      "text/plain": [
       "<Figure size 777.6x216 with 3 Axes>"
      ]
     },
     "metadata": {
      "needs_background": "light"
     },
     "output_type": "display_data"
    }
   ],
   "source": [
    "grid = sns.FacetGrid(df_run_curves, col='Restarts', size=3, aspect=1.2)\n",
    "grid.map(sns.lineplot, 'Iteration', 'Fitness', alpha=.5, color='red', linewidth=2.5)\n",
    "# grid.map(sns.scatterplot, 'Iteration', 'Fitness', alpha=.5)\n"
   ]
  },
  {
   "cell_type": "markdown",
   "metadata": {},
   "source": [
    "### Four Peaks (input_size=25, max_attempts=50)"
   ]
  },
  {
   "cell_type": "code",
   "execution_count": 8,
   "metadata": {},
   "outputs": [
    {
     "name": "stdout",
     "output_type": "stream",
     "text": [
      "(692, 7) (26082, 6)\n"
     ]
    }
   ],
   "source": [
    "fitness_name = '4peaks'\n",
    "alg_name = 'rhc'\n",
    "df_run_stats = pd.read_csv('./output/{0}/{1}__{0}__run_stats_df.csv'.format(fitness_name, alg_name))\n",
    "df_run_curves = pd.read_csv('./output/{0}/{1}__{0}__curves_df.csv'.format(fitness_name, alg_name))\n",
    "\n",
    "if ('Unnamed: 0' in df_run_stats.keys()):\n",
    "        df_run_stats.pop('Unnamed: 0')\n",
    "        \n",
    "if ('Unnamed: 0' in df_run_curves.keys()):\n",
    "        df_run_curves.pop('Unnamed: 0')\n",
    "        \n",
    "print(df_run_stats.shape, df_run_curves.shape)"
   ]
  },
  {
   "cell_type": "code",
   "execution_count": 9,
   "metadata": {},
   "outputs": [
    {
     "data": {
      "text/html": [
       "<div>\n",
       "<style scoped>\n",
       "    .dataframe tbody tr th:only-of-type {\n",
       "        vertical-align: middle;\n",
       "    }\n",
       "\n",
       "    .dataframe tbody tr th {\n",
       "        vertical-align: top;\n",
       "    }\n",
       "\n",
       "    .dataframe thead th {\n",
       "        text-align: right;\n",
       "    }\n",
       "</style>\n",
       "<table border=\"1\" class=\"dataframe\">\n",
       "  <thead>\n",
       "    <tr style=\"text-align: right;\">\n",
       "      <th></th>\n",
       "      <th>Iteration</th>\n",
       "      <th>Fitness</th>\n",
       "      <th>Time</th>\n",
       "      <th>State</th>\n",
       "      <th>Restarts</th>\n",
       "      <th>max_iters</th>\n",
       "      <th>current_restart</th>\n",
       "    </tr>\n",
       "  </thead>\n",
       "  <tbody>\n",
       "    <tr>\n",
       "      <th>0</th>\n",
       "      <td>0</td>\n",
       "      <td>2.0</td>\n",
       "      <td>0.000082</td>\n",
       "      <td>[1, 1, 0, 0, 1, 1, 1, 1, 1, 0, 0, 1, 0, 1, 1, ...</td>\n",
       "      <td>20</td>\n",
       "      <td>10000</td>\n",
       "      <td>0</td>\n",
       "    </tr>\n",
       "    <tr>\n",
       "      <th>1</th>\n",
       "      <td>1000</td>\n",
       "      <td>25.0</td>\n",
       "      <td>0.009840</td>\n",
       "      <td>[0, 0, 0, 0, 0, 0, 0, 0, 0, 0, 0, 0, 0, 0, 0, ...</td>\n",
       "      <td>20</td>\n",
       "      <td>10000</td>\n",
       "      <td>0</td>\n",
       "    </tr>\n",
       "    <tr>\n",
       "      <th>2</th>\n",
       "      <td>5000</td>\n",
       "      <td>25.0</td>\n",
       "      <td>0.009840</td>\n",
       "      <td>[0, 0, 0, 0, 0, 0, 0, 0, 0, 0, 0, 0, 0, 0, 0, ...</td>\n",
       "      <td>20</td>\n",
       "      <td>10000</td>\n",
       "      <td>0</td>\n",
       "    </tr>\n",
       "    <tr>\n",
       "      <th>3</th>\n",
       "      <td>10000</td>\n",
       "      <td>25.0</td>\n",
       "      <td>0.009840</td>\n",
       "      <td>[0, 0, 0, 0, 0, 0, 0, 0, 0, 0, 0, 0, 0, 0, 0, ...</td>\n",
       "      <td>20</td>\n",
       "      <td>10000</td>\n",
       "      <td>0</td>\n",
       "    </tr>\n",
       "    <tr>\n",
       "      <th>4</th>\n",
       "      <td>0</td>\n",
       "      <td>1.0</td>\n",
       "      <td>0.015489</td>\n",
       "      <td>[0, 0, 0, 0, 0, 0, 1, 0, 0, 0, 0, 0, 1, 1, 1, ...</td>\n",
       "      <td>20</td>\n",
       "      <td>10000</td>\n",
       "      <td>1</td>\n",
       "    </tr>\n",
       "  </tbody>\n",
       "</table>\n",
       "</div>"
      ],
      "text/plain": [
       "   Iteration  Fitness      Time  \\\n",
       "0          0      2.0  0.000082   \n",
       "1       1000     25.0  0.009840   \n",
       "2       5000     25.0  0.009840   \n",
       "3      10000     25.0  0.009840   \n",
       "4          0      1.0  0.015489   \n",
       "\n",
       "                                               State  Restarts  max_iters  \\\n",
       "0  [1, 1, 0, 0, 1, 1, 1, 1, 1, 0, 0, 1, 0, 1, 1, ...        20      10000   \n",
       "1  [0, 0, 0, 0, 0, 0, 0, 0, 0, 0, 0, 0, 0, 0, 0, ...        20      10000   \n",
       "2  [0, 0, 0, 0, 0, 0, 0, 0, 0, 0, 0, 0, 0, 0, 0, ...        20      10000   \n",
       "3  [0, 0, 0, 0, 0, 0, 0, 0, 0, 0, 0, 0, 0, 0, 0, ...        20      10000   \n",
       "4  [0, 0, 0, 0, 0, 0, 1, 0, 0, 0, 0, 0, 1, 1, 1, ...        20      10000   \n",
       "\n",
       "   current_restart  \n",
       "0                0  \n",
       "1                0  \n",
       "2                0  \n",
       "3                0  \n",
       "4                1  "
      ]
     },
     "execution_count": 9,
     "metadata": {},
     "output_type": "execute_result"
    }
   ],
   "source": [
    "df_run_stats.head()"
   ]
  },
  {
   "cell_type": "code",
   "execution_count": 10,
   "metadata": {},
   "outputs": [
    {
     "data": {
      "text/plain": [
       "<seaborn.axisgrid.FacetGrid at 0x7f9c5e239850>"
      ]
     },
     "execution_count": 10,
     "metadata": {},
     "output_type": "execute_result"
    },
    {
     "data": {
      "image/png": "[encoded data removed]",
      "text/plain": [
       "<Figure size 777.6x216 with 3 Axes>"
      ]
     },
     "metadata": {
      "needs_background": "light"
     },
     "output_type": "display_data"
    }
   ],
   "source": [
    "grid = sns.FacetGrid(df_run_stats, col='Restarts', size=3, aspect=1.2)\n",
    "grid.map(sns.lineplot, 'Iteration', 'Fitness', alpha=.5, color='red', linewidth=2.5)\n",
    "grid.map(sns.scatterplot, 'Iteration', 'Fitness', alpha=.5)\n",
    "# grid.add_legend()"
   ]
  },
  {
   "cell_type": "code",
   "execution_count": 11,
   "metadata": {},
   "outputs": [
    {
     "name": "stdout",
     "output_type": "stream",
     "text": [
      "45.0\n",
      "45.0\n",
      "45.0\n"
     ]
    }
   ],
   "source": [
    "for r in df_run_stats['Restarts'].unique():\n",
    "    max_f = df_run_stats[df_run_stats['Restarts']==r]['Fitness'].max()\n",
    "    print (max_f)"
   ]
  },
  {
   "cell_type": "code",
   "execution_count": 12,
   "metadata": {},
   "outputs": [
    {
     "data": {
      "text/html": [
       "<div>\n",
       "<style scoped>\n",
       "    .dataframe tbody tr th:only-of-type {\n",
       "        vertical-align: middle;\n",
       "    }\n",
       "\n",
       "    .dataframe tbody tr th {\n",
       "        vertical-align: top;\n",
       "    }\n",
       "\n",
       "    .dataframe thead th {\n",
       "        text-align: right;\n",
       "    }\n",
       "</style>\n",
       "<table border=\"1\" class=\"dataframe\">\n",
       "  <thead>\n",
       "    <tr style=\"text-align: right;\">\n",
       "      <th></th>\n",
       "      <th>Iteration</th>\n",
       "      <th>Time</th>\n",
       "      <th>Fitness</th>\n",
       "      <th>Restarts</th>\n",
       "      <th>max_iters</th>\n",
       "      <th>current_restart</th>\n",
       "    </tr>\n",
       "  </thead>\n",
       "  <tbody>\n",
       "    <tr>\n",
       "      <th>26077</th>\n",
       "      <td>26077</td>\n",
       "      <td>20.961191</td>\n",
       "      <td>2.0</td>\n",
       "      <td>100</td>\n",
       "      <td>10000</td>\n",
       "      <td>100</td>\n",
       "    </tr>\n",
       "    <tr>\n",
       "      <th>26078</th>\n",
       "      <td>26078</td>\n",
       "      <td>20.961983</td>\n",
       "      <td>2.0</td>\n",
       "      <td>100</td>\n",
       "      <td>10000</td>\n",
       "      <td>100</td>\n",
       "    </tr>\n",
       "    <tr>\n",
       "      <th>26079</th>\n",
       "      <td>26079</td>\n",
       "      <td>20.962775</td>\n",
       "      <td>2.0</td>\n",
       "      <td>100</td>\n",
       "      <td>10000</td>\n",
       "      <td>100</td>\n",
       "    </tr>\n",
       "    <tr>\n",
       "      <th>26080</th>\n",
       "      <td>26080</td>\n",
       "      <td>20.963575</td>\n",
       "      <td>2.0</td>\n",
       "      <td>100</td>\n",
       "      <td>10000</td>\n",
       "      <td>100</td>\n",
       "    </tr>\n",
       "    <tr>\n",
       "      <th>26081</th>\n",
       "      <td>26081</td>\n",
       "      <td>20.964381</td>\n",
       "      <td>2.0</td>\n",
       "      <td>100</td>\n",
       "      <td>10000</td>\n",
       "      <td>100</td>\n",
       "    </tr>\n",
       "  </tbody>\n",
       "</table>\n",
       "</div>"
      ],
      "text/plain": [
       "       Iteration       Time  Fitness  Restarts  max_iters  current_restart\n",
       "26077      26077  20.961191      2.0       100      10000              100\n",
       "26078      26078  20.961983      2.0       100      10000              100\n",
       "26079      26079  20.962775      2.0       100      10000              100\n",
       "26080      26080  20.963575      2.0       100      10000              100\n",
       "26081      26081  20.964381      2.0       100      10000              100"
      ]
     },
     "execution_count": 12,
     "metadata": {},
     "output_type": "execute_result"
    }
   ],
   "source": [
    "df_run_curves.tail()"
   ]
  },
  {
   "cell_type": "code",
   "execution_count": 13,
   "metadata": {},
   "outputs": [
    {
     "data": {
      "text/plain": [
       "<seaborn.axisgrid.FacetGrid at 0x7f9c5df65690>"
      ]
     },
     "execution_count": 13,
     "metadata": {},
     "output_type": "execute_result"
    },
    {
     "data": {
      "image/png": "[encoded data removed]",
      "text/plain": [
       "<Figure size 777.6x216 with 3 Axes>"
      ]
     },
     "metadata": {
      "needs_background": "light"
     },
     "output_type": "display_data"
    }
   ],
   "source": [
    "grid = sns.FacetGrid(df_run_curves, col='Restarts', size=3, aspect=1.2)\n",
    "grid.map(sns.lineplot, 'Iteration', 'Fitness', alpha=.5, color='red', linewidth=2.5)\n",
    "# grid.map(sns.scatterplot, 'Iteration', 'Fitness', alpha=.5)\n"
   ]
  },
  {
   "cell_type": "markdown",
   "metadata": {},
   "source": [
    "### Four Peaks (input=25, max_attempts=100?)"
   ]
  },
  {
   "cell_type": "code",
   "execution_count": 14,
   "metadata": {},
   "outputs": [
    {
     "name": "stdout",
     "output_type": "stream",
     "text": [
      "(692, 7) (46232, 6)\n"
     ]
    }
   ],
   "source": [
    "fitness_name = '4peaksmax100'\n",
    "alg_name = 'rhc'\n",
    "df_run_stats = pd.read_csv('./output/{0}/{1}__{0}__run_stats_df.csv'.format(fitness_name, alg_name))\n",
    "df_run_curves = pd.read_csv('./output/{0}/{1}__{0}__curves_df.csv'.format(fitness_name, alg_name))\n",
    "\n",
    "if ('Unnamed: 0' in df_run_stats.keys()):\n",
    "        df_run_stats.pop('Unnamed: 0')\n",
    "        \n",
    "if ('Unnamed: 0' in df_run_curves.keys()):\n",
    "        df_run_curves.pop('Unnamed: 0')\n",
    "        \n",
    "print(df_run_stats.shape, df_run_curves.shape)"
   ]
  },
  {
   "cell_type": "code",
   "execution_count": 15,
   "metadata": {},
   "outputs": [
    {
     "data": {
      "text/html": [
       "<div>\n",
       "<style scoped>\n",
       "    .dataframe tbody tr th:only-of-type {\n",
       "        vertical-align: middle;\n",
       "    }\n",
       "\n",
       "    .dataframe tbody tr th {\n",
       "        vertical-align: top;\n",
       "    }\n",
       "\n",
       "    .dataframe thead th {\n",
       "        text-align: right;\n",
       "    }\n",
       "</style>\n",
       "<table border=\"1\" class=\"dataframe\">\n",
       "  <thead>\n",
       "    <tr style=\"text-align: right;\">\n",
       "      <th></th>\n",
       "      <th>Iteration</th>\n",
       "      <th>Fitness</th>\n",
       "      <th>Time</th>\n",
       "      <th>State</th>\n",
       "      <th>Restarts</th>\n",
       "      <th>max_iters</th>\n",
       "      <th>current_restart</th>\n",
       "    </tr>\n",
       "  </thead>\n",
       "  <tbody>\n",
       "    <tr>\n",
       "      <th>0</th>\n",
       "      <td>0</td>\n",
       "      <td>2.0</td>\n",
       "      <td>0.000093</td>\n",
       "      <td>[1, 1, 0, 0, 1, 1, 1, 1, 1, 0, 0, 1, 0, 1, 1, ...</td>\n",
       "      <td>20</td>\n",
       "      <td>10000</td>\n",
       "      <td>0</td>\n",
       "    </tr>\n",
       "    <tr>\n",
       "      <th>1</th>\n",
       "      <td>1000</td>\n",
       "      <td>20.0</td>\n",
       "      <td>0.010427</td>\n",
       "      <td>[0, 0, 0, 0, 0, 0, 0, 0, 0, 0, 0, 0, 0, 0, 0, ...</td>\n",
       "      <td>20</td>\n",
       "      <td>10000</td>\n",
       "      <td>0</td>\n",
       "    </tr>\n",
       "    <tr>\n",
       "      <th>2</th>\n",
       "      <td>5000</td>\n",
       "      <td>20.0</td>\n",
       "      <td>0.010427</td>\n",
       "      <td>[0, 0, 0, 0, 0, 0, 0, 0, 0, 0, 0, 0, 0, 0, 0, ...</td>\n",
       "      <td>20</td>\n",
       "      <td>10000</td>\n",
       "      <td>0</td>\n",
       "    </tr>\n",
       "    <tr>\n",
       "      <th>3</th>\n",
       "      <td>10000</td>\n",
       "      <td>20.0</td>\n",
       "      <td>0.010427</td>\n",
       "      <td>[0, 0, 0, 0, 0, 0, 0, 0, 0, 0, 0, 0, 0, 0, 0, ...</td>\n",
       "      <td>20</td>\n",
       "      <td>10000</td>\n",
       "      <td>0</td>\n",
       "    </tr>\n",
       "    <tr>\n",
       "      <th>4</th>\n",
       "      <td>0</td>\n",
       "      <td>2.0</td>\n",
       "      <td>0.016292</td>\n",
       "      <td>[1, 1, 0, 0, 1, 1, 0, 1, 1, 1, 1, 0, 1, 0, 0, ...</td>\n",
       "      <td>20</td>\n",
       "      <td>10000</td>\n",
       "      <td>1</td>\n",
       "    </tr>\n",
       "  </tbody>\n",
       "</table>\n",
       "</div>"
      ],
      "text/plain": [
       "   Iteration  Fitness      Time  \\\n",
       "0          0      2.0  0.000093   \n",
       "1       1000     20.0  0.010427   \n",
       "2       5000     20.0  0.010427   \n",
       "3      10000     20.0  0.010427   \n",
       "4          0      2.0  0.016292   \n",
       "\n",
       "                                               State  Restarts  max_iters  \\\n",
       "0  [1, 1, 0, 0, 1, 1, 1, 1, 1, 0, 0, 1, 0, 1, 1, ...        20      10000   \n",
       "1  [0, 0, 0, 0, 0, 0, 0, 0, 0, 0, 0, 0, 0, 0, 0, ...        20      10000   \n",
       "2  [0, 0, 0, 0, 0, 0, 0, 0, 0, 0, 0, 0, 0, 0, 0, ...        20      10000   \n",
       "3  [0, 0, 0, 0, 0, 0, 0, 0, 0, 0, 0, 0, 0, 0, 0, ...        20      10000   \n",
       "4  [1, 1, 0, 0, 1, 1, 0, 1, 1, 1, 1, 0, 1, 0, 0, ...        20      10000   \n",
       "\n",
       "   current_restart  \n",
       "0                0  \n",
       "1                0  \n",
       "2                0  \n",
       "3                0  \n",
       "4                1  "
      ]
     },
     "execution_count": 15,
     "metadata": {},
     "output_type": "execute_result"
    }
   ],
   "source": [
    "df_run_stats.head()"
   ]
  },
  {
   "cell_type": "code",
   "execution_count": 16,
   "metadata": {},
   "outputs": [
    {
     "data": {
      "text/plain": [
       "<seaborn.axisgrid.FacetGrid at 0x7f9c5de29590>"
      ]
     },
     "execution_count": 16,
     "metadata": {},
     "output_type": "execute_result"
    },
    {
     "data": {
      "image/png": "[encoded data removed]",
      "text/plain": [
       "<Figure size 777.6x216 with 3 Axes>"
      ]
     },
     "metadata": {
      "needs_background": "light"
     },
     "output_type": "display_data"
    }
   ],
   "source": [
    "grid = sns.FacetGrid(df_run_stats, col='Restarts', size=3, aspect=1.2)\n",
    "grid.map(sns.lineplot, 'Iteration', 'Fitness', alpha=.5, color='red', linewidth=2.5)\n",
    "grid.map(sns.scatterplot, 'Iteration', 'Fitness', alpha=.5)\n",
    "# grid.add_legend()"
   ]
  },
  {
   "cell_type": "code",
   "execution_count": 17,
   "metadata": {},
   "outputs": [
    {
     "name": "stdout",
     "output_type": "stream",
     "text": [
      "36.0\n",
      "36.0\n",
      "36.0\n"
     ]
    }
   ],
   "source": [
    "for r in df_run_stats['Restarts'].unique():\n",
    "    max_f = df_run_stats[df_run_stats['Restarts']==r]['Fitness'].max()\n",
    "    print (max_f)"
   ]
  },
  {
   "cell_type": "code",
   "execution_count": 18,
   "metadata": {},
   "outputs": [
    {
     "data": {
      "text/html": [
       "<div>\n",
       "<style scoped>\n",
       "    .dataframe tbody tr th:only-of-type {\n",
       "        vertical-align: middle;\n",
       "    }\n",
       "\n",
       "    .dataframe tbody tr th {\n",
       "        vertical-align: top;\n",
       "    }\n",
       "\n",
       "    .dataframe thead th {\n",
       "        text-align: right;\n",
       "    }\n",
       "</style>\n",
       "<table border=\"1\" class=\"dataframe\">\n",
       "  <thead>\n",
       "    <tr style=\"text-align: right;\">\n",
       "      <th></th>\n",
       "      <th>Iteration</th>\n",
       "      <th>Time</th>\n",
       "      <th>Fitness</th>\n",
       "      <th>Restarts</th>\n",
       "      <th>max_iters</th>\n",
       "      <th>current_restart</th>\n",
       "    </tr>\n",
       "  </thead>\n",
       "  <tbody>\n",
       "    <tr>\n",
       "      <th>46227</th>\n",
       "      <td>46227</td>\n",
       "      <td>45.663934</td>\n",
       "      <td>20.0</td>\n",
       "      <td>100</td>\n",
       "      <td>10000</td>\n",
       "      <td>100</td>\n",
       "    </tr>\n",
       "    <tr>\n",
       "      <th>46228</th>\n",
       "      <td>46228</td>\n",
       "      <td>45.665602</td>\n",
       "      <td>20.0</td>\n",
       "      <td>100</td>\n",
       "      <td>10000</td>\n",
       "      <td>100</td>\n",
       "    </tr>\n",
       "    <tr>\n",
       "      <th>46229</th>\n",
       "      <td>46229</td>\n",
       "      <td>45.667279</td>\n",
       "      <td>20.0</td>\n",
       "      <td>100</td>\n",
       "      <td>10000</td>\n",
       "      <td>100</td>\n",
       "    </tr>\n",
       "    <tr>\n",
       "      <th>46230</th>\n",
       "      <td>46230</td>\n",
       "      <td>45.668945</td>\n",
       "      <td>20.0</td>\n",
       "      <td>100</td>\n",
       "      <td>10000</td>\n",
       "      <td>100</td>\n",
       "    </tr>\n",
       "    <tr>\n",
       "      <th>46231</th>\n",
       "      <td>46231</td>\n",
       "      <td>45.670628</td>\n",
       "      <td>20.0</td>\n",
       "      <td>100</td>\n",
       "      <td>10000</td>\n",
       "      <td>100</td>\n",
       "    </tr>\n",
       "  </tbody>\n",
       "</table>\n",
       "</div>"
      ],
      "text/plain": [
       "       Iteration       Time  Fitness  Restarts  max_iters  current_restart\n",
       "46227      46227  45.663934     20.0       100      10000              100\n",
       "46228      46228  45.665602     20.0       100      10000              100\n",
       "46229      46229  45.667279     20.0       100      10000              100\n",
       "46230      46230  45.668945     20.0       100      10000              100\n",
       "46231      46231  45.670628     20.0       100      10000              100"
      ]
     },
     "execution_count": 18,
     "metadata": {},
     "output_type": "execute_result"
    }
   ],
   "source": [
    "df_run_curves.tail()"
   ]
  },
  {
   "cell_type": "code",
   "execution_count": 19,
   "metadata": {},
   "outputs": [
    {
     "data": {
      "text/plain": [
       "<seaborn.axisgrid.FacetGrid at 0x7f9c5dcf2690>"
      ]
     },
     "execution_count": 19,
     "metadata": {},
     "output_type": "execute_result"
    },
    {
     "data": {
      "image/png": "[encoded data removed]",
      "text/plain": [
       "<Figure size 777.6x216 with 3 Axes>"
      ]
     },
     "metadata": {
      "needs_background": "light"
     },
     "output_type": "display_data"
    }
   ],
   "source": [
    "grid = sns.FacetGrid(df_run_curves, col='Restarts', size=3, aspect=1.2)\n",
    "grid.map(sns.lineplot, 'Iteration', 'Fitness', alpha=.5, color='red', linewidth=2.5)\n",
    "# grid.map(sns.scatterplot, 'Iteration', 'Fitness', alpha=.5)\n"
   ]
  },
  {
   "cell_type": "markdown",
   "metadata": {},
   "source": [
    "### Knapsack (input_size=25, max_attempts=50)"
   ]
  },
  {
   "cell_type": "code",
   "execution_count": 20,
   "metadata": {},
   "outputs": [
    {
     "name": "stdout",
     "output_type": "stream",
     "text": [
      "(692, 7) (11670, 6)\n"
     ]
    }
   ],
   "source": [
    "fitness_name = 'knapsack'\n",
    "df_run_stats = pd.read_csv('./output/{0}/rhc__{0}__run_stats_df.csv'.format(fitness_name))\n",
    "df_run_curves = pd.read_csv('./output/{0}/rhc__{0}__curves_df.csv'.format(fitness_name))\n",
    "\n",
    "if ('Unnamed: 0' in df_run_stats.keys()):\n",
    "        df_run_stats.pop('Unnamed: 0')\n",
    "        \n",
    "if ('Unnamed: 0' in df_run_curves.keys()):\n",
    "        df_run_curves.pop('Unnamed: 0')\n",
    "        \n",
    "print(df_run_stats.shape, df_run_curves.shape)"
   ]
  },
  {
   "cell_type": "code",
   "execution_count": 21,
   "metadata": {},
   "outputs": [
    {
     "data": {
      "text/html": [
       "<div>\n",
       "<style scoped>\n",
       "    .dataframe tbody tr th:only-of-type {\n",
       "        vertical-align: middle;\n",
       "    }\n",
       "\n",
       "    .dataframe tbody tr th {\n",
       "        vertical-align: top;\n",
       "    }\n",
       "\n",
       "    .dataframe thead th {\n",
       "        text-align: right;\n",
       "    }\n",
       "</style>\n",
       "<table border=\"1\" class=\"dataframe\">\n",
       "  <thead>\n",
       "    <tr style=\"text-align: right;\">\n",
       "      <th></th>\n",
       "      <th>Iteration</th>\n",
       "      <th>Fitness</th>\n",
       "      <th>Time</th>\n",
       "      <th>State</th>\n",
       "      <th>Restarts</th>\n",
       "      <th>max_iters</th>\n",
       "      <th>current_restart</th>\n",
       "    </tr>\n",
       "  </thead>\n",
       "  <tbody>\n",
       "    <tr>\n",
       "      <th>0</th>\n",
       "      <td>0</td>\n",
       "      <td>75.0</td>\n",
       "      <td>0.000062</td>\n",
       "      <td>[1, 1, 0, 0, 1, 1, 1, 1, 1, 0, 0, 1, 0, 1, 1, ...</td>\n",
       "      <td>20</td>\n",
       "      <td>10000</td>\n",
       "      <td>0</td>\n",
       "    </tr>\n",
       "    <tr>\n",
       "      <th>1</th>\n",
       "      <td>1000</td>\n",
       "      <td>106.0</td>\n",
       "      <td>0.002585</td>\n",
       "      <td>[1, 1, 0, 0, 1, 1, 1, 1, 1, 1, 1, 1, 0, 1, 1, ...</td>\n",
       "      <td>20</td>\n",
       "      <td>10000</td>\n",
       "      <td>0</td>\n",
       "    </tr>\n",
       "    <tr>\n",
       "      <th>2</th>\n",
       "      <td>5000</td>\n",
       "      <td>106.0</td>\n",
       "      <td>0.002585</td>\n",
       "      <td>[1, 1, 0, 0, 1, 1, 1, 1, 1, 1, 1, 1, 0, 1, 1, ...</td>\n",
       "      <td>20</td>\n",
       "      <td>10000</td>\n",
       "      <td>0</td>\n",
       "    </tr>\n",
       "    <tr>\n",
       "      <th>3</th>\n",
       "      <td>10000</td>\n",
       "      <td>106.0</td>\n",
       "      <td>0.002585</td>\n",
       "      <td>[1, 1, 0, 0, 1, 1, 1, 1, 1, 1, 1, 1, 0, 1, 1, ...</td>\n",
       "      <td>20</td>\n",
       "      <td>10000</td>\n",
       "      <td>0</td>\n",
       "    </tr>\n",
       "    <tr>\n",
       "      <th>4</th>\n",
       "      <td>0</td>\n",
       "      <td>82.0</td>\n",
       "      <td>0.005807</td>\n",
       "      <td>[1, 1, 1, 1, 0, 0, 0, 0, 0, 1, 1, 1, 1, 1, 1, ...</td>\n",
       "      <td>20</td>\n",
       "      <td>10000</td>\n",
       "      <td>1</td>\n",
       "    </tr>\n",
       "  </tbody>\n",
       "</table>\n",
       "</div>"
      ],
      "text/plain": [
       "   Iteration  Fitness      Time  \\\n",
       "0          0     75.0  0.000062   \n",
       "1       1000    106.0  0.002585   \n",
       "2       5000    106.0  0.002585   \n",
       "3      10000    106.0  0.002585   \n",
       "4          0     82.0  0.005807   \n",
       "\n",
       "                                               State  Restarts  max_iters  \\\n",
       "0  [1, 1, 0, 0, 1, 1, 1, 1, 1, 0, 0, 1, 0, 1, 1, ...        20      10000   \n",
       "1  [1, 1, 0, 0, 1, 1, 1, 1, 1, 1, 1, 1, 0, 1, 1, ...        20      10000   \n",
       "2  [1, 1, 0, 0, 1, 1, 1, 1, 1, 1, 1, 1, 0, 1, 1, ...        20      10000   \n",
       "3  [1, 1, 0, 0, 1, 1, 1, 1, 1, 1, 1, 1, 0, 1, 1, ...        20      10000   \n",
       "4  [1, 1, 1, 1, 0, 0, 0, 0, 0, 1, 1, 1, 1, 1, 1, ...        20      10000   \n",
       "\n",
       "   current_restart  \n",
       "0                0  \n",
       "1                0  \n",
       "2                0  \n",
       "3                0  \n",
       "4                1  "
      ]
     },
     "execution_count": 21,
     "metadata": {},
     "output_type": "execute_result"
    }
   ],
   "source": [
    "df_run_stats.head()"
   ]
  },
  {
   "cell_type": "code",
   "execution_count": 22,
   "metadata": {},
   "outputs": [
    {
     "data": {
      "text/plain": [
       "<seaborn.axisgrid.FacetGrid at 0x7f9c5dc1db50>"
      ]
     },
     "execution_count": 22,
     "metadata": {},
     "output_type": "execute_result"
    },
    {
     "data": {
      "image/png": "[encoded data removed]",
      "text/plain": [
       "<Figure size 777.6x216 with 3 Axes>"
      ]
     },
     "metadata": {
      "needs_background": "light"
     },
     "output_type": "display_data"
    }
   ],
   "source": [
    "grid = sns.FacetGrid(df_run_stats, col='Restarts', size=3, aspect=1.2)\n",
    "grid.map(sns.lineplot, 'Iteration', 'Fitness', alpha=.5, color='red', linewidth=2.5)\n",
    "grid.map(sns.scatterplot, 'Iteration', 'Fitness', alpha=.5)\n",
    "# grid.add_legend()"
   ]
  },
  {
   "cell_type": "code",
   "execution_count": 23,
   "metadata": {},
   "outputs": [
    {
     "name": "stdout",
     "output_type": "stream",
     "text": [
      "116.0\n",
      "121.0\n",
      "123.0\n"
     ]
    }
   ],
   "source": [
    "for r in df_run_stats['Restarts'].unique():\n",
    "    max_f = df_run_stats[df_run_stats['Restarts']==r]['Fitness'].max()\n",
    "    print (max_f)"
   ]
  },
  {
   "cell_type": "code",
   "execution_count": 24,
   "metadata": {},
   "outputs": [
    {
     "data": {
      "text/html": [
       "<div>\n",
       "<style scoped>\n",
       "    .dataframe tbody tr th:only-of-type {\n",
       "        vertical-align: middle;\n",
       "    }\n",
       "\n",
       "    .dataframe tbody tr th {\n",
       "        vertical-align: top;\n",
       "    }\n",
       "\n",
       "    .dataframe thead th {\n",
       "        text-align: right;\n",
       "    }\n",
       "</style>\n",
       "<table border=\"1\" class=\"dataframe\">\n",
       "  <thead>\n",
       "    <tr style=\"text-align: right;\">\n",
       "      <th></th>\n",
       "      <th>Iteration</th>\n",
       "      <th>Time</th>\n",
       "      <th>Fitness</th>\n",
       "      <th>Restarts</th>\n",
       "      <th>max_iters</th>\n",
       "      <th>current_restart</th>\n",
       "    </tr>\n",
       "  </thead>\n",
       "  <tbody>\n",
       "    <tr>\n",
       "      <th>11665</th>\n",
       "      <td>11665</td>\n",
       "      <td>8.270785</td>\n",
       "      <td>96.0</td>\n",
       "      <td>100</td>\n",
       "      <td>10000</td>\n",
       "      <td>100</td>\n",
       "    </tr>\n",
       "    <tr>\n",
       "      <th>11666</th>\n",
       "      <td>11666</td>\n",
       "      <td>8.271160</td>\n",
       "      <td>96.0</td>\n",
       "      <td>100</td>\n",
       "      <td>10000</td>\n",
       "      <td>100</td>\n",
       "    </tr>\n",
       "    <tr>\n",
       "      <th>11667</th>\n",
       "      <td>11667</td>\n",
       "      <td>8.271536</td>\n",
       "      <td>96.0</td>\n",
       "      <td>100</td>\n",
       "      <td>10000</td>\n",
       "      <td>100</td>\n",
       "    </tr>\n",
       "    <tr>\n",
       "      <th>11668</th>\n",
       "      <td>11668</td>\n",
       "      <td>8.271914</td>\n",
       "      <td>96.0</td>\n",
       "      <td>100</td>\n",
       "      <td>10000</td>\n",
       "      <td>100</td>\n",
       "    </tr>\n",
       "    <tr>\n",
       "      <th>11669</th>\n",
       "      <td>11669</td>\n",
       "      <td>8.272303</td>\n",
       "      <td>96.0</td>\n",
       "      <td>100</td>\n",
       "      <td>10000</td>\n",
       "      <td>100</td>\n",
       "    </tr>\n",
       "  </tbody>\n",
       "</table>\n",
       "</div>"
      ],
      "text/plain": [
       "       Iteration      Time  Fitness  Restarts  max_iters  current_restart\n",
       "11665      11665  8.270785     96.0       100      10000              100\n",
       "11666      11666  8.271160     96.0       100      10000              100\n",
       "11667      11667  8.271536     96.0       100      10000              100\n",
       "11668      11668  8.271914     96.0       100      10000              100\n",
       "11669      11669  8.272303     96.0       100      10000              100"
      ]
     },
     "execution_count": 24,
     "metadata": {},
     "output_type": "execute_result"
    }
   ],
   "source": [
    "df_run_curves.tail()"
   ]
  },
  {
   "cell_type": "code",
   "execution_count": 25,
   "metadata": {},
   "outputs": [
    {
     "data": {
      "text/plain": [
       "<seaborn.axisgrid.FacetGrid at 0x7f9c5e1200d0>"
      ]
     },
     "execution_count": 25,
     "metadata": {},
     "output_type": "execute_result"
    },
    {
     "data": {
      "image/png": "[encoded data removed]",
      "text/plain": [
       "<Figure size 777.6x216 with 3 Axes>"
      ]
     },
     "metadata": {
      "needs_background": "light"
     },
     "output_type": "display_data"
    }
   ],
   "source": [
    "grid = sns.FacetGrid(df_run_curves, col='Restarts', size=3, aspect=1.2)\n",
    "grid.map(sns.lineplot, 'Iteration', 'Fitness', alpha=.5, color='red', linewidth=2.5)\n",
    "# grid.map(sns.scatterplot, 'Iteration', 'Fitness', alpha=.5)\n"
   ]
  },
  {
   "cell_type": "code",
   "execution_count": null,
   "metadata": {},
   "outputs": [],
   "source": []
  },
  {
   "cell_type": "code",
   "execution_count": null,
   "metadata": {},
   "outputs": [],
   "source": []
  },
  {
   "cell_type": "code",
   "execution_count": 26,
   "metadata": {},
   "outputs": [],
   "source": [
    "# def a(**kwargs):\n",
    "\n",
    "#     values = [([(k, v) for v in vs]) for (k, (n, vs)) in kwargs.items() if vs is not None]\n",
    "#     print(values)\n",
    "# #     self.parameter_description_dict = {k: n for (k, (n, vs)) in kwargs.items() if vs is not None}\n",
    "\n",
    "# keep_percent_list=[0.25, 0.5, 0.75]\n",
    "# population_sizes = np.arange(20, 50, 10).astype(int)\n",
    "\n",
    "# a(pop_size=('Population Size', population_sizes),\n",
    "#   keep_pct=('Keep Percent', keep_percent_list))"
   ]
  },
  {
   "cell_type": "code",
   "execution_count": 27,
   "metadata": {},
   "outputs": [],
   "source": [
    "# fig, ax = plt.subplots(figsize=(11, 8.5))\n",
    "# sns.scatterplot(x='M2NS_PC1', y='FII5', data=ir_ms, ax=ax)\n",
    "# ax.axhline(y=0, color='k', linewidth=1)  # added because i want the origin\n",
    "# ax.axvline(x=0, color='k', linewidth=1)\n",
    "\n",
    "# fitted = sm.ols(formula='FII5 ~ M2NS_PC1', data=ir_ms).fit(cov_type='HC3')\n",
    "\n",
    "# x = ir_ms['M2NS_PC1']\n",
    "# x_pred = np.linspace(x.min() - 1, x.max() + 1, 50)\n",
    "# y_pred = fitted.predict(exog=dict(M2NS_PC1=x_pred))\n",
    "\n",
    "# sns.lineplot(x=x_pred, y=y_pred, ax=ax)"
   ]
  },
  {
   "cell_type": "code",
   "execution_count": 28,
   "metadata": {},
   "outputs": [],
   "source": [
    "# import numpy as np\n",
    "# import matplotlib.pyplot as plt\n",
    "# import pandas as pd\n",
    "# import seaborn as sns\n",
    "\n",
    "# data = pd.DataFrame()\n",
    "# data['usable_area'] = 5*np.random.random(200)\n",
    "# data['price'] =  10*data['usable_area']+10*np.random.random(200)\n",
    "\n",
    "# X_plot = np.linspace(0, 7, 100)\n",
    "# Y_plot = 10*X_plot+5\n",
    "\n",
    "# g = sns.FacetGrid(data, size = 6)\n",
    "# g = g.map(plt.scatter, \"usable_area\", \"price\", edgecolor=\"w\")\n",
    "# plt.plot(X_plot, Y_plot, color='r')\n",
    "# plt.show()"
   ]
  }
 ],
 "metadata": {
  "kernelspec": {
   "display_name": "Python 3",
   "language": "python",
   "name": "python3"
  },
  "language_info": {
   "codemirror_mode": {
    "name": "ipython",
    "version": 3
   },
   "file_extension": ".py",
   "mimetype": "text/x-python",
   "name": "python",
   "nbconvert_exporter": "python",
   "pygments_lexer": "ipython3",
   "version": "3.7.4"
  }
 },
 "nbformat": 4,
 "nbformat_minor": 2
}

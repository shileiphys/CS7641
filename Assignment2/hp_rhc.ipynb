{
 "cells": [
  {
   "cell_type": "code",
   "execution_count": 42,
   "metadata": {},
   "outputs": [],
   "source": [
    "import mlrose_hiive\n",
    "\n",
    "import numpy as np\n",
    "import pandas as pd\n",
    "from datetime import datetime\n",
    "import seaborn as sns\n",
    "\n",
    "import matplotlib.pyplot as plt\n",
    "%matplotlib inline\n"
   ]
  },
  {
   "cell_type": "markdown",
   "metadata": {},
   "source": [
    "# Random Hill Climb (rhc)\n"
   ]
  },
  {
   "cell_type": "markdown",
   "metadata": {},
   "source": [
    "### Flip Flop (input_size=25)"
   ]
  },
  {
   "cell_type": "code",
   "execution_count": 45,
   "metadata": {},
   "outputs": [
    {
     "name": "stdout",
     "output_type": "stream",
     "text": [
      "(852, 7) (51687, 6)\n"
     ]
    }
   ],
   "source": [
    "fitness_name = 'flipflop'\n",
    "alg_name = 'rhc'\n",
    "df_run_stats = pd.read_csv('./output/{0}/{1}__{0}__run_stats_df.csv'.format(fitness_name, alg_name))\n",
    "df_run_curves = pd.read_csv('./output/{0}/{1}__{0}__curves_df.csv'.format(fitness_name, alg_name))\n",
    "\n",
    "if ('Unnamed: 0' in df_run_stats.keys()):\n",
    "        df_run_stats.pop('Unnamed: 0')\n",
    "        \n",
    "if ('Unnamed: 0' in df_run_curves.keys()):\n",
    "        df_run_curves.pop('Unnamed: 0')\n",
    "        \n",
    "print(df_run_stats.shape, df_run_curves.shape)"
   ]
  },
  {
   "cell_type": "code",
   "execution_count": 46,
   "metadata": {},
   "outputs": [
    {
     "data": {
      "text/html": [
       "<div>\n",
       "<style scoped>\n",
       "    .dataframe tbody tr th:only-of-type {\n",
       "        vertical-align: middle;\n",
       "    }\n",
       "\n",
       "    .dataframe tbody tr th {\n",
       "        vertical-align: top;\n",
       "    }\n",
       "\n",
       "    .dataframe thead th {\n",
       "        text-align: right;\n",
       "    }\n",
       "</style>\n",
       "<table border=\"1\" class=\"dataframe\">\n",
       "  <thead>\n",
       "    <tr style=\"text-align: right;\">\n",
       "      <th></th>\n",
       "      <th>Iteration</th>\n",
       "      <th>Fitness</th>\n",
       "      <th>Time</th>\n",
       "      <th>State</th>\n",
       "      <th>Restarts</th>\n",
       "      <th>max_iters</th>\n",
       "      <th>current_restart</th>\n",
       "    </tr>\n",
       "  </thead>\n",
       "  <tbody>\n",
       "    <tr>\n",
       "      <th>0</th>\n",
       "      <td>0</td>\n",
       "      <td>12.0</td>\n",
       "      <td>0.000163</td>\n",
       "      <td>[1, 1, 0, 0, 1, 1, 1, 1, 1, 0, 0, 1, 0, 1, 1, ...</td>\n",
       "      <td>20</td>\n",
       "      <td>10000</td>\n",
       "      <td>0</td>\n",
       "    </tr>\n",
       "    <tr>\n",
       "      <th>1</th>\n",
       "      <td>1000</td>\n",
       "      <td>19.0</td>\n",
       "      <td>0.029772</td>\n",
       "      <td>[0, 1, 0, 0, 1, 0, 1, 0, 1, 0, 0, 1, 0, 1, 1, ...</td>\n",
       "      <td>20</td>\n",
       "      <td>10000</td>\n",
       "      <td>0</td>\n",
       "    </tr>\n",
       "    <tr>\n",
       "      <th>2</th>\n",
       "      <td>5000</td>\n",
       "      <td>19.0</td>\n",
       "      <td>0.029772</td>\n",
       "      <td>[0, 1, 0, 0, 1, 0, 1, 0, 1, 0, 0, 1, 0, 1, 1, ...</td>\n",
       "      <td>20</td>\n",
       "      <td>10000</td>\n",
       "      <td>0</td>\n",
       "    </tr>\n",
       "    <tr>\n",
       "      <th>3</th>\n",
       "      <td>10000</td>\n",
       "      <td>19.0</td>\n",
       "      <td>0.029772</td>\n",
       "      <td>[0, 1, 0, 0, 1, 0, 1, 0, 1, 0, 0, 1, 0, 1, 1, ...</td>\n",
       "      <td>20</td>\n",
       "      <td>10000</td>\n",
       "      <td>0</td>\n",
       "    </tr>\n",
       "    <tr>\n",
       "      <th>4</th>\n",
       "      <td>0</td>\n",
       "      <td>9.0</td>\n",
       "      <td>0.036866</td>\n",
       "      <td>[1, 0, 0, 0, 0, 0, 0, 0, 1, 0, 0, 0, 0, 0, 1, ...</td>\n",
       "      <td>20</td>\n",
       "      <td>10000</td>\n",
       "      <td>1</td>\n",
       "    </tr>\n",
       "  </tbody>\n",
       "</table>\n",
       "</div>"
      ],
      "text/plain": [
       "   Iteration  Fitness      Time  \\\n",
       "0          0     12.0  0.000163   \n",
       "1       1000     19.0  0.029772   \n",
       "2       5000     19.0  0.029772   \n",
       "3      10000     19.0  0.029772   \n",
       "4          0      9.0  0.036866   \n",
       "\n",
       "                                               State  Restarts  max_iters  \\\n",
       "0  [1, 1, 0, 0, 1, 1, 1, 1, 1, 0, 0, 1, 0, 1, 1, ...        20      10000   \n",
       "1  [0, 1, 0, 0, 1, 0, 1, 0, 1, 0, 0, 1, 0, 1, 1, ...        20      10000   \n",
       "2  [0, 1, 0, 0, 1, 0, 1, 0, 1, 0, 0, 1, 0, 1, 1, ...        20      10000   \n",
       "3  [0, 1, 0, 0, 1, 0, 1, 0, 1, 0, 0, 1, 0, 1, 1, ...        20      10000   \n",
       "4  [1, 0, 0, 0, 0, 0, 0, 0, 1, 0, 0, 0, 0, 0, 1, ...        20      10000   \n",
       "\n",
       "   current_restart  \n",
       "0                0  \n",
       "1                0  \n",
       "2                0  \n",
       "3                0  \n",
       "4                1  "
      ]
     },
     "execution_count": 46,
     "metadata": {},
     "output_type": "execute_result"
    }
   ],
   "source": [
    "df_run_stats.head()"
   ]
  },
  {
   "cell_type": "code",
   "execution_count": 47,
   "metadata": {},
   "outputs": [
    {
     "data": {
      "text/plain": [
       "<seaborn.axisgrid.FacetGrid at 0x7fface5b45d0>"
      ]
     },
     "execution_count": 47,
     "metadata": {},
     "output_type": "execute_result"
    },
    {
     "data": {
      "image/png": "[encoded data removed]",
      "text/plain": [
       "<Figure size 777.6x216 with 3 Axes>"
      ]
     },
     "metadata": {
      "needs_background": "light"
     },
     "output_type": "display_data"
    }
   ],
   "source": [
    "grid = sns.FacetGrid(df_run_stats, col='Restarts', size=3, aspect=1.2)\n",
    "grid.map(sns.lineplot, 'Iteration', 'Fitness', alpha=.5, color='red', linewidth=2.5)\n",
    "grid.map(sns.scatterplot, 'Iteration', 'Fitness', alpha=.5)\n",
    "# grid.add_legend()"
   ]
  },
  {
   "cell_type": "code",
   "execution_count": 48,
   "metadata": {},
   "outputs": [
    {
     "name": "stdout",
     "output_type": "stream",
     "text": [
      "20 23.0 3/84\n",
      "50 23.0 6/204\n",
      "200 24.0 3/564\n"
     ]
    }
   ],
   "source": [
    "for i in df_run_stats['Restarts'].unique():\n",
    "    max_fit = df_run_stats[df_run_stats['Restarts']==i]['Fitness']\n",
    "    max_val = max_fit.max()\n",
    "    max_cnt = max_fit[max_fit==max_val].count()\n",
    "    print (i, max_val, '{}/{}'.format(max_cnt, max_fit.count()))"
   ]
  },
  {
   "cell_type": "code",
   "execution_count": 49,
   "metadata": {},
   "outputs": [
    {
     "data": {
      "text/plain": [
       "3"
      ]
     },
     "execution_count": 49,
     "metadata": {},
     "output_type": "execute_result"
    }
   ],
   "source": [
    "max_fit[max_fit==max_fit.max()].count()"
   ]
  },
  {
   "cell_type": "code",
   "execution_count": 50,
   "metadata": {},
   "outputs": [
    {
     "data": {
      "text/html": [
       "<div>\n",
       "<style scoped>\n",
       "    .dataframe tbody tr th:only-of-type {\n",
       "        vertical-align: middle;\n",
       "    }\n",
       "\n",
       "    .dataframe tbody tr th {\n",
       "        vertical-align: top;\n",
       "    }\n",
       "\n",
       "    .dataframe thead th {\n",
       "        text-align: right;\n",
       "    }\n",
       "</style>\n",
       "<table border=\"1\" class=\"dataframe\">\n",
       "  <thead>\n",
       "    <tr style=\"text-align: right;\">\n",
       "      <th></th>\n",
       "      <th>Iteration</th>\n",
       "      <th>Time</th>\n",
       "      <th>Fitness</th>\n",
       "      <th>Restarts</th>\n",
       "      <th>max_iters</th>\n",
       "      <th>current_restart</th>\n",
       "    </tr>\n",
       "  </thead>\n",
       "  <tbody>\n",
       "    <tr>\n",
       "      <th>51682</th>\n",
       "      <td>51682</td>\n",
       "      <td>91.900403</td>\n",
       "      <td>22.0</td>\n",
       "      <td>200</td>\n",
       "      <td>10000</td>\n",
       "      <td>140</td>\n",
       "    </tr>\n",
       "    <tr>\n",
       "      <th>51683</th>\n",
       "      <td>51683</td>\n",
       "      <td>91.903193</td>\n",
       "      <td>22.0</td>\n",
       "      <td>200</td>\n",
       "      <td>10000</td>\n",
       "      <td>140</td>\n",
       "    </tr>\n",
       "    <tr>\n",
       "      <th>51684</th>\n",
       "      <td>51684</td>\n",
       "      <td>91.905916</td>\n",
       "      <td>22.0</td>\n",
       "      <td>200</td>\n",
       "      <td>10000</td>\n",
       "      <td>140</td>\n",
       "    </tr>\n",
       "    <tr>\n",
       "      <th>51685</th>\n",
       "      <td>51685</td>\n",
       "      <td>91.908864</td>\n",
       "      <td>22.0</td>\n",
       "      <td>200</td>\n",
       "      <td>10000</td>\n",
       "      <td>140</td>\n",
       "    </tr>\n",
       "    <tr>\n",
       "      <th>51686</th>\n",
       "      <td>51686</td>\n",
       "      <td>91.911631</td>\n",
       "      <td>24.0</td>\n",
       "      <td>200</td>\n",
       "      <td>10000</td>\n",
       "      <td>140</td>\n",
       "    </tr>\n",
       "  </tbody>\n",
       "</table>\n",
       "</div>"
      ],
      "text/plain": [
       "       Iteration       Time  Fitness  Restarts  max_iters  current_restart\n",
       "51682      51682  91.900403     22.0       200      10000              140\n",
       "51683      51683  91.903193     22.0       200      10000              140\n",
       "51684      51684  91.905916     22.0       200      10000              140\n",
       "51685      51685  91.908864     22.0       200      10000              140\n",
       "51686      51686  91.911631     24.0       200      10000              140"
      ]
     },
     "execution_count": 50,
     "metadata": {},
     "output_type": "execute_result"
    }
   ],
   "source": [
    "df_run_curves.tail()"
   ]
  },
  {
   "cell_type": "code",
   "execution_count": 51,
   "metadata": {},
   "outputs": [
    {
     "data": {
      "text/plain": [
       "<seaborn.axisgrid.FacetGrid at 0x7fface479d10>"
      ]
     },
     "execution_count": 51,
     "metadata": {},
     "output_type": "execute_result"
    },
    {
     "data": {
      "image/png": "[encoded data removed]",
      "text/plain": [
       "<Figure size 777.6x216 with 3 Axes>"
      ]
     },
     "metadata": {
      "needs_background": "light"
     },
     "output_type": "display_data"
    }
   ],
   "source": [
    "grid = sns.FacetGrid(df_run_curves, col='Restarts', size=3, aspect=1.2)\n",
    "grid.map(sns.lineplot, 'Iteration', 'Fitness', alpha=.5, color='red', linewidth=2.5)\n",
    "# grid.map(sns.scatterplot, 'Iteration', 'Fitness', alpha=.5)\n"
   ]
  },
  {
   "cell_type": "markdown",
   "metadata": {},
   "source": [
    "### Four Peaks (input_size=50)"
   ]
  },
  {
   "cell_type": "code",
   "execution_count": 52,
   "metadata": {},
   "outputs": [
    {
     "name": "stdout",
     "output_type": "stream",
     "text": [
      "(1092, 7) (301477, 6)\n"
     ]
    }
   ],
   "source": [
    "fitness_name = '4peaks'\n",
    "alg_name = 'rhc'\n",
    "df_run_stats = pd.read_csv('./output/{0}/{1}__{0}__run_stats_df.csv'.format(fitness_name, alg_name))\n",
    "df_run_curves = pd.read_csv('./output/{0}/{1}__{0}__curves_df.csv'.format(fitness_name, alg_name))\n",
    "\n",
    "if ('Unnamed: 0' in df_run_stats.keys()):\n",
    "        df_run_stats.pop('Unnamed: 0')\n",
    "        \n",
    "if ('Unnamed: 0' in df_run_curves.keys()):\n",
    "        df_run_curves.pop('Unnamed: 0')\n",
    "        \n",
    "print(df_run_stats.shape, df_run_curves.shape)"
   ]
  },
  {
   "cell_type": "code",
   "execution_count": 53,
   "metadata": {},
   "outputs": [
    {
     "data": {
      "text/html": [
       "<div>\n",
       "<style scoped>\n",
       "    .dataframe tbody tr th:only-of-type {\n",
       "        vertical-align: middle;\n",
       "    }\n",
       "\n",
       "    .dataframe tbody tr th {\n",
       "        vertical-align: top;\n",
       "    }\n",
       "\n",
       "    .dataframe thead th {\n",
       "        text-align: right;\n",
       "    }\n",
       "</style>\n",
       "<table border=\"1\" class=\"dataframe\">\n",
       "  <thead>\n",
       "    <tr style=\"text-align: right;\">\n",
       "      <th></th>\n",
       "      <th>Iteration</th>\n",
       "      <th>Fitness</th>\n",
       "      <th>Time</th>\n",
       "      <th>State</th>\n",
       "      <th>Restarts</th>\n",
       "      <th>max_iters</th>\n",
       "      <th>current_restart</th>\n",
       "    </tr>\n",
       "  </thead>\n",
       "  <tbody>\n",
       "    <tr>\n",
       "      <th>0</th>\n",
       "      <td>0</td>\n",
       "      <td>2.0</td>\n",
       "      <td>0.000103</td>\n",
       "      <td>[1, 1, 0, 0, 1, 1, 1, 1, 1, 0, 0, 1, 0, 1, 1, ...</td>\n",
       "      <td>20</td>\n",
       "      <td>10000</td>\n",
       "      <td>0</td>\n",
       "    </tr>\n",
       "    <tr>\n",
       "      <th>1</th>\n",
       "      <td>1000</td>\n",
       "      <td>29.0</td>\n",
       "      <td>0.068230</td>\n",
       "      <td>[1, 1, 1, 1, 1, 1, 1, 1, 1, 1, 1, 1, 1, 1, 1, ...</td>\n",
       "      <td>20</td>\n",
       "      <td>10000</td>\n",
       "      <td>0</td>\n",
       "    </tr>\n",
       "    <tr>\n",
       "      <th>2</th>\n",
       "      <td>5000</td>\n",
       "      <td>50.0</td>\n",
       "      <td>0.151832</td>\n",
       "      <td>[1, 1, 1, 1, 1, 1, 1, 1, 1, 1, 1, 1, 1, 1, 1, ...</td>\n",
       "      <td>20</td>\n",
       "      <td>10000</td>\n",
       "      <td>0</td>\n",
       "    </tr>\n",
       "    <tr>\n",
       "      <th>3</th>\n",
       "      <td>10000</td>\n",
       "      <td>50.0</td>\n",
       "      <td>0.151832</td>\n",
       "      <td>[1, 1, 1, 1, 1, 1, 1, 1, 1, 1, 1, 1, 1, 1, 1, ...</td>\n",
       "      <td>20</td>\n",
       "      <td>10000</td>\n",
       "      <td>0</td>\n",
       "    </tr>\n",
       "    <tr>\n",
       "      <th>4</th>\n",
       "      <td>0</td>\n",
       "      <td>1.0</td>\n",
       "      <td>0.172364</td>\n",
       "      <td>[1, 0, 1, 0, 1, 1, 1, 1, 1, 1, 0, 1, 1, 0, 1, ...</td>\n",
       "      <td>20</td>\n",
       "      <td>10000</td>\n",
       "      <td>1</td>\n",
       "    </tr>\n",
       "  </tbody>\n",
       "</table>\n",
       "</div>"
      ],
      "text/plain": [
       "   Iteration  Fitness      Time  \\\n",
       "0          0      2.0  0.000103   \n",
       "1       1000     29.0  0.068230   \n",
       "2       5000     50.0  0.151832   \n",
       "3      10000     50.0  0.151832   \n",
       "4          0      1.0  0.172364   \n",
       "\n",
       "                                               State  Restarts  max_iters  \\\n",
       "0  [1, 1, 0, 0, 1, 1, 1, 1, 1, 0, 0, 1, 0, 1, 1, ...        20      10000   \n",
       "1  [1, 1, 1, 1, 1, 1, 1, 1, 1, 1, 1, 1, 1, 1, 1, ...        20      10000   \n",
       "2  [1, 1, 1, 1, 1, 1, 1, 1, 1, 1, 1, 1, 1, 1, 1, ...        20      10000   \n",
       "3  [1, 1, 1, 1, 1, 1, 1, 1, 1, 1, 1, 1, 1, 1, 1, ...        20      10000   \n",
       "4  [1, 0, 1, 0, 1, 1, 1, 1, 1, 1, 0, 1, 1, 0, 1, ...        20      10000   \n",
       "\n",
       "   current_restart  \n",
       "0                0  \n",
       "1                0  \n",
       "2                0  \n",
       "3                0  \n",
       "4                1  "
      ]
     },
     "execution_count": 53,
     "metadata": {},
     "output_type": "execute_result"
    }
   ],
   "source": [
    "df_run_stats.head()"
   ]
  },
  {
   "cell_type": "code",
   "execution_count": 54,
   "metadata": {},
   "outputs": [
    {
     "data": {
      "text/plain": [
       "<seaborn.axisgrid.FacetGrid at 0x7fface32b5d0>"
      ]
     },
     "execution_count": 54,
     "metadata": {},
     "output_type": "execute_result"
    },
    {
     "data": {
      "image/png": "[encoded data removed]",
      "text/plain": [
       "<Figure size 777.6x216 with 3 Axes>"
      ]
     },
     "metadata": {
      "needs_background": "light"
     },
     "output_type": "display_data"
    }
   ],
   "source": [
    "grid = sns.FacetGrid(df_run_stats, col='Restarts', size=3, aspect=1.2)\n",
    "grid.map(sns.lineplot, 'Iteration', 'Fitness', alpha=.5, color='red', linewidth=2.5)\n",
    "grid.map(sns.scatterplot, 'Iteration', 'Fitness', alpha=.5)\n",
    "# grid.add_legend()"
   ]
  },
  {
   "cell_type": "code",
   "execution_count": 55,
   "metadata": {},
   "outputs": [
    {
     "name": "stdout",
     "output_type": "stream",
     "text": [
      "50.0\n",
      "50.0\n",
      "91.0\n"
     ]
    }
   ],
   "source": [
    "for r in df_run_stats['Restarts'].unique():\n",
    "    max_f = df_run_stats[df_run_stats['Restarts']==r]['Fitness'].max()\n",
    "    print (max_f)"
   ]
  },
  {
   "cell_type": "code",
   "execution_count": 56,
   "metadata": {},
   "outputs": [
    {
     "data": {
      "text/html": [
       "<div>\n",
       "<style scoped>\n",
       "    .dataframe tbody tr th:only-of-type {\n",
       "        vertical-align: middle;\n",
       "    }\n",
       "\n",
       "    .dataframe tbody tr th {\n",
       "        vertical-align: top;\n",
       "    }\n",
       "\n",
       "    .dataframe thead th {\n",
       "        text-align: right;\n",
       "    }\n",
       "</style>\n",
       "<table border=\"1\" class=\"dataframe\">\n",
       "  <thead>\n",
       "    <tr style=\"text-align: right;\">\n",
       "      <th></th>\n",
       "      <th>Iteration</th>\n",
       "      <th>Time</th>\n",
       "      <th>Fitness</th>\n",
       "      <th>Restarts</th>\n",
       "      <th>max_iters</th>\n",
       "      <th>current_restart</th>\n",
       "    </tr>\n",
       "  </thead>\n",
       "  <tbody>\n",
       "    <tr>\n",
       "      <th>301472</th>\n",
       "      <td>301472</td>\n",
       "      <td>3843.379451</td>\n",
       "      <td>50.0</td>\n",
       "      <td>200</td>\n",
       "      <td>10000</td>\n",
       "      <td>200</td>\n",
       "    </tr>\n",
       "    <tr>\n",
       "      <th>301473</th>\n",
       "      <td>301473</td>\n",
       "      <td>3843.410033</td>\n",
       "      <td>50.0</td>\n",
       "      <td>200</td>\n",
       "      <td>10000</td>\n",
       "      <td>200</td>\n",
       "    </tr>\n",
       "    <tr>\n",
       "      <th>301474</th>\n",
       "      <td>301474</td>\n",
       "      <td>3843.440872</td>\n",
       "      <td>50.0</td>\n",
       "      <td>200</td>\n",
       "      <td>10000</td>\n",
       "      <td>200</td>\n",
       "    </tr>\n",
       "    <tr>\n",
       "      <th>301475</th>\n",
       "      <td>301475</td>\n",
       "      <td>3843.471707</td>\n",
       "      <td>50.0</td>\n",
       "      <td>200</td>\n",
       "      <td>10000</td>\n",
       "      <td>200</td>\n",
       "    </tr>\n",
       "    <tr>\n",
       "      <th>301476</th>\n",
       "      <td>301476</td>\n",
       "      <td>3843.502574</td>\n",
       "      <td>50.0</td>\n",
       "      <td>200</td>\n",
       "      <td>10000</td>\n",
       "      <td>200</td>\n",
       "    </tr>\n",
       "  </tbody>\n",
       "</table>\n",
       "</div>"
      ],
      "text/plain": [
       "        Iteration         Time  Fitness  Restarts  max_iters  current_restart\n",
       "301472     301472  3843.379451     50.0       200      10000              200\n",
       "301473     301473  3843.410033     50.0       200      10000              200\n",
       "301474     301474  3843.440872     50.0       200      10000              200\n",
       "301475     301475  3843.471707     50.0       200      10000              200\n",
       "301476     301476  3843.502574     50.0       200      10000              200"
      ]
     },
     "execution_count": 56,
     "metadata": {},
     "output_type": "execute_result"
    }
   ],
   "source": [
    "df_run_curves.tail()"
   ]
  },
  {
   "cell_type": "code",
   "execution_count": 57,
   "metadata": {},
   "outputs": [
    {
     "data": {
      "text/plain": [
       "<seaborn.axisgrid.FacetGrid at 0x7ffacd3f90d0>"
      ]
     },
     "execution_count": 57,
     "metadata": {},
     "output_type": "execute_result"
    },
    {
     "data": {
      "image/png": "[encoded data removed]",
      "text/plain": [
       "<Figure size 777.6x216 with 3 Axes>"
      ]
     },
     "metadata": {
      "needs_background": "light"
     },
     "output_type": "display_data"
    }
   ],
   "source": [
    "grid = sns.FacetGrid(df_run_curves, col='Restarts', size=3, aspect=1.2)\n",
    "grid.map(sns.lineplot, 'Iteration', 'Fitness', alpha=.5, color='red', linewidth=2.5)\n",
    "# grid.map(sns.scatterplot, 'Iteration', 'Fitness', alpha=.5)\n"
   ]
  },
  {
   "cell_type": "markdown",
   "metadata": {},
   "source": [
    "### Knapsack (input_size=150)"
   ]
  },
  {
   "cell_type": "code",
   "execution_count": 58,
   "metadata": {},
   "outputs": [
    {
     "name": "stdout",
     "output_type": "stream",
     "text": [
      "(546, 7) (76119, 6)\n"
     ]
    }
   ],
   "source": [
    "fitness_name = 'knapsack'\n",
    "df_run_stats = pd.read_csv('./output/{0}/rhc__{0}__run_stats_df.csv'.format(fitness_name))\n",
    "df_run_curves = pd.read_csv('./output/{0}/rhc__{0}__curves_df.csv'.format(fitness_name))\n",
    "\n",
    "if ('Unnamed: 0' in df_run_stats.keys()):\n",
    "        df_run_stats.pop('Unnamed: 0')\n",
    "        \n",
    "if ('Unnamed: 0' in df_run_curves.keys()):\n",
    "        df_run_curves.pop('Unnamed: 0')\n",
    "        \n",
    "print(df_run_stats.shape, df_run_curves.shape)"
   ]
  },
  {
   "cell_type": "code",
   "execution_count": 59,
   "metadata": {},
   "outputs": [
    {
     "data": {
      "text/html": [
       "<div>\n",
       "<style scoped>\n",
       "    .dataframe tbody tr th:only-of-type {\n",
       "        vertical-align: middle;\n",
       "    }\n",
       "\n",
       "    .dataframe tbody tr th {\n",
       "        vertical-align: top;\n",
       "    }\n",
       "\n",
       "    .dataframe thead th {\n",
       "        text-align: right;\n",
       "    }\n",
       "</style>\n",
       "<table border=\"1\" class=\"dataframe\">\n",
       "  <thead>\n",
       "    <tr style=\"text-align: right;\">\n",
       "      <th></th>\n",
       "      <th>Iteration</th>\n",
       "      <th>Fitness</th>\n",
       "      <th>Time</th>\n",
       "      <th>State</th>\n",
       "      <th>Restarts</th>\n",
       "      <th>max_iters</th>\n",
       "      <th>current_restart</th>\n",
       "    </tr>\n",
       "  </thead>\n",
       "  <tbody>\n",
       "    <tr>\n",
       "      <th>0</th>\n",
       "      <td>0</td>\n",
       "      <td>437.0</td>\n",
       "      <td>0.000092</td>\n",
       "      <td>[1, 1, 0, 0, 1, 1, 1, 1, 1, 0, 0, 1, 0, 1, 1, ...</td>\n",
       "      <td>20</td>\n",
       "      <td>5000</td>\n",
       "      <td>0</td>\n",
       "    </tr>\n",
       "    <tr>\n",
       "      <th>1</th>\n",
       "      <td>5000</td>\n",
       "      <td>531.0</td>\n",
       "      <td>0.024816</td>\n",
       "      <td>[1, 1, 0, 0, 1, 1, 1, 1, 1, 0, 1, 1, 0, 1, 1, ...</td>\n",
       "      <td>20</td>\n",
       "      <td>5000</td>\n",
       "      <td>0</td>\n",
       "    </tr>\n",
       "    <tr>\n",
       "      <th>2</th>\n",
       "      <td>0</td>\n",
       "      <td>409.0</td>\n",
       "      <td>0.048497</td>\n",
       "      <td>[1, 0, 1, 1, 1, 1, 1, 1, 0, 1, 1, 0, 0, 1, 1, ...</td>\n",
       "      <td>20</td>\n",
       "      <td>5000</td>\n",
       "      <td>1</td>\n",
       "    </tr>\n",
       "    <tr>\n",
       "      <th>3</th>\n",
       "      <td>5000</td>\n",
       "      <td>502.0</td>\n",
       "      <td>0.078967</td>\n",
       "      <td>[1, 0, 1, 1, 1, 1, 1, 1, 1, 1, 1, 0, 0, 1, 1, ...</td>\n",
       "      <td>20</td>\n",
       "      <td>5000</td>\n",
       "      <td>1</td>\n",
       "    </tr>\n",
       "    <tr>\n",
       "      <th>4</th>\n",
       "      <td>0</td>\n",
       "      <td>444.0</td>\n",
       "      <td>0.090267</td>\n",
       "      <td>[0, 0, 1, 1, 1, 0, 0, 0, 1, 0, 0, 1, 1, 1, 0, ...</td>\n",
       "      <td>20</td>\n",
       "      <td>5000</td>\n",
       "      <td>2</td>\n",
       "    </tr>\n",
       "  </tbody>\n",
       "</table>\n",
       "</div>"
      ],
      "text/plain": [
       "   Iteration  Fitness      Time  \\\n",
       "0          0    437.0  0.000092   \n",
       "1       5000    531.0  0.024816   \n",
       "2          0    409.0  0.048497   \n",
       "3       5000    502.0  0.078967   \n",
       "4          0    444.0  0.090267   \n",
       "\n",
       "                                               State  Restarts  max_iters  \\\n",
       "0  [1, 1, 0, 0, 1, 1, 1, 1, 1, 0, 0, 1, 0, 1, 1, ...        20       5000   \n",
       "1  [1, 1, 0, 0, 1, 1, 1, 1, 1, 0, 1, 1, 0, 1, 1, ...        20       5000   \n",
       "2  [1, 0, 1, 1, 1, 1, 1, 1, 0, 1, 1, 0, 0, 1, 1, ...        20       5000   \n",
       "3  [1, 0, 1, 1, 1, 1, 1, 1, 1, 1, 1, 0, 0, 1, 1, ...        20       5000   \n",
       "4  [0, 0, 1, 1, 1, 0, 0, 0, 1, 0, 0, 1, 1, 1, 0, ...        20       5000   \n",
       "\n",
       "   current_restart  \n",
       "0                0  \n",
       "1                0  \n",
       "2                1  \n",
       "3                1  \n",
       "4                2  "
      ]
     },
     "execution_count": 59,
     "metadata": {},
     "output_type": "execute_result"
    }
   ],
   "source": [
    "df_run_stats.head()"
   ]
  },
  {
   "cell_type": "code",
   "execution_count": 63,
   "metadata": {},
   "outputs": [
    {
     "data": {
      "text/plain": [
       "<seaborn.axisgrid.FacetGrid at 0x7ffacd2c1710>"
      ]
     },
     "execution_count": 63,
     "metadata": {},
     "output_type": "execute_result"
    },
    {
     "data": {
      "image/png": "[encoded data removed]",
      "text/plain": [
       "<Figure size 777.6x216 with 3 Axes>"
      ]
     },
     "metadata": {
      "needs_background": "light"
     },
     "output_type": "display_data"
    }
   ],
   "source": [
    "grid = sns.FacetGrid(df_run_stats, col='Restarts', size=3, aspect=1.2)\n",
    "grid.map(sns.lineplot, 'Iteration', 'Fitness', alpha=.5, color='red', linewidth=2.5)\n",
    "grid.map(sns.scatterplot, 'Iteration', 'Fitness', alpha=.5)\n",
    "# grid.add_legend()"
   ]
  },
  {
   "cell_type": "code",
   "execution_count": 61,
   "metadata": {},
   "outputs": [
    {
     "name": "stdout",
     "output_type": "stream",
     "text": [
      "542.0\n",
      "551.0\n",
      "565.0\n"
     ]
    }
   ],
   "source": [
    "for r in df_run_stats['Restarts'].unique():\n",
    "    max_f = df_run_stats[df_run_stats['Restarts']==r]['Fitness'].max()\n",
    "    print (max_f)"
   ]
  },
  {
   "cell_type": "code",
   "execution_count": 62,
   "metadata": {},
   "outputs": [
    {
     "data": {
      "text/html": [
       "<div>\n",
       "<style scoped>\n",
       "    .dataframe tbody tr th:only-of-type {\n",
       "        vertical-align: middle;\n",
       "    }\n",
       "\n",
       "    .dataframe tbody tr th {\n",
       "        vertical-align: top;\n",
       "    }\n",
       "\n",
       "    .dataframe thead th {\n",
       "        text-align: right;\n",
       "    }\n",
       "</style>\n",
       "<table border=\"1\" class=\"dataframe\">\n",
       "  <thead>\n",
       "    <tr style=\"text-align: right;\">\n",
       "      <th></th>\n",
       "      <th>Iteration</th>\n",
       "      <th>Time</th>\n",
       "      <th>Fitness</th>\n",
       "      <th>Restarts</th>\n",
       "      <th>max_iters</th>\n",
       "      <th>current_restart</th>\n",
       "    </tr>\n",
       "  </thead>\n",
       "  <tbody>\n",
       "    <tr>\n",
       "      <th>76114</th>\n",
       "      <td>76114</td>\n",
       "      <td>256.077021</td>\n",
       "      <td>501.0</td>\n",
       "      <td>200</td>\n",
       "      <td>5000</td>\n",
       "      <td>200</td>\n",
       "    </tr>\n",
       "    <tr>\n",
       "      <th>76115</th>\n",
       "      <td>76115</td>\n",
       "      <td>256.085634</td>\n",
       "      <td>501.0</td>\n",
       "      <td>200</td>\n",
       "      <td>5000</td>\n",
       "      <td>200</td>\n",
       "    </tr>\n",
       "    <tr>\n",
       "      <th>76116</th>\n",
       "      <td>76116</td>\n",
       "      <td>256.094146</td>\n",
       "      <td>501.0</td>\n",
       "      <td>200</td>\n",
       "      <td>5000</td>\n",
       "      <td>200</td>\n",
       "    </tr>\n",
       "    <tr>\n",
       "      <th>76117</th>\n",
       "      <td>76117</td>\n",
       "      <td>256.102406</td>\n",
       "      <td>501.0</td>\n",
       "      <td>200</td>\n",
       "      <td>5000</td>\n",
       "      <td>200</td>\n",
       "    </tr>\n",
       "    <tr>\n",
       "      <th>76118</th>\n",
       "      <td>76118</td>\n",
       "      <td>256.110626</td>\n",
       "      <td>501.0</td>\n",
       "      <td>200</td>\n",
       "      <td>5000</td>\n",
       "      <td>200</td>\n",
       "    </tr>\n",
       "  </tbody>\n",
       "</table>\n",
       "</div>"
      ],
      "text/plain": [
       "       Iteration        Time  Fitness  Restarts  max_iters  current_restart\n",
       "76114      76114  256.077021    501.0       200       5000              200\n",
       "76115      76115  256.085634    501.0       200       5000              200\n",
       "76116      76116  256.094146    501.0       200       5000              200\n",
       "76117      76117  256.102406    501.0       200       5000              200\n",
       "76118      76118  256.110626    501.0       200       5000              200"
      ]
     },
     "execution_count": 62,
     "metadata": {},
     "output_type": "execute_result"
    }
   ],
   "source": [
    "df_run_curves.tail()"
   ]
  },
  {
   "cell_type": "code",
   "execution_count": 64,
   "metadata": {},
   "outputs": [
    {
     "data": {
      "text/plain": [
       "<seaborn.axisgrid.FacetGrid at 0x7ffacd02b250>"
      ]
     },
     "execution_count": 64,
     "metadata": {},
     "output_type": "execute_result"
    },
    {
     "data": {
      "image/png": "[encoded data removed]",
      "text/plain": [
       "<Figure size 777.6x216 with 3 Axes>"
      ]
     },
     "metadata": {
      "needs_background": "light"
     },
     "output_type": "display_data"
    }
   ],
   "source": [
    "grid = sns.FacetGrid(df_run_curves, col='Restarts', size=3, aspect=1.2)\n",
    "grid.map(sns.lineplot, 'Iteration', 'Fitness', alpha=.5, color='red', linewidth=2.5)\n",
    "# grid.map(sns.scatterplot, 'Iteration', 'Fitness', alpha=.5)\n"
   ]
  },
  {
   "cell_type": "code",
   "execution_count": null,
   "metadata": {},
   "outputs": [],
   "source": []
  },
  {
   "cell_type": "code",
   "execution_count": null,
   "metadata": {},
   "outputs": [],
   "source": []
  }
 ],
 "metadata": {
  "kernelspec": {
   "display_name": "Python 3",
   "language": "python",
   "name": "python3"
  },
  "language_info": {
   "codemirror_mode": {
    "name": "ipython",
    "version": 3
   },
   "file_extension": ".py",
   "mimetype": "text/x-python",
   "name": "python",
   "nbconvert_exporter": "python",
   "pygments_lexer": "ipython3",
   "version": "3.7.4"
  }
 },
 "nbformat": 4,
 "nbformat_minor": 2
}

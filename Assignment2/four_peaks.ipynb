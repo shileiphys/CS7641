{
 "cells": [
  {
   "cell_type": "markdown",
   "metadata": {},
   "source": [
    "# 4-Peaks"
   ]
  },
  {
   "cell_type": "code",
   "execution_count": 1,
   "metadata": {},
   "outputs": [],
   "source": [
    "title='4-Peaks'"
   ]
  },
  {
   "cell_type": "code",
   "execution_count": 2,
   "metadata": {},
   "outputs": [],
   "source": [
    "import mlrose_hiive\n",
    "\n",
    "import numpy as np\n",
    "import pandas as pd\n",
    "from datetime import datetime\n",
    "import seaborn as sns\n",
    "\n",
    "import matplotlib.pyplot as plt\n",
    "%matplotlib inline"
   ]
  },
  {
   "cell_type": "code",
   "execution_count": 3,
   "metadata": {},
   "outputs": [
    {
     "name": "stdout",
     "output_type": "stream",
     "text": [
      "30\n"
     ]
    }
   ],
   "source": [
    "eval_count = 0\n",
    "\n",
    "def four_peaks(state):\n",
    "    global eval_count\n",
    "    \n",
    "    fitness = mlrose_hiive.FourPeaks(t_pct=0.15)\n",
    "    \n",
    "    eval_count += 1\n",
    "    \n",
    "    return fitness.evaluate(state)\n",
    "\n",
    "ffn_4peaks = mlrose_hiive.CustomFitness(four_peaks)\n",
    "\n",
    "print(four_peaks(np.array([1, 1, 1, 1, 1, 1, 1, 1, 1, 1, 0, 1, 0, 1, 1, 0, 0, 0, 0, 0])))"
   ]
  },
  {
   "cell_type": "code",
   "execution_count": 127,
   "metadata": {},
   "outputs": [
    {
     "name": "stdout",
     "output_type": "stream",
     "text": [
      "Custom 4peaks: 2\n",
      "Custom 4peaks: 2\n",
      "Custom 4peaks: 2\n",
      "Custom 4peaks: 2\n"
     ]
    }
   ],
   "source": [
    "np.random.seed(1)\n",
    "input_size = [10, 20, 25, 50]\n",
    "\n",
    "eval_cnt_df = pd.DataFrame()\n",
    "eval_cnt_df['input_size'] = input_size\n",
    "eval_cnt_rhc = []\n",
    "eval_cnt_sa = []\n",
    "eval_cnt_ga = []\n",
    "eval_cnt_mimic = []\n",
    "\n",
    "eval_time_df = pd.DataFrame()\n",
    "eval_time_df['input_size'] = input_size\n",
    "eval_time_rhc = []\n",
    "eval_time_sa = []\n",
    "eval_time_ga = []\n",
    "eval_time_mimic = []\n",
    "\n",
    "fitness_curve = {}\n",
    "\n",
    "for n in input_size:\n",
    "    np.random.seed(1)    \n",
    "    ## initialize problem\n",
    "    ffn_4peaks = mlrose_hiive.CustomFitness(four_peaks)\n",
    "    \n",
    "    ## all algorithm start from same state\n",
    "    init_state = np.random.randint(2, size=n)\n",
    "    problem = mlrose_hiive.DiscreteOpt(length=len(init_state), fitness_fn=ffn_4peaks, \n",
    "                                       maximize=True, max_val=2)\n",
    "    \n",
    "    print('Custom 4peaks:', ffn_4peaks.evaluate(init_state))\n",
    "    \n",
    "    ## Random Hill Climbing\n",
    "    eval_count = 0\n",
    "    begin = datetime.now()\n",
    "    rhc_state, rhc_fitness, rhc_curve = mlrose_hiive.random_hill_climb(problem, \n",
    "                                                                       max_attempts=200, \n",
    "                                                                       max_iters=6000,\n",
    "                                                                       restarts=200,\n",
    "                                                                       init_state=init_state,\n",
    "                                                                       curve=True)\n",
    "    end = datetime.now()\n",
    "    \n",
    "    dt = end - begin\n",
    "    eval_time_rhc.append(dt.total_seconds())\n",
    "    eval_cnt_rhc.append(eval_count)\n",
    "\n",
    "    ## Simulated Annealing\n",
    "    eval_count = 0\n",
    "    schedule = mlrose_hiive.ExpDecay(init_temp=5.0) ## Simulated Annealing\n",
    "    begin = datetime.now()\n",
    "    sa_state, sa_fitness, sa_curve = mlrose_hiive.simulated_annealing(problem,\n",
    "                                                                      schedule=schedule,\n",
    "                                                                      max_attempts=100, \n",
    "                                                                      max_iters=4096, \n",
    "                                                                      init_state=init_state,\n",
    "                                                                      curve=True)\n",
    "    end = datetime.now()\n",
    "    \n",
    "    dt = end - begin\n",
    "    eval_time_sa.append(dt.total_seconds())\n",
    "    eval_cnt_sa.append(eval_count)\n",
    "    \n",
    "    ## Genetic Algorithm\n",
    "    eval_count = 0\n",
    "    pop_size = 100\n",
    "    mute_prob = 0.1\n",
    "    begin = datetime.now()\n",
    "    ga_state, ga_fitness, ga_curve =  mlrose_hiive.genetic_alg(problem, \n",
    "                                                               pop_size=pop_size,\n",
    "                                                               mutation_prob=mute_prob, \n",
    "                                                               max_attempts=200,\n",
    "                                                               max_iters=256,\n",
    "                                                               curve=True)\n",
    "    end = datetime.now()\n",
    "    \n",
    "    dt = end - begin\n",
    "    eval_time_ga.append(dt.total_seconds())\n",
    "    eval_cnt_ga.append(eval_count)\n",
    "    \n",
    "    ## MIMIC\n",
    "    eval_count = 0\n",
    "    pop_size = 500\n",
    "    keep_pct = 0.25\n",
    "    begin = datetime.now()\n",
    "    mimic_state, mimic_fitness, mimic_curve = mlrose_hiive.mimic(problem, \n",
    "                                                                 pop_size=pop_size,\n",
    "                                                                 keep_pct=keep_pct, \n",
    "                                                                 max_attempts=100,\n",
    "                                                                 max_iters=256,\n",
    "                                                                 curve=True)\n",
    "    end = datetime.now()\n",
    "    \n",
    "    dt = end - begin\n",
    "    eval_time_mimic.append(dt.total_seconds())\n",
    "    eval_cnt_mimic.append(eval_count)\n",
    "\n",
    "\n",
    "fitness_curve['rhc'] = rhc_curve\n",
    "fitness_curve['sa']  = sa_curve\n",
    "fitness_curve['ga']  = ga_curve\n",
    "fitness_curve['mimic'] = mimic_curve\n",
    "\n",
    "eval_cnt_df['rhc'] = eval_cnt_rhc\n",
    "eval_cnt_df['sa']  = eval_cnt_sa\n",
    "eval_cnt_df['ga']  = eval_cnt_ga\n",
    "eval_cnt_df['mimic'] = eval_cnt_mimic\n",
    "\n",
    "eval_time_df['rhc'] = eval_time_rhc\n",
    "eval_time_df['sa']  = eval_time_sa\n",
    "eval_time_df['ga']  = eval_time_ga\n",
    "eval_time_df['mimic'] = eval_time_mimic"
   ]
  },
  {
   "cell_type": "code",
   "execution_count": 128,
   "metadata": {},
   "outputs": [
    {
     "data": {
      "text/html": [
       "<div>\n",
       "<style scoped>\n",
       "    .dataframe tbody tr th:only-of-type {\n",
       "        vertical-align: middle;\n",
       "    }\n",
       "\n",
       "    .dataframe tbody tr th {\n",
       "        vertical-align: top;\n",
       "    }\n",
       "\n",
       "    .dataframe thead th {\n",
       "        text-align: right;\n",
       "    }\n",
       "</style>\n",
       "<table border=\"1\" class=\"dataframe\">\n",
       "  <thead>\n",
       "    <tr style=\"text-align: right;\">\n",
       "      <th></th>\n",
       "      <th>input_size</th>\n",
       "      <th>rhc</th>\n",
       "      <th>sa</th>\n",
       "      <th>ga</th>\n",
       "      <th>mimic</th>\n",
       "    </tr>\n",
       "  </thead>\n",
       "  <tbody>\n",
       "    <tr>\n",
       "      <th>0</th>\n",
       "      <td>10</td>\n",
       "      <td>47135</td>\n",
       "      <td>812</td>\n",
       "      <td>20403</td>\n",
       "      <td>51103</td>\n",
       "    </tr>\n",
       "    <tr>\n",
       "      <th>1</th>\n",
       "      <td>20</td>\n",
       "      <td>74464</td>\n",
       "      <td>826</td>\n",
       "      <td>22631</td>\n",
       "      <td>54114</td>\n",
       "    </tr>\n",
       "    <tr>\n",
       "      <th>2</th>\n",
       "      <td>25</td>\n",
       "      <td>101871</td>\n",
       "      <td>826</td>\n",
       "      <td>23542</td>\n",
       "      <td>56619</td>\n",
       "    </tr>\n",
       "    <tr>\n",
       "      <th>3</th>\n",
       "      <td>50</td>\n",
       "      <td>222861</td>\n",
       "      <td>2584</td>\n",
       "      <td>25979</td>\n",
       "      <td>70153</td>\n",
       "    </tr>\n",
       "  </tbody>\n",
       "</table>\n",
       "</div>"
      ],
      "text/plain": [
       "   input_size     rhc    sa     ga  mimic\n",
       "0          10   47135   812  20403  51103\n",
       "1          20   74464   826  22631  54114\n",
       "2          25  101871   826  23542  56619\n",
       "3          50  222861  2584  25979  70153"
      ]
     },
     "execution_count": 128,
     "metadata": {},
     "output_type": "execute_result"
    }
   ],
   "source": [
    "eval_cnt_df"
   ]
  },
  {
   "cell_type": "code",
   "execution_count": 129,
   "metadata": {},
   "outputs": [
    {
     "data": {
      "text/html": [
       "<div>\n",
       "<style scoped>\n",
       "    .dataframe tbody tr th:only-of-type {\n",
       "        vertical-align: middle;\n",
       "    }\n",
       "\n",
       "    .dataframe tbody tr th {\n",
       "        vertical-align: top;\n",
       "    }\n",
       "\n",
       "    .dataframe thead th {\n",
       "        text-align: right;\n",
       "    }\n",
       "</style>\n",
       "<table border=\"1\" class=\"dataframe\">\n",
       "  <thead>\n",
       "    <tr style=\"text-align: right;\">\n",
       "      <th></th>\n",
       "      <th>input_size</th>\n",
       "      <th>rhc</th>\n",
       "      <th>sa</th>\n",
       "      <th>ga</th>\n",
       "      <th>mimic</th>\n",
       "    </tr>\n",
       "  </thead>\n",
       "  <tbody>\n",
       "    <tr>\n",
       "      <th>0</th>\n",
       "      <td>10</td>\n",
       "      <td>1.364223</td>\n",
       "      <td>0.025580</td>\n",
       "      <td>1.683023</td>\n",
       "      <td>5.457651</td>\n",
       "    </tr>\n",
       "    <tr>\n",
       "      <th>1</th>\n",
       "      <td>20</td>\n",
       "      <td>2.378256</td>\n",
       "      <td>0.028274</td>\n",
       "      <td>2.149054</td>\n",
       "      <td>20.448359</td>\n",
       "    </tr>\n",
       "    <tr>\n",
       "      <th>2</th>\n",
       "      <td>25</td>\n",
       "      <td>3.587002</td>\n",
       "      <td>0.031811</td>\n",
       "      <td>2.435794</td>\n",
       "      <td>31.841905</td>\n",
       "    </tr>\n",
       "    <tr>\n",
       "      <th>3</th>\n",
       "      <td>50</td>\n",
       "      <td>7.787693</td>\n",
       "      <td>0.082940</td>\n",
       "      <td>2.661781</td>\n",
       "      <td>156.884628</td>\n",
       "    </tr>\n",
       "  </tbody>\n",
       "</table>\n",
       "</div>"
      ],
      "text/plain": [
       "   input_size       rhc        sa        ga       mimic\n",
       "0          10  1.364223  0.025580  1.683023    5.457651\n",
       "1          20  2.378256  0.028274  2.149054   20.448359\n",
       "2          25  3.587002  0.031811  2.435794   31.841905\n",
       "3          50  7.787693  0.082940  2.661781  156.884628"
      ]
     },
     "execution_count": 129,
     "metadata": {},
     "output_type": "execute_result"
    }
   ],
   "source": [
    "eval_time_df"
   ]
  },
  {
   "cell_type": "code",
   "execution_count": 130,
   "metadata": {},
   "outputs": [
    {
     "name": "stdout",
     "output_type": "stream",
     "text": [
      "4-Peaks (50 bit)\tstate\n",
      "rhc:   50.0 [11111111111111111111111111111111111111111111111111]\n",
      "sa:    50.0 [11111111111111111111111111111111111111111111111111]\n",
      "ga:    91.0 [11111111111111111111111111111111111111111000000000]\n",
      "mimic: 84.0 [11111111111111111111111111111111110011011000000000]\n"
     ]
    }
   ],
   "source": [
    "print(title + ' (%d bit)\\tstate'%len(rhc_state))\n",
    "print('rhc:   {0:4.1f} [{1:s}]'.format(rhc_fitness, ''.join(str(x) for x in rhc_state)))\n",
    "print('sa:    {0:4.1f} [{1:s}]'.format(sa_fitness, ''.join(str(x) for x in sa_state)))\n",
    "print('ga:    {0:4.1f} [{1:s}]'.format(ga_fitness, ''.join(str(x) for x in ga_state)))\n",
    "print('mimic: {0:4.1f} [{1:s}]'.format(mimic_fitness, ''.join(str(x) for x in mimic_state)))"
   ]
  },
  {
   "cell_type": "code",
   "execution_count": null,
   "metadata": {},
   "outputs": [],
   "source": []
  },
  {
   "cell_type": "code",
   "execution_count": 118,
   "metadata": {},
   "outputs": [
    {
     "data": {
      "image/png": "[encoded data removed]",
      "text/plain": [
       "<Figure size 1440x432 with 3 Axes>"
      ]
     },
     "metadata": {
      "needs_background": "light"
     },
     "output_type": "display_data"
    }
   ],
   "source": [
    "fig = plt.figure(figsize=(20,6))\n",
    "# fig, axes = plt.subplots(1, 3, figsize=(20,4))\n",
    "fig.suptitle(title, fontsize=16)\n",
    "\n",
    "## evaluation number\n",
    "df = eval_cnt_df.set_index('input_size')\n",
    "ax = fig.add_subplot(132)\n",
    "ax = sns.lineplot(data=df, markers=['o']*4,)\n",
    "ax.ticklabel_format(axis='y', style='sci',  scilimits=(0,0))\n",
    "ax.set_xlabel('Input Sizes', fontsize=14)\n",
    "ax.set_ylabel('Number of Evaluations',fontsize=14)\n",
    "\n",
    "## time\n",
    "df = eval_time_df.set_index('input_size')\n",
    "ax = fig.add_subplot(133)\n",
    "ax = sns.lineplot(data=df, markers=['o']*4)\n",
    "ax.set_yscale('log')\n",
    "ax.set_xlabel('Input Sizes', fontsize=14)\n",
    "ax.set_ylabel('Time (s)', fontsize=14)\n",
    "\n",
    "## Fitness Convergence Analysis\n",
    "labels = ['rhc', 'sa', 'ga', 'mimic']\n",
    "az = fig.add_subplot(131)\n",
    "ax = sns.lineplot(data=[rhc_curve, sa_curve, ga_curve, mimic_curve])\n",
    "# ax.set_ylim(0, 36)\n",
    "ax.set_xlabel('Iterations', fontsize=14)\n",
    "ax.set_ylabel('Fitness Values', fontsize=14)\n",
    "legend = ax.get_legend()\n",
    "for handle,l in zip(legend.texts, labels):\n",
    "    handle.set_text(l)\n",
    "\n",
    "# plt.tight_layout(True)"
   ]
  },
  {
   "cell_type": "code",
   "execution_count": null,
   "metadata": {},
   "outputs": [],
   "source": []
  }
 ],
 "metadata": {
  "kernelspec": {
   "display_name": "Python 3",
   "language": "python",
   "name": "python3"
  },
  "language_info": {
   "codemirror_mode": {
    "name": "ipython",
    "version": 3
   },
   "file_extension": ".py",
   "mimetype": "text/x-python",
   "name": "python",
   "nbconvert_exporter": "python",
   "pygments_lexer": "ipython3",
   "version": "3.7.4"
  }
 },
 "nbformat": 4,
 "nbformat_minor": 2
}

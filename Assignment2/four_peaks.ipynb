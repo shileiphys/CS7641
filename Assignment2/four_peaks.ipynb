{
 "cells": [
  {
   "cell_type": "markdown",
   "metadata": {},
   "source": [
    "# 4-Peaks"
   ]
  },
  {
   "cell_type": "code",
   "execution_count": 168,
   "metadata": {},
   "outputs": [],
   "source": [
    "title='4-Peaks'"
   ]
  },
  {
   "cell_type": "code",
   "execution_count": 93,
   "metadata": {},
   "outputs": [],
   "source": [
    "import mlrose_hiive\n",
    "\n",
    "import numpy as np\n",
    "import pandas as pd\n",
    "from datetime import datetime\n",
    "import seaborn as sns\n",
    "\n",
    "import matplotlib.pyplot as plt\n",
    "%matplotlib inline"
   ]
  },
  {
   "cell_type": "code",
   "execution_count": 164,
   "metadata": {},
   "outputs": [
    {
     "name": "stdout",
     "output_type": "stream",
     "text": [
      "16\n"
     ]
    }
   ],
   "source": [
    "eval_count = 0\n",
    "\n",
    "def four_peaks(state):\n",
    "    global eval_count\n",
    "    \n",
    "    fitness = mlrose_hiive.FourPeaks(t_pct=0.15)\n",
    "    \n",
    "    eval_count += 1\n",
    "    \n",
    "    return fitness.evaluate(state)\n",
    "\n",
    "ffn_4peaks = mlrose_hiive.CustomFitness(four_peaks)\n",
    "\n",
    "print(four_peaks(np.array([1, 1, 1, 0, 1, 0, 0, 1, 0, 0, 0, 0])))"
   ]
  },
  {
   "cell_type": "code",
   "execution_count": 210,
   "metadata": {},
   "outputs": [],
   "source": [
    "np.random.seed(1)\n",
    "input_size = np.arange(6, 20, 4, dtype=np.int)\n",
    "\n",
    "eval_cnt_df = pd.DataFrame()\n",
    "eval_cnt_df['input_size'] = input_size\n",
    "eval_cnt_rhc = []\n",
    "eval_cnt_sa = []\n",
    "eval_cnt_ga = []\n",
    "eval_cnt_mimic = []\n",
    "\n",
    "eval_time_df = pd.DataFrame()\n",
    "eval_time_df['input_size'] = input_size\n",
    "eval_time_rhc = []\n",
    "eval_time_sa = []\n",
    "eval_time_ga = []\n",
    "eval_time_mimic = []\n",
    "\n",
    "fitness_curve = {}\n",
    "\n",
    "schedule=mlrose_hiive.ExpDecay() ## Simulated Annealing\n",
    "# schedule=mlrose_hiive.ExpDecay(exp_const=.001, init_temp=2)\n",
    "\n",
    "for n in input_size:\n",
    "    ## initialize problem\n",
    "    ffn_4peaks = mlrose_hiive.CustomFitness(four_peaks)\n",
    "    \n",
    "    init_state = np.random.randint(2, size=n)\n",
    "    problem = mlrose_hiive.DiscreteOpt(length=len(init_state), fitness_fn=ffn_4peaks, \n",
    "                                       maximize=True, max_val=2)\n",
    "    \n",
    "    ## Random Hill Climbing\n",
    "    eval_count = 0\n",
    "    begin = datetime.now()\n",
    "    rhc_state, rhc_fitness, rhc_curve = mlrose_hiive.random_hill_climb(problem, \n",
    "                                                                     max_attempts=20, \n",
    "                                                                     max_iters=10000,\n",
    "                                                                     restarts=0,\n",
    "                                                                     init_state=init_state,\n",
    "                                                                     curve=True)\n",
    "    end = datetime.now()\n",
    "    \n",
    "    dt = end - begin\n",
    "    eval_time_rhc.append(dt.total_seconds())\n",
    "    eval_cnt_rhc.append(eval_count)\n",
    "\n",
    "    ## Simulated Annealing\n",
    "    eval_count = 0\n",
    "    begin = datetime.now()\n",
    "    sa_state, sa_fitness, sa_curve = mlrose_hiive.simulated_annealing(problem,\n",
    "                                                                   schedule=schedule,\n",
    "                                                                   max_attempts=40, \n",
    "                                                                   max_iters=10000, \n",
    "                                                                   init_state=init_state,\n",
    "                                                                   curve=True)\n",
    "    end = datetime.now()\n",
    "    \n",
    "    dt = end - begin\n",
    "    eval_time_sa.append(dt.total_seconds())\n",
    "    eval_cnt_sa.append(eval_count)\n",
    "    \n",
    "    ## Genetic Algorithm\n",
    "    eval_count = 0\n",
    "    pop_size = int(n * 5)\n",
    "    mute_prob = 0.1 #0.025\n",
    "    begin = datetime.now()\n",
    "    ga_state, ga_fitness, ga_curve =  mlrose_hiive.genetic_alg(problem, \n",
    "                                                               pop_size=pop_size,\n",
    "                                                               mutation_prob=mute_prob, \n",
    "                                                               max_attempts=20,\n",
    "                                                               max_iters=2000,\n",
    "                                                               curve=True)\n",
    "    end = datetime.now()\n",
    "    \n",
    "    dt = end - begin\n",
    "    eval_time_ga.append(dt.total_seconds())\n",
    "    eval_cnt_ga.append(eval_count)\n",
    "    \n",
    "    ## MIMIC\n",
    "    eval_count = 0\n",
    "    pop_size = int(n * 5)\n",
    "    keep_pct = 0.25\n",
    "    begin = datetime.now()\n",
    "    mimic_state, mimic_fitness, mimic_curve = mlrose_hiive.mimic(problem, \n",
    "                                                                 pop_size=pop_size,\n",
    "                                                                 keep_pct=keep_pct, \n",
    "                                                                 max_attempts=30,\n",
    "                                                                 max_iters=500,\n",
    "                                                                 curve=True)\n",
    "    end = datetime.now()\n",
    "    \n",
    "    dt = end - begin\n",
    "    eval_time_mimic.append(dt.total_seconds())\n",
    "    eval_cnt_mimic.append(eval_count)\n",
    "\n",
    "\n",
    "fitness_curve['rhc'] = rhc_curve\n",
    "fitness_curve['sa']  = sa_curve\n",
    "fitness_curve['ga']  = ga_curve\n",
    "fitness_curve['mimic'] = mimic_curve\n",
    "\n",
    "eval_cnt_df['rhc'] = eval_cnt_rhc\n",
    "eval_cnt_df['sa']  = eval_cnt_sa\n",
    "eval_cnt_df['ga']  = eval_cnt_ga\n",
    "eval_cnt_df['mimic'] = eval_cnt_mimic\n",
    "\n",
    "eval_time_df['rhc'] = eval_time_rhc\n",
    "eval_time_df['sa']  = eval_time_sa\n",
    "eval_time_df['ga']  = eval_time_ga\n",
    "eval_time_df['mimic'] = eval_time_mimic"
   ]
  },
  {
   "cell_type": "code",
   "execution_count": 211,
   "metadata": {},
   "outputs": [
    {
     "data": {
      "text/html": [
       "<div>\n",
       "<style scoped>\n",
       "    .dataframe tbody tr th:only-of-type {\n",
       "        vertical-align: middle;\n",
       "    }\n",
       "\n",
       "    .dataframe tbody tr th {\n",
       "        vertical-align: top;\n",
       "    }\n",
       "\n",
       "    .dataframe thead th {\n",
       "        text-align: right;\n",
       "    }\n",
       "</style>\n",
       "<table border=\"1\" class=\"dataframe\">\n",
       "  <thead>\n",
       "    <tr style=\"text-align: right;\">\n",
       "      <th></th>\n",
       "      <th>input_size</th>\n",
       "      <th>rhc</th>\n",
       "      <th>sa</th>\n",
       "      <th>ga</th>\n",
       "      <th>mimic</th>\n",
       "    </tr>\n",
       "  </thead>\n",
       "  <tbody>\n",
       "    <tr>\n",
       "      <th>0</th>\n",
       "      <td>6</td>\n",
       "      <td>38</td>\n",
       "      <td>79</td>\n",
       "      <td>683</td>\n",
       "      <td>993</td>\n",
       "    </tr>\n",
       "    <tr>\n",
       "      <th>1</th>\n",
       "      <td>10</td>\n",
       "      <td>36</td>\n",
       "      <td>107</td>\n",
       "      <td>1329</td>\n",
       "      <td>1736</td>\n",
       "    </tr>\n",
       "    <tr>\n",
       "      <th>2</th>\n",
       "      <td>14</td>\n",
       "      <td>28</td>\n",
       "      <td>136</td>\n",
       "      <td>1706</td>\n",
       "      <td>2345</td>\n",
       "    </tr>\n",
       "    <tr>\n",
       "      <th>3</th>\n",
       "      <td>18</td>\n",
       "      <td>21</td>\n",
       "      <td>237</td>\n",
       "      <td>2918</td>\n",
       "      <td>3005</td>\n",
       "    </tr>\n",
       "  </tbody>\n",
       "</table>\n",
       "</div>"
      ],
      "text/plain": [
       "   input_size  rhc   sa    ga  mimic\n",
       "0           6   38   79   683    993\n",
       "1          10   36  107  1329   1736\n",
       "2          14   28  136  1706   2345\n",
       "3          18   21  237  2918   3005"
      ]
     },
     "execution_count": 211,
     "metadata": {},
     "output_type": "execute_result"
    }
   ],
   "source": [
    "eval_cnt_df"
   ]
  },
  {
   "cell_type": "code",
   "execution_count": 212,
   "metadata": {},
   "outputs": [
    {
     "data": {
      "text/plain": [
       "[Text(0, 0.5, 'Number of Evaluations'), Text(0.5, 0, 'Input Sizes')]"
      ]
     },
     "execution_count": 212,
     "metadata": {},
     "output_type": "execute_result"
    },
    {
     "data": {
      "image/png": "[encoded data removed]",
      "text/plain": [
       "<Figure size 432x288 with 1 Axes>"
      ]
     },
     "metadata": {
      "needs_background": "light"
     },
     "output_type": "display_data"
    }
   ],
   "source": [
    "df = eval_cnt_df.set_index('input_size')\n",
    "ax = sns.lineplot(data=df, markers=['o']*4)\n",
    "\n",
    "ax.set_title(title)\n",
    "ax.set(xlabel='Input Sizes',ylabel='Number of Evaluations')"
   ]
  },
  {
   "cell_type": "code",
   "execution_count": 213,
   "metadata": {},
   "outputs": [
    {
     "data": {
      "text/html": [
       "<div>\n",
       "<style scoped>\n",
       "    .dataframe tbody tr th:only-of-type {\n",
       "        vertical-align: middle;\n",
       "    }\n",
       "\n",
       "    .dataframe tbody tr th {\n",
       "        vertical-align: top;\n",
       "    }\n",
       "\n",
       "    .dataframe thead th {\n",
       "        text-align: right;\n",
       "    }\n",
       "</style>\n",
       "<table border=\"1\" class=\"dataframe\">\n",
       "  <thead>\n",
       "    <tr style=\"text-align: right;\">\n",
       "      <th></th>\n",
       "      <th>input_size</th>\n",
       "      <th>rhc</th>\n",
       "      <th>sa</th>\n",
       "      <th>ga</th>\n",
       "      <th>mimic</th>\n",
       "    </tr>\n",
       "  </thead>\n",
       "  <tbody>\n",
       "    <tr>\n",
       "      <th>0</th>\n",
       "      <td>6</td>\n",
       "      <td>0.001061</td>\n",
       "      <td>0.002653</td>\n",
       "      <td>0.045824</td>\n",
       "      <td>0.402873</td>\n",
       "    </tr>\n",
       "    <tr>\n",
       "      <th>1</th>\n",
       "      <td>10</td>\n",
       "      <td>0.000919</td>\n",
       "      <td>0.003491</td>\n",
       "      <td>0.086416</td>\n",
       "      <td>1.145966</td>\n",
       "    </tr>\n",
       "    <tr>\n",
       "      <th>2</th>\n",
       "      <td>14</td>\n",
       "      <td>0.000689</td>\n",
       "      <td>0.003836</td>\n",
       "      <td>0.118848</td>\n",
       "      <td>2.210085</td>\n",
       "    </tr>\n",
       "    <tr>\n",
       "      <th>3</th>\n",
       "      <td>18</td>\n",
       "      <td>0.000529</td>\n",
       "      <td>0.007413</td>\n",
       "      <td>0.208831</td>\n",
       "      <td>3.606954</td>\n",
       "    </tr>\n",
       "  </tbody>\n",
       "</table>\n",
       "</div>"
      ],
      "text/plain": [
       "   input_size       rhc        sa        ga     mimic\n",
       "0           6  0.001061  0.002653  0.045824  0.402873\n",
       "1          10  0.000919  0.003491  0.086416  1.145966\n",
       "2          14  0.000689  0.003836  0.118848  2.210085\n",
       "3          18  0.000529  0.007413  0.208831  3.606954"
      ]
     },
     "execution_count": 213,
     "metadata": {},
     "output_type": "execute_result"
    }
   ],
   "source": [
    "eval_time_df"
   ]
  },
  {
   "cell_type": "code",
   "execution_count": 214,
   "metadata": {},
   "outputs": [
    {
     "data": {
      "text/plain": [
       "[Text(0, 0.5, 'Time (s)'), Text(0.5, 0, 'Input Sizes')]"
      ]
     },
     "execution_count": 214,
     "metadata": {},
     "output_type": "execute_result"
    },
    {
     "data": {
      "image/png": "[encoded data removed]",
      "text/plain": [
       "<Figure size 432x288 with 1 Axes>"
      ]
     },
     "metadata": {
      "needs_background": "light"
     },
     "output_type": "display_data"
    }
   ],
   "source": [
    "df = eval_time_df.set_index('input_size')\n",
    "ax = sns.lineplot(data=df, markers=['o']*4)\n",
    "\n",
    "ax.set_title(title)\n",
    "ax.set_yscale('log')\n",
    "ax.set(xlabel='Input Sizes', ylabel='Time (s)')"
   ]
  },
  {
   "cell_type": "code",
   "execution_count": 215,
   "metadata": {},
   "outputs": [
    {
     "data": {
      "image/png": "[encoded data removed]",
      "text/plain": [
       "<Figure size 432x288 with 1 Axes>"
      ]
     },
     "metadata": {
      "needs_background": "light"
     },
     "output_type": "display_data"
    }
   ],
   "source": [
    "## Fitness Convergence Analysis\n",
    "labels = ['rhc', 'sa', 'ga', 'mimic']\n",
    "\n",
    "ax = sns.lineplot(data=[rhc_curve, sa_curve, ga_curve, mimic_curve])\n",
    "ax.set_ylim(0, 36)\n",
    "ax.set_title(title)\n",
    "ax.set(xlabel='Iterations',ylabel='Fitness Values')\n",
    "\n",
    "legend = ax.get_legend()\n",
    "for handle,l in zip(legend.texts, labels):\n",
    "    handle.set_text(l)\n"
   ]
  },
  {
   "cell_type": "code",
   "execution_count": 202,
   "metadata": {},
   "outputs": [
    {
     "name": "stdout",
     "output_type": "stream",
     "text": [
      "rhc:     4.0 [0 1 0 0 1 1 0 1 1 0 0 1 0 1 0 0 0 0]\n",
      "sa:     18.0 [0 0 0 0 0 0 0 0 0 0 0 0 0 0 0 0 0 0]\n",
      "ga:     32.0 [1 1 1 1 1 1 1 1 1 1 1 1 1 1 0 0 0 0]\n",
      "mimic:  27.0 [1 1 1 1 0 0 0 1 1 0 0 0 0 0 0 0 0 0]\n"
     ]
    }
   ],
   "source": [
    "print('rhc:   {0:5.1f}'.format(rhc_fitness), rhc_state)\n",
    "print('sa:    {0:5.1f}'.format(sa_fitness), sa_state)\n",
    "print('ga:    {0:5.1f}'.format(ga_fitness), ga_state)\n",
    "print('mimic: {0:5.1f}'.format(mimic_fitness), mimic_state)"
   ]
  },
  {
   "cell_type": "code",
   "execution_count": null,
   "metadata": {},
   "outputs": [],
   "source": [
    "# def our_fitness_func(state):\n",
    "#     global eval_count\n",
    "#     fitness = mlrose.FourPeaks(t_pct=0.15)\n",
    "#     eval_count += 1\n",
    "#     return fitness.evaluate(state)\n",
    "\n",
    "# fitness = mlrose.CustomFitness(our_fitness_func)\n",
    "# problem = mlrose.DiscreteOpt(length=50, fitness_fn=fitness, maximize=True)\n",
    "\n",
    "# eval_count = 0\n",
    "# best_state, best_fitness, curve = mlrose.thealgorithm(problem, ...)\n",
    "# print(eval_count)"
   ]
  }
 ],
 "metadata": {
  "kernelspec": {
   "display_name": "Python 3",
   "language": "python",
   "name": "python3"
  },
  "language_info": {
   "codemirror_mode": {
    "name": "ipython",
    "version": 3
   },
   "file_extension": ".py",
   "mimetype": "text/x-python",
   "name": "python",
   "nbconvert_exporter": "python",
   "pygments_lexer": "ipython3",
   "version": "3.7.4"
  }
 },
 "nbformat": 4,
 "nbformat_minor": 2
}

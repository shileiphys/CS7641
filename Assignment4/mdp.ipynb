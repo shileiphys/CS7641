{
 "cells": [
  {
   "cell_type": "code",
   "execution_count": 1,
   "metadata": {},
   "outputs": [],
   "source": [
    "import numpy as np\n",
    "import gym"
   ]
  },
  {
   "cell_type": "code",
   "execution_count": 86,
   "metadata": {},
   "outputs": [],
   "source": [
    "env = gym.make('FrozenLake-v0', is_slippery=False)"
   ]
  },
  {
   "cell_type": "code",
   "execution_count": 48,
   "metadata": {},
   "outputs": [
    {
     "data": {
      "text/plain": [
       "(16, 4, 3)"
      ]
     },
     "execution_count": 48,
     "metadata": {},
     "output_type": "execute_result"
    }
   ],
   "source": [
    "len(env.P), len(env.P[0]), len(env.P[0][0])"
   ]
  },
  {
   "cell_type": "code",
   "execution_count": null,
   "metadata": {},
   "outputs": [],
   "source": [
    "def __init__(self, env):\n",
    "    #This code would be modified to make more generalized\n",
    "    self.actions_n = env.nA\n",
    "    self.states_n = env.nS\n",
    "    self.R = np.zeros([self.states_n, self.actions_n, self.states_n])\n",
    "    self.T = np.zeros([self.states_n, self.actions_n, self.states_n])\n",
    "    for s in range(self.states_n):\n",
    "        for a in range(self.actions_n):\n",
    "            t = env.P[s][a]\n",
    "            for prob_trans, next_state, reward, done in t:\n",
    "                self.T[s,a,next_state] += prob_trans\n",
    "                if done and reward == 0.0:\n",
    "                    reward = -.75\n",
    "                self.R[s,a,next_state] = reward\n",
    "\n",
    "            #Normalize T\n",
    "            self.T[s,a,:]/=np.sum(self.T[s,a,:])\n",
    "                \n",
    "                \n",
    "nA, nS = env.nA, env.nS\n",
    "P = np.zeros([nA, nS, nS])\n",
    "R = np.zeros([nS, nA])\n",
    "for s in range(nS):\n",
    "    for a in range(nA):\n",
    "        transitions = env.P[s][a]\n",
    "        for p_trans, next_s, reward, _ in transitions:\n",
    "            P[a,s,next_s] += p_trans\n",
    "            R[s,a] = reward\n",
    "        P[a,s,:] /= np.sum(P[a,s,:])"
   ]
  },
  {
   "cell_type": "code",
   "execution_count": 47,
   "metadata": {},
   "outputs": [
    {
     "data": {
      "text/plain": [
       "{0: [(1.0, 15, 0, True)],\n",
       " 1: [(1.0, 15, 0, True)],\n",
       " 2: [(1.0, 15, 0, True)],\n",
       " 3: [(1.0, 15, 0, True)]}"
      ]
     },
     "execution_count": 47,
     "metadata": {},
     "output_type": "execute_result"
    }
   ],
   "source": [
    "env.P[15]"
   ]
  },
  {
   "cell_type": "code",
   "execution_count": 87,
   "metadata": {},
   "outputs": [],
   "source": [
    "nA, nS = env.nA, env.nS\n",
    "P = np.zeros([nA, nS, nS])\n",
    "R = np.zeros([nS, nA])\n",
    "\n",
    "for s in range(nS):\n",
    "    for a in range(nA):\n",
    "        transitions = env.P[s][a]\n",
    "        for prob, next_s, reward, done in transitions:\n",
    "            P[a,s,next_s] += prob\n",
    "            R[s, a] = reward\n",
    "        P[a,s,:] /= np.sum(P[a,s,:])\n",
    "        "
   ]
  },
  {
   "cell_type": "code",
   "execution_count": 72,
   "metadata": {},
   "outputs": [],
   "source": [
    "import hiive.mdptoolbox.mdp as mdp"
   ]
  },
  {
   "cell_type": "code",
   "execution_count": 88,
   "metadata": {},
   "outputs": [],
   "source": [
    "vi = mdp.ValueIteration(P, R, 0.9)"
   ]
  },
  {
   "cell_type": "code",
   "execution_count": 89,
   "metadata": {
    "scrolled": true
   },
   "outputs": [
    {
     "data": {
      "text/plain": [
       "[{'State': None,\n",
       "  'Action': None,\n",
       "  'Reward': 1.0,\n",
       "  'Error': 1.0,\n",
       "  'Time': 0.0012514591217041016,\n",
       "  'Max V': 1.0,\n",
       "  'Mean V': 0.0625,\n",
       "  'Iteration': 1},\n",
       " {'State': None,\n",
       "  'Action': None,\n",
       "  'Reward': 1.0,\n",
       "  'Error': 0.9,\n",
       "  'Time': 0.0014176368713378906,\n",
       "  'Max V': 1.0,\n",
       "  'Mean V': 0.175,\n",
       "  'Iteration': 2},\n",
       " {'State': None,\n",
       "  'Action': None,\n",
       "  'Reward': 1.0,\n",
       "  'Error': 0.81,\n",
       "  'Time': 0.0017397403717041016,\n",
       "  'Max V': 1.0,\n",
       "  'Mean V': 0.27625,\n",
       "  'Iteration': 3},\n",
       " {'State': None,\n",
       "  'Action': None,\n",
       "  'Reward': 1.0,\n",
       "  'Error': 0.7290000000000001,\n",
       "  'Time': 0.0018434524536132812,\n",
       "  'Max V': 1.0,\n",
       "  'Mean V': 0.367375,\n",
       "  'Iteration': 4},\n",
       " {'State': None,\n",
       "  'Action': None,\n",
       "  'Reward': 1.0,\n",
       "  'Error': 0.6561000000000001,\n",
       "  'Time': 0.0019197463989257812,\n",
       "  'Max V': 1.0,\n",
       "  'Mean V': 0.49039375,\n",
       "  'Iteration': 5},\n",
       " {'State': None,\n",
       "  'Action': None,\n",
       "  'Reward': 1.0,\n",
       "  'Error': 0.5904900000000002,\n",
       "  'Time': 0.002004861831665039,\n",
       "  'Max V': 1.0,\n",
       "  'Mean V': 0.5272993750000001,\n",
       "  'Iteration': 6},\n",
       " {'State': None,\n",
       "  'Action': None,\n",
       "  'Reward': 1.0,\n",
       "  'Error': 0.0,\n",
       "  'Time': 0.0020754337310791016,\n",
       "  'Max V': 1.0,\n",
       "  'Mean V': 0.5272993750000001,\n",
       "  'Iteration': 7}]"
      ]
     },
     "execution_count": 89,
     "metadata": {},
     "output_type": "execute_result"
    }
   ],
   "source": [
    "vi.run()"
   ]
  },
  {
   "cell_type": "code",
   "execution_count": 90,
   "metadata": {},
   "outputs": [
    {
     "name": "stdout",
     "output_type": "stream",
     "text": [
      "[[1 2 1 0]\n",
      " [1 0 1 0]\n",
      " [2 1 1 0]\n",
      " [0 2 2 0]]\n"
     ]
    }
   ],
   "source": [
    "policy = np.asarray(vi.policy).reshape((4,4))\n",
    "print(policy)\n",
    "print(np.asarray(convert_policy_string(policy)))"
   ]
  },
  {
   "cell_type": "code",
   "execution_count": 91,
   "metadata": {},
   "outputs": [
    {
     "name": "stdout",
     "output_type": "stream",
     "text": [
      "[['v' '>' 'v' '<']\n",
      " ['v' '<' 'v' '<']\n",
      " ['>' 'v' 'v' '<']\n",
      " ['<' '>' '>' '<']]\n"
     ]
    }
   ],
   "source": []
  },
  {
   "cell_type": "code",
   "execution_count": 97,
   "metadata": {},
   "outputs": [
    {
     "data": {
      "text/plain": [
       "(1, 2, 1, 0, 1, 0, 1, 0, 2, 1, 1, 0, 0, 2, 2, 0)"
      ]
     },
     "execution_count": 97,
     "metadata": {},
     "output_type": "execute_result"
    }
   ],
   "source": [
    "pi = mdp.PolicyIteration(P, R, 0.9)\n",
    "pi.run()\n",
    "pi.policy"
   ]
  },
  {
   "cell_type": "code",
   "execution_count": 98,
   "metadata": {},
   "outputs": [
    {
     "name": "stdout",
     "output_type": "stream",
     "text": [
      "[[1 2 1 0]\n",
      " [1 0 1 0]\n",
      " [2 1 1 0]\n",
      " [0 2 2 0]]\n",
      "[['v' '>' 'v' '<']\n",
      " ['v' '<' 'v' '<']\n",
      " ['>' 'v' 'v' '<']\n",
      " ['<' '>' '>' '<']]\n"
     ]
    }
   ],
   "source": [
    "policy = np.asarray(pi.policy).reshape((4,4))\n",
    "print(policy)\n",
    "print(np.asarray(convert_policy_string(policy)))"
   ]
  },
  {
   "cell_type": "code",
   "execution_count": 105,
   "metadata": {},
   "outputs": [
    {
     "data": {
      "text/plain": [
       "(1, 2, 1, 0, 1, 0, 1, 0, 2, 1, 1, 0, 0, 2, 2, 0)"
      ]
     },
     "execution_count": 105,
     "metadata": {},
     "output_type": "execute_result"
    }
   ],
   "source": [
    "ql = mdp.QLearning(P, R, 0.96,epsilon=0.8, n_iter=100000)\n",
    "ql.run()\n",
    "ql.policy"
   ]
  },
  {
   "cell_type": "code",
   "execution_count": 106,
   "metadata": {},
   "outputs": [
    {
     "name": "stdout",
     "output_type": "stream",
     "text": [
      "[[1 2 1 0]\n",
      " [1 0 1 0]\n",
      " [2 1 1 0]\n",
      " [0 2 2 0]]\n",
      "[['v' '>' 'v' '<']\n",
      " ['v' '<' 'v' '<']\n",
      " ['>' 'v' 'v' '<']\n",
      " ['<' '>' '>' '<']]\n"
     ]
    }
   ],
   "source": [
    "policy = np.asarray(ql.policy).reshape((4,4))\n",
    "print(policy)\n",
    "print(np.asarray(convert_policy_string(policy)))"
   ]
  },
  {
   "cell_type": "code",
   "execution_count": null,
   "metadata": {},
   "outputs": [],
   "source": [
    "def __init__(self, transitions, reward, gamma,\n",
    "             alpha=0.1, alpha_decay=0.99, alpha_min=0.001,\n",
    "             epsilon=1.0, epsilon_min=0.1, epsilon_decay=0.99,\n",
    "             n_iter=10000, skip_check=False, iter_callback=None,\n",
    "             run_stat_frequency=None):"
   ]
  },
  {
   "cell_type": "markdown",
   "metadata": {},
   "source": [
    "<!-- # def __init__(self, transitions, reward, gamma,\n",
    "#              alpha=0.1, alpha_decay=0.99, alpha_min=0.001,\n",
    "#              epsilon=1.0, epsilon_min=0.1, epsilon_decay=0.99,\n",
    "#              n_iter=10000, skip_check=False, iter_callback=None,\n",
    "#              run_stat_frequency=None): -->"
   ]
  },
  {
   "cell_type": "code",
   "execution_count": null,
   "metadata": {},
   "outputs": [],
   "source": [
    "ql = mdptoolbox.mdp.QLearning(P, R, 0.96)\n",
    "    >>> ql.run()\n",
    "    >>> ql.Q\n",
    "        >>> expected = (11.198908998901134, 11.741057920409865, 12.259732864170232)\n",
    "    >>> all(expected[k] - ql.V[k] < 1e-12 for k in range(len(expected)))\n",
    "    True\n",
    "    >>> ql.policy"
   ]
  },
  {
   "cell_type": "code",
   "execution_count": 49,
   "metadata": {},
   "outputs": [
    {
     "data": {
      "text/plain": [
       "{0: [(0.3333333333333333, 0, 0.0, False),\n",
       "  (0.3333333333333333, 0, 0.0, False),\n",
       "  (0.3333333333333333, 4, 0.0, False)],\n",
       " 1: [(0.3333333333333333, 0, 0.0, False),\n",
       "  (0.3333333333333333, 4, 0.0, False),\n",
       "  (0.3333333333333333, 1, 0.0, False)],\n",
       " 2: [(0.3333333333333333, 4, 0.0, False),\n",
       "  (0.3333333333333333, 1, 0.0, False),\n",
       "  (0.3333333333333333, 0, 0.0, False)],\n",
       " 3: [(0.3333333333333333, 1, 0.0, False),\n",
       "  (0.3333333333333333, 0, 0.0, False),\n",
       "  (0.3333333333333333, 0, 0.0, False)]}"
      ]
     },
     "execution_count": 49,
     "metadata": {},
     "output_type": "execute_result"
    }
   ],
   "source": [
    "env.P[0]"
   ]
  },
  {
   "cell_type": "code",
   "execution_count": 61,
   "metadata": {},
   "outputs": [
    {
     "name": "stdout",
     "output_type": "stream",
     "text": [
      "1.0 5 0 True\n"
     ]
    }
   ],
   "source": [
    "for a,b,c,d in env.P[5][0]:\n",
    "    print(a,b,c,d)"
   ]
  },
  {
   "cell_type": "code",
   "execution_count": 62,
   "metadata": {},
   "outputs": [
    {
     "name": "stdout",
     "output_type": "stream",
     "text": [
      "0.3333333333333333 0 0.0 False\n",
      "0.3333333333333333 0 0.0 False\n",
      "0.3333333333333333 4 0.0 False\n",
      "0.3333333333333333 0 0.0 False\n",
      "0.3333333333333333 4 0.0 False\n",
      "0.3333333333333333 1 0.0 False\n",
      "0.3333333333333333 4 0.0 False\n",
      "0.3333333333333333 1 0.0 False\n",
      "0.3333333333333333 0 0.0 False\n",
      "0.3333333333333333 1 0.0 False\n",
      "0.3333333333333333 0 0.0 False\n",
      "0.3333333333333333 0 0.0 False\n",
      "0.3333333333333333 1 0.0 False\n",
      "0.3333333333333333 0 0.0 False\n",
      "0.3333333333333333 5 0.0 True\n",
      "0.3333333333333333 0 0.0 False\n",
      "0.3333333333333333 5 0.0 True\n",
      "0.3333333333333333 2 0.0 False\n",
      "0.3333333333333333 5 0.0 True\n",
      "0.3333333333333333 2 0.0 False\n",
      "0.3333333333333333 1 0.0 False\n",
      "0.3333333333333333 2 0.0 False\n",
      "0.3333333333333333 1 0.0 False\n",
      "0.3333333333333333 0 0.0 False\n",
      "0.3333333333333333 2 0.0 False\n",
      "0.3333333333333333 1 0.0 False\n",
      "0.3333333333333333 6 0.0 False\n",
      "0.3333333333333333 1 0.0 False\n",
      "0.3333333333333333 6 0.0 False\n",
      "0.3333333333333333 3 0.0 False\n",
      "0.3333333333333333 6 0.0 False\n",
      "0.3333333333333333 3 0.0 False\n",
      "0.3333333333333333 2 0.0 False\n",
      "0.3333333333333333 3 0.0 False\n",
      "0.3333333333333333 2 0.0 False\n",
      "0.3333333333333333 1 0.0 False\n",
      "0.3333333333333333 3 0.0 False\n",
      "0.3333333333333333 2 0.0 False\n",
      "0.3333333333333333 7 0.0 True\n",
      "0.3333333333333333 2 0.0 False\n",
      "0.3333333333333333 7 0.0 True\n",
      "0.3333333333333333 3 0.0 False\n",
      "0.3333333333333333 7 0.0 True\n",
      "0.3333333333333333 3 0.0 False\n",
      "0.3333333333333333 3 0.0 False\n",
      "0.3333333333333333 3 0.0 False\n",
      "0.3333333333333333 3 0.0 False\n",
      "0.3333333333333333 2 0.0 False\n",
      "0.3333333333333333 0 0.0 False\n",
      "0.3333333333333333 4 0.0 False\n",
      "0.3333333333333333 8 0.0 False\n",
      "0.3333333333333333 4 0.0 False\n",
      "0.3333333333333333 8 0.0 False\n",
      "0.3333333333333333 5 0.0 True\n",
      "0.3333333333333333 8 0.0 False\n",
      "0.3333333333333333 5 0.0 True\n",
      "0.3333333333333333 0 0.0 False\n",
      "0.3333333333333333 5 0.0 True\n",
      "0.3333333333333333 0 0.0 False\n",
      "0.3333333333333333 4 0.0 False\n",
      "1.0 5 0 True\n",
      "1.0 5 0 True\n",
      "1.0 5 0 True\n",
      "1.0 5 0 True\n",
      "0.3333333333333333 2 0.0 False\n",
      "0.3333333333333333 5 0.0 True\n",
      "0.3333333333333333 10 0.0 False\n",
      "0.3333333333333333 5 0.0 True\n",
      "0.3333333333333333 10 0.0 False\n",
      "0.3333333333333333 7 0.0 True\n",
      "0.3333333333333333 10 0.0 False\n",
      "0.3333333333333333 7 0.0 True\n",
      "0.3333333333333333 2 0.0 False\n",
      "0.3333333333333333 7 0.0 True\n",
      "0.3333333333333333 2 0.0 False\n",
      "0.3333333333333333 5 0.0 True\n",
      "1.0 7 0 True\n",
      "1.0 7 0 True\n",
      "1.0 7 0 True\n",
      "1.0 7 0 True\n",
      "0.3333333333333333 4 0.0 False\n",
      "0.3333333333333333 8 0.0 False\n",
      "0.3333333333333333 12 0.0 True\n",
      "0.3333333333333333 8 0.0 False\n",
      "0.3333333333333333 12 0.0 True\n",
      "0.3333333333333333 9 0.0 False\n",
      "0.3333333333333333 12 0.0 True\n",
      "0.3333333333333333 9 0.0 False\n",
      "0.3333333333333333 4 0.0 False\n",
      "0.3333333333333333 9 0.0 False\n",
      "0.3333333333333333 4 0.0 False\n",
      "0.3333333333333333 8 0.0 False\n",
      "0.3333333333333333 5 0.0 True\n",
      "0.3333333333333333 8 0.0 False\n",
      "0.3333333333333333 13 0.0 False\n",
      "0.3333333333333333 8 0.0 False\n",
      "0.3333333333333333 13 0.0 False\n",
      "0.3333333333333333 10 0.0 False\n",
      "0.3333333333333333 13 0.0 False\n",
      "0.3333333333333333 10 0.0 False\n",
      "0.3333333333333333 5 0.0 True\n",
      "0.3333333333333333 10 0.0 False\n",
      "0.3333333333333333 5 0.0 True\n",
      "0.3333333333333333 8 0.0 False\n",
      "0.3333333333333333 6 0.0 False\n",
      "0.3333333333333333 9 0.0 False\n",
      "0.3333333333333333 14 0.0 False\n",
      "0.3333333333333333 9 0.0 False\n",
      "0.3333333333333333 14 0.0 False\n",
      "0.3333333333333333 11 0.0 True\n",
      "0.3333333333333333 14 0.0 False\n",
      "0.3333333333333333 11 0.0 True\n",
      "0.3333333333333333 6 0.0 False\n",
      "0.3333333333333333 11 0.0 True\n",
      "0.3333333333333333 6 0.0 False\n",
      "0.3333333333333333 9 0.0 False\n",
      "1.0 11 0 True\n",
      "1.0 11 0 True\n",
      "1.0 11 0 True\n",
      "1.0 11 0 True\n",
      "1.0 12 0 True\n",
      "1.0 12 0 True\n",
      "1.0 12 0 True\n",
      "1.0 12 0 True\n",
      "0.3333333333333333 9 0.0 False\n",
      "0.3333333333333333 12 0.0 True\n",
      "0.3333333333333333 13 0.0 False\n",
      "0.3333333333333333 12 0.0 True\n",
      "0.3333333333333333 13 0.0 False\n",
      "0.3333333333333333 14 0.0 False\n",
      "0.3333333333333333 13 0.0 False\n",
      "0.3333333333333333 14 0.0 False\n",
      "0.3333333333333333 9 0.0 False\n",
      "0.3333333333333333 14 0.0 False\n",
      "0.3333333333333333 9 0.0 False\n",
      "0.3333333333333333 12 0.0 True\n",
      "0.3333333333333333 10 0.0 False\n",
      "0.3333333333333333 13 0.0 False\n",
      "0.3333333333333333 14 0.0 False\n",
      "0.3333333333333333 13 0.0 False\n",
      "0.3333333333333333 14 0.0 False\n",
      "0.3333333333333333 15 1.0 True\n",
      "0.3333333333333333 14 0.0 False\n",
      "0.3333333333333333 15 1.0 True\n",
      "0.3333333333333333 10 0.0 False\n",
      "0.3333333333333333 15 1.0 True\n",
      "0.3333333333333333 10 0.0 False\n",
      "0.3333333333333333 13 0.0 False\n",
      "1.0 15 0 True\n",
      "1.0 15 0 True\n",
      "1.0 15 0 True\n",
      "1.0 15 0 True\n"
     ]
    }
   ],
   "source": [
    "for k in env.P:\n",
    "    for a in env.P[k]:\n",
    "        for a,b,c,d in env.P[k][a]:\n",
    "            print(a,b,c,d)"
   ]
  },
  {
   "cell_type": "code",
   "execution_count": 77,
   "metadata": {},
   "outputs": [],
   "source": [
    "def convert_policy_string(policy, action_str=['<','v','>','^']):\n",
    "    # action_str: ['<','v','>','^'] 0=left, 1=down, 2=right, 3=up\n",
    "    \n",
    "    p = [[' ' for j in range(len(policy[0]))] for i in range(len(policy))]\n",
    "    \n",
    "    for i in range(policy.shape[0]):\n",
    "        for j in range(policy.shape[1]):\n",
    "            p[i][j] = action_str[policy[i,j]]\n",
    "            \n",
    "    return p"
   ]
  },
  {
   "cell_type": "code",
   "execution_count": 78,
   "metadata": {},
   "outputs": [],
   "source": [
    "def value_iteration(env, theta=0.0001, discount_factor=1.0):\n",
    "    V = np.zeros(env.nS)\n",
    "    while True:\n",
    "        delta = 0\n",
    "        for s in range(env.nS):\n",
    "            v = V[s]\n",
    "            action_values = np.zeros(env.nA)\n",
    "            for a in range(env.nA):\n",
    "                next_state_value = 0\n",
    "                for prob, next_state, reward, done in env.P[s][a]:\n",
    "                    next_state_value += prob * (reward + discount_factor * V[next_state])\n",
    "                action_values[a] = next_state_value\n",
    "            best_action_value = np.max(action_values)\n",
    "            V[s] = best_action_value\n",
    "\n",
    "            delta = max(delta, np.abs(v - V[s]))\n",
    "        if (delta < theta):\n",
    "            print(\"converged\")\n",
    "            break\n",
    "\n",
    "    policy = np.zeros([env.nS, env.nA])\n",
    "    for s in range(env.nS):\n",
    "        action_values = np.zeros(env.nA)\n",
    "        for a in range(env.nA):\n",
    "            next_state_value = 0\n",
    "            for prob, next_state, reward, done in env.P[s][a]:\n",
    "                next_state_value += prob * (reward + discount_factor * V[next_state])\n",
    "            action_values[a] = next_state_value\n",
    "        best_action = np.argmax(action_values)\n",
    "        policy[s, best_action] = 1.0\n",
    "\n",
    "    return policy, V\n",
    "\n"
   ]
  },
  {
   "cell_type": "code",
   "execution_count": 8,
   "metadata": {},
   "outputs": [
    {
     "name": "stdout",
     "output_type": "stream",
     "text": [
      "\n",
      "\u001b[41mS\u001b[0mFFF\n",
      "FHFH\n",
      "FFFH\n",
      "HFFG\n",
      "converged\n",
      "[0.59049 0.6561  0.729   0.6561  0.6561  0.      0.81    0.      0.729\n",
      " 0.81    0.9     0.      0.      0.9     1.      0.     ]\n",
      "Reshaped Grid Policy (0=left, 1=down, 2=right, 3=up):\n",
      "[[1 2 1 0]\n",
      " [1 0 1 0]\n",
      " [2 1 1 0]\n",
      " [0 2 2 0]]\n"
     ]
    }
   ],
   "source": [
    "discount_factor = 0.9\n",
    "\n",
    "\n",
    "\n",
    "env = gym.make('FrozenLake-v0', is_slippery=False)\n",
    "env.render()\n",
    "env.reset()\n",
    "p, v = value_iteration(env, theta=0.0001, discount_factor=discount_factor)\n",
    "print(v)\n",
    "print(\"Reshaped Grid Policy (0=left, 1=down, 2=right, 3=up):\")\n",
    "print(np.reshape(np.argmax(p, axis=1), (4,4)))\n"
   ]
  },
  {
   "cell_type": "code",
   "execution_count": 12,
   "metadata": {},
   "outputs": [],
   "source": [
    "policy = np.reshape(np.argmax(p, axis=1), (4,4))"
   ]
  },
  {
   "cell_type": "code",
   "execution_count": 61,
   "metadata": {},
   "outputs": [],
   "source": [
    "a = ['<','v','>','^'] # 0=left, 1=down, 2=right, 3=up"
   ]
  },
  {
   "cell_type": "code",
   "execution_count": 62,
   "metadata": {},
   "outputs": [
    {
     "name": "stdout",
     "output_type": "stream",
     "text": [
      "[['v' '>' 'v' '<']\n",
      " ['v' '<' 'v' '<']\n",
      " ['>' 'v' 'v' '<']\n",
      " ['<' '>' '>' '<']]\n"
     ]
    }
   ],
   "source": [
    "\n",
    "for i in range(policy.shape[0]):\n",
    "    for j in range(policy.shape[1]):\n",
    "        b[i][j] = a[policy[i,j]]\n",
    "print(np.asarray(b))"
   ]
  },
  {
   "cell_type": "code",
   "execution_count": 76,
   "metadata": {},
   "outputs": [
    {
     "data": {
      "text/plain": [
       "array([[1, 2, 1, 0],\n",
       "       [1, 0, 1, 0],\n",
       "       [2, 1, 1, 0],\n",
       "       [0, 2, 2, 0]])"
      ]
     },
     "execution_count": 76,
     "metadata": {},
     "output_type": "execute_result"
    }
   ],
   "source": [
    "policy"
   ]
  },
  {
   "cell_type": "code",
   "execution_count": 78,
   "metadata": {},
   "outputs": [
    {
     "name": "stdout",
     "output_type": "stream",
     "text": [
      "[['v' '>' 'v' '<']\n",
      " ['v' '<' 'v' '<']\n",
      " ['>' 'v' 'v' '<']\n",
      " ['<' '>' '>' '<']]\n"
     ]
    }
   ],
   "source": [
    "print(np.asarray(convert_policy_string(policy)))"
   ]
  },
  {
   "cell_type": "code",
   "execution_count": 74,
   "metadata": {},
   "outputs": [
    {
     "data": {
      "text/plain": [
       "[[' ', ' ', ' ', ' '],\n",
       " [' ', ' ', ' ', ' '],\n",
       " [' ', ' ', ' ', ' '],\n",
       " [' ', ' ', ' ', ' ']]"
      ]
     },
     "execution_count": 74,
     "metadata": {},
     "output_type": "execute_result"
    }
   ],
   "source": [
    "[[' ' for j in range(len(policy[0]))] for i in range(len(policy))]"
   ]
  },
  {
   "cell_type": "code",
   "execution_count": 71,
   "metadata": {},
   "outputs": [
    {
     "data": {
      "text/plain": [
       "(3, 4)"
      ]
     },
     "execution_count": 71,
     "metadata": {},
     "output_type": "execute_result"
    }
   ],
   "source": [
    "len(a), len(a[0])"
   ]
  }
 ],
 "metadata": {
  "kernelspec": {
   "display_name": "Python 3",
   "language": "python",
   "name": "python3"
  },
  "language_info": {
   "codemirror_mode": {
    "name": "ipython",
    "version": 3
   },
   "file_extension": ".py",
   "mimetype": "text/x-python",
   "name": "python",
   "nbconvert_exporter": "python",
   "pygments_lexer": "ipython3",
   "version": "3.6.9"
  }
 },
 "nbformat": 4,
 "nbformat_minor": 4
}

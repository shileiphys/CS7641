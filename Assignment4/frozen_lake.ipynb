{
 "cells": [
  {
   "cell_type": "code",
   "execution_count": 1,
   "metadata": {},
   "outputs": [],
   "source": [
    "import numpy as np\n",
    "import gym\n",
    "import hiive.mdptoolbox.mdp as mdp\n",
    "import itertools\n",
    "from collections import defaultdict\n",
    "import sys\n",
    "import pandas as pd\n",
    "from matplotlib import pyplot as plt\n",
    "\n",
    "%matplotlib inline"
   ]
  },
  {
   "cell_type": "code",
   "execution_count": 2,
   "metadata": {},
   "outputs": [],
   "source": [
    "def get_score(env, policy, episodes=10000, print_out=True):\n",
    "    misses = 0\n",
    "    steps_list = []\n",
    "    for episode in range(episodes):\n",
    "        observation = env.reset()\n",
    "        steps=0\n",
    "        while True:\n",
    "            action = policy[observation]\n",
    "            observation, reward, done, _ = env.step(action)\n",
    "            steps+=1\n",
    "            if done and reward == 1:\n",
    "                # print('You have got the fucking Frisbee after {} steps'.format(steps))\n",
    "                steps_list.append(steps)\n",
    "                break\n",
    "            elif done and reward == 0:\n",
    "                # print(\"You fell in a hole!\")\n",
    "                misses += 1\n",
    "                break\n",
    "                \n",
    "    mean_step = np.mean(steps_list)\n",
    "    miss_pct = misses/episodes\n",
    "    if (print_out):\n",
    "        print('----------------------------------------------')\n",
    "        print('You took an average of {:.0f} steps to get the Goal'.format(mean_step))\n",
    "        print('And you fell in the hole {:.2f} % of the times'.format(miss_pct * 100))\n",
    "        print('----------------------------------------------')\n",
    "    \n",
    "    return (mean_step, miss_pct)"
   ]
  },
  {
   "cell_type": "code",
   "execution_count": 3,
   "metadata": {},
   "outputs": [],
   "source": [
    "def convert_gym_transition_matrix(env):\n",
    "    \"\"\"\n",
    "    env: gym env\n",
    "    P: transiftion matrix for mdptoolbox use\n",
    "    R: reward matrix for mdptoolbox use\n",
    "    \"\"\"\n",
    "    nA, nS = env.nA, env.nS\n",
    "    P = np.zeros([nA, nS, nS])\n",
    "    R = np.zeros([nS, nA])\n",
    "    env.reset()\n",
    "    \n",
    "    for s in range(nS):\n",
    "        for a in range(nA):\n",
    "            transitions = env.P[s][a]\n",
    "            for prob, next_s, reward, done in transitions:\n",
    "                P[a,s,next_s] += prob\n",
    "                R[s, a] = reward\n",
    "            P[a,s,:] /= np.sum(P[a,s,:])\n",
    "    return (P, R)"
   ]
  },
  {
   "cell_type": "code",
   "execution_count": 4,
   "metadata": {},
   "outputs": [],
   "source": [
    "def policy_string(policy, action_str=['<','v','>','^']):\n",
    "    \"\"\"\n",
    "    default: [0=left, 1=down, 2=right, 3=up]\n",
    "    \"\"\"\n",
    "    policy_str = [action_str[p] for p in policy]\n",
    "    policy_str = np.asarray(policy_str)\n",
    "    \n",
    "    return policy_str"
   ]
  },
  {
   "cell_type": "code",
   "execution_count": 148,
   "metadata": {},
   "outputs": [],
   "source": []
  },
  {
   "cell_type": "markdown",
   "metadata": {},
   "source": [
    "# Deterministic"
   ]
  },
  {
   "cell_type": "code",
   "execution_count": 166,
   "metadata": {},
   "outputs": [
    {
     "name": "stdout",
     "output_type": "stream",
     "text": [
      "\n",
      "\u001b[41mS\u001b[0mFFF\n",
      "HFFF\n",
      "HFFF\n",
      "FFHG\n",
      "[[2 1 1 1]\n",
      " [0 1 1 1]\n",
      " [0 2 2 1]\n",
      " [2 3 0 0]]\n",
      "[['>' 'v' 'v' 'v']\n",
      " ['<' 'v' 'v' 'v']\n",
      " ['<' '>' '>' 'v']\n",
      " ['>' '^' '<' '<']]\n",
      "----------------------------------------------\n",
      "You took an average of 6 steps to get the Goal\n",
      "And you fell in the hole 0.00 % of the times\n",
      "----------------------------------------------\n"
     ]
    },
    {
     "data": {
      "text/plain": [
       "(6.0, 0.0)"
      ]
     },
     "execution_count": 166,
     "metadata": {},
     "output_type": "execute_result"
    }
   ],
   "source": [
    "## set random seed\n",
    "np.random.seed(0)\n",
    "\n",
    "rand_map = generate_random_map(size=4, p=0.6)\n",
    "env = gym.make(\"FrozenLake-v0\", desc=rand_map_4, is_slippery=False)\n",
    "\n",
    "env.reset()\n",
    "P, R = convert_gym_transition_matrix(env)\n",
    "\n",
    "vi = mdp.ValueIteration(P, R, gamma=0.8)\n",
    "vi.run()\n",
    "\n",
    "vi_policy = np.asarray(vi.policy)\n",
    "vi_policy_str = policy_string(vi_policy, action_str=action_str)\n",
    "run_stats = vi.run_stats\n",
    "\n",
    "iters = []\n",
    "rewards = []\n",
    "mean_V = []\n",
    "max_V = []\n",
    "time = []\n",
    "error = []\n",
    "for s in run_stats:\n",
    "    iters.append(s['Iteration'])\n",
    "    rewards.append(s['Reward'])\n",
    "    mean_V.append(s['Mean V'])\n",
    "    max_V.append(s['Max V'])\n",
    "    time.append(s['Time'])\n",
    "    error.append(s['Error'])\n",
    "\n",
    "env.render()\n",
    "print(vi_policy.reshape((nrow, ncol)))\n",
    "print(vi_policy_str.reshape((nrow, ncol)))\n",
    "get_score(env, vi_policy, episodes=100000)"
   ]
  },
  {
   "cell_type": "markdown",
   "metadata": {},
   "source": [
    "# Stochastic"
   ]
  },
  {
   "cell_type": "code",
   "execution_count": 5,
   "metadata": {},
   "outputs": [],
   "source": [
    "from gym.envs.toy_text.frozen_lake import generate_random_map\n",
    "## set random seed\n",
    "np.random.seed(0)\n",
    "\n",
    "rand_map_4 = generate_random_map(size=4, p=0.6)\n",
    "env_4 = gym.make(\"FrozenLake-v0\", desc=rand_map_4, is_slippery=True)\n",
    "\n",
    "rand_map_16 = generate_random_map(size=16, p=0.9)\n",
    "env_16= gym.make(\"FrozenLake-v0\", desc=rand_map_16, is_slippery=True)\n",
    "\n",
    "# env_4.render()\n",
    "# env_20.render()"
   ]
  },
  {
   "cell_type": "code",
   "execution_count": 6,
   "metadata": {},
   "outputs": [],
   "source": [
    "action_str=['<','v','>','^'] #[0=left, 1=down, 2=right, 3=up]"
   ]
  },
  {
   "cell_type": "markdown",
   "metadata": {},
   "source": [
    "## Frozen Lake 4x4"
   ]
  },
  {
   "cell_type": "code",
   "execution_count": 7,
   "metadata": {},
   "outputs": [
    {
     "name": "stdout",
     "output_type": "stream",
     "text": [
      "\n",
      "\u001b[41mS\u001b[0mFFF\n",
      "HFFF\n",
      "HFFF\n",
      "FFHG\n"
     ]
    }
   ],
   "source": [
    "env = env_4\n",
    "nrow = env.env.nrow\n",
    "ncol = env.env.ncol\n",
    "env.render()"
   ]
  },
  {
   "cell_type": "markdown",
   "metadata": {},
   "source": [
    "### Value Iteration"
   ]
  },
  {
   "cell_type": "code",
   "execution_count": 170,
   "metadata": {},
   "outputs": [
    {
     "name": "stdout",
     "output_type": "stream",
     "text": [
      "[0.1 0.2 0.3 0.4 0.5 0.6 0.7 0.8 0.9]\n"
     ]
    }
   ],
   "source": [
    "gamma = np.round(np.arange(0.1, 1.0, 0.1), 2)\n",
    "print(gamma)"
   ]
  },
  {
   "cell_type": "code",
   "execution_count": 171,
   "metadata": {},
   "outputs": [
    {
     "name": "stdout",
     "output_type": "stream",
     "text": [
      "[[0 0 0 0 0 0 0 0 0 0 1 0 0 0 0 0]\n",
      " [0 0 0 0 0 0 0 0 0 0 1 0 0 0 0 0]\n",
      " [0 0 0 0 0 0 1 1 0 1 1 0 0 0 0 0]\n",
      " [0 0 1 2 0 1 1 1 0 1 3 0 0 0 0 0]\n",
      " [1 2 2 2 0 2 2 1 0 2 3 0 1 0 0 0]\n",
      " [3 2 2 2 0 2 2 1 0 2 3 0 1 0 0 0]\n",
      " [3 2 2 2 0 2 2 1 0 2 3 0 1 0 0 0]\n",
      " [3 2 2 2 0 2 2 1 0 2 3 0 1 0 0 0]\n",
      " [3 2 2 2 0 2 2 2 0 2 3 0 1 0 0 0]]\n"
     ]
    }
   ],
   "source": [
    "vi_policies = []\n",
    "for g in gamma:\n",
    "    env.reset()\n",
    "    P, R = convert_gym_transition_matrix(env)\n",
    "    \n",
    "    vi = mdp.ValueIteration(P, R, gamma=g)\n",
    "    vi.run()\n",
    "    vi_policies.append(vi.policy)\n",
    "\n",
    "print(np.asarray(vi_policies))"
   ]
  },
  {
   "cell_type": "code",
   "execution_count": 183,
   "metadata": {},
   "outputs": [
    {
     "name": "stdout",
     "output_type": "stream",
     "text": [
      "[[3 2 2 2]\n",
      " [0 2 2 1]\n",
      " [0 2 3 0]\n",
      " [1 0 0 0]]\n",
      "[['^' '>' '>' '>']\n",
      " ['<' '>' '>' 'v']\n",
      " ['<' '>' '^' '<']\n",
      " ['v' '<' '<' '<']]\n"
     ]
    }
   ],
   "source": [
    "env.reset()\n",
    "P, R = convert_gym_transition_matrix(env)\n",
    "\n",
    "vi = mdp.ValueIteration(P, R, gamma=0.8)\n",
    "vi.run()\n",
    "\n",
    "vi_policy = np.asarray(vi.policy)\n",
    "vi_policy_str = policy_string(vi_policy, action_str=action_str)\n",
    "run_stats = vi.run_stats\n",
    "\n",
    "iters = []\n",
    "rewards = []\n",
    "mean_V = []\n",
    "max_V = []\n",
    "time = []\n",
    "error = []\n",
    "for s in run_stats:\n",
    "    iters.append(s['Iteration'])\n",
    "    rewards.append(s['Reward'])\n",
    "    mean_V.append(s['Mean V'])\n",
    "    max_V.append(s['Max V'])\n",
    "    time.append(s['Time'])\n",
    "    error.append(s['Error'])\n",
    "\n",
    "print(vi_policy.reshape((nrow, ncol)))\n",
    "print(vi_policy_str.reshape((nrow, ncol)))"
   ]
  },
  {
   "cell_type": "code",
   "execution_count": 182,
   "metadata": {},
   "outputs": [
    {
     "name": "stdout",
     "output_type": "stream",
     "text": [
      "----------------------------------------------\n",
      "You took an average of 33 steps to get the Goal\n",
      "And you fell in the hole 5.23 % of the times\n",
      "----------------------------------------------\n"
     ]
    },
    {
     "data": {
      "text/plain": [
       "(32.79764894582445, 0.05234)"
      ]
     },
     "execution_count": 182,
     "metadata": {},
     "output_type": "execute_result"
    }
   ],
   "source": [
    "get_score(env, vi_policy, episodes=100000)"
   ]
  },
  {
   "cell_type": "code",
   "execution_count": 184,
   "metadata": {},
   "outputs": [
    {
     "data": {
      "image/png": "[encoded data removed]",
      "text/plain": [
       "<Figure size 864x216 with 4 Axes>"
      ]
     },
     "metadata": {
      "needs_background": "light"
     },
     "output_type": "display_data"
    }
   ],
   "source": [
    "fig = plt.figure(figsize=(12,3))\n",
    "fig.suptitle('Value Iteration')\n",
    "\n",
    "ax1 = fig.add_subplot(141)\n",
    "ax1.plot(iters, mean_V)\n",
    "ax1.set_xlabel(\"iteration\")\n",
    "ax1.set_ylabel(\"mean-V\")\n",
    "\n",
    "ax2 = fig.add_subplot(142)\n",
    "ax2.plot(iters, rewards)\n",
    "ax2.set_xlabel(\"iteration\")\n",
    "ax2.set_ylabel(\"rewards\")\n",
    "\n",
    "ax3 = fig.add_subplot(143)\n",
    "ax3.plot(iters, error)\n",
    "ax3.set_xlabel(\"iteration\")\n",
    "ax3.set_ylabel(\"error\")\n",
    "\n",
    "ax4 = fig.add_subplot(144)\n",
    "ax4.plot(iters, time)\n",
    "ax4.set_xlabel(\"iteration\")\n",
    "ax4.set_ylabel(\"time\")\n",
    "ax4.ticklabel_format(axis=\"y\", style=\"sci\", scilimits=(0,0))\n",
    "\n",
    "plt.tight_layout()"
   ]
  },
  {
   "cell_type": "markdown",
   "metadata": {},
   "source": [
    "### Policy Iteration"
   ]
  },
  {
   "cell_type": "code",
   "execution_count": 185,
   "metadata": {},
   "outputs": [
    {
     "name": "stdout",
     "output_type": "stream",
     "text": [
      "[0.1 0.2 0.3 0.4 0.5 0.6 0.7 0.8 0.9]\n"
     ]
    }
   ],
   "source": [
    "gamma = np.round(np.arange(0.1, 1.0, 0.1), 2)\n",
    "print(gamma)"
   ]
  },
  {
   "cell_type": "code",
   "execution_count": 186,
   "metadata": {},
   "outputs": [
    {
     "name": "stdout",
     "output_type": "stream",
     "text": [
      "[[3 2 2 2 0 2 2 1 0 2 3 0 1 0 0 0]\n",
      " [3 2 2 2 0 2 2 1 0 2 3 0 1 0 0 0]\n",
      " [3 2 2 2 0 2 2 1 0 2 3 0 1 0 0 0]\n",
      " [3 2 2 2 0 2 2 1 0 2 3 0 1 0 0 0]\n",
      " [3 2 2 2 0 2 2 1 0 2 3 0 1 0 0 0]\n",
      " [3 2 2 2 0 2 2 1 0 2 3 0 1 0 0 0]\n",
      " [3 2 2 2 0 2 2 1 0 2 3 0 1 0 0 0]\n",
      " [3 2 2 2 0 2 2 1 0 2 3 0 1 0 0 0]\n",
      " [3 2 2 2 0 2 2 2 0 2 3 0 1 0 0 0]]\n"
     ]
    }
   ],
   "source": [
    "pi_policies = []\n",
    "for g in gamma:\n",
    "    env.reset()\n",
    "    P, R = convert_gym_transition_matrix(env)\n",
    "\n",
    "    pi = mdp.PolicyIteration(P, R, gamma=g)\n",
    "    pi.run()\n",
    "\n",
    "    pi_policies.append(pi.policy)\n",
    "\n",
    "print(np.asarray(pi_policies))"
   ]
  },
  {
   "cell_type": "code",
   "execution_count": 187,
   "metadata": {},
   "outputs": [
    {
     "name": "stdout",
     "output_type": "stream",
     "text": [
      "[[3 2 2 2]\n",
      " [0 2 2 1]\n",
      " [0 2 3 0]\n",
      " [1 0 0 0]]\n",
      "[['^' '>' '>' '>']\n",
      " ['<' '>' '>' 'v']\n",
      " ['<' '>' '^' '<']\n",
      " ['v' '<' '<' '<']]\n"
     ]
    }
   ],
   "source": [
    "env.reset()\n",
    "P, R = convert_gym_transition_matrix(env)\n",
    "\n",
    "pi = mdp.PolicyIteration(P, R, gamma=0.8)\n",
    "pi.run()\n",
    "\n",
    "pi_policy = np.asarray(pi.policy)\n",
    "pi_policy_str = policy_string(pi_policy, action_str=action_str)\n",
    "run_stats = pi.run_stats\n",
    "\n",
    "iters = []\n",
    "rewards = []\n",
    "mean_V = []\n",
    "max_V = []\n",
    "time = []\n",
    "error = []\n",
    "for s in run_stats:\n",
    "    iters.append(s['Iteration'])\n",
    "    rewards.append(s['Reward'])\n",
    "    mean_V.append(s['Mean V'])\n",
    "    max_V.append(s['Max V'])\n",
    "    time.append(s['Time'])\n",
    "    error.append(s['Error'])\n",
    "\n",
    "print(pi_policy.reshape((nrow, ncol)))\n",
    "print(pi_policy_str.reshape((nrow, ncol)))"
   ]
  },
  {
   "cell_type": "code",
   "execution_count": 188,
   "metadata": {},
   "outputs": [
    {
     "name": "stdout",
     "output_type": "stream",
     "text": [
      "----------------------------------------------\n",
      "You took an average of 33 steps to get the Goal\n",
      "And you fell in the hole 5.19 % of the times\n",
      "----------------------------------------------\n"
     ]
    },
    {
     "data": {
      "text/plain": [
       "(32.94646190842835, 0.05189)"
      ]
     },
     "execution_count": 188,
     "metadata": {},
     "output_type": "execute_result"
    }
   ],
   "source": [
    "get_score(env, pi_policy, episodes=100000)"
   ]
  },
  {
   "cell_type": "code",
   "execution_count": 189,
   "metadata": {},
   "outputs": [
    {
     "data": {
      "image/png": "[encoded data removed]",
      "text/plain": [
       "<Figure size 864x216 with 4 Axes>"
      ]
     },
     "metadata": {
      "needs_background": "light"
     },
     "output_type": "display_data"
    }
   ],
   "source": [
    "fig = plt.figure(figsize=(12,3))\n",
    "fig.suptitle('Policy Iteration')\n",
    "\n",
    "ax1 = fig.add_subplot(141)\n",
    "ax1.plot(iters, mean_V)\n",
    "ax1.set_xlabel(\"iteration\")\n",
    "ax1.set_ylabel(\"mean-V\")\n",
    "\n",
    "ax2 = fig.add_subplot(142)\n",
    "ax2.plot(iters, rewards)\n",
    "ax2.set_xlabel(\"iteration\")\n",
    "ax2.set_ylabel(\"rewards\")\n",
    "\n",
    "ax3 = fig.add_subplot(143)\n",
    "ax3.plot(iters, error)\n",
    "ax3.set_xlabel(\"iteration\")\n",
    "ax3.set_ylabel(\"error\")\n",
    "\n",
    "ax4 = fig.add_subplot(144)\n",
    "ax4.plot(iters, time)\n",
    "ax4.set_xlabel(\"iteration\")\n",
    "ax4.set_ylabel(\"time\")\n",
    "ax4.ticklabel_format(axis=\"y\", style=\"sci\", scilimits=(0,0))\n",
    "\n",
    "plt.tight_layout()"
   ]
  },
  {
   "cell_type": "markdown",
   "metadata": {},
   "source": [
    "### Q-Learning"
   ]
  },
  {
   "cell_type": "code",
   "execution_count": 8,
   "metadata": {},
   "outputs": [
    {
     "data": {
      "text/plain": [
       "0"
      ]
     },
     "execution_count": 8,
     "metadata": {},
     "output_type": "execute_result"
    }
   ],
   "source": [
    "gammas = [0.1, 0.2, 0.3, 0.4, 0.5, 0.6, 0.8, 0.9, 0.9]\n",
    "alphas = [0.1, 0.5, 0.9]\n",
    "epsilons = [0.1, 0.3, 0.5]\n",
    "epsilon_decays = [0.0001, 0.001, 0.1]\n",
    "\n",
    "env.reset()"
   ]
  },
  {
   "cell_type": "code",
   "execution_count": 207,
   "metadata": {},
   "outputs": [
    {
     "name": "stdout",
     "output_type": "stream",
     "text": [
      "[[2 1 0 ... 2 0 0]\n",
      " [2 2 0 ... 0 0 0]\n",
      " [1 0 0 ... 0 0 0]\n",
      " ...\n",
      " [3 0 1 ... 0 0 0]\n",
      " [1 3 1 ... 0 0 0]\n",
      " [3 1 2 ... 0 0 0]]\n"
     ]
    }
   ],
   "source": [
    "ql_params = []\n",
    "ql_policies = []\n",
    "ql_rewards = []\n",
    "ql_time = []\n",
    "ql_errors = []\n",
    "\n",
    "for g in gammas:\n",
    "    for a in alphas:\n",
    "        for e in epsilons:\n",
    "            for decay in epsilon_decays:\n",
    "                env.reset()\n",
    "                P, R = convert_gym_transition_matrix(env)\n",
    "\n",
    "                ql = mdp.QLearning(P, R, gamma=g, alpha=a, epsilon=e, epsilon_decay=decay, n_iter=100000)\n",
    "                ql.run()\n",
    "                \n",
    "                ql_policies.append(ql.policy)\n",
    "                ql_params.append([g,a,e,decay])\n",
    "                \n",
    "                stats = ql.run_stats\n",
    "                ql_rewards.append(stats[-1][\"Reward\"])\n",
    "                ql_time.append(stats[-1][\"Time\"])\n",
    "                ql_errors.append(stats[-1][\"Error\"])\n",
    "                \n",
    "print(np.asarray(ql_policies))"
   ]
  },
  {
   "cell_type": "code",
   "execution_count": 210,
   "metadata": {},
   "outputs": [
    {
     "data": {
      "image/png": "[encoded data removed]",
      "text/plain": [
       "<Figure size 864x216 with 3 Axes>"
      ]
     },
     "metadata": {
      "needs_background": "light"
     },
     "output_type": "display_data"
    }
   ],
   "source": [
    "fig = plt.figure(figsize=(12,3))\n",
    "fig.suptitle('Policy Iteration - gamma')\n",
    "\n",
    "\n",
    "ax1 = fig.add_subplot(131)\n",
    "ax1.plot(ql_rewards,'-o')\n",
    "ax1.set_xlabel(\"\")\n",
    "ax1.set_ylabel(\"reward\")\n",
    "\n",
    "ax2 = fig.add_subplot(132)\n",
    "ax2.plot(ql_errors,'-o')\n",
    "ax2.set_xlabel(\"\")\n",
    "ax2.set_ylabel(\"error\")\n",
    "ax2.ticklabel_format(axis=\"y\", style=\"sci\", scilimits=(0,0))\n",
    "\n",
    "ax3 = fig.add_subplot(133)\n",
    "ax3.plot(ql_time, '-o')\n",
    "ax3.set_xlabel(\"\")\n",
    "ax3.set_ylabel(\"time\")\n",
    "ax3.ticklabel_format(axis=\"y\", style=\"sci\", scilimits=(0,0))"
   ]
  },
  {
   "cell_type": "code",
   "execution_count": 218,
   "metadata": {},
   "outputs": [],
   "source": [
    "df = pd.DataFrame({\"rewards\": ql_rewards,\n",
    "                    \"errors\": ql_errors,\n",
    "                    \"times\": ql_time,\n",
    "                    \"params\": ql_params\n",
    "                   })"
   ]
  },
  {
   "cell_type": "code",
   "execution_count": 230,
   "metadata": {},
   "outputs": [
    {
     "data": {
      "text/html": [
       "<div>\n",
       "<style scoped>\n",
       "    .dataframe tbody tr th:only-of-type {\n",
       "        vertical-align: middle;\n",
       "    }\n",
       "\n",
       "    .dataframe tbody tr th {\n",
       "        vertical-align: top;\n",
       "    }\n",
       "\n",
       "    .dataframe thead th {\n",
       "        text-align: right;\n",
       "    }\n",
       "</style>\n",
       "<table border=\"1\" class=\"dataframe\">\n",
       "  <thead>\n",
       "    <tr style=\"text-align: right;\">\n",
       "      <th></th>\n",
       "      <th>rewards</th>\n",
       "      <th>errors</th>\n",
       "      <th>times</th>\n",
       "      <th>params</th>\n",
       "    </tr>\n",
       "  </thead>\n",
       "  <tbody>\n",
       "    <tr>\n",
       "      <th>12</th>\n",
       "      <td>1.0</td>\n",
       "      <td>0.000595</td>\n",
       "      <td>3.630236</td>\n",
       "      <td>[0.1, 0.5, 0.3, 0.0001]</td>\n",
       "    </tr>\n",
       "    <tr>\n",
       "      <th>25</th>\n",
       "      <td>1.0</td>\n",
       "      <td>0.000437</td>\n",
       "      <td>3.879041</td>\n",
       "      <td>[0.1, 0.9, 0.5, 0.001]</td>\n",
       "    </tr>\n",
       "    <tr>\n",
       "      <th>32</th>\n",
       "      <td>1.0</td>\n",
       "      <td>0.000699</td>\n",
       "      <td>3.668102</td>\n",
       "      <td>[0.2, 0.1, 0.3, 0.1]</td>\n",
       "    </tr>\n",
       "    <tr>\n",
       "      <th>41</th>\n",
       "      <td>1.0</td>\n",
       "      <td>0.000614</td>\n",
       "      <td>3.656861</td>\n",
       "      <td>[0.2, 0.5, 0.3, 0.1]</td>\n",
       "    </tr>\n",
       "    <tr>\n",
       "      <th>56</th>\n",
       "      <td>1.0</td>\n",
       "      <td>0.000631</td>\n",
       "      <td>3.863943</td>\n",
       "      <td>[0.3, 0.1, 0.1, 0.1]</td>\n",
       "    </tr>\n",
       "    <tr>\n",
       "      <th>62</th>\n",
       "      <td>1.0</td>\n",
       "      <td>0.000693</td>\n",
       "      <td>3.678887</td>\n",
       "      <td>[0.3, 0.1, 0.5, 0.1]</td>\n",
       "    </tr>\n",
       "    <tr>\n",
       "      <th>63</th>\n",
       "      <td>1.0</td>\n",
       "      <td>0.000505</td>\n",
       "      <td>3.774993</td>\n",
       "      <td>[0.3, 0.5, 0.1, 0.0001]</td>\n",
       "    </tr>\n",
       "    <tr>\n",
       "      <th>66</th>\n",
       "      <td>1.0</td>\n",
       "      <td>0.000731</td>\n",
       "      <td>3.862090</td>\n",
       "      <td>[0.3, 0.5, 0.3, 0.0001]</td>\n",
       "    </tr>\n",
       "    <tr>\n",
       "      <th>72</th>\n",
       "      <td>1.0</td>\n",
       "      <td>0.000689</td>\n",
       "      <td>3.931260</td>\n",
       "      <td>[0.3, 0.9, 0.1, 0.0001]</td>\n",
       "    </tr>\n",
       "    <tr>\n",
       "      <th>90</th>\n",
       "      <td>1.0</td>\n",
       "      <td>0.000597</td>\n",
       "      <td>3.937256</td>\n",
       "      <td>[0.4, 0.5, 0.1, 0.0001]</td>\n",
       "    </tr>\n",
       "    <tr>\n",
       "      <th>145</th>\n",
       "      <td>1.0</td>\n",
       "      <td>0.000579</td>\n",
       "      <td>3.598180</td>\n",
       "      <td>[0.6, 0.5, 0.1, 0.001]</td>\n",
       "    </tr>\n",
       "    <tr>\n",
       "      <th>159</th>\n",
       "      <td>1.0</td>\n",
       "      <td>0.000121</td>\n",
       "      <td>3.598562</td>\n",
       "      <td>[0.6, 0.9, 0.5, 0.0001]</td>\n",
       "    </tr>\n",
       "    <tr>\n",
       "      <th>196</th>\n",
       "      <td>1.0</td>\n",
       "      <td>0.000693</td>\n",
       "      <td>3.683612</td>\n",
       "      <td>[0.9, 0.1, 0.5, 0.001]</td>\n",
       "    </tr>\n",
       "    <tr>\n",
       "      <th>221</th>\n",
       "      <td>1.0</td>\n",
       "      <td>0.000628</td>\n",
       "      <td>3.549641</td>\n",
       "      <td>[0.9, 0.1, 0.3, 0.1]</td>\n",
       "    </tr>\n",
       "  </tbody>\n",
       "</table>\n",
       "</div>"
      ],
      "text/plain": [
       "     rewards    errors     times                   params\n",
       "12       1.0  0.000595  3.630236  [0.1, 0.5, 0.3, 0.0001]\n",
       "25       1.0  0.000437  3.879041   [0.1, 0.9, 0.5, 0.001]\n",
       "32       1.0  0.000699  3.668102     [0.2, 0.1, 0.3, 0.1]\n",
       "41       1.0  0.000614  3.656861     [0.2, 0.5, 0.3, 0.1]\n",
       "56       1.0  0.000631  3.863943     [0.3, 0.1, 0.1, 0.1]\n",
       "62       1.0  0.000693  3.678887     [0.3, 0.1, 0.5, 0.1]\n",
       "63       1.0  0.000505  3.774993  [0.3, 0.5, 0.1, 0.0001]\n",
       "66       1.0  0.000731  3.862090  [0.3, 0.5, 0.3, 0.0001]\n",
       "72       1.0  0.000689  3.931260  [0.3, 0.9, 0.1, 0.0001]\n",
       "90       1.0  0.000597  3.937256  [0.4, 0.5, 0.1, 0.0001]\n",
       "145      1.0  0.000579  3.598180   [0.6, 0.5, 0.1, 0.001]\n",
       "159      1.0  0.000121  3.598562  [0.6, 0.9, 0.5, 0.0001]\n",
       "196      1.0  0.000693  3.683612   [0.9, 0.1, 0.5, 0.001]\n",
       "221      1.0  0.000628  3.549641     [0.9, 0.1, 0.3, 0.1]"
      ]
     },
     "execution_count": 230,
     "metadata": {},
     "output_type": "execute_result"
    }
   ],
   "source": [
    "df_ql = df[df[\"rewards\"]==1]\n",
    "df_ql"
   ]
  },
  {
   "cell_type": "code",
   "execution_count": 231,
   "metadata": {},
   "outputs": [
    {
     "name": "stdout",
     "output_type": "stream",
     "text": [
      "[[1 0 0 0]\n",
      " [0 2 3 0]\n",
      " [0 2 2 0]\n",
      " [2 0 0 0]]\n",
      "[['v' '<' '<' '<']\n",
      " ['<' '>' '^' '<']\n",
      " ['<' '>' '>' '<']\n",
      " ['>' '<' '<' '<']]\n",
      "----------------------------------------------\n",
      "You took an average of 20 steps to get the Goal\n",
      "And you fell in the hole 94.02 % of the times\n",
      "----------------------------------------------\n"
     ]
    },
    {
     "data": {
      "text/plain": [
       "(19.926421404682273, 0.9402)"
      ]
     },
     "execution_count": 231,
     "metadata": {},
     "output_type": "execute_result"
    }
   ],
   "source": [
    "g,a,e,decay = [0.9, 0.1, 0.3, 0.1]\n",
    "\n",
    "env.reset()\n",
    "P, R = convert_gym_transition_matrix(env)\n",
    "\n",
    "ql = mdp.QLearning(P, R, gamma=g, alpha=a, epsilon=e, epsilon_decay=decay, n_iter=100000)\n",
    "ql.run()\n",
    "\n",
    "ql_policy = np.asarray(ql.policy)\n",
    "ql_policy_str = policy_string(ql_policy, action_str=action_str)\n",
    "print(ql_policy.reshape((nrow,ncol)))\n",
    "print(ql_policy_str.reshape((nrow, ncol)))\n",
    "get_score(env, ql_policy)"
   ]
  },
  {
   "cell_type": "code",
   "execution_count": 232,
   "metadata": {},
   "outputs": [
    {
     "data": {
      "text/plain": [
       "0.0"
      ]
     },
     "execution_count": 232,
     "metadata": {},
     "output_type": "execute_result"
    }
   ],
   "source": [
    "ql.run_stats[-1][\"Reward\"]"
   ]
  },
  {
   "cell_type": "markdown",
   "metadata": {},
   "source": [
    "## Frozen Lake 16x16"
   ]
  },
  {
   "cell_type": "code",
   "execution_count": 247,
   "metadata": {},
   "outputs": [
    {
     "name": "stdout",
     "output_type": "stream",
     "text": [
      "\n",
      "\u001b[41mS\u001b[0mFHFHHFFFFFHHHHHFHHF\n",
      "HFHHFHHFHFFHFHHFHHFF\n",
      "FFFFFHHHFHFFFHFFFHFH\n",
      "FHHFHFFFHFFFFFFFHHHH\n",
      "FFFFHHFFFHFFFFHHFFFH\n",
      "FFFFFFHFHHFFHFFHHHFH\n",
      "FHFHFFFFFFHFFFFHFFFF\n",
      "FHFFFFHHFFFFHFFHHFFF\n",
      "FHFFFHHHHHFFFHFFFFFF\n",
      "FHFFFFFHFHFHHFHFFFHF\n",
      "FFFFFFHFFFHFFFHFFHHF\n",
      "HHFHFHHHFFHFHHFFHFHH\n",
      "FFFHFHFFHHHHFFFFFFFH\n",
      "FFHFHHFFFHHFFFHHFHFF\n",
      "HFFFFFFFHFFHFFFFFFHF\n",
      "FFHFFFHFHFHFFFFHFFHH\n",
      "FFFFHFFHFFFFHHHFHFFF\n",
      "FFFHFHFFHFHFFFFHFFHF\n",
      "FHFFFHHHHFHHFFHFHFFH\n",
      "FFFFHHFFFFHHFFHFHHFG\n"
     ]
    }
   ],
   "source": [
    "env = env_20\n",
    "nrow = env.env.nrow\n",
    "ncol = env.env.ncol\n",
    "env.reset()\n",
    "env.render()"
   ]
  },
  {
   "cell_type": "markdown",
   "metadata": {},
   "source": [
    "### Value Iteration 16x16"
   ]
  },
  {
   "cell_type": "code",
   "execution_count": 288,
   "metadata": {},
   "outputs": [
    {
     "name": "stdout",
     "output_type": "stream",
     "text": [
      "[0.1 0.2 0.3 0.4 0.5 0.6 0.7 0.8 0.9]\n"
     ]
    }
   ],
   "source": [
    "env = env_20\n",
    "env.reset()\n",
    "gamma = np.round(np.arange(0.1, 1.0, 0.1), 2)\n",
    "print(gamma)"
   ]
  },
  {
   "cell_type": "code",
   "execution_count": 289,
   "metadata": {},
   "outputs": [
    {
     "name": "stdout",
     "output_type": "stream",
     "text": [
      "[[0 0 0 ... 1 1 0]\n",
      " [0 0 0 ... 1 1 0]\n",
      " [0 0 0 ... 1 1 0]\n",
      " ...\n",
      " [0 0 0 ... 1 1 0]\n",
      " [0 0 0 ... 1 1 0]\n",
      " [0 0 0 ... 1 1 0]]\n"
     ]
    }
   ],
   "source": [
    "vi_policies = []\n",
    "vi_rewards = []\n",
    "vi_time = []\n",
    "vi_errors = []\n",
    "\n",
    "for g in gamma:\n",
    "    env.reset()\n",
    "    P, R = convert_gym_transition_matrix(env)\n",
    "    \n",
    "    vi = mdp.ValueIteration(P, R, gamma=g)\n",
    "    vi.run()\n",
    "    \n",
    "    vi_policies.append(vi.policy)\n",
    "    vi_time.append(vi.time)\n",
    "    \n",
    "    stats = vi.run_stats\n",
    "    vi_rewards.append(stats[-1][\"Reward\"])\n",
    "    vi_errors.append(stats[-1][\"Error\"])\n",
    "                \n",
    "print(np.asarray(vi_policies))"
   ]
  },
  {
   "cell_type": "code",
   "execution_count": 290,
   "metadata": {},
   "outputs": [
    {
     "data": {
      "image/png": "[encoded data removed]",
      "text/plain": [
       "<Figure size 864x216 with 3 Axes>"
      ]
     },
     "metadata": {
      "needs_background": "light"
     },
     "output_type": "display_data"
    }
   ],
   "source": [
    "fig = plt.figure(figsize=(12,3))\n",
    "fig.suptitle('Value Iteration - gamma')\n",
    "\n",
    "ax1 = fig.add_subplot(131)\n",
    "ax1.plot(gamma, vi_rewards,'-o')\n",
    "ax1.set_xlabel(\"gamma\")\n",
    "ax1.set_ylabel(\"reward\")\n",
    "\n",
    "ax2 = fig.add_subplot(132)\n",
    "ax2.plot(gamma, vi_errors,'-o')\n",
    "ax2.set_xlabel(\"gamma\")\n",
    "ax2.set_ylabel(\"error\")\n",
    "\n",
    "ax3 = fig.add_subplot(133)\n",
    "ax3.plot(gamma, vi_time, '-o')\n",
    "ax3.set_xlabel(\"gamma\")\n",
    "ax3.set_ylabel(\"time\")\n",
    "ax3.ticklabel_format(axis=\"y\", style=\"sci\", scilimits=(0,0))"
   ]
  },
  {
   "cell_type": "code",
   "execution_count": 301,
   "metadata": {},
   "outputs": [],
   "source": [
    "env.reset()\n",
    "P, R = convert_gym_transition_matrix(env)\n",
    "\n",
    "vi = mdp.ValueIteration(P, R, gamma=0.9)\n",
    "vi.run()\n",
    "\n",
    "vi_policy = np.asarray(vi.policy)\n",
    "vi_policy_str = policy_string(vi_policy, action_str=action_str)\n",
    "run_stats = vi.run_stats\n",
    "\n",
    "iters = []\n",
    "rewards = []\n",
    "mean_V = []\n",
    "max_V = []\n",
    "time = []\n",
    "error = []\n",
    "for s in run_stats:\n",
    "    iters.append(s['Iteration'])\n",
    "    rewards.append(s['Reward'])\n",
    "    mean_V.append(s['Mean V'])\n",
    "    max_V.append(s['Max V'])\n",
    "    time.append(s['Time'])\n",
    "    error.append(s['Error'])\n",
    "\n",
    "# print(vi_policy.reshape((nrow, ncol)))\n",
    "# print(vi_policy_str.reshape((nrow, ncol)))"
   ]
  },
  {
   "cell_type": "code",
   "execution_count": 302,
   "metadata": {},
   "outputs": [
    {
     "name": "stdout",
     "output_type": "stream",
     "text": [
      "----------------------------------------------\n",
      "You took an average of 90 steps to get the Goal\n",
      "And you fell in the hole 99.34 % of the times\n",
      "----------------------------------------------\n"
     ]
    },
    {
     "data": {
      "text/plain": [
       "(89.81818181818181, 0.9934)"
      ]
     },
     "execution_count": 302,
     "metadata": {},
     "output_type": "execute_result"
    }
   ],
   "source": [
    "get_score(env, vi_policy)"
   ]
  },
  {
   "cell_type": "code",
   "execution_count": 303,
   "metadata": {},
   "outputs": [
    {
     "data": {
      "image/png": "[encoded data removed]",
      "text/plain": [
       "<Figure size 864x216 with 4 Axes>"
      ]
     },
     "metadata": {
      "needs_background": "light"
     },
     "output_type": "display_data"
    }
   ],
   "source": [
    "fig = plt.figure(figsize=(12,3))\n",
    "fig.suptitle('Value Iteration')\n",
    "\n",
    "ax1 = fig.add_subplot(141)\n",
    "ax1.plot(iters, mean_V)\n",
    "ax1.set_xlabel(\"iteration\")\n",
    "ax1.set_ylabel(\"mean-V\")\n",
    "\n",
    "ax2 = fig.add_subplot(142)\n",
    "ax2.plot(iters, rewards)\n",
    "ax2.set_xlabel(\"iteration\")\n",
    "ax2.set_ylabel(\"rewards\")\n",
    "\n",
    "ax3 = fig.add_subplot(143)\n",
    "ax3.plot(iters, error)\n",
    "ax3.set_xlabel(\"iteration\")\n",
    "ax3.set_ylabel(\"error\")\n",
    "\n",
    "ax4 = fig.add_subplot(144)\n",
    "ax4.plot(iters, time)\n",
    "ax4.set_xlabel(\"iteration\")\n",
    "ax4.set_ylabel(\"time\")\n",
    "ax4.ticklabel_format(axis=\"y\", style=\"sci\", scilimits=(0,0))\n",
    "\n",
    "plt.tight_layout()"
   ]
  },
  {
   "cell_type": "markdown",
   "metadata": {},
   "source": [
    "### Policy Iteration 16x16"
   ]
  },
  {
   "cell_type": "code",
   "execution_count": 282,
   "metadata": {},
   "outputs": [
    {
     "name": "stdout",
     "output_type": "stream",
     "text": [
      "[0.1 0.2 0.3 0.4 0.5 0.6 0.7 0.8 0.9]\n"
     ]
    }
   ],
   "source": [
    "env = env_16\n",
    "gamma = np.round(np.arange(0.1, 1.0, 0.1), 2)\n",
    "print(gamma)"
   ]
  },
  {
   "cell_type": "code",
   "execution_count": 283,
   "metadata": {},
   "outputs": [
    {
     "name": "stdout",
     "output_type": "stream",
     "text": [
      "[[1 2 2 ... 2 1 0]\n",
      " [1 2 2 ... 2 1 0]\n",
      " [1 2 2 ... 2 1 0]\n",
      " ...\n",
      " [1 2 2 ... 2 1 0]\n",
      " [1 2 2 ... 2 1 0]\n",
      " [1 2 2 ... 2 1 0]]\n"
     ]
    }
   ],
   "source": [
    "pi_policies = []\n",
    "pi_rewards = []\n",
    "pi_time = []\n",
    "pi_errors = []\n",
    "\n",
    "for g in gamma:\n",
    "    env.reset()\n",
    "    P, R = convert_gym_transition_matrix(env)\n",
    "    \n",
    "    pi = mdp.PolicyIteration(P, R, gamma=g)\n",
    "    pi.run()\n",
    "    \n",
    "    pi_policies.append(pi.policy)\n",
    "    pi_time.append(pi.time)\n",
    "    \n",
    "    stats = pi.run_stats\n",
    "    pi_rewards.append(stats[-1][\"Reward\"])\n",
    "    pi_errors.append(stats[-1][\"Error\"])\n",
    "                \n",
    "print(np.asarray(pi_policies))"
   ]
  },
  {
   "cell_type": "code",
   "execution_count": 284,
   "metadata": {},
   "outputs": [
    {
     "data": {
      "image/png": "[encoded data removed]",
      "text/plain": [
       "<Figure size 864x216 with 3 Axes>"
      ]
     },
     "metadata": {
      "needs_background": "light"
     },
     "output_type": "display_data"
    }
   ],
   "source": [
    "fig = plt.figure(figsize=(12,3))\n",
    "fig.suptitle('Policy Iteration - gamma')\n",
    "\n",
    "\n",
    "ax1 = fig.add_subplot(131)\n",
    "ax1.plot(gamma, pi_rewards,'-o')\n",
    "ax1.set_xlabel(\"gamma\")\n",
    "ax1.set_ylabel(\"reward\")\n",
    "\n",
    "ax2 = fig.add_subplot(132)\n",
    "ax2.plot(gamma, pi_errors,'-o')\n",
    "ax2.set_xlabel(\"gamma\")\n",
    "ax2.set_ylabel(\"error\")\n",
    "\n",
    "\n",
    "ax3 = fig.add_subplot(133)\n",
    "ax3.plot(gamma, pi_time, '-o')\n",
    "ax3.set_xlabel(\"gamma\")\n",
    "ax3.set_ylabel(\"time\")\n",
    "ax3.ticklabel_format(axis=\"y\", style=\"sci\", scilimits=(0,0))"
   ]
  },
  {
   "cell_type": "code",
   "execution_count": 285,
   "metadata": {},
   "outputs": [],
   "source": [
    "env.reset()\n",
    "P, R = convert_gym_transition_matrix(env)\n",
    "\n",
    "pi = mdp.PolicyIteration(P, R, gamma=0.6)\n",
    "pi.run()\n",
    "\n",
    "pi_policy = np.asarray(pi.policy)\n",
    "pi_policy_str = policy_string(pi_policy, action_str=action_str)\n",
    "run_stats = pi.run_stats\n",
    "\n",
    "iters = []\n",
    "rewards = []\n",
    "mean_V = []\n",
    "max_V = []\n",
    "time = []\n",
    "error = []\n",
    "for s in run_stats:\n",
    "    iters.append(s['Iteration'])\n",
    "    rewards.append(s['Reward'])\n",
    "    mean_V.append(s['Mean V'])\n",
    "    max_V.append(s['Max V'])\n",
    "    time.append(s['Time'])\n",
    "    error.append(s['Error'])\n",
    "\n",
    "# print(pi_policy.reshape((nrow, ncol)))\n",
    "# print(pi_policy_str.reshape((nrow, ncol)))"
   ]
  },
  {
   "cell_type": "code",
   "execution_count": 286,
   "metadata": {},
   "outputs": [
    {
     "name": "stdout",
     "output_type": "stream",
     "text": [
      "----------------------------------------------\n",
      "You took an average of 83 steps to get the Goal\n",
      "And you fell in the hole 86.57 % of the times\n",
      "----------------------------------------------\n"
     ]
    },
    {
     "data": {
      "text/plain": [
       "(83.26656738644824, 0.8657)"
      ]
     },
     "execution_count": 286,
     "metadata": {},
     "output_type": "execute_result"
    }
   ],
   "source": [
    "get_score(env, pi_policy)"
   ]
  },
  {
   "cell_type": "code",
   "execution_count": 287,
   "metadata": {},
   "outputs": [
    {
     "data": {
      "image/png": "[encoded data removed]",
      "text/plain": [
       "<Figure size 864x216 with 4 Axes>"
      ]
     },
     "metadata": {
      "needs_background": "light"
     },
     "output_type": "display_data"
    }
   ],
   "source": [
    "fig = plt.figure(figsize=(12,3))\n",
    "fig.suptitle('Policy Iteration')\n",
    "\n",
    "ax1 = fig.add_subplot(141)\n",
    "ax1.plot(iters, mean_V)\n",
    "ax1.set_xlabel(\"iteration\")\n",
    "ax1.set_ylabel(\"mean-V\")\n",
    "\n",
    "ax2 = fig.add_subplot(142)\n",
    "ax2.plot(iters, rewards)\n",
    "ax2.set_xlabel(\"iteration\")\n",
    "ax2.set_ylabel(\"rewards\")\n",
    "\n",
    "ax3 = fig.add_subplot(143)\n",
    "ax3.plot(iters, error)\n",
    "ax3.set_xlabel(\"iteration\")\n",
    "ax3.set_ylabel(\"error\")\n",
    "\n",
    "ax4 = fig.add_subplot(144)\n",
    "ax4.plot(iters, time)\n",
    "ax4.set_xlabel(\"iteration\")\n",
    "ax4.set_ylabel(\"time\")\n",
    "ax4.ticklabel_format(axis=\"y\", style=\"sci\", scilimits=(0,0))\n",
    "\n",
    "plt.tight_layout()"
   ]
  },
  {
   "cell_type": "code",
   "execution_count": null,
   "metadata": {},
   "outputs": [],
   "source": []
  },
  {
   "cell_type": "markdown",
   "metadata": {},
   "source": [
    "### Q-Learning"
   ]
  },
  {
   "cell_type": "code",
   "execution_count": 304,
   "metadata": {},
   "outputs": [
    {
     "data": {
      "text/plain": [
       "0"
      ]
     },
     "execution_count": 304,
     "metadata": {},
     "output_type": "execute_result"
    }
   ],
   "source": [
    "gammas = [0.1, 0.3, 0.5, 0.7, 0.9]\n",
    "alphas = [0.1, 0.5, 0.9]\n",
    "epsilons = [0.1, 0.5]\n",
    "epsilon_decays = [0.0001, 0.001]\n",
    "\n",
    "env = env_16\n",
    "env.reset()"
   ]
  },
  {
   "cell_type": "code",
   "execution_count": 305,
   "metadata": {},
   "outputs": [
    {
     "name": "stdout",
     "output_type": "stream",
     "text": [
      "[[0 0 0 ... 0 1 0]\n",
      " [0 0 0 ... 3 0 0]\n",
      " [0 0 0 ... 0 0 0]\n",
      " ...\n",
      " [0 0 0 ... 0 0 0]\n",
      " [0 0 0 ... 0 0 0]\n",
      " [0 0 0 ... 0 0 0]]\n"
     ]
    }
   ],
   "source": [
    "ql_params = []\n",
    "ql_policies = []\n",
    "ql_rewards = []\n",
    "ql_time = []\n",
    "ql_errors = []\n",
    "\n",
    "for g in gammas:\n",
    "    for a in alphas:\n",
    "        for e in epsilons:\n",
    "            for decay in epsilon_decays:\n",
    "                env.reset()\n",
    "                P, R = convert_gym_transition_matrix(env)\n",
    "\n",
    "                ql = mdp.QLearning(P, R, gamma=g, alpha=a, epsilon=e, epsilon_decay=decay, n_iter=100000)\n",
    "                ql.run()\n",
    "                \n",
    "                ql_policies.append(ql.policy)\n",
    "                ql_time.append(ql.time)                \n",
    "                ql_params.append([g,a,e,decay])\n",
    "                \n",
    "                stats = ql.run_stats\n",
    "                ql_rewards.append(stats[-1][\"Reward\"])\n",
    "                ql_errors.append(stats[-1][\"Error\"])\n",
    "                \n",
    "print(np.asarray(ql_policies))"
   ]
  },
  {
   "cell_type": "code",
   "execution_count": 307,
   "metadata": {},
   "outputs": [
    {
     "data": {
      "image/png": "[encoded data removed]",
      "text/plain": [
       "<Figure size 864x216 with 3 Axes>"
      ]
     },
     "metadata": {
      "needs_background": "light"
     },
     "output_type": "display_data"
    }
   ],
   "source": [
    "fig = plt.figure(figsize=(12,3))\n",
    "fig.suptitle('Q-Learning - gamma')\n",
    "\n",
    "\n",
    "ax1 = fig.add_subplot(131)\n",
    "ax1.plot(ql_rewards,'-o')\n",
    "ax1.set_xlabel(\"\")\n",
    "ax1.set_ylabel(\"reward\")\n",
    "\n",
    "ax2 = fig.add_subplot(132)\n",
    "ax2.plot(ql_errors,'-o')\n",
    "ax2.set_xlabel(\"\")\n",
    "ax2.set_ylabel(\"error\")\n",
    "ax2.ticklabel_format(axis=\"y\", style=\"sci\", scilimits=(0,0))\n",
    "\n",
    "ax3 = fig.add_subplot(133)\n",
    "ax3.plot(ql_time, '-o')\n",
    "ax3.set_xlabel(\"\")\n",
    "ax3.set_ylabel(\"time\")\n",
    "ax3.ticklabel_format(axis=\"y\", style=\"sci\", scilimits=(0,0))"
   ]
  },
  {
   "cell_type": "code",
   "execution_count": 308,
   "metadata": {},
   "outputs": [
    {
     "name": "stdout",
     "output_type": "stream",
     "text": [
      "----------------------------------------------\n",
      "You took an average of nan steps to get the Goal\n",
      "And you fell in the hole 100.00 % of the times\n",
      "----------------------------------------------\n"
     ]
    },
    {
     "data": {
      "text/plain": [
       "(nan, 1.0)"
      ]
     },
     "execution_count": 308,
     "metadata": {},
     "output_type": "execute_result"
    }
   ],
   "source": [
    "g,a,e,decay = [0.9, 0.1, 0.3, 0.1]\n",
    "\n",
    "env.reset()\n",
    "P, R = convert_gym_transition_matrix(env)\n",
    "\n",
    "ql = mdp.QLearning(P, R, gamma=g, alpha=a, epsilon=e, epsilon_decay=decay, n_iter=100000)\n",
    "ql.run()\n",
    "\n",
    "ql_policy = np.asarray(ql.policy)\n",
    "ql_policy_str = policy_string(ql_policy, action_str=action_str)\n",
    "\n",
    "\n",
    "\n",
    "iters = []\n",
    "rewards = []\n",
    "mean_V = []\n",
    "max_V = []\n",
    "time = []\n",
    "error = []\n",
    "for s in run_stats:\n",
    "    iters.append(s['Iteration'])\n",
    "    rewards.append(s['Reward'])\n",
    "    mean_V.append(s['Mean V'])\n",
    "    max_V.append(s['Max V'])\n",
    "    time.append(s['Time'])\n",
    "    error.append(s['Error'])\n",
    "\n",
    "# print(ql_policy.reshape((nrow,ncol)))\n",
    "# print(ql_policy_str.reshape((nrow, ncol)))\n",
    "get_score(env, ql_policy)"
   ]
  },
  {
   "cell_type": "code",
   "execution_count": 309,
   "metadata": {},
   "outputs": [
    {
     "data": {
      "image/png": "[encoded data removed]",
      "text/plain": [
       "<Figure size 864x216 with 4 Axes>"
      ]
     },
     "metadata": {
      "needs_background": "light"
     },
     "output_type": "display_data"
    }
   ],
   "source": [
    "fig = plt.figure(figsize=(12,3))\n",
    "fig.suptitle('Q-Learning')\n",
    "\n",
    "ax1 = fig.add_subplot(141)\n",
    "ax1.plot(iters, mean_V)\n",
    "ax1.set_xlabel(\"iteration\")\n",
    "ax1.set_ylabel(\"mean-V\")\n",
    "\n",
    "ax2 = fig.add_subplot(142)\n",
    "ax2.plot(iters, rewards)\n",
    "ax2.set_xlabel(\"iteration\")\n",
    "ax2.set_ylabel(\"rewards\")\n",
    "\n",
    "ax3 = fig.add_subplot(143)\n",
    "ax3.plot(iters, error)\n",
    "ax3.set_xlabel(\"iteration\")\n",
    "ax3.set_ylabel(\"error\")\n",
    "\n",
    "ax4 = fig.add_subplot(144)\n",
    "ax4.plot(iters, time)\n",
    "ax4.set_xlabel(\"iteration\")\n",
    "ax4.set_ylabel(\"time\")\n",
    "ax4.ticklabel_format(axis=\"y\", style=\"sci\", scilimits=(0,0))\n",
    "\n",
    "plt.tight_layout()"
   ]
  },
  {
   "cell_type": "code",
   "execution_count": null,
   "metadata": {},
   "outputs": [],
   "source": []
  }
 ],
 "metadata": {
  "kernelspec": {
   "display_name": "Python 3",
   "language": "python",
   "name": "python3"
  },
  "language_info": {
   "codemirror_mode": {
    "name": "ipython",
    "version": 3
   },
   "file_extension": ".py",
   "mimetype": "text/x-python",
   "name": "python",
   "nbconvert_exporter": "python",
   "pygments_lexer": "ipython3",
   "version": "3.6.9"
  }
 },
 "nbformat": 4,
 "nbformat_minor": 4
}
